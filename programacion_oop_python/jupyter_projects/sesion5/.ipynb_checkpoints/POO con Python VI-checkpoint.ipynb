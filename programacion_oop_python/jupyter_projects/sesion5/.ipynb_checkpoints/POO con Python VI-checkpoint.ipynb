{
 "cells": [
  {
   "cell_type": "markdown",
   "metadata": {},
   "source": [
    "# <img src=\"uni-logo.png\" alt=\"Logo UNI\" width=100 hight=200 align=\"right\">\n",
    "\n",
    "\n",
    "<br><br><br>\n",
    "<h1><font color=\"#7F000E\" size=5>POO con Python</font></h1>\n",
    "\n",
    "\n",
    "\n",
    "<h1><font color=\"#7F000E\" size=6>Módulo 2: Pandas I</font></h1>\n",
    "\n",
    "<br>\n",
    "<div style=\"text-align: right\">\n",
    "<font color=\"#7F000E\" size=3>Jose Lizarraga</font><br>\n",
    "<font color=\"#7F000E\" size=3>Ing Telecom</font><br>\n",
    "<font color=\"#7F000E\" size=3>Ciencias de la Computación</font><br>\n",
    "</div>"
   ]
  },
  {
   "cell_type": "markdown",
   "metadata": {},
   "source": [
    "<a id=\"indice\"></a>\n",
    "<h2><font color=\"#7F000E\" size=5>Índice</font></h2>\n",
    "\n",
    "\n",
    "* [1. Introducción](#section1)\n",
    "* [2. Series](#section2)\n",
    "   * [Creación de series](#section21)\n",
    "   * [Acceso a los elementos de una serie](#section22)\n",
    "* [3. Operaciones y funciones sobre series](#section3)\n",
    "   * [Operadores binarios](#section31)\n",
    "   * [<font face=\"monospace\">apply() y map()</font>](#section32)\n",
    "   * [Operaciones sobre Strings](#section33)   \n",
    "   * [Descripción y resumen](#section34)\n",
    "   * [Manipulación de series](#section35)   \n",
    "   * [Consulta y selección](#section36)\n",
    "   * [Vectorización](#section37)   \n",
    "* [4. DataFrames](#section4)\n",
    "    * [Estructura](#section41)\n",
    "    * [Lectura / escritura de DataFrames](#section42)\n",
    "    * [Construcción de DataFrames](#section43)\n",
    "    * [Acceso a elementos](#section44)\n",
    "    * [Manipulación de la estructura](#section45)  \n",
    "    * [Descripción de los datos](#section46)\n",
    "\n",
    "\n"
   ]
  },
  {
   "cell_type": "code",
   "execution_count": 1,
   "metadata": {},
   "outputs": [
    {
     "data": {
      "text/html": [
       "<style>.container{ width:98% }</style>"
      ],
      "text/plain": [
       "<IPython.core.display.HTML object>"
      ]
     },
     "metadata": {},
     "output_type": "display_data"
    }
   ],
   "source": [
    "# Permite ajustar la anchura de la parte útil de la libreta (reduce los márgenes)\n",
    "from IPython.core.display import display, HTML\n",
    "display(HTML(\"<style>.container{ width:98% }</style>\"))"
   ]
  },
  {
   "cell_type": "markdown",
   "metadata": {},
   "source": [
    "---\n",
    "\n",
    "\n",
    "\n",
    "<a id=\"section1\"></a>\n",
    "# <font color=\"#7F000E\" size=5> 1. Introducción</font>\n",
    "<br>\n",
    "\n",
    "En estos cuadernos se proporciona una descripción de Pandas, y se presentarán, mediante ejemplos, las funcionalidades de uso más común. Esta introducción será extendida en el _siguiente módulo si continuamos con el siguiente curso_ en el que, además, se dará una visión formal de los conjuntos de los datos y su tratamiento. No obstante, Pandas es una librería _completa y compleja_, por lo que a lo largo del curso será indispensable recurrir a la abundante información existente en la red, a foros como [Stack Overflow](https://stackoverflow.com/questions/tagged/pandas), y a la [documentación oficial](http://pandas.pydata.org/pandas-docs/stable/). \n",
    "<br> \n",
    "\n",
    "\n",
    "[**Pandas**](http://pandas.pydata.org) es una librería de _Python_ que proporciona estructuras y herramientas para la manipulación,  preprocesamiento y análisis exploratorio de conjuntos de datos. Trabaja con objetos denominados **`DataFrame`**, que representan tablas indexadas de datos, e implementa funciones avanzadas y eficientes para acceso, selección, consultas, agrupamiento, procesamiento, etc.  "
   ]
  },
  {
   "cell_type": "markdown",
   "metadata": {},
   "source": [
    "El siguiente código lee un archivo de datos, lo almacena en un `DataFrame`, y lo muestra. Después accede a (y selecciona) los 100 primeros elementos y varias columnas."
   ]
  },
  {
   "cell_type": "code",
   "execution_count": 2,
   "metadata": {},
   "outputs": [],
   "source": [
    "# Cargando el paquete Pandas\n",
    "import pandas as pd"
   ]
  },
  {
   "cell_type": "code",
   "execution_count": 3,
   "metadata": {},
   "outputs": [
    {
     "data": {
      "text/html": [
       "<div>\n",
       "<style scoped>\n",
       "    .dataframe tbody tr th:only-of-type {\n",
       "        vertical-align: middle;\n",
       "    }\n",
       "\n",
       "    .dataframe tbody tr th {\n",
       "        vertical-align: top;\n",
       "    }\n",
       "\n",
       "    .dataframe thead th {\n",
       "        text-align: right;\n",
       "    }\n",
       "</style>\n",
       "<table border=\"1\" class=\"dataframe\">\n",
       "  <thead>\n",
       "    <tr style=\"text-align: right;\">\n",
       "      <th></th>\n",
       "      <th>ID</th>\n",
       "      <th>first_name</th>\n",
       "      <th>company</th>\n",
       "      <th>salary</th>\n",
       "    </tr>\n",
       "  </thead>\n",
       "  <tbody>\n",
       "    <tr>\n",
       "      <th>0</th>\n",
       "      <td>11</td>\n",
       "      <td>David</td>\n",
       "      <td>Aon</td>\n",
       "      <td>74</td>\n",
       "    </tr>\n",
       "    <tr>\n",
       "      <th>1</th>\n",
       "      <td>12</td>\n",
       "      <td>Jamie</td>\n",
       "      <td>TCS</td>\n",
       "      <td>76</td>\n",
       "    </tr>\n",
       "    <tr>\n",
       "      <th>2</th>\n",
       "      <td>13</td>\n",
       "      <td>Steve</td>\n",
       "      <td>Google</td>\n",
       "      <td>96</td>\n",
       "    </tr>\n",
       "    <tr>\n",
       "      <th>3</th>\n",
       "      <td>14</td>\n",
       "      <td>Stevart</td>\n",
       "      <td>RBS</td>\n",
       "      <td>71</td>\n",
       "    </tr>\n",
       "    <tr>\n",
       "      <th>4</th>\n",
       "      <td>15</td>\n",
       "      <td>John</td>\n",
       "      <td>.</td>\n",
       "      <td>78</td>\n",
       "    </tr>\n",
       "  </tbody>\n",
       "</table>\n",
       "</div>"
      ],
      "text/plain": [
       "   ID first_name company  salary\n",
       "0  11      David     Aon      74\n",
       "1  12      Jamie     TCS      76\n",
       "2  13      Steve  Google      96\n",
       "3  14    Stevart     RBS      71\n",
       "4  15       John       .      78"
      ]
     },
     "metadata": {},
     "output_type": "display_data"
    }
   ],
   "source": [
    "# Creando un dataFrame a partir de un Diccionario\n",
    "dt = {'ID': [11, 12, 13, 14, 15],\n",
    "            'first_name': ['David', 'Jamie', 'Steve', 'Stevart', 'John'],\n",
    "            'company': ['Aon', 'TCS', 'Google', 'RBS', '.'],\n",
    "            'salary': [74, 76, 96, 71, 78]}\n",
    "mydata01 = pd.DataFrame(dt, columns = ['ID', 'first_name', 'company', 'salary'])\n",
    "display(mydata01.head())"
   ]
  },
  {
   "cell_type": "code",
   "execution_count": 4,
   "metadata": {},
   "outputs": [
    {
     "data": {
      "text/html": [
       "<div>\n",
       "<style scoped>\n",
       "    .dataframe tbody tr th:only-of-type {\n",
       "        vertical-align: middle;\n",
       "    }\n",
       "\n",
       "    .dataframe tbody tr th {\n",
       "        vertical-align: top;\n",
       "    }\n",
       "\n",
       "    .dataframe thead th {\n",
       "        text-align: right;\n",
       "    }\n",
       "</style>\n",
       "<table border=\"1\" class=\"dataframe\">\n",
       "  <thead>\n",
       "    <tr style=\"text-align: right;\">\n",
       "      <th></th>\n",
       "      <th>Year</th>\n",
       "      <th>City</th>\n",
       "      <th>Sport</th>\n",
       "      <th>Discipline</th>\n",
       "      <th>NOC</th>\n",
       "      <th>Event</th>\n",
       "      <th>Event gender</th>\n",
       "      <th>Medal</th>\n",
       "    </tr>\n",
       "  </thead>\n",
       "  <tbody>\n",
       "    <tr>\n",
       "      <th>0</th>\n",
       "      <td>1924</td>\n",
       "      <td>Chamonix</td>\n",
       "      <td>Skating</td>\n",
       "      <td>Figure skating</td>\n",
       "      <td>AUT</td>\n",
       "      <td>individual</td>\n",
       "      <td>M</td>\n",
       "      <td>Silver</td>\n",
       "    </tr>\n",
       "    <tr>\n",
       "      <th>1</th>\n",
       "      <td>1924</td>\n",
       "      <td>Chamonix</td>\n",
       "      <td>Skating</td>\n",
       "      <td>Figure skating</td>\n",
       "      <td>AUT</td>\n",
       "      <td>individual</td>\n",
       "      <td>W</td>\n",
       "      <td>Gold</td>\n",
       "    </tr>\n",
       "    <tr>\n",
       "      <th>2</th>\n",
       "      <td>1924</td>\n",
       "      <td>Chamonix</td>\n",
       "      <td>Skating</td>\n",
       "      <td>Figure skating</td>\n",
       "      <td>AUT</td>\n",
       "      <td>pairs</td>\n",
       "      <td>X</td>\n",
       "      <td>Gold</td>\n",
       "    </tr>\n",
       "    <tr>\n",
       "      <th>3</th>\n",
       "      <td>1924</td>\n",
       "      <td>Chamonix</td>\n",
       "      <td>Bobsleigh</td>\n",
       "      <td>Bobsleigh</td>\n",
       "      <td>BEL</td>\n",
       "      <td>four-man</td>\n",
       "      <td>M</td>\n",
       "      <td>Bronze</td>\n",
       "    </tr>\n",
       "    <tr>\n",
       "      <th>4</th>\n",
       "      <td>1924</td>\n",
       "      <td>Chamonix</td>\n",
       "      <td>Ice Hockey</td>\n",
       "      <td>Ice Hockey</td>\n",
       "      <td>CAN</td>\n",
       "      <td>ice hockey</td>\n",
       "      <td>M</td>\n",
       "      <td>Gold</td>\n",
       "    </tr>\n",
       "  </tbody>\n",
       "</table>\n",
       "</div>"
      ],
      "text/plain": [
       "   Year      City       Sport      Discipline  NOC       Event Event gender  \\\n",
       "0  1924  Chamonix     Skating  Figure skating  AUT  individual            M   \n",
       "1  1924  Chamonix     Skating  Figure skating  AUT  individual            W   \n",
       "2  1924  Chamonix     Skating  Figure skating  AUT       pairs            X   \n",
       "3  1924  Chamonix   Bobsleigh       Bobsleigh  BEL    four-man            M   \n",
       "4  1924  Chamonix  Ice Hockey      Ice Hockey  CAN  ice hockey            M   \n",
       "\n",
       "    Medal  \n",
       "0  Silver  \n",
       "1    Gold  \n",
       "2    Gold  \n",
       "3  Bronze  \n",
       "4    Gold  "
      ]
     },
     "metadata": {},
     "output_type": "display_data"
    }
   ],
   "source": [
    "# Leyendo un arhivo CSV desde un URL\n",
    "mydata02  = pd.read_csv(\"http://winterolympicsmedals.com/medals.csv\")\n",
    "display(mydata02.head())"
   ]
  },
  {
   "cell_type": "markdown",
   "metadata": {},
   "source": [
    "**Obteniendo el directorio actual de trabajo** \n",
    "\n",
    "* `os.getcwd()` devuelve la ruta absoluta del directorio de trabajo donde Python se está ejecutando actualmente como una cadena str.\n",
    "\n",
    "* `getcwd` significa **obtener directorio de trabajo actual**, y el comando de Unix pwd significa \"imprimir directorio de trabajo\". Por supuesto, puede imprimir el directorio de trabajo con `print()`.\n",
    "\n",
    "**Cambiando el directorio actual de trabajo** \n",
    "\n",
    "* Puede cambiar el directorio de trabajo actual con `os.chdir()`. Especifique la ruta de destino en el argumento.\n",
    "\n",
    "* Puede ser absoluto o relativo. Utilice **'../'** para subir. Puede cambiar el directorio actual como el comando de Unix **cd**."
   ]
  },
  {
   "cell_type": "code",
   "execution_count": 5,
   "metadata": {},
   "outputs": [
    {
     "name": "stdout",
     "output_type": "stream",
     "text": [
      "['.ipynb_checkpoints', 'data', 'm2-regex-ejercicio-apache.ipynb', 'notebook.tex', 'numpy_broadcasting.png', 'pandas-dataframe-dtypes.ipynb', 'POO con Python III.ipynb', 'POO con Python IV.ipynb', 'POO con Python IX.ipynb', 'POO con Python IXa.ipynb', 'POO con Python V.ipynb', 'POO con Python VI.ipynb', 'POO con Python VII.ipynb', 'POO con Python VIII.ipynb', 'uni-logo.png']\n"
     ]
    },
    {
     "data": {
      "text/html": [
       "<div>\n",
       "<style scoped>\n",
       "    .dataframe tbody tr th:only-of-type {\n",
       "        vertical-align: middle;\n",
       "    }\n",
       "\n",
       "    .dataframe tbody tr th {\n",
       "        vertical-align: top;\n",
       "    }\n",
       "\n",
       "    .dataframe thead th {\n",
       "        text-align: right;\n",
       "    }\n",
       "</style>\n",
       "<table border=\"1\" class=\"dataframe\">\n",
       "  <thead>\n",
       "    <tr style=\"text-align: right;\">\n",
       "      <th></th>\n",
       "      <th>date</th>\n",
       "      <th>BEN</th>\n",
       "      <th>CH4</th>\n",
       "      <th>CO</th>\n",
       "      <th>EBE</th>\n",
       "      <th>NMHC</th>\n",
       "      <th>NO</th>\n",
       "      <th>NO_2</th>\n",
       "      <th>NOx</th>\n",
       "      <th>O_3</th>\n",
       "      <th>PM10</th>\n",
       "      <th>PM25</th>\n",
       "      <th>SO_2</th>\n",
       "      <th>TCH</th>\n",
       "      <th>TOL</th>\n",
       "      <th>station</th>\n",
       "    </tr>\n",
       "  </thead>\n",
       "  <tbody>\n",
       "    <tr>\n",
       "      <th>0</th>\n",
       "      <td>2017-06-01 01:00:00</td>\n",
       "      <td>NaN</td>\n",
       "      <td>NaN</td>\n",
       "      <td>0.3</td>\n",
       "      <td>NaN</td>\n",
       "      <td>NaN</td>\n",
       "      <td>4.0</td>\n",
       "      <td>38.0</td>\n",
       "      <td>NaN</td>\n",
       "      <td>NaN</td>\n",
       "      <td>NaN</td>\n",
       "      <td>NaN</td>\n",
       "      <td>5.0</td>\n",
       "      <td>NaN</td>\n",
       "      <td>NaN</td>\n",
       "      <td>28079004</td>\n",
       "    </tr>\n",
       "    <tr>\n",
       "      <th>1</th>\n",
       "      <td>2017-06-01 01:00:00</td>\n",
       "      <td>0.6</td>\n",
       "      <td>NaN</td>\n",
       "      <td>0.3</td>\n",
       "      <td>0.4</td>\n",
       "      <td>0.08</td>\n",
       "      <td>3.0</td>\n",
       "      <td>39.0</td>\n",
       "      <td>NaN</td>\n",
       "      <td>71.0</td>\n",
       "      <td>22.0</td>\n",
       "      <td>9.0</td>\n",
       "      <td>7.0</td>\n",
       "      <td>1.4</td>\n",
       "      <td>2.9</td>\n",
       "      <td>28079008</td>\n",
       "    </tr>\n",
       "    <tr>\n",
       "      <th>2</th>\n",
       "      <td>2017-06-01 01:00:00</td>\n",
       "      <td>0.2</td>\n",
       "      <td>NaN</td>\n",
       "      <td>NaN</td>\n",
       "      <td>0.1</td>\n",
       "      <td>NaN</td>\n",
       "      <td>1.0</td>\n",
       "      <td>14.0</td>\n",
       "      <td>NaN</td>\n",
       "      <td>NaN</td>\n",
       "      <td>NaN</td>\n",
       "      <td>NaN</td>\n",
       "      <td>NaN</td>\n",
       "      <td>NaN</td>\n",
       "      <td>0.9</td>\n",
       "      <td>28079011</td>\n",
       "    </tr>\n",
       "    <tr>\n",
       "      <th>3</th>\n",
       "      <td>2017-06-01 01:00:00</td>\n",
       "      <td>NaN</td>\n",
       "      <td>NaN</td>\n",
       "      <td>0.2</td>\n",
       "      <td>NaN</td>\n",
       "      <td>NaN</td>\n",
       "      <td>1.0</td>\n",
       "      <td>9.0</td>\n",
       "      <td>NaN</td>\n",
       "      <td>91.0</td>\n",
       "      <td>NaN</td>\n",
       "      <td>NaN</td>\n",
       "      <td>NaN</td>\n",
       "      <td>NaN</td>\n",
       "      <td>NaN</td>\n",
       "      <td>28079016</td>\n",
       "    </tr>\n",
       "    <tr>\n",
       "      <th>4</th>\n",
       "      <td>2017-06-01 01:00:00</td>\n",
       "      <td>NaN</td>\n",
       "      <td>NaN</td>\n",
       "      <td>NaN</td>\n",
       "      <td>NaN</td>\n",
       "      <td>NaN</td>\n",
       "      <td>1.0</td>\n",
       "      <td>19.0</td>\n",
       "      <td>NaN</td>\n",
       "      <td>69.0</td>\n",
       "      <td>NaN</td>\n",
       "      <td>NaN</td>\n",
       "      <td>2.0</td>\n",
       "      <td>NaN</td>\n",
       "      <td>NaN</td>\n",
       "      <td>28079017</td>\n",
       "    </tr>\n",
       "  </tbody>\n",
       "</table>\n",
       "</div>"
      ],
      "text/plain": [
       "                  date  BEN  CH4   CO  EBE  NMHC   NO  NO_2  NOx   O_3  PM10  \\\n",
       "0  2017-06-01 01:00:00  NaN  NaN  0.3  NaN   NaN  4.0  38.0  NaN   NaN   NaN   \n",
       "1  2017-06-01 01:00:00  0.6  NaN  0.3  0.4  0.08  3.0  39.0  NaN  71.0  22.0   \n",
       "2  2017-06-01 01:00:00  0.2  NaN  NaN  0.1   NaN  1.0  14.0  NaN   NaN   NaN   \n",
       "3  2017-06-01 01:00:00  NaN  NaN  0.2  NaN   NaN  1.0   9.0  NaN  91.0   NaN   \n",
       "4  2017-06-01 01:00:00  NaN  NaN  NaN  NaN   NaN  1.0  19.0  NaN  69.0   NaN   \n",
       "\n",
       "   PM25  SO_2  TCH  TOL   station  \n",
       "0   NaN   5.0  NaN  NaN  28079004  \n",
       "1   9.0   7.0  1.4  2.9  28079008  \n",
       "2   NaN   NaN  NaN  0.9  28079011  \n",
       "3   NaN   NaN  NaN  NaN  28079016  \n",
       "4   NaN   2.0  NaN  NaN  28079017  "
      ]
     },
     "metadata": {},
     "output_type": "display_data"
    }
   ],
   "source": [
    "import os\n",
    "os.getcwd()\n",
    "# listando archivos \n",
    "print(os.listdir(os.getcwd()))\n",
    "# leyendo archivo CSV del disco de la PC\n",
    "income = pd.read_csv('C:\\\\Users\\\\YURI\\\\POO con Python\\\\modulo II\\\\data\\\\madrid_2017.csv')\n",
    "display(income.head())"
   ]
  },
  {
   "cell_type": "code",
   "execution_count": 1,
   "metadata": {},
   "outputs": [
    {
     "name": "stdout",
     "output_type": "stream",
     "text": [
      "getcwd:       C:\\Users\\YURI\\POO con Python\\modulo II\n"
     ]
    },
    {
     "ename": "NameError",
     "evalue": "name '__file__' is not defined",
     "output_type": "error",
     "traceback": [
      "\u001b[1;31m---------------------------------------------------------------------------\u001b[0m",
      "\u001b[1;31mNameError\u001b[0m                                 Traceback (most recent call last)",
      "\u001b[1;32m<ipython-input-1-4cfb4840b005>\u001b[0m in \u001b[0;36m<module>\u001b[1;34m\u001b[0m\n\u001b[0;32m      2\u001b[0m \u001b[1;33m\u001b[0m\u001b[0m\n\u001b[0;32m      3\u001b[0m \u001b[0mprint\u001b[0m\u001b[1;33m(\u001b[0m\u001b[1;34m'getcwd:      '\u001b[0m\u001b[1;33m,\u001b[0m \u001b[0mos\u001b[0m\u001b[1;33m.\u001b[0m\u001b[0mgetcwd\u001b[0m\u001b[1;33m(\u001b[0m\u001b[1;33m)\u001b[0m\u001b[1;33m)\u001b[0m\u001b[1;33m\u001b[0m\u001b[1;33m\u001b[0m\u001b[0m\n\u001b[1;32m----> 4\u001b[1;33m \u001b[0mprint\u001b[0m\u001b[1;33m(\u001b[0m\u001b[1;34m'__file__:    '\u001b[0m\u001b[1;33m,\u001b[0m \u001b[0m__file__\u001b[0m\u001b[1;33m)\u001b[0m\u001b[1;33m\u001b[0m\u001b[1;33m\u001b[0m\u001b[0m\n\u001b[0m",
      "\u001b[1;31mNameError\u001b[0m: name '__file__' is not defined"
     ]
    }
   ],
   "source": [
    "# \n",
    "import os\n",
    "print('getcwd:      ', os.getcwd())\n",
    "print('__file__:    ', __file__)"
   ]
  },
  {
   "cell_type": "markdown",
   "metadata": {},
   "source": [
    "Tenga en cuenta que `__file__` no se puede utilizar en Jupyter Notebook (.ipynb). Independientemente del directorio donde se inicie Jupyter Notebook, el directorio actual es el directorio donde se encuentra .ipynb.\n",
    "\n",
    "Mas detalles en: https://note.nkmk.me/en/python-script-file-path/"
   ]
  },
  {
   "cell_type": "code",
   "execution_count": 6,
   "metadata": {},
   "outputs": [
    {
     "data": {
      "text/html": [
       "<div>\n",
       "<style scoped>\n",
       "    .dataframe tbody tr th:only-of-type {\n",
       "        vertical-align: middle;\n",
       "    }\n",
       "\n",
       "    .dataframe tbody tr th {\n",
       "        vertical-align: top;\n",
       "    }\n",
       "\n",
       "    .dataframe thead th {\n",
       "        text-align: right;\n",
       "    }\n",
       "</style>\n",
       "<table border=\"1\" class=\"dataframe\">\n",
       "  <thead>\n",
       "    <tr style=\"text-align: right;\">\n",
       "      <th></th>\n",
       "      <th>Name</th>\n",
       "      <th>Age</th>\n",
       "      <th>Photo</th>\n",
       "      <th>Nationality</th>\n",
       "      <th>Flag</th>\n",
       "      <th>Overall</th>\n",
       "      <th>Potential</th>\n",
       "      <th>Club</th>\n",
       "      <th>Club Logo</th>\n",
       "      <th>Value</th>\n",
       "      <th>...</th>\n",
       "      <th>Composure</th>\n",
       "      <th>Marking</th>\n",
       "      <th>StandingTackle</th>\n",
       "      <th>SlidingTackle</th>\n",
       "      <th>GKDiving</th>\n",
       "      <th>GKHandling</th>\n",
       "      <th>GKKicking</th>\n",
       "      <th>GKPositioning</th>\n",
       "      <th>GKReflexes</th>\n",
       "      <th>Release Clause</th>\n",
       "    </tr>\n",
       "    <tr>\n",
       "      <th>ID</th>\n",
       "      <th></th>\n",
       "      <th></th>\n",
       "      <th></th>\n",
       "      <th></th>\n",
       "      <th></th>\n",
       "      <th></th>\n",
       "      <th></th>\n",
       "      <th></th>\n",
       "      <th></th>\n",
       "      <th></th>\n",
       "      <th></th>\n",
       "      <th></th>\n",
       "      <th></th>\n",
       "      <th></th>\n",
       "      <th></th>\n",
       "      <th></th>\n",
       "      <th></th>\n",
       "      <th></th>\n",
       "      <th></th>\n",
       "      <th></th>\n",
       "      <th></th>\n",
       "    </tr>\n",
       "  </thead>\n",
       "  <tbody>\n",
       "    <tr>\n",
       "      <th>158023</th>\n",
       "      <td>L. Messi</td>\n",
       "      <td>31</td>\n",
       "      <td>https://cdn.sofifa.org/players/4/19/158023.png</td>\n",
       "      <td>Argentina</td>\n",
       "      <td>https://cdn.sofifa.org/flags/52.png</td>\n",
       "      <td>94</td>\n",
       "      <td>94</td>\n",
       "      <td>FC Barcelona</td>\n",
       "      <td>https://cdn.sofifa.org/teams/2/light/241.png</td>\n",
       "      <td>€110.5M</td>\n",
       "      <td>...</td>\n",
       "      <td>96.0</td>\n",
       "      <td>33.0</td>\n",
       "      <td>28.0</td>\n",
       "      <td>26.0</td>\n",
       "      <td>6.0</td>\n",
       "      <td>11.0</td>\n",
       "      <td>15.0</td>\n",
       "      <td>14.0</td>\n",
       "      <td>8.0</td>\n",
       "      <td>€226.5M</td>\n",
       "    </tr>\n",
       "    <tr>\n",
       "      <th>20801</th>\n",
       "      <td>Cristiano Ronaldo</td>\n",
       "      <td>33</td>\n",
       "      <td>https://cdn.sofifa.org/players/4/19/20801.png</td>\n",
       "      <td>Portugal</td>\n",
       "      <td>https://cdn.sofifa.org/flags/38.png</td>\n",
       "      <td>94</td>\n",
       "      <td>94</td>\n",
       "      <td>Juventus</td>\n",
       "      <td>https://cdn.sofifa.org/teams/2/light/45.png</td>\n",
       "      <td>€77M</td>\n",
       "      <td>...</td>\n",
       "      <td>95.0</td>\n",
       "      <td>28.0</td>\n",
       "      <td>31.0</td>\n",
       "      <td>23.0</td>\n",
       "      <td>7.0</td>\n",
       "      <td>11.0</td>\n",
       "      <td>15.0</td>\n",
       "      <td>14.0</td>\n",
       "      <td>11.0</td>\n",
       "      <td>€127.1M</td>\n",
       "    </tr>\n",
       "    <tr>\n",
       "      <th>190871</th>\n",
       "      <td>Neymar Jr</td>\n",
       "      <td>26</td>\n",
       "      <td>https://cdn.sofifa.org/players/4/19/190871.png</td>\n",
       "      <td>Brazil</td>\n",
       "      <td>https://cdn.sofifa.org/flags/54.png</td>\n",
       "      <td>92</td>\n",
       "      <td>93</td>\n",
       "      <td>Paris Saint-Germain</td>\n",
       "      <td>https://cdn.sofifa.org/teams/2/light/73.png</td>\n",
       "      <td>€118.5M</td>\n",
       "      <td>...</td>\n",
       "      <td>94.0</td>\n",
       "      <td>27.0</td>\n",
       "      <td>24.0</td>\n",
       "      <td>33.0</td>\n",
       "      <td>9.0</td>\n",
       "      <td>9.0</td>\n",
       "      <td>15.0</td>\n",
       "      <td>15.0</td>\n",
       "      <td>11.0</td>\n",
       "      <td>€228.1M</td>\n",
       "    </tr>\n",
       "    <tr>\n",
       "      <th>193080</th>\n",
       "      <td>De Gea</td>\n",
       "      <td>27</td>\n",
       "      <td>https://cdn.sofifa.org/players/4/19/193080.png</td>\n",
       "      <td>Spain</td>\n",
       "      <td>https://cdn.sofifa.org/flags/45.png</td>\n",
       "      <td>91</td>\n",
       "      <td>93</td>\n",
       "      <td>Manchester United</td>\n",
       "      <td>https://cdn.sofifa.org/teams/2/light/11.png</td>\n",
       "      <td>€72M</td>\n",
       "      <td>...</td>\n",
       "      <td>68.0</td>\n",
       "      <td>15.0</td>\n",
       "      <td>21.0</td>\n",
       "      <td>13.0</td>\n",
       "      <td>90.0</td>\n",
       "      <td>85.0</td>\n",
       "      <td>87.0</td>\n",
       "      <td>88.0</td>\n",
       "      <td>94.0</td>\n",
       "      <td>€138.6M</td>\n",
       "    </tr>\n",
       "    <tr>\n",
       "      <th>192985</th>\n",
       "      <td>K. De Bruyne</td>\n",
       "      <td>27</td>\n",
       "      <td>https://cdn.sofifa.org/players/4/19/192985.png</td>\n",
       "      <td>Belgium</td>\n",
       "      <td>https://cdn.sofifa.org/flags/7.png</td>\n",
       "      <td>91</td>\n",
       "      <td>92</td>\n",
       "      <td>Manchester City</td>\n",
       "      <td>https://cdn.sofifa.org/teams/2/light/10.png</td>\n",
       "      <td>€102M</td>\n",
       "      <td>...</td>\n",
       "      <td>88.0</td>\n",
       "      <td>68.0</td>\n",
       "      <td>58.0</td>\n",
       "      <td>51.0</td>\n",
       "      <td>15.0</td>\n",
       "      <td>13.0</td>\n",
       "      <td>5.0</td>\n",
       "      <td>10.0</td>\n",
       "      <td>13.0</td>\n",
       "      <td>€196.4M</td>\n",
       "    </tr>\n",
       "  </tbody>\n",
       "</table>\n",
       "<p>5 rows × 87 columns</p>\n",
       "</div>"
      ],
      "text/plain": [
       "                     Name  Age  \\\n",
       "ID                               \n",
       "158023           L. Messi   31   \n",
       "20801   Cristiano Ronaldo   33   \n",
       "190871          Neymar Jr   26   \n",
       "193080             De Gea   27   \n",
       "192985       K. De Bruyne   27   \n",
       "\n",
       "                                                 Photo Nationality  \\\n",
       "ID                                                                   \n",
       "158023  https://cdn.sofifa.org/players/4/19/158023.png   Argentina   \n",
       "20801    https://cdn.sofifa.org/players/4/19/20801.png    Portugal   \n",
       "190871  https://cdn.sofifa.org/players/4/19/190871.png      Brazil   \n",
       "193080  https://cdn.sofifa.org/players/4/19/193080.png       Spain   \n",
       "192985  https://cdn.sofifa.org/players/4/19/192985.png     Belgium   \n",
       "\n",
       "                                       Flag  Overall  Potential  \\\n",
       "ID                                                                \n",
       "158023  https://cdn.sofifa.org/flags/52.png       94         94   \n",
       "20801   https://cdn.sofifa.org/flags/38.png       94         94   \n",
       "190871  https://cdn.sofifa.org/flags/54.png       92         93   \n",
       "193080  https://cdn.sofifa.org/flags/45.png       91         93   \n",
       "192985   https://cdn.sofifa.org/flags/7.png       91         92   \n",
       "\n",
       "                       Club                                     Club Logo  \\\n",
       "ID                                                                          \n",
       "158023         FC Barcelona  https://cdn.sofifa.org/teams/2/light/241.png   \n",
       "20801              Juventus   https://cdn.sofifa.org/teams/2/light/45.png   \n",
       "190871  Paris Saint-Germain   https://cdn.sofifa.org/teams/2/light/73.png   \n",
       "193080    Manchester United   https://cdn.sofifa.org/teams/2/light/11.png   \n",
       "192985      Manchester City   https://cdn.sofifa.org/teams/2/light/10.png   \n",
       "\n",
       "          Value      ...       Composure  Marking StandingTackle  \\\n",
       "ID                   ...                                           \n",
       "158023  €110.5M      ...            96.0     33.0           28.0   \n",
       "20801      €77M      ...            95.0     28.0           31.0   \n",
       "190871  €118.5M      ...            94.0     27.0           24.0   \n",
       "193080     €72M      ...            68.0     15.0           21.0   \n",
       "192985    €102M      ...            88.0     68.0           58.0   \n",
       "\n",
       "        SlidingTackle  GKDiving  GKHandling GKKicking GKPositioning  \\\n",
       "ID                                                                    \n",
       "158023           26.0       6.0        11.0      15.0          14.0   \n",
       "20801            23.0       7.0        11.0      15.0          14.0   \n",
       "190871           33.0       9.0         9.0      15.0          15.0   \n",
       "193080           13.0      90.0        85.0      87.0          88.0   \n",
       "192985           51.0      15.0        13.0       5.0          10.0   \n",
       "\n",
       "       GKReflexes Release Clause  \n",
       "ID                                \n",
       "158023        8.0        €226.5M  \n",
       "20801        11.0        €127.1M  \n",
       "190871       11.0        €228.1M  \n",
       "193080       94.0        €138.6M  \n",
       "192985       13.0        €196.4M  \n",
       "\n",
       "[5 rows x 87 columns]"
      ]
     },
     "metadata": {},
     "output_type": "display_data"
    },
    {
     "name": "stdout",
     "output_type": "stream",
     "text": [
      "Dimensiones del dataframe: (18207, 87)\n",
      "Número de filas (registros): 18207\n",
      "Número de columnas: 87\n"
     ]
    }
   ],
   "source": [
    "# Lee un archivo .csv y utiliza el campo ID como índice.\n",
    "df_fifa = pd.read_csv('./data/fifa19.csv', index_col=0).set_index('ID')\n",
    "# Muestra la cabecera (5 primeras filas)\n",
    "display(df_fifa.head())\n",
    "print(\"Dimensiones del dataframe:\",df_fifa.shape)\n",
    "print(\"Número de filas (registros):\",df_fifa.shape[0])\n",
    "print(\"Número de columnas:\",df_fifa.shape[1])"
   ]
  },
  {
   "cell_type": "code",
   "execution_count": 7,
   "metadata": {},
   "outputs": [
    {
     "name": "stdout",
     "output_type": "stream",
     "text": [
      "Name              object\n",
      "Age                int64\n",
      "Nationality       object\n",
      "Overall            int64\n",
      "Club              object\n",
      "Value             object\n",
      "Wage              object\n",
      "Position          object\n",
      "Joined            object\n",
      "Height            object\n",
      "Weight            object\n",
      "Release Clause    object\n",
      "dtype: object\n"
     ]
    },
    {
     "data": {
      "text/html": [
       "<div>\n",
       "<style scoped>\n",
       "    .dataframe tbody tr th:only-of-type {\n",
       "        vertical-align: middle;\n",
       "    }\n",
       "\n",
       "    .dataframe tbody tr th {\n",
       "        vertical-align: top;\n",
       "    }\n",
       "\n",
       "    .dataframe thead th {\n",
       "        text-align: right;\n",
       "    }\n",
       "</style>\n",
       "<table border=\"1\" class=\"dataframe\">\n",
       "  <thead>\n",
       "    <tr style=\"text-align: right;\">\n",
       "      <th></th>\n",
       "      <th>Name</th>\n",
       "      <th>Age</th>\n",
       "      <th>Nationality</th>\n",
       "      <th>Overall</th>\n",
       "      <th>Club</th>\n",
       "      <th>Value</th>\n",
       "      <th>Wage</th>\n",
       "      <th>Position</th>\n",
       "      <th>Joined</th>\n",
       "      <th>Height</th>\n",
       "      <th>Weight</th>\n",
       "      <th>Release Clause</th>\n",
       "    </tr>\n",
       "    <tr>\n",
       "      <th>ID</th>\n",
       "      <th></th>\n",
       "      <th></th>\n",
       "      <th></th>\n",
       "      <th></th>\n",
       "      <th></th>\n",
       "      <th></th>\n",
       "      <th></th>\n",
       "      <th></th>\n",
       "      <th></th>\n",
       "      <th></th>\n",
       "      <th></th>\n",
       "      <th></th>\n",
       "    </tr>\n",
       "  </thead>\n",
       "  <tbody>\n",
       "    <tr>\n",
       "      <th>158023</th>\n",
       "      <td>L. Messi</td>\n",
       "      <td>31</td>\n",
       "      <td>Argentina</td>\n",
       "      <td>94</td>\n",
       "      <td>FC Barcelona</td>\n",
       "      <td>€110.5M</td>\n",
       "      <td>€565K</td>\n",
       "      <td>RF</td>\n",
       "      <td>Jul 1, 2004</td>\n",
       "      <td>5'7</td>\n",
       "      <td>159lbs</td>\n",
       "      <td>€226.5M</td>\n",
       "    </tr>\n",
       "    <tr>\n",
       "      <th>20801</th>\n",
       "      <td>Cristiano Ronaldo</td>\n",
       "      <td>33</td>\n",
       "      <td>Portugal</td>\n",
       "      <td>94</td>\n",
       "      <td>Juventus</td>\n",
       "      <td>€77M</td>\n",
       "      <td>€405K</td>\n",
       "      <td>ST</td>\n",
       "      <td>Jul 10, 2018</td>\n",
       "      <td>6'2</td>\n",
       "      <td>183lbs</td>\n",
       "      <td>€127.1M</td>\n",
       "    </tr>\n",
       "    <tr>\n",
       "      <th>190871</th>\n",
       "      <td>Neymar Jr</td>\n",
       "      <td>26</td>\n",
       "      <td>Brazil</td>\n",
       "      <td>92</td>\n",
       "      <td>Paris Saint-Germain</td>\n",
       "      <td>€118.5M</td>\n",
       "      <td>€290K</td>\n",
       "      <td>LW</td>\n",
       "      <td>Aug 3, 2017</td>\n",
       "      <td>5'9</td>\n",
       "      <td>150lbs</td>\n",
       "      <td>€228.1M</td>\n",
       "    </tr>\n",
       "    <tr>\n",
       "      <th>193080</th>\n",
       "      <td>De Gea</td>\n",
       "      <td>27</td>\n",
       "      <td>Spain</td>\n",
       "      <td>91</td>\n",
       "      <td>Manchester United</td>\n",
       "      <td>€72M</td>\n",
       "      <td>€260K</td>\n",
       "      <td>GK</td>\n",
       "      <td>Jul 1, 2011</td>\n",
       "      <td>6'4</td>\n",
       "      <td>168lbs</td>\n",
       "      <td>€138.6M</td>\n",
       "    </tr>\n",
       "    <tr>\n",
       "      <th>192985</th>\n",
       "      <td>K. De Bruyne</td>\n",
       "      <td>27</td>\n",
       "      <td>Belgium</td>\n",
       "      <td>91</td>\n",
       "      <td>Manchester City</td>\n",
       "      <td>€102M</td>\n",
       "      <td>€355K</td>\n",
       "      <td>RCM</td>\n",
       "      <td>Aug 30, 2015</td>\n",
       "      <td>5'11</td>\n",
       "      <td>154lbs</td>\n",
       "      <td>€196.4M</td>\n",
       "    </tr>\n",
       "    <tr>\n",
       "      <th>183277</th>\n",
       "      <td>E. Hazard</td>\n",
       "      <td>27</td>\n",
       "      <td>Belgium</td>\n",
       "      <td>91</td>\n",
       "      <td>Chelsea</td>\n",
       "      <td>€93M</td>\n",
       "      <td>€340K</td>\n",
       "      <td>LF</td>\n",
       "      <td>Jul 1, 2012</td>\n",
       "      <td>5'8</td>\n",
       "      <td>163lbs</td>\n",
       "      <td>€172.1M</td>\n",
       "    </tr>\n",
       "    <tr>\n",
       "      <th>177003</th>\n",
       "      <td>L. Modrić</td>\n",
       "      <td>32</td>\n",
       "      <td>Croatia</td>\n",
       "      <td>91</td>\n",
       "      <td>Real Madrid</td>\n",
       "      <td>€67M</td>\n",
       "      <td>€420K</td>\n",
       "      <td>RCM</td>\n",
       "      <td>Aug 1, 2012</td>\n",
       "      <td>5'8</td>\n",
       "      <td>146lbs</td>\n",
       "      <td>€137.4M</td>\n",
       "    </tr>\n",
       "    <tr>\n",
       "      <th>176580</th>\n",
       "      <td>L. Suárez</td>\n",
       "      <td>31</td>\n",
       "      <td>Uruguay</td>\n",
       "      <td>91</td>\n",
       "      <td>FC Barcelona</td>\n",
       "      <td>€80M</td>\n",
       "      <td>€455K</td>\n",
       "      <td>RS</td>\n",
       "      <td>Jul 11, 2014</td>\n",
       "      <td>6'0</td>\n",
       "      <td>190lbs</td>\n",
       "      <td>€164M</td>\n",
       "    </tr>\n",
       "    <tr>\n",
       "      <th>155862</th>\n",
       "      <td>Sergio Ramos</td>\n",
       "      <td>32</td>\n",
       "      <td>Spain</td>\n",
       "      <td>91</td>\n",
       "      <td>Real Madrid</td>\n",
       "      <td>€51M</td>\n",
       "      <td>€380K</td>\n",
       "      <td>RCB</td>\n",
       "      <td>Aug 1, 2005</td>\n",
       "      <td>6'0</td>\n",
       "      <td>181lbs</td>\n",
       "      <td>€104.6M</td>\n",
       "    </tr>\n",
       "    <tr>\n",
       "      <th>200389</th>\n",
       "      <td>J. Oblak</td>\n",
       "      <td>25</td>\n",
       "      <td>Slovenia</td>\n",
       "      <td>90</td>\n",
       "      <td>Atlético Madrid</td>\n",
       "      <td>€68M</td>\n",
       "      <td>€94K</td>\n",
       "      <td>GK</td>\n",
       "      <td>Jul 16, 2014</td>\n",
       "      <td>6'2</td>\n",
       "      <td>192lbs</td>\n",
       "      <td>€144.5M</td>\n",
       "    </tr>\n",
       "  </tbody>\n",
       "</table>\n",
       "</div>"
      ],
      "text/plain": [
       "                     Name  Age Nationality  Overall                 Club  \\\n",
       "ID                                                                         \n",
       "158023           L. Messi   31   Argentina       94         FC Barcelona   \n",
       "20801   Cristiano Ronaldo   33    Portugal       94             Juventus   \n",
       "190871          Neymar Jr   26      Brazil       92  Paris Saint-Germain   \n",
       "193080             De Gea   27       Spain       91    Manchester United   \n",
       "192985       K. De Bruyne   27     Belgium       91      Manchester City   \n",
       "183277          E. Hazard   27     Belgium       91              Chelsea   \n",
       "177003          L. Modrić   32     Croatia       91          Real Madrid   \n",
       "176580          L. Suárez   31     Uruguay       91         FC Barcelona   \n",
       "155862       Sergio Ramos   32       Spain       91          Real Madrid   \n",
       "200389           J. Oblak   25    Slovenia       90      Atlético Madrid   \n",
       "\n",
       "          Value   Wage Position        Joined Height  Weight Release Clause  \n",
       "ID                                                                           \n",
       "158023  €110.5M  €565K       RF   Jul 1, 2004    5'7  159lbs        €226.5M  \n",
       "20801      €77M  €405K       ST  Jul 10, 2018    6'2  183lbs        €127.1M  \n",
       "190871  €118.5M  €290K       LW   Aug 3, 2017    5'9  150lbs        €228.1M  \n",
       "193080     €72M  €260K       GK   Jul 1, 2011    6'4  168lbs        €138.6M  \n",
       "192985    €102M  €355K      RCM  Aug 30, 2015   5'11  154lbs        €196.4M  \n",
       "183277     €93M  €340K       LF   Jul 1, 2012    5'8  163lbs        €172.1M  \n",
       "177003     €67M  €420K      RCM   Aug 1, 2012    5'8  146lbs        €137.4M  \n",
       "176580     €80M  €455K       RS  Jul 11, 2014    6'0  190lbs          €164M  \n",
       "155862     €51M  €380K      RCB   Aug 1, 2005    6'0  181lbs        €104.6M  \n",
       "200389     €68M   €94K       GK  Jul 16, 2014    6'2  192lbs        €144.5M  "
      ]
     },
     "execution_count": 7,
     "metadata": {},
     "output_type": "execute_result"
    }
   ],
   "source": [
    "# Lista con los nombres de las columnas de interés\n",
    "sel_columns = ['Name', 'Age', 'Nationality', 'Overall', 'Club', 'Value', 'Wage', 'Position', 'Joined', 'Height', 'Weight', 'Release Clause']\n",
    "\n",
    "# Selecciona filas y columnas\n",
    "df_fifa = df_fifa[:100][sel_columns] \n",
    "# Muestra los tipos de datos de las columnas\n",
    "print(df_fifa.dtypes)\n",
    "# Muestra la cabecera\n",
    "df_fifa.head(10)"
   ]
  },
  {
   "cell_type": "markdown",
   "metadata": {},
   "source": [
    "### <font color=\"#7F000E\"> Ejemplo de uso</font>\n",
    "\n",
    "A continuación se ilustra, mediante un breve ejemplo, el tipo de procesamiento que se puede hacer con Pandas. El `DataFrame` contiene datos sobre jugadores de fútbol. La altura se expresa mediante el sistema imperial (británico), y está representada con un `String`.  En esta celda, se convierten las unidades de la columna `Height` al sistema métrico decimal (metros), y se representan mediante un valor numérico."
   ]
  },
  {
   "cell_type": "code",
   "execution_count": 8,
   "metadata": {},
   "outputs": [
    {
     "data": {
      "text/html": [
       "<div>\n",
       "<style scoped>\n",
       "    .dataframe tbody tr th:only-of-type {\n",
       "        vertical-align: middle;\n",
       "    }\n",
       "\n",
       "    .dataframe tbody tr th {\n",
       "        vertical-align: top;\n",
       "    }\n",
       "\n",
       "    .dataframe thead th {\n",
       "        text-align: right;\n",
       "    }\n",
       "</style>\n",
       "<table border=\"1\" class=\"dataframe\">\n",
       "  <thead>\n",
       "    <tr style=\"text-align: right;\">\n",
       "      <th></th>\n",
       "      <th>Name</th>\n",
       "      <th>Age</th>\n",
       "      <th>Nationality</th>\n",
       "      <th>Overall</th>\n",
       "      <th>Club</th>\n",
       "      <th>Value</th>\n",
       "      <th>Wage</th>\n",
       "      <th>Position</th>\n",
       "      <th>Joined</th>\n",
       "      <th>Height</th>\n",
       "      <th>Weight</th>\n",
       "      <th>Release Clause</th>\n",
       "    </tr>\n",
       "    <tr>\n",
       "      <th>ID</th>\n",
       "      <th></th>\n",
       "      <th></th>\n",
       "      <th></th>\n",
       "      <th></th>\n",
       "      <th></th>\n",
       "      <th></th>\n",
       "      <th></th>\n",
       "      <th></th>\n",
       "      <th></th>\n",
       "      <th></th>\n",
       "      <th></th>\n",
       "      <th></th>\n",
       "    </tr>\n",
       "  </thead>\n",
       "  <tbody>\n",
       "    <tr>\n",
       "      <th>158023</th>\n",
       "      <td>L. Messi</td>\n",
       "      <td>31</td>\n",
       "      <td>Argentina</td>\n",
       "      <td>94</td>\n",
       "      <td>FC Barcelona</td>\n",
       "      <td>€110.5M</td>\n",
       "      <td>€565K</td>\n",
       "      <td>RF</td>\n",
       "      <td>Jul 1, 2004</td>\n",
       "      <td>1.7018</td>\n",
       "      <td>159lbs</td>\n",
       "      <td>€226.5M</td>\n",
       "    </tr>\n",
       "    <tr>\n",
       "      <th>20801</th>\n",
       "      <td>Cristiano Ronaldo</td>\n",
       "      <td>33</td>\n",
       "      <td>Portugal</td>\n",
       "      <td>94</td>\n",
       "      <td>Juventus</td>\n",
       "      <td>€77M</td>\n",
       "      <td>€405K</td>\n",
       "      <td>ST</td>\n",
       "      <td>Jul 10, 2018</td>\n",
       "      <td>1.8796</td>\n",
       "      <td>183lbs</td>\n",
       "      <td>€127.1M</td>\n",
       "    </tr>\n",
       "    <tr>\n",
       "      <th>190871</th>\n",
       "      <td>Neymar Jr</td>\n",
       "      <td>26</td>\n",
       "      <td>Brazil</td>\n",
       "      <td>92</td>\n",
       "      <td>Paris Saint-Germain</td>\n",
       "      <td>€118.5M</td>\n",
       "      <td>€290K</td>\n",
       "      <td>LW</td>\n",
       "      <td>Aug 3, 2017</td>\n",
       "      <td>1.7526</td>\n",
       "      <td>150lbs</td>\n",
       "      <td>€228.1M</td>\n",
       "    </tr>\n",
       "    <tr>\n",
       "      <th>193080</th>\n",
       "      <td>De Gea</td>\n",
       "      <td>27</td>\n",
       "      <td>Spain</td>\n",
       "      <td>91</td>\n",
       "      <td>Manchester United</td>\n",
       "      <td>€72M</td>\n",
       "      <td>€260K</td>\n",
       "      <td>GK</td>\n",
       "      <td>Jul 1, 2011</td>\n",
       "      <td>1.9304</td>\n",
       "      <td>168lbs</td>\n",
       "      <td>€138.6M</td>\n",
       "    </tr>\n",
       "    <tr>\n",
       "      <th>192985</th>\n",
       "      <td>K. De Bruyne</td>\n",
       "      <td>27</td>\n",
       "      <td>Belgium</td>\n",
       "      <td>91</td>\n",
       "      <td>Manchester City</td>\n",
       "      <td>€102M</td>\n",
       "      <td>€355K</td>\n",
       "      <td>RCM</td>\n",
       "      <td>Aug 30, 2015</td>\n",
       "      <td>1.8034</td>\n",
       "      <td>154lbs</td>\n",
       "      <td>€196.4M</td>\n",
       "    </tr>\n",
       "  </tbody>\n",
       "</table>\n",
       "</div>"
      ],
      "text/plain": [
       "                     Name  Age Nationality  Overall                 Club  \\\n",
       "ID                                                                         \n",
       "158023           L. Messi   31   Argentina       94         FC Barcelona   \n",
       "20801   Cristiano Ronaldo   33    Portugal       94             Juventus   \n",
       "190871          Neymar Jr   26      Brazil       92  Paris Saint-Germain   \n",
       "193080             De Gea   27       Spain       91    Manchester United   \n",
       "192985       K. De Bruyne   27     Belgium       91      Manchester City   \n",
       "\n",
       "          Value   Wage Position        Joined  Height  Weight Release Clause  \n",
       "ID                                                                            \n",
       "158023  €110.5M  €565K       RF   Jul 1, 2004  1.7018  159lbs        €226.5M  \n",
       "20801      €77M  €405K       ST  Jul 10, 2018  1.8796  183lbs        €127.1M  \n",
       "190871  €118.5M  €290K       LW   Aug 3, 2017  1.7526  150lbs        €228.1M  \n",
       "193080     €72M  €260K       GK   Jul 1, 2011  1.9304  168lbs        €138.6M  \n",
       "192985    €102M  €355K      RCM  Aug 30, 2015  1.8034  154lbs        €196.4M  "
      ]
     },
     "execution_count": 8,
     "metadata": {},
     "output_type": "execute_result"
    }
   ],
   "source": [
    "feet_to_cm = 30.48\n",
    "inch_to_cm = 2.54\n",
    "\n",
    "# Toma un String con formato pies'pulgadas como entrada\n",
    "def imp_to_metric(imp_height):\n",
    "    feet, inch = imp_height.split(\"'\")                             # Separa pies y pulgadas \n",
    "    return (float(feet)*feet_to_cm + float(inch)*inch_to_cm)/100   # Convierte a float y calcula los metros\n",
    "\n",
    "# Convierte toda la columna\n",
    "df_fifa['Height'] = df_fifa['Height'].map(imp_to_metric)    \n",
    "\n",
    "# Lo muestra\n",
    "df_fifa.head()"
   ]
  },
  {
   "cell_type": "markdown",
   "metadata": {},
   "source": [
    "En esta celda se transforman también peso, salario y valor, de manera más compacta, mediante funciones _lambda_."
   ]
  },
  {
   "cell_type": "code",
   "execution_count": 9,
   "metadata": {},
   "outputs": [
    {
     "data": {
      "text/html": [
       "<div>\n",
       "<style scoped>\n",
       "    .dataframe tbody tr th:only-of-type {\n",
       "        vertical-align: middle;\n",
       "    }\n",
       "\n",
       "    .dataframe tbody tr th {\n",
       "        vertical-align: top;\n",
       "    }\n",
       "\n",
       "    .dataframe thead th {\n",
       "        text-align: right;\n",
       "    }\n",
       "</style>\n",
       "<table border=\"1\" class=\"dataframe\">\n",
       "  <thead>\n",
       "    <tr style=\"text-align: right;\">\n",
       "      <th></th>\n",
       "      <th>Name</th>\n",
       "      <th>Age</th>\n",
       "      <th>Nationality</th>\n",
       "      <th>Overall</th>\n",
       "      <th>Club</th>\n",
       "      <th>Value</th>\n",
       "      <th>Wage</th>\n",
       "      <th>Position</th>\n",
       "      <th>Joined</th>\n",
       "      <th>Height</th>\n",
       "      <th>Weight</th>\n",
       "      <th>Release Clause</th>\n",
       "    </tr>\n",
       "    <tr>\n",
       "      <th>ID</th>\n",
       "      <th></th>\n",
       "      <th></th>\n",
       "      <th></th>\n",
       "      <th></th>\n",
       "      <th></th>\n",
       "      <th></th>\n",
       "      <th></th>\n",
       "      <th></th>\n",
       "      <th></th>\n",
       "      <th></th>\n",
       "      <th></th>\n",
       "      <th></th>\n",
       "    </tr>\n",
       "  </thead>\n",
       "  <tbody>\n",
       "    <tr>\n",
       "      <th>158023</th>\n",
       "      <td>L. Messi</td>\n",
       "      <td>31</td>\n",
       "      <td>Argentina</td>\n",
       "      <td>94</td>\n",
       "      <td>FC Barcelona</td>\n",
       "      <td>110.5</td>\n",
       "      <td>565000</td>\n",
       "      <td>RF</td>\n",
       "      <td>Jul 1, 2004</td>\n",
       "      <td>1.7018</td>\n",
       "      <td>72.121128</td>\n",
       "      <td>€226.5M</td>\n",
       "    </tr>\n",
       "    <tr>\n",
       "      <th>20801</th>\n",
       "      <td>Cristiano Ronaldo</td>\n",
       "      <td>33</td>\n",
       "      <td>Portugal</td>\n",
       "      <td>94</td>\n",
       "      <td>Juventus</td>\n",
       "      <td>77.0</td>\n",
       "      <td>405000</td>\n",
       "      <td>ST</td>\n",
       "      <td>Jul 10, 2018</td>\n",
       "      <td>1.8796</td>\n",
       "      <td>83.007336</td>\n",
       "      <td>€127.1M</td>\n",
       "    </tr>\n",
       "    <tr>\n",
       "      <th>190871</th>\n",
       "      <td>Neymar Jr</td>\n",
       "      <td>26</td>\n",
       "      <td>Brazil</td>\n",
       "      <td>92</td>\n",
       "      <td>Paris Saint-Germain</td>\n",
       "      <td>118.5</td>\n",
       "      <td>290000</td>\n",
       "      <td>LW</td>\n",
       "      <td>Aug 3, 2017</td>\n",
       "      <td>1.7526</td>\n",
       "      <td>68.038800</td>\n",
       "      <td>€228.1M</td>\n",
       "    </tr>\n",
       "    <tr>\n",
       "      <th>193080</th>\n",
       "      <td>De Gea</td>\n",
       "      <td>27</td>\n",
       "      <td>Spain</td>\n",
       "      <td>91</td>\n",
       "      <td>Manchester United</td>\n",
       "      <td>72.0</td>\n",
       "      <td>260000</td>\n",
       "      <td>GK</td>\n",
       "      <td>Jul 1, 2011</td>\n",
       "      <td>1.9304</td>\n",
       "      <td>76.203456</td>\n",
       "      <td>€138.6M</td>\n",
       "    </tr>\n",
       "    <tr>\n",
       "      <th>192985</th>\n",
       "      <td>K. De Bruyne</td>\n",
       "      <td>27</td>\n",
       "      <td>Belgium</td>\n",
       "      <td>91</td>\n",
       "      <td>Manchester City</td>\n",
       "      <td>102.0</td>\n",
       "      <td>355000</td>\n",
       "      <td>RCM</td>\n",
       "      <td>Aug 30, 2015</td>\n",
       "      <td>1.8034</td>\n",
       "      <td>69.853168</td>\n",
       "      <td>€196.4M</td>\n",
       "    </tr>\n",
       "  </tbody>\n",
       "</table>\n",
       "</div>"
      ],
      "text/plain": [
       "                     Name  Age Nationality  Overall                 Club  \\\n",
       "ID                                                                         \n",
       "158023           L. Messi   31   Argentina       94         FC Barcelona   \n",
       "20801   Cristiano Ronaldo   33    Portugal       94             Juventus   \n",
       "190871          Neymar Jr   26      Brazil       92  Paris Saint-Germain   \n",
       "193080             De Gea   27       Spain       91    Manchester United   \n",
       "192985       K. De Bruyne   27     Belgium       91      Manchester City   \n",
       "\n",
       "        Value    Wage Position        Joined  Height     Weight Release Clause  \n",
       "ID                                                                              \n",
       "158023  110.5  565000       RF   Jul 1, 2004  1.7018  72.121128        €226.5M  \n",
       "20801    77.0  405000       ST  Jul 10, 2018  1.8796  83.007336        €127.1M  \n",
       "190871  118.5  290000       LW   Aug 3, 2017  1.7526  68.038800        €228.1M  \n",
       "193080   72.0  260000       GK   Jul 1, 2011  1.9304  76.203456        €138.6M  \n",
       "192985  102.0  355000      RCM  Aug 30, 2015  1.8034  69.853168        €196.4M  "
      ]
     },
     "execution_count": 9,
     "metadata": {},
     "output_type": "execute_result"
    }
   ],
   "source": [
    "df_fifa['Weight'] = df_fifa['Weight'].map(lambda w: float(w[:-3])*0.453592)\n",
    "df_fifa['Value'] = df_fifa['Value'].map(lambda v: float(v[1:-1]))\n",
    "df_fifa['Wage'] = df_fifa['Wage'].map(lambda w: int(w[1:-1])*1000)\n",
    "\n",
    "df_fifa.head()"
   ]
  },
  {
   "cell_type": "markdown",
   "metadata": {},
   "source": [
    "Al igual que en las bases de datos relacionales, se pueden hacer accesos condicionales. Por ejemplo, se pueden mostrar los jugadores cuyo valor está por encima de 100 millones de euros."
   ]
  },
  {
   "cell_type": "code",
   "execution_count": 10,
   "metadata": {},
   "outputs": [
    {
     "data": {
      "text/html": [
       "<div>\n",
       "<style scoped>\n",
       "    .dataframe tbody tr th:only-of-type {\n",
       "        vertical-align: middle;\n",
       "    }\n",
       "\n",
       "    .dataframe tbody tr th {\n",
       "        vertical-align: top;\n",
       "    }\n",
       "\n",
       "    .dataframe thead th {\n",
       "        text-align: right;\n",
       "    }\n",
       "</style>\n",
       "<table border=\"1\" class=\"dataframe\">\n",
       "  <thead>\n",
       "    <tr style=\"text-align: right;\">\n",
       "      <th></th>\n",
       "      <th>Name</th>\n",
       "      <th>Age</th>\n",
       "      <th>Nationality</th>\n",
       "      <th>Overall</th>\n",
       "      <th>Club</th>\n",
       "      <th>Value</th>\n",
       "      <th>Wage</th>\n",
       "      <th>Position</th>\n",
       "      <th>Joined</th>\n",
       "      <th>Height</th>\n",
       "      <th>Weight</th>\n",
       "      <th>Release Clause</th>\n",
       "    </tr>\n",
       "    <tr>\n",
       "      <th>ID</th>\n",
       "      <th></th>\n",
       "      <th></th>\n",
       "      <th></th>\n",
       "      <th></th>\n",
       "      <th></th>\n",
       "      <th></th>\n",
       "      <th></th>\n",
       "      <th></th>\n",
       "      <th></th>\n",
       "      <th></th>\n",
       "      <th></th>\n",
       "      <th></th>\n",
       "    </tr>\n",
       "  </thead>\n",
       "  <tbody>\n",
       "    <tr>\n",
       "      <th>158023</th>\n",
       "      <td>L. Messi</td>\n",
       "      <td>31</td>\n",
       "      <td>Argentina</td>\n",
       "      <td>94</td>\n",
       "      <td>FC Barcelona</td>\n",
       "      <td>110.5</td>\n",
       "      <td>565000</td>\n",
       "      <td>RF</td>\n",
       "      <td>Jul 1, 2004</td>\n",
       "      <td>1.7018</td>\n",
       "      <td>72.121128</td>\n",
       "      <td>€226.5M</td>\n",
       "    </tr>\n",
       "    <tr>\n",
       "      <th>190871</th>\n",
       "      <td>Neymar Jr</td>\n",
       "      <td>26</td>\n",
       "      <td>Brazil</td>\n",
       "      <td>92</td>\n",
       "      <td>Paris Saint-Germain</td>\n",
       "      <td>118.5</td>\n",
       "      <td>290000</td>\n",
       "      <td>LW</td>\n",
       "      <td>Aug 3, 2017</td>\n",
       "      <td>1.7526</td>\n",
       "      <td>68.038800</td>\n",
       "      <td>€228.1M</td>\n",
       "    </tr>\n",
       "    <tr>\n",
       "      <th>192985</th>\n",
       "      <td>K. De Bruyne</td>\n",
       "      <td>27</td>\n",
       "      <td>Belgium</td>\n",
       "      <td>91</td>\n",
       "      <td>Manchester City</td>\n",
       "      <td>102.0</td>\n",
       "      <td>355000</td>\n",
       "      <td>RCM</td>\n",
       "      <td>Aug 30, 2015</td>\n",
       "      <td>1.8034</td>\n",
       "      <td>69.853168</td>\n",
       "      <td>€196.4M</td>\n",
       "    </tr>\n",
       "  </tbody>\n",
       "</table>\n",
       "</div>"
      ],
      "text/plain": [
       "                Name  Age Nationality  Overall                 Club  Value  \\\n",
       "ID                                                                           \n",
       "158023      L. Messi   31   Argentina       94         FC Barcelona  110.5   \n",
       "190871     Neymar Jr   26      Brazil       92  Paris Saint-Germain  118.5   \n",
       "192985  K. De Bruyne   27     Belgium       91      Manchester City  102.0   \n",
       "\n",
       "          Wage Position        Joined  Height     Weight Release Clause  \n",
       "ID                                                                       \n",
       "158023  565000       RF   Jul 1, 2004  1.7018  72.121128        €226.5M  \n",
       "190871  290000       LW   Aug 3, 2017  1.7526  68.038800        €228.1M  \n",
       "192985  355000      RCM  Aug 30, 2015  1.8034  69.853168        €196.4M  "
      ]
     },
     "execution_count": 10,
     "metadata": {},
     "output_type": "execute_result"
    }
   ],
   "source": [
    "df_fifa[df_fifa['Value']>100]"
   ]
  },
  {
   "cell_type": "markdown",
   "metadata": {},
   "source": [
    "Pandas permite obtener estadísticos descriptivos simples. En la siguiente columna, se describe la información que contienen las columnas numéricas."
   ]
  },
  {
   "cell_type": "code",
   "execution_count": 11,
   "metadata": {},
   "outputs": [
    {
     "data": {
      "text/html": [
       "<div>\n",
       "<style scoped>\n",
       "    .dataframe tbody tr th:only-of-type {\n",
       "        vertical-align: middle;\n",
       "    }\n",
       "\n",
       "    .dataframe tbody tr th {\n",
       "        vertical-align: top;\n",
       "    }\n",
       "\n",
       "    .dataframe thead th {\n",
       "        text-align: right;\n",
       "    }\n",
       "</style>\n",
       "<table border=\"1\" class=\"dataframe\">\n",
       "  <thead>\n",
       "    <tr style=\"text-align: right;\">\n",
       "      <th></th>\n",
       "      <th>Age</th>\n",
       "      <th>Overall</th>\n",
       "      <th>Value</th>\n",
       "      <th>Wage</th>\n",
       "      <th>Height</th>\n",
       "      <th>Weight</th>\n",
       "    </tr>\n",
       "  </thead>\n",
       "  <tbody>\n",
       "    <tr>\n",
       "      <th>count</th>\n",
       "      <td>100.000000</td>\n",
       "      <td>100.00000</td>\n",
       "      <td>100.000000</td>\n",
       "      <td>100.000000</td>\n",
       "      <td>100.000000</td>\n",
       "      <td>100.000000</td>\n",
       "    </tr>\n",
       "    <tr>\n",
       "      <th>mean</th>\n",
       "      <td>27.950000</td>\n",
       "      <td>87.29000</td>\n",
       "      <td>51.585000</td>\n",
       "      <td>195960.000000</td>\n",
       "      <td>1.820672</td>\n",
       "      <td>78.035968</td>\n",
       "    </tr>\n",
       "    <tr>\n",
       "      <th>std</th>\n",
       "      <td>3.273323</td>\n",
       "      <td>2.08552</td>\n",
       "      <td>19.621038</td>\n",
       "      <td>94888.762094</td>\n",
       "      <td>0.075804</td>\n",
       "      <td>8.265574</td>\n",
       "    </tr>\n",
       "    <tr>\n",
       "      <th>min</th>\n",
       "      <td>19.000000</td>\n",
       "      <td>85.00000</td>\n",
       "      <td>4.000000</td>\n",
       "      <td>21000.000000</td>\n",
       "      <td>1.625600</td>\n",
       "      <td>58.966960</td>\n",
       "    </tr>\n",
       "    <tr>\n",
       "      <th>25%</th>\n",
       "      <td>26.000000</td>\n",
       "      <td>86.00000</td>\n",
       "      <td>37.500000</td>\n",
       "      <td>125000.000000</td>\n",
       "      <td>1.752600</td>\n",
       "      <td>72.121128</td>\n",
       "    </tr>\n",
       "    <tr>\n",
       "      <th>50%</th>\n",
       "      <td>28.000000</td>\n",
       "      <td>87.00000</td>\n",
       "      <td>48.250000</td>\n",
       "      <td>182500.000000</td>\n",
       "      <td>1.828800</td>\n",
       "      <td>76.657048</td>\n",
       "    </tr>\n",
       "    <tr>\n",
       "      <th>75%</th>\n",
       "      <td>30.250000</td>\n",
       "      <td>88.25000</td>\n",
       "      <td>62.125000</td>\n",
       "      <td>240000.000000</td>\n",
       "      <td>1.879600</td>\n",
       "      <td>83.914520</td>\n",
       "    </tr>\n",
       "    <tr>\n",
       "      <th>max</th>\n",
       "      <td>40.000000</td>\n",
       "      <td>94.00000</td>\n",
       "      <td>118.500000</td>\n",
       "      <td>565000.000000</td>\n",
       "      <td>1.981200</td>\n",
       "      <td>96.161504</td>\n",
       "    </tr>\n",
       "  </tbody>\n",
       "</table>\n",
       "</div>"
      ],
      "text/plain": [
       "              Age    Overall       Value           Wage      Height  \\\n",
       "count  100.000000  100.00000  100.000000     100.000000  100.000000   \n",
       "mean    27.950000   87.29000   51.585000  195960.000000    1.820672   \n",
       "std      3.273323    2.08552   19.621038   94888.762094    0.075804   \n",
       "min     19.000000   85.00000    4.000000   21000.000000    1.625600   \n",
       "25%     26.000000   86.00000   37.500000  125000.000000    1.752600   \n",
       "50%     28.000000   87.00000   48.250000  182500.000000    1.828800   \n",
       "75%     30.250000   88.25000   62.125000  240000.000000    1.879600   \n",
       "max     40.000000   94.00000  118.500000  565000.000000    1.981200   \n",
       "\n",
       "           Weight  \n",
       "count  100.000000  \n",
       "mean    78.035968  \n",
       "std      8.265574  \n",
       "min     58.966960  \n",
       "25%     72.121128  \n",
       "50%     76.657048  \n",
       "75%     83.914520  \n",
       "max     96.161504  "
      ]
     },
     "execution_count": 11,
     "metadata": {},
     "output_type": "execute_result"
    }
   ],
   "source": [
    "df_fifa.describe(include=\"number\", percentiles=[0.25, 0.5, 0.75])"
   ]
  },
  {
   "cell_type": "markdown",
   "metadata": {},
   "source": [
    "Por ejemplo, también pueden obtener el número de clubes distintos y las veces que aparecen, usando la funcion **values_counts()**."
   ]
  },
  {
   "cell_type": "code",
   "execution_count": 12,
   "metadata": {},
   "outputs": [
    {
     "data": {
      "text/plain": [
       "Real Madrid                       11\n",
       "Juventus                          10\n",
       "FC Barcelona                      10\n",
       "Manchester City                   10\n",
       "FC Bayern München                  9\n",
       "Paris Saint-Germain                6\n",
       "Tottenham Hotspur                  5\n",
       "Atlético Madrid                    5\n",
       "Liverpool                          5\n",
       "Manchester United                  4\n",
       "Napoli                             4\n",
       "Inter                              4\n",
       "Chelsea                            3\n",
       "Arsenal                            3\n",
       "Lazio                              2\n",
       "Roma                               2\n",
       "Vissel Kobe                        1\n",
       "Guangzhou Evergrande Taobao FC     1\n",
       "Milan                              1\n",
       "FC Porto                           1\n",
       "Valencia CF                        1\n",
       "Borussia Dortmund                  1\n",
       "Olympique Lyonnais                 1\n",
       "Name: Club, dtype: int64"
      ]
     },
     "execution_count": 12,
     "metadata": {},
     "output_type": "execute_result"
    }
   ],
   "source": [
    "df_fifa['Club'].value_counts()"
   ]
  },
  {
   "cell_type": "markdown",
   "metadata": {},
   "source": [
    "Ahora, para concluir esta sección veamos el uso de las capacidades de **groupby** "
   ]
  },
  {
   "cell_type": "code",
   "execution_count": 13,
   "metadata": {},
   "outputs": [
    {
     "data": {
      "text/plain": [
       "Club\n",
       "Arsenal                            3\n",
       "Atlético Madrid                    5\n",
       "Borussia Dortmund                  1\n",
       "Chelsea                            3\n",
       "FC Barcelona                      10\n",
       "FC Bayern München                  9\n",
       "FC Porto                           1\n",
       "Guangzhou Evergrande Taobao FC     1\n",
       "Inter                              4\n",
       "Juventus                          10\n",
       "Lazio                              2\n",
       "Liverpool                          5\n",
       "Manchester City                   10\n",
       "Manchester United                  4\n",
       "Milan                              1\n",
       "Napoli                             4\n",
       "Olympique Lyonnais                 1\n",
       "Paris Saint-Germain                6\n",
       "Real Madrid                       11\n",
       "Roma                               2\n",
       "Tottenham Hotspur                  5\n",
       "Valencia CF                        1\n",
       "Vissel Kobe                        1\n",
       "dtype: int64"
      ]
     },
     "metadata": {},
     "output_type": "display_data"
    },
    {
     "data": {
      "text/html": [
       "<div>\n",
       "<style scoped>\n",
       "    .dataframe tbody tr th:only-of-type {\n",
       "        vertical-align: middle;\n",
       "    }\n",
       "\n",
       "    .dataframe tbody tr th {\n",
       "        vertical-align: top;\n",
       "    }\n",
       "\n",
       "    .dataframe thead th {\n",
       "        text-align: right;\n",
       "    }\n",
       "</style>\n",
       "<table border=\"1\" class=\"dataframe\">\n",
       "  <thead>\n",
       "    <tr style=\"text-align: right;\">\n",
       "      <th></th>\n",
       "      <th>Name</th>\n",
       "      <th>Age</th>\n",
       "      <th>Nationality</th>\n",
       "      <th>Overall</th>\n",
       "      <th>Club</th>\n",
       "      <th>Value</th>\n",
       "      <th>Wage</th>\n",
       "      <th>Position</th>\n",
       "      <th>Joined</th>\n",
       "      <th>Height</th>\n",
       "      <th>Weight</th>\n",
       "      <th>Release Clause</th>\n",
       "    </tr>\n",
       "    <tr>\n",
       "      <th>ID</th>\n",
       "      <th></th>\n",
       "      <th></th>\n",
       "      <th></th>\n",
       "      <th></th>\n",
       "      <th></th>\n",
       "      <th></th>\n",
       "      <th></th>\n",
       "      <th></th>\n",
       "      <th></th>\n",
       "      <th></th>\n",
       "      <th></th>\n",
       "      <th></th>\n",
       "    </tr>\n",
       "  </thead>\n",
       "  <tbody>\n",
       "    <tr>\n",
       "      <th>158023</th>\n",
       "      <td>L. Messi</td>\n",
       "      <td>31</td>\n",
       "      <td>Argentina</td>\n",
       "      <td>94</td>\n",
       "      <td>FC Barcelona</td>\n",
       "      <td>110.5</td>\n",
       "      <td>565000</td>\n",
       "      <td>RF</td>\n",
       "      <td>Jul 1, 2004</td>\n",
       "      <td>1.7018</td>\n",
       "      <td>72.121128</td>\n",
       "      <td>€226.5M</td>\n",
       "    </tr>\n",
       "    <tr>\n",
       "      <th>176580</th>\n",
       "      <td>L. Suárez</td>\n",
       "      <td>31</td>\n",
       "      <td>Uruguay</td>\n",
       "      <td>91</td>\n",
       "      <td>FC Barcelona</td>\n",
       "      <td>80.0</td>\n",
       "      <td>455000</td>\n",
       "      <td>RS</td>\n",
       "      <td>Jul 11, 2014</td>\n",
       "      <td>1.8288</td>\n",
       "      <td>86.182480</td>\n",
       "      <td>€164M</td>\n",
       "    </tr>\n",
       "    <tr>\n",
       "      <th>192448</th>\n",
       "      <td>M. ter Stegen</td>\n",
       "      <td>26</td>\n",
       "      <td>Germany</td>\n",
       "      <td>89</td>\n",
       "      <td>FC Barcelona</td>\n",
       "      <td>58.0</td>\n",
       "      <td>240000</td>\n",
       "      <td>GK</td>\n",
       "      <td>Jul 1, 2014</td>\n",
       "      <td>1.8796</td>\n",
       "      <td>84.821704</td>\n",
       "      <td>€123.3M</td>\n",
       "    </tr>\n",
       "    <tr>\n",
       "      <th>189511</th>\n",
       "      <td>Sergio Busquets</td>\n",
       "      <td>29</td>\n",
       "      <td>Spain</td>\n",
       "      <td>89</td>\n",
       "      <td>FC Barcelona</td>\n",
       "      <td>51.5</td>\n",
       "      <td>315000</td>\n",
       "      <td>CDM</td>\n",
       "      <td>Sep 1, 2008</td>\n",
       "      <td>1.8796</td>\n",
       "      <td>76.203456</td>\n",
       "      <td>€105.6M</td>\n",
       "    </tr>\n",
       "    <tr>\n",
       "      <th>189242</th>\n",
       "      <td>Coutinho</td>\n",
       "      <td>26</td>\n",
       "      <td>Brazil</td>\n",
       "      <td>88</td>\n",
       "      <td>FC Barcelona</td>\n",
       "      <td>69.5</td>\n",
       "      <td>340000</td>\n",
       "      <td>LW</td>\n",
       "      <td>Jan 6, 2018</td>\n",
       "      <td>1.7272</td>\n",
       "      <td>68.038800</td>\n",
       "      <td>€147.7M</td>\n",
       "    </tr>\n",
       "  </tbody>\n",
       "</table>\n",
       "</div>"
      ],
      "text/plain": [
       "                   Name  Age Nationality  Overall          Club  Value  \\\n",
       "ID                                                                       \n",
       "158023         L. Messi   31   Argentina       94  FC Barcelona  110.5   \n",
       "176580        L. Suárez   31     Uruguay       91  FC Barcelona   80.0   \n",
       "192448    M. ter Stegen   26     Germany       89  FC Barcelona   58.0   \n",
       "189511  Sergio Busquets   29       Spain       89  FC Barcelona   51.5   \n",
       "189242         Coutinho   26      Brazil       88  FC Barcelona   69.5   \n",
       "\n",
       "          Wage Position        Joined  Height     Weight Release Clause  \n",
       "ID                                                                       \n",
       "158023  565000       RF   Jul 1, 2004  1.7018  72.121128        €226.5M  \n",
       "176580  455000       RS  Jul 11, 2014  1.8288  86.182480          €164M  \n",
       "192448  240000       GK   Jul 1, 2014  1.8796  84.821704        €123.3M  \n",
       "189511  315000      CDM   Sep 1, 2008  1.8796  76.203456        €105.6M  \n",
       "189242  340000       LW   Jan 6, 2018  1.7272  68.038800        €147.7M  "
      ]
     },
     "execution_count": 13,
     "metadata": {},
     "output_type": "execute_result"
    }
   ],
   "source": [
    "# Creando el dataframe agrupado\n",
    "agrupado=df_fifa.groupby('Club')\n",
    "display(agrupado.size())\n",
    "agrupado.get_group('FC Barcelona').head(5)"
   ]
  },
  {
   "cell_type": "markdown",
   "metadata": {},
   "source": [
    "Agrupado por multiples columnas"
   ]
  },
  {
   "cell_type": "code",
   "execution_count": 14,
   "metadata": {},
   "outputs": [
    {
     "data": {
      "text/plain": [
       "Club                 Value\n",
       "Arsenal              43.5     1\n",
       "                     45.0     1\n",
       "                     59.0     1\n",
       "Atlético Madrid      44.0     1\n",
       "                     45.0     1\n",
       "                     50.5     1\n",
       "                     68.0     1\n",
       "                     78.0     1\n",
       "Borussia Dortmund    43.5     1\n",
       "Chelsea              35.0     1\n",
       "                     63.0     1\n",
       "                     93.0     1\n",
       "FC Barcelona         26.0     1\n",
       "                     34.0     1\n",
       "                     38.0     1\n",
       "                     46.5     1\n",
       "                     51.5     1\n",
       "                     57.0     1\n",
       "                     58.0     1\n",
       "                     69.5     1\n",
       "                     80.0     1\n",
       "                     110.5    1\n",
       "FC Bayern München    30.0     1\n",
       "                     38.0     2\n",
       "                     40.5     1\n",
       "                     45.0     1\n",
       "                     45.5     1\n",
       "                     46.0     1\n",
       "                     69.5     1\n",
       "                     77.0     1\n",
       "                             ..\n",
       "Napoli               46.5     1\n",
       "                     51.0     1\n",
       "                     62.0     1\n",
       "Olympique Lyonnais   50.0     1\n",
       "Paris Saint-Germain  4.0      1\n",
       "                     24.0     1\n",
       "                     55.0     1\n",
       "                     60.0     1\n",
       "                     81.0     1\n",
       "                     118.5    1\n",
       "Real Madrid          30.5     1\n",
       "                     43.0     1\n",
       "                     50.0     1\n",
       "                     51.0     1\n",
       "                     53.5     1\n",
       "                     54.0     1\n",
       "                     59.5     1\n",
       "                     60.0     1\n",
       "                     67.0     1\n",
       "                     73.5     1\n",
       "                     76.5     1\n",
       "Roma                 30.5     1\n",
       "                     37.5     1\n",
       "Tottenham Hotspur    34.0     1\n",
       "                     36.0     1\n",
       "                     39.0     1\n",
       "                     73.5     1\n",
       "                     83.5     1\n",
       "Valencia CF          37.0     1\n",
       "Vissel Kobe          21.5     1\n",
       "Length: 98, dtype: int64"
      ]
     },
     "execution_count": 14,
     "metadata": {},
     "output_type": "execute_result"
    }
   ],
   "source": [
    "df_fifa.groupby(['Club','Value']).size()"
   ]
  },
  {
   "cell_type": "markdown",
   "metadata": {},
   "source": [
    "Obteniendo los valores **mean** (medio), **min** (mínimo), y **max** (máximo) de la edad de los jugadores por Club."
   ]
  },
  {
   "cell_type": "code",
   "execution_count": 15,
   "metadata": {},
   "outputs": [
    {
     "data": {
      "text/html": [
       "<div>\n",
       "<style scoped>\n",
       "    .dataframe tbody tr th:only-of-type {\n",
       "        vertical-align: middle;\n",
       "    }\n",
       "\n",
       "    .dataframe tbody tr th {\n",
       "        vertical-align: top;\n",
       "    }\n",
       "\n",
       "    .dataframe thead tr th {\n",
       "        text-align: left;\n",
       "    }\n",
       "\n",
       "    .dataframe thead tr:last-of-type th {\n",
       "        text-align: right;\n",
       "    }\n",
       "</style>\n",
       "<table border=\"1\" class=\"dataframe\">\n",
       "  <thead>\n",
       "    <tr>\n",
       "      <th></th>\n",
       "      <th colspan=\"3\" halign=\"left\">Age</th>\n",
       "    </tr>\n",
       "    <tr>\n",
       "      <th></th>\n",
       "      <th>mean</th>\n",
       "      <th>min</th>\n",
       "      <th>max</th>\n",
       "    </tr>\n",
       "    <tr>\n",
       "      <th>Club</th>\n",
       "      <th></th>\n",
       "      <th></th>\n",
       "      <th></th>\n",
       "    </tr>\n",
       "  </thead>\n",
       "  <tbody>\n",
       "    <tr>\n",
       "      <th>Arsenal</th>\n",
       "      <td>28.333333</td>\n",
       "      <td>27</td>\n",
       "      <td>29</td>\n",
       "    </tr>\n",
       "    <tr>\n",
       "      <th>Atlético Madrid</th>\n",
       "      <td>26.600000</td>\n",
       "      <td>23</td>\n",
       "      <td>32</td>\n",
       "    </tr>\n",
       "    <tr>\n",
       "      <th>Borussia Dortmund</th>\n",
       "      <td>29.000000</td>\n",
       "      <td>29</td>\n",
       "      <td>29</td>\n",
       "    </tr>\n",
       "    <tr>\n",
       "      <th>Chelsea</th>\n",
       "      <td>27.333333</td>\n",
       "      <td>27</td>\n",
       "      <td>28</td>\n",
       "    </tr>\n",
       "    <tr>\n",
       "      <th>FC Barcelona</th>\n",
       "      <td>28.800000</td>\n",
       "      <td>24</td>\n",
       "      <td>31</td>\n",
       "    </tr>\n",
       "    <tr>\n",
       "      <th>FC Bayern München</th>\n",
       "      <td>27.666667</td>\n",
       "      <td>23</td>\n",
       "      <td>32</td>\n",
       "    </tr>\n",
       "    <tr>\n",
       "      <th>FC Porto</th>\n",
       "      <td>28.000000</td>\n",
       "      <td>28</td>\n",
       "      <td>28</td>\n",
       "    </tr>\n",
       "    <tr>\n",
       "      <th>Guangzhou Evergrande Taobao FC</th>\n",
       "      <td>29.000000</td>\n",
       "      <td>29</td>\n",
       "      <td>29</td>\n",
       "    </tr>\n",
       "    <tr>\n",
       "      <th>Inter</th>\n",
       "      <td>27.500000</td>\n",
       "      <td>23</td>\n",
       "      <td>33</td>\n",
       "    </tr>\n",
       "    <tr>\n",
       "      <th>Juventus</th>\n",
       "      <td>29.300000</td>\n",
       "      <td>24</td>\n",
       "      <td>33</td>\n",
       "    </tr>\n",
       "  </tbody>\n",
       "</table>\n",
       "</div>"
      ],
      "text/plain": [
       "                                      Age        \n",
       "                                     mean min max\n",
       "Club                                             \n",
       "Arsenal                         28.333333  27  29\n",
       "Atlético Madrid                 26.600000  23  32\n",
       "Borussia Dortmund               29.000000  29  29\n",
       "Chelsea                         27.333333  27  28\n",
       "FC Barcelona                    28.800000  24  31\n",
       "FC Bayern München               27.666667  23  32\n",
       "FC Porto                        28.000000  28  28\n",
       "Guangzhou Evergrande Taobao FC  29.000000  29  29\n",
       "Inter                           27.500000  23  33\n",
       "Juventus                        29.300000  24  33"
      ]
     },
     "metadata": {},
     "output_type": "display_data"
    },
    {
     "data": {
      "text/plain": [
       "None"
      ]
     },
     "metadata": {},
     "output_type": "display_data"
    }
   ],
   "source": [
    "agrupa_edad = display(df_fifa.groupby('Club').agg({'Age': ['mean', 'min', 'max']}).head(10))\n",
    "display(agrupa_edad)"
   ]
  },
  {
   "cell_type": "markdown",
   "metadata": {},
   "source": [
    "La función **unique ()** muestra los niveles o categorías únicos en el conjunto de datos."
   ]
  },
  {
   "cell_type": "code",
   "execution_count": 16,
   "metadata": {},
   "outputs": [
    {
     "data": {
      "text/plain": [
       "100"
      ]
     },
     "execution_count": 16,
     "metadata": {},
     "output_type": "execute_result"
    }
   ],
   "source": [
    "df_fifa.index.nunique()"
   ]
  },
  {
   "cell_type": "markdown",
   "metadata": {},
   "source": [
    "<div style=\"text-align: right\">\n",
    "<a href=\"#indice\"><font size=5><i class=\"fa fa-arrow-circle-up\" aria-hidden=\"true\" style=\"color:#7F000E\"></i></font></a>\n",
    "</div>\n",
    "\n",
    "\n",
    "---\n",
    "\n",
    "<a id=\"section2\"></a>\n",
    "# <font color=\"#7F000E\" size=5> 2. Series </font>\n",
    "<br>\n",
    "\n",
    "Los objetos de tipo `Series` almacenan una colección de valores _indexada_. Esta clase implementa multitud de operaciones, y ___es la forma en que se accede a columnas o filas__ individuales en objetos de tipo `DataFrame`.  "
   ]
  },
  {
   "cell_type": "code",
   "execution_count": 17,
   "metadata": {},
   "outputs": [
    {
     "data": {
      "text/plain": [
       "ID\n",
       "158023             L. Messi\n",
       "20801     Cristiano Ronaldo\n",
       "190871            Neymar Jr\n",
       "193080               De Gea\n",
       "192985         K. De Bruyne\n",
       "Name: Name, dtype: object"
      ]
     },
     "metadata": {},
     "output_type": "display_data"
    },
    {
     "name": "stdout",
     "output_type": "stream",
     "text": [
      "Tipo: <class 'pandas.core.series.Series'>\n"
     ]
    }
   ],
   "source": [
    "serie_name = df_fifa['Name']    # Accede a la columna 'Name' y la almacena en una serie\n",
    "\n",
    "display(serie_name.head(5))\n",
    "print(\"Tipo:\", type(serie_name))"
   ]
  },
  {
   "cell_type": "markdown",
   "metadata": {},
   "source": [
    "<div class=\"alert alert-block alert-info\">\n",
    "    \n",
    "<i class=\"fa fa-info-circle\" aria-hidden=\"true\"></i>\n",
    "El índice del objeto `Series` es el correspondiente en el `DataFrame`. El nombre, es el nombre de la columna.\n",
    "</div>"
   ]
  },
  {
   "cell_type": "markdown",
   "metadata": {},
   "source": [
    "<div style=\"text-align: right\">\n",
    "<a href=\"#indice\"><font size=5><i class=\"fa fa-arrow-circle-up\" aria-hidden=\"true\" style=\"color:#7F000E\"></i></font></a>\n",
    "</div>\n",
    "\n",
    "\n",
    "---\n",
    "\n",
    "<a id=\"section21\"></a> \n",
    "## <font color=\"#7F000E\">Creación de series </font>\n",
    "<br>\n",
    "\n",
    "En inmensa mayoría de las ocasiones, los objetivos de tipo `Series` se crean a partir del acceso a filas o columnas. No obstante, también es posible crear objetos de tipo `Series` directamente, y de distintos modos, a partir de estructuras estándar de _Python_ y _Numpy_.\n",
    "\n",
    "### <font color=\"#7F000E\"> Creación a partir de una colección de elementos</font>\n",
    "\n",
    "Se puede construir una serie a partir de una colección de datos. En caso de no especificar un índice, la serie se indexa internamente con enteros."
   ]
  },
  {
   "cell_type": "code",
   "execution_count": 18,
   "metadata": {},
   "outputs": [
    {
     "name": "stdout",
     "output_type": "stream",
     "text": [
      "0          Real Madrid\n",
      "1    Manchester United\n",
      "2                Milán\n",
      "dtype: object\n"
     ]
    }
   ],
   "source": [
    "equipos = ['Real Madrid', 'Manchester United', 'Milán']\n",
    "serie_equipos = pd.Series(equipos)         # Construye una serie a partir de una lista\n",
    "print(serie_equipos)                       # Por defecto, se indexa con enteros"
   ]
  },
  {
   "cell_type": "markdown",
   "metadata": {},
   "source": [
    "### <font color=\"#7F000E\"> Creación a partir de una colección y un índice </font>\n",
    "\n",
    "Es posible especificar la secuencia que contiene el índice. Éste, que por defecto es un entero, puede estar formado por datos de cualquier tipo al que se pueda aplicar una función _hash_ (función _hashable_)."
   ]
  },
  {
   "cell_type": "code",
   "execution_count": 19,
   "metadata": {},
   "outputs": [
    {
     "name": "stdout",
     "output_type": "stream",
     "text": [
      "España              Real Madrid\n",
      "Inglaterra    Manchester United\n",
      "Italia                    Milán\n",
      "dtype: object\n"
     ]
    }
   ],
   "source": [
    "serie_equipos = pd.Series(['Real Madrid', 'Manchester United', 'Milán'],  # Datos\n",
    "                          index=['España', 'Inglaterra', 'Italia'])       # Índice\n",
    "print(serie_equipos)"
   ]
  },
  {
   "cell_type": "markdown",
   "metadata": {},
   "source": [
    "### <font color=\"#7F000E\"> Creación a partir de un diccionario </font>\n",
    "\n",
    "También se puede construir la serie a partir de un diccionario. En ese caso, las claves corresponden a los índices, y los valores a los elementos de la serie. "
   ]
  },
  {
   "cell_type": "code",
   "execution_count": 20,
   "metadata": {},
   "outputs": [
    {
     "name": "stdout",
     "output_type": "stream",
     "text": [
      "España              Real Madrid\n",
      "Inglaterra    Manchester United\n",
      "Italia                    Milán\n",
      "Francia                     PSG\n",
      "Alemania          Bayern Munich\n",
      "dtype: object\n"
     ]
    }
   ],
   "source": [
    "equipos = {'España': 'Real Madrid',\n",
    "           'Inglaterra': 'Manchester United',\n",
    "           'Italia': 'Milán',\n",
    "           'Francia': 'PSG',\n",
    "           'Alemania': 'Bayern Munich' }          # Diccionario\n",
    "\n",
    "serie_equipos = pd.Series(equipos)                # Crea la serie a partir del diccionario\n",
    "print(serie_equipos)"
   ]
  },
  {
   "cell_type": "markdown",
   "metadata": {},
   "source": [
    "Si además del diccionario se pasa una lista de índices, ésta se usa para determinar qué valores del diccionario se incluyen."
   ]
  },
  {
   "cell_type": "code",
   "execution_count": 21,
   "metadata": {},
   "outputs": [
    {
     "name": "stdout",
     "output_type": "stream",
     "text": [
      "España              Real Madrid\n",
      "Inglaterra    Manchester United\n",
      "Italia                    Milán\n",
      "dtype: object\n"
     ]
    }
   ],
   "source": [
    "serie_equipos = pd.Series(equipos, index=['España', 'Inglaterra', 'Italia'])\n",
    "print(serie_equipos)"
   ]
  },
  {
   "cell_type": "markdown",
   "metadata": {},
   "source": [
    "Es posible dar un nombre a la serie, y también es posible darselo al índice. "
   ]
  },
  {
   "cell_type": "code",
   "execution_count": 22,
   "metadata": {},
   "outputs": [
    {
     "data": {
      "text/plain": [
       "País\n",
       "España              Real Madrid\n",
       "Inglaterra    Manchester United\n",
       "Italia                    Milán\n",
       "Name: Equipo, dtype: object"
      ]
     },
     "execution_count": 22,
     "metadata": {},
     "output_type": "execute_result"
    }
   ],
   "source": [
    "serie_equipos.name='Equipo'\n",
    "serie_equipos.index.name = 'País'\n",
    "serie_equipos"
   ]
  },
  {
   "cell_type": "markdown",
   "metadata": {},
   "source": [
    "<div style=\"text-align: right\">\n",
    "<a href=\"#indice\"><font size=5><i class=\"fa fa-arrow-circle-up\" aria-hidden=\"true\" style=\"color:#004D7F\"></i></font></a>\n",
    "</div>\n",
    "\n",
    "\n",
    "---\n",
    "\n",
    "<a id=\"section22\"></a> \n",
    "## <font color=\"#7F000E\">Acceso a los elementos de una serie </font>\n",
    "<br>\n",
    "\n",
    "El acceso natural a los elementos de una serie se hace mediante su índice, con `loc[índice]`. También se puede acceder acceder a los elementos mediante la posición, como en el resto de colecciones, a través de `iloc[posición]`. "
   ]
  },
  {
   "cell_type": "code",
   "execution_count": 23,
   "metadata": {},
   "outputs": [
    {
     "name": "stdout",
     "output_type": "stream",
     "text": [
      "País\n",
      "España              Real Madrid\n",
      "Inglaterra    Manchester United\n",
      "Italia                    Milán\n",
      "Name: Equipo, dtype: object \n",
      "\n",
      "Acceso mediante loc:\n",
      "Real Madrid\n",
      "\n",
      "Acceso mediante iloc:\n",
      "Manchester United\n"
     ]
    }
   ],
   "source": [
    "print(serie_equipos, '\\n')\n",
    "\n",
    "print(\"Acceso mediante loc:\")\n",
    "print(serie_equipos.loc['España'])\n",
    "\n",
    "print(\"\\nAcceso mediante iloc:\")\n",
    "print(serie_equipos.iloc[1])"
   ]
  },
  {
   "cell_type": "markdown",
   "metadata": {},
   "source": [
    "También es posible acceder a los elementos mediante el operador `[]`, que llama internamente al método correspondiente (`loc` o `iloc`) en función del argumento. "
   ]
  },
  {
   "cell_type": "code",
   "execution_count": 24,
   "metadata": {},
   "outputs": [
    {
     "name": "stdout",
     "output_type": "stream",
     "text": [
      "\n",
      "Acceso mediante []:\n",
      "Real Madrid\n",
      "Manchester United\n"
     ]
    }
   ],
   "source": [
    "print(\"\\nAcceso mediante []:\")\n",
    "print(serie_equipos['España'])            # Llama a loc\n",
    "print(serie_equipos[1])                   # Llama a iloc"
   ]
  },
  {
   "cell_type": "markdown",
   "metadata": {},
   "source": [
    "<div class=\"alert alert-block alert-danger\">\n",
    "    \n",
    "<i class=\"fa fa-exclamation-triangle\" aria-hidden=\"true\"></i> __Importante__: Cuando el índice de la serie es un entero, el operador `[]` llama a `loc[]`, es decir, usa el entero como como índice, y no como posición. \n",
    "</div>"
   ]
  },
  {
   "cell_type": "code",
   "execution_count": 25,
   "metadata": {},
   "outputs": [
    {
     "name": "stdout",
     "output_type": "stream",
     "text": [
      "Este ejemplo muestra la situación que se da cuando el índice es un entero: \n",
      "\n",
      "13          Real Madrid\n",
      "3     Manchester United\n",
      "7                 Milán\n",
      "0                   PSG\n",
      "5         Bayern Munich\n",
      "dtype: object\n",
      "\n",
      "Acceso mediante loc:\n",
      "Manchester United\n",
      "\n",
      "Acceso mediante iloc:\n",
      "PSG\n",
      "\n",
      "Acceso mediante []:\n",
      "Manchester United\n"
     ]
    }
   ],
   "source": [
    "print(\"Este ejemplo muestra la situación que se da cuando el índice es un entero: \\n\")\n",
    "\n",
    "equipos = {13: 'Real Madrid',\n",
    "           3: 'Manchester United',\n",
    "           7: 'Milán',\n",
    "           0: 'PSG',\n",
    "           5: 'Bayern Munich'}\n",
    "\n",
    "s = pd.Series(equipos)\n",
    "print(s)\n",
    "\n",
    "print(\"\\nAcceso mediante loc:\")\n",
    "print(s.loc[3])            # Imprime el elemento de índice 3.\n",
    "\n",
    "print(\"\\nAcceso mediante iloc:\")\n",
    "print(s.iloc[3])           # Imprime el elemento en la posición 3.\n",
    "\n",
    "print(\"\\nAcceso mediante []:\")\n",
    "print(s[3])                # En este caso, llama a loc[]\n",
    "#print(s[1])               # Esta sentencia daría error, porque no hay ningún elemento con índice 1."
   ]
  },
  {
   "cell_type": "markdown",
   "metadata": {},
   "source": [
    "Tanto la función `loc` como `iloc` admiten el uso de __colecciones__ como argumentos. Es decir, permiten acceder a varios elementos de la serie a la vez."
   ]
  },
  {
   "cell_type": "code",
   "execution_count": 26,
   "metadata": {},
   "outputs": [
    {
     "name": "stdout",
     "output_type": "stream",
     "text": [
      "España              Real Madrid\n",
      "Inglaterra    Manchester United\n",
      "Italia                    Milán\n",
      "Francia                     PSG\n",
      "Alemania          Bayern Munich\n",
      "dtype: object \n",
      "\n",
      "España     Real Madrid\n",
      "Italia           Milán\n",
      "Francia            PSG\n",
      "dtype: object \n",
      "\n",
      "España              Real Madrid\n",
      "Inglaterra    Manchester United\n",
      "Italia                    Milán\n",
      "dtype: object\n"
     ]
    }
   ],
   "source": [
    "equipos = {'España': 'Real Madrid',\n",
    "           'Inglaterra': 'Manchester United',\n",
    "           'Italia': 'Milán',\n",
    "           'Francia': 'PSG',\n",
    "           'Alemania': 'Bayern Munich'}\n",
    "serie_equipos = pd.Series(equipos)\n",
    "print(serie_equipos, '\\n')\n",
    "\n",
    "print(serie_equipos.loc[['España', 'Italia', 'Francia']],'\\n')\n",
    "print(serie_equipos.iloc[[0,1,2]])"
   ]
  },
  {
   "cell_type": "markdown",
   "metadata": {},
   "source": [
    "<div class=\"alert alert-block alert-warning\">\n",
    "\n",
    "<i class=\"fa fa-exclamation-circle\" aria-hidden=\"true\"></i>\n",
    "__Importante__: Tanto `loc` como `iloc` toman ___un solo argumento___, que _ha de ser una colección_ (no varios datos).\n",
    "</div>\n",
    "\n",
    "Las funciones `at` e `iat` permiten acceder a elementos a través del índice o posición, respectivamente. A diferencia de `loc` e `iloc`,  no admiten colecciones como argumentos. Sin embargo, son más eficientes. "
   ]
  },
  {
   "cell_type": "code",
   "execution_count": 27,
   "metadata": {},
   "outputs": [
    {
     "name": "stdout",
     "output_type": "stream",
     "text": [
      "Real Madrid\n",
      "Milán\n"
     ]
    }
   ],
   "source": [
    "print(serie_equipos.at['España'])\n",
    "print(serie_equipos.iat[2])"
   ]
  },
  {
   "cell_type": "markdown",
   "metadata": {},
   "source": [
    "### <font color=\"#7F000E\"> _Slicing_ </font>\n",
    "\n",
    "El acceso a los elementos de una serie también se puede hacer mediante _slicing_, tanto en el índice como en las posiciones.\n",
    "\n"
   ]
  },
  {
   "cell_type": "code",
   "execution_count": 28,
   "metadata": {},
   "outputs": [
    {
     "name": "stdout",
     "output_type": "stream",
     "text": [
      "España              Real Madrid\n",
      "Inglaterra    Manchester United\n",
      "Italia                    Milán\n",
      "Francia                     PSG\n",
      "Alemania          Bayern Munich\n",
      "dtype: object \n",
      "\n",
      "España              Real Madrid\n",
      "Inglaterra    Manchester United\n",
      "Italia                    Milán\n",
      "dtype: object \n",
      "\n",
      "España              Real Madrid\n",
      "Inglaterra    Manchester United\n",
      "Italia                    Milán\n",
      "Francia                     PSG\n",
      "dtype: object\n"
     ]
    }
   ],
   "source": [
    "equipos = {'España': 'Real Madrid',\n",
    "           'Inglaterra': 'Manchester United',\n",
    "           'Italia': 'Milán',\n",
    "           'Francia': 'PSG',\n",
    "           'Alemania': 'Bayern Munich'}\n",
    "serie_equipos = pd.Series(equipos)\n",
    "print(serie_equipos,'\\n')\n",
    "\n",
    "print(serie_equipos.iloc[0:3],'\\n')\n",
    "print(serie_equipos.loc['España':'Francia'])"
   ]
  },
  {
   "cell_type": "markdown",
   "metadata": {},
   "source": [
    "### <font color=\"#7F000E\"> Indexación mediante valores booleanos </font>\n",
    "\n",
    "Por último, es posible acceder a las series mediante una colección de datos de tipo booleano."
   ]
  },
  {
   "cell_type": "code",
   "execution_count": 29,
   "metadata": {},
   "outputs": [
    {
     "name": "stdout",
     "output_type": "stream",
     "text": [
      "España              Real Madrid\n",
      "Inglaterra    Manchester United\n",
      "Italia                    Milán\n",
      "Francia                     PSG\n",
      "Alemania          Bayern Munich\n",
      "dtype: object \n",
      "\n"
     ]
    },
    {
     "data": {
      "text/plain": [
       "España        Real Madrid\n",
       "Francia               PSG\n",
       "Alemania    Bayern Munich\n",
       "dtype: object"
      ]
     },
     "execution_count": 29,
     "metadata": {},
     "output_type": "execute_result"
    }
   ],
   "source": [
    "equipos = {'España': 'Real Madrid',\n",
    "           'Inglaterra': 'Manchester United',\n",
    "           'Italia': 'Milán',\n",
    "           'Francia': 'PSG',\n",
    "           'Alemania': 'Bayern Munich'}\n",
    "\n",
    "serie_equipos = pd.Series(equipos)\n",
    "print(serie_equipos,'\\n')\n",
    "\n",
    "serie_equipos[[True,False,False,True,True]]"
   ]
  },
  {
   "cell_type": "markdown",
   "metadata": {},
   "source": [
    "El uso más común de esta funcionalidad es el filtrado de elementos según una condición. "
   ]
  },
  {
   "cell_type": "code",
   "execution_count": 30,
   "metadata": {},
   "outputs": [
    {
     "name": "stdout",
     "output_type": "stream",
     "text": [
      "España        1\n",
      "Inglaterra    1\n",
      "Italia        4\n",
      "Francia       1\n",
      "Alemania      4\n",
      "dtype: int64 \n",
      "\n",
      "Italia      4\n",
      "Alemania    4\n",
      "dtype: int64\n"
     ]
    }
   ],
   "source": [
    "import numpy as np\n",
    "\n",
    "mundiales = {'España': 1 ,\n",
    "             'Inglaterra': 1,\n",
    "             'Italia': 4,\n",
    "             'Francia': 1,\n",
    "             'Alemania': 4}\n",
    "serie_mundiales = pd.Series(mundiales)\n",
    "print(serie_mundiales,'\\n')\n",
    "\n",
    "print(serie_mundiales[serie_mundiales>1])         # Accede a los elementos con ese índice de valores booleanos."
   ]
  },
  {
   "cell_type": "markdown",
   "metadata": {},
   "source": [
    "En realidad, la condición genera otra serie, que es utilizada para el acceso."
   ]
  },
  {
   "cell_type": "code",
   "execution_count": 31,
   "metadata": {},
   "outputs": [
    {
     "name": "stdout",
     "output_type": "stream",
     "text": [
      "España        False\n",
      "Inglaterra    False\n",
      "Italia         True\n",
      "Francia       False\n",
      "Alemania       True\n",
      "dtype: bool \n",
      "\n"
     ]
    }
   ],
   "source": [
    "print(serie_mundiales>1,'\\n')                     # Genera una serie de valores booleanos"
   ]
  },
  {
   "cell_type": "markdown",
   "metadata": {},
   "source": [
    "Se puede hacer un acceso con condiciones más complejas, siempre y cuando éstas den lugar a un conjunto de valores booleanos."
   ]
  },
  {
   "cell_type": "code",
   "execution_count": 32,
   "metadata": {},
   "outputs": [
    {
     "name": "stdout",
     "output_type": "stream",
     "text": [
      "[True, False, True, False, True] \n",
      "\n"
     ]
    },
    {
     "data": {
      "text/plain": [
       "España        Real Madrid\n",
       "Italia              Milán\n",
       "Alemania    Bayern Munich\n",
       "dtype: object"
      ]
     },
     "execution_count": 32,
     "metadata": {},
     "output_type": "execute_result"
    }
   ],
   "source": [
    "champions = {'Real Madrid':13, 'Manchester':3, 'Milán':7, 'Bayern Munich':5, 'PSG': 0}\n",
    "\n",
    "equipos = {'España': 'Real Madrid',\n",
    "           'Inglaterra': 'Manchester',\n",
    "           'Italia': 'Milán',\n",
    "           'Francia': 'PSG',\n",
    "           'Alemania': 'Bayern Munich'}\n",
    "\n",
    "serie_equipos = pd.Series(equipos)\n",
    "\n",
    "# Esta línea de código mira para cada elemento de la serie, si el número de champions es mayor que 5.\n",
    "print(list(map(lambda equipo: champions[equipo]>=5, serie_equipos)),'\\n')\n",
    "\n",
    "# Se puede utilizarla expresión anterior para obtener los equipos.\n",
    "serie_equipos[list(map(lambda equipo: champions[equipo]>=5, serie_equipos))]"
   ]
  },
  {
   "cell_type": "markdown",
   "metadata": {},
   "source": [
    "### <font color=\"#7F000E\">  Acceso para escritura  </font>\n",
    "\n",
    "\n",
    "\n",
    "Se hace de manera similar. Es posible escribir varias posiciones a la vez."
   ]
  },
  {
   "cell_type": "code",
   "execution_count": 33,
   "metadata": {},
   "outputs": [
    {
     "name": "stdout",
     "output_type": "stream",
     "text": [
      "España              Real Madrid\n",
      "Inglaterra    Manchester United\n",
      "Italia                    Milán\n",
      "Francia                     PSG\n",
      "Alemania          Bayern Munich\n",
      "dtype: object\n",
      "\n",
      "España        Atlético de Madrid\n",
      "Inglaterra               Chelsea\n",
      "Italia                  Juventus\n",
      "Francia                   Mónaco\n",
      "Alemania        Borussia Dormund\n",
      "dtype: object\n"
     ]
    }
   ],
   "source": [
    "equipos = {'España': 'Real Madrid',\n",
    "           'Inglaterra': 'Manchester United',\n",
    "           'Italia': 'Milán',\n",
    "           'Francia': 'PSG',\n",
    "           'Alemania': 'Bayern Munich'}\n",
    "serie_equipos = pd.Series(equipos)\n",
    "print(serie_equipos)\n",
    "print()\n",
    "\n",
    "serie_equipos.loc['Alemania'] = 'Borussia Dormund'  \n",
    "serie_equipos.iloc[1] = 'Chelsea'                    \n",
    "serie_equipos['España']='Atlético de Madrid'\n",
    "serie_equipos[[2,3]]=['Juventus', 'Mónaco']\n",
    "# serie_equipos[[2,3]]=['Juventus', 'Mónaco', 'Marsella'] # Error por la diferencia de tamaños\n",
    "print(serie_equipos)"
   ]
  },
  {
   "cell_type": "markdown",
   "metadata": {},
   "source": [
    "Si se asigna un valor a un nuevo índice, se añade un nuevo elemento a la serie."
   ]
  },
  {
   "cell_type": "code",
   "execution_count": 34,
   "metadata": {},
   "outputs": [
    {
     "name": "stdout",
     "output_type": "stream",
     "text": [
      "España        Atlético de Madrid\n",
      "Inglaterra               Chelsea\n",
      "Italia                  Juventus\n",
      "Francia                   Mónaco\n",
      "Alemania        Borussia Dormund\n",
      "Portugal                 Benfica\n",
      "dtype: object\n"
     ]
    }
   ],
   "source": [
    "serie_equipos['Portugal']='Benfica'            \n",
    "print(serie_equipos)"
   ]
  },
  {
   "cell_type": "markdown",
   "metadata": {},
   "source": [
    "### <font color=\"#7F000E\">  Acceso a índices y valores </font>\n",
    "\n",
    "Es posible acceder al índice y lista de valores contenidos en la serie por separado."
   ]
  },
  {
   "cell_type": "code",
   "execution_count": 35,
   "metadata": {},
   "outputs": [
    {
     "name": "stdout",
     "output_type": "stream",
     "text": [
      "['España' 'Inglaterra' 'Italia' 'Francia' 'Alemania' 'Portugal']\n",
      "España\n",
      "\n",
      "['Atlético de Madrid' 'Chelsea' 'Juventus' 'Mónaco' 'Borussia Dormund'\n",
      " 'Benfica']\n",
      "Atlético de Madrid\n",
      "\n"
     ]
    }
   ],
   "source": [
    "print(serie_equipos.index.values)\n",
    "print(serie_equipos.index.values[0])\n",
    "print()\n",
    "\n",
    "print(serie_equipos.values)\n",
    "print(serie_equipos.values[0])\n",
    "print()\n",
    "\n",
    "#print(type(serie_equipos.index)) "
   ]
  },
  {
   "cell_type": "markdown",
   "metadata": {},
   "source": [
    "<div style=\"text-align: right\">\n",
    "<a href=\"#indice\"><font size=5><i class=\"fa fa-arrow-circle-up\" aria-hidden=\"true\" style=\"color:#7F000E\"></i></font></a>\n",
    "</div>\n",
    "\n",
    "---\n",
    "\n",
    "<a id=\"section3\"></a>\n",
    "# <font color=\"#7F000E\" size=5> 3. Operaciones y funciones sobre series </font>\n",
    "<br>\n",
    "\n",
    "La clase `Series` implementa una gran cantidad de operadores y funciones. Las de uso más general se organizan y describen a continuación. Para información completa, se puede consultar la [API de la clase Series](https://pandas.pydata.org/pandas-docs/stable/reference/series.html).\n",
    "\n",
    "<a id=\"section31\"></a> \n",
    "## <font color=\"#7F000E\">Operadores binarios </font>\n",
    "\n",
    "Al igual que con los arrays _Numpy_, es posible llevar a cabo operaciones a nivel de elemento entre series, o entre series y escalares. Éstas pueden hacerse mediante operadores o funciones. "
   ]
  },
  {
   "cell_type": "code",
   "execution_count": 36,
   "metadata": {},
   "outputs": [
    {
     "name": "stdout",
     "output_type": "stream",
     "text": [
      "Real Madrid          14\n",
      "Manchester United     4\n",
      "Milán                 7\n",
      "Bayern Munich         6\n",
      "PSG                   0\n",
      "dtype: int64 \n",
      "\n",
      "Real Madrid          14\n",
      "Manchester United     4\n",
      "Milán                 7\n",
      "Bayern Munich         6\n",
      "PSG                   0\n",
      "dtype: int64 \n",
      "\n",
      "Real Madrid           True\n",
      "Manchester United    False\n",
      "Milán                 True\n",
      "Bayern Munich         True\n",
      "PSG                  False\n",
      "dtype: bool\n"
     ]
    }
   ],
   "source": [
    "champions = {'Real Madrid':12, 'Manchester United':3, 'Milán':7, 'Bayern Munich':5, 'PSG': 0}\n",
    "serie_champions = pd.Series(champions)\n",
    "\n",
    "europa_league = {'Real Madrid':2, 'Manchester United':1, 'Milán':0, 'Bayern Munich':1, 'PSG': 0}\n",
    "serie_europa_league = pd.Series(europa_league)\n",
    "\n",
    "# Operación entre series\n",
    "print(serie_champions+serie_europa_league,'\\n')      # Operador\n",
    "print(serie_champions.add(serie_europa_league),'\\n') # Función\n",
    "\n",
    "# Operación entre serie y valor escalar\n",
    "print(serie_champions>3)"
   ]
  },
  {
   "cell_type": "markdown",
   "metadata": {},
   "source": [
    "Las operaciones que involucran varias series se llevan a cabo entre __elementos con el mismo índice__. "
   ]
  },
  {
   "cell_type": "markdown",
   "metadata": {},
   "source": [
    "<div class=\"alert alert-block alert-warning\">\n",
    "    \n",
    "<i class=\"fa fa-exclamation-circle\" aria-hidden=\"true\"></i>\n",
    "__Importante__: Cuando uno de los elementos no aparece en alguna de las series implicadas, el resultado es NaN.\n",
    "</div>"
   ]
  },
  {
   "cell_type": "code",
   "execution_count": 37,
   "metadata": {},
   "outputs": [
    {
     "name": "stdout",
     "output_type": "stream",
     "text": [
      "Atlético de Madrid     NaN\n",
      "Bayern Munich          6.0\n",
      "Manchester United      4.0\n",
      "Milán                  7.0\n",
      "PSG                    0.0\n",
      "Real Madrid           14.0\n",
      "dtype: float64\n"
     ]
    }
   ],
   "source": [
    "europa_league = {'Real Madrid':2, 'Manchester United':1, 'Milán':0, \n",
    "                 'Bayern Munich':1, 'PSG': 0, 'Atlético de Madrid':2}\n",
    "serie_europa_league = pd.Series(europa_league)\n",
    "\n",
    "print(serie_champions+serie_europa_league) "
   ]
  },
  {
   "cell_type": "markdown",
   "metadata": {},
   "source": [
    "Es posible definir funciones que se implementen a partir de estos operadores u otros definidos para actuar sobre los elementos de las series, y aplicarlas sobre las series. "
   ]
  },
  {
   "cell_type": "code",
   "execution_count": 38,
   "metadata": {},
   "outputs": [
    {
     "data": {
      "text/plain": [
       "Real Madrid          2.166667\n",
       "Manchester United    0.500000\n",
       "Milán                1.166667\n",
       "Bayern Munich        0.833333\n",
       "PSG                  0.000000\n",
       "dtype: float64"
      ]
     },
     "execution_count": 38,
     "metadata": {},
     "output_type": "execute_result"
    }
   ],
   "source": [
    "def titulos_decada(titulos):\n",
    "    ''' Numero medio de títulos ganados por cada década de competición'''\n",
    "    return titulos/6.0\n",
    "\n",
    "champions = {'Real Madrid':13, 'Manchester United':3, 'Milán':7, 'Bayern Munich':5, 'PSG': 0}\n",
    "serie_champions = pd.Series(champions)\n",
    "\n",
    "titulos_decada(serie_champions) # Se aplica la función sobre cada elemento de la serie. "
   ]
  },
  {
   "cell_type": "markdown",
   "metadata": {},
   "source": [
    "<div class=\"alert alert-block alert-danger\">\n",
    "\n",
    "<i class=\"fa fa-exclamation-triangle\" aria-hidden=\"true\"></i>\n",
    "Cuando la función u operador no trabaja a nivel de elemento, el comportamiento es inesperado.\n",
    "</div>"
   ]
  },
  {
   "cell_type": "code",
   "execution_count": 39,
   "metadata": {},
   "outputs": [
    {
     "data": {
      "text/plain": [
       "'Real Madrid          13\\nManchester United     3\\nMilán                 7\\nBayern Munich         5\\nPSG                   0\\ndtype: int64 títulos'"
      ]
     },
     "execution_count": 39,
     "metadata": {},
     "output_type": "execute_result"
    }
   ],
   "source": [
    "def titulos_str(titulos):\n",
    "    return str(titulos)+\" títulos\" # No se convierte a String cada elemento, sino la serie entera\n",
    "\n",
    "titulos_str(serie_champions)       # Se aplica la función sobre cada elemento de la serie. "
   ]
  },
  {
   "cell_type": "markdown",
   "metadata": {},
   "source": [
    "<div style=\"text-align: right\">\n",
    "<a href=\"#indice\"><font size=5><i class=\"fa fa-arrow-circle-up\" aria-hidden=\"true\" style=\"color:#7F000E\"></i></font></a>\n",
    "</div>\n",
    "\n",
    "---\n",
    "\n",
    "<a id=\"section32\"></a> \n",
    "## <font color=\"#7F000E\" face=\"monospace\">apply() y map()</font>\n",
    "<br>\n",
    "\n",
    "Las funciones `apply()`  y `map()` permiten _aplicar_ una función a cada elemento de una serie. Como resultado de su aplicación, se genera otra serie. \n",
    "\n",
    "\n",
    "<div class=\"alert alert-block alert-info\">\n",
    "    \n",
    "<i class=\"fa fa-info-circle\" aria-hidden=\"true\"></i>\n",
    "**Nota**: Estas funciones se utilizan de manera muy frecuente, ya permiten utilizar ___cualquier___ función para transformar los valores de la serie. Por otra parte, y __en el caso de Series__ (veremos más adelante que estas funciones también se aplican a _DataFrames_) las diferencias entre ambas son sutiles, y prácticamente son intercambiables. La función `map` admite también diccionarios o _Series_. Por otra parte, `apply` se usa solo con funciones, generalmente más complejas. \n",
    "</div>"
   ]
  },
  {
   "cell_type": "code",
   "execution_count": 40,
   "metadata": {},
   "outputs": [
    {
     "data": {
      "text/plain": [
       "España        14\n",
       "Inglaterra     4\n",
       "Italia         7\n",
       "Francia        0\n",
       "Alemania       6\n",
       "dtype: int64"
      ]
     },
     "execution_count": 40,
     "metadata": {},
     "output_type": "execute_result"
    }
   ],
   "source": [
    "champions = {'Real Madrid':12, 'Manchester United':3, 'Milán':7, 'Bayern Munich':5, 'PSG': 0}\n",
    "europa_league = {'Real Madrid':2, 'Manchester United':1, 'Milán':0, 'Bayern Munich':1, 'PSG': 0}\n",
    "\n",
    "# Ahora solamente se dispone de una serie que se indexa por países. \n",
    "equipos = {'España': 'Real Madrid',\n",
    "           'Inglaterra': 'Manchester United',\n",
    "           'Italia': 'Milán',\n",
    "           'Francia': 'PSG',\n",
    "           'Alemania': 'Bayern Munich'}\n",
    "serie_equipos = pd.Series(equipos)\n",
    "\n",
    "def copas_equipo(equipo):                                        # Utilizamos get en lugar de [] en el acceso a los\n",
    "    return champions.get(equipo,0)+europa_league.get(equipo,0)   # diccionarios para poder devolver un valor por\n",
    "                                                                 # defecto (0) si el equipo no existe. \n",
    "serie_equipos.apply(copas_equipo)"
   ]
  },
  {
   "cell_type": "markdown",
   "metadata": {},
   "source": [
    "Es muy frecuente utilizar funciones `lambda` junto con `apply` o `map`."
   ]
  },
  {
   "cell_type": "code",
   "execution_count": 41,
   "metadata": {},
   "outputs": [
    {
     "data": {
      "text/plain": [
       "España        14\n",
       "Inglaterra     4\n",
       "Italia         7\n",
       "Francia        0\n",
       "Alemania       6\n",
       "dtype: int64"
      ]
     },
     "execution_count": 41,
     "metadata": {},
     "output_type": "execute_result"
    }
   ],
   "source": [
    "serie_equipos.map(lambda equipo: champions.get(equipo,0)+europa_league.get(equipo,0))"
   ]
  },
  {
   "cell_type": "markdown",
   "metadata": {},
   "source": [
    "<div class=\"alert alert-block alert-info\">\n",
    "\n",
    "<i class=\"fa fa-info-circle\" aria-hidden=\"true\"></i>\n",
    "**Nota**: Las funciones `lambda` se usan por agilidad y claridad en el código. No obstante, las funciones estándar son ___más eficientes___.\n",
    "</div>"
   ]
  },
  {
   "cell_type": "markdown",
   "metadata": {},
   "source": [
    "<div style=\"text-align: right\">\n",
    "<a href=\"#indice\"><font size=5><i class=\"fa fa-arrow-circle-up\" aria-hidden=\"true\" style=\"color:#7F000E\"></i></font></a>\n",
    "</div>\n",
    "\n",
    "---\n",
    "\n",
    "\n",
    "<a id=\"section33\"></a> \n",
    "## <font color=\"#7F000E\">Operaciones sobre Strings </font>\n",
    "<br>\n",
    "\n",
    "_Pandas_ implementa un conjunto de operaciones para el manejo de series de Strings, y que se aplican a nivel de elemento. Muchas de estas funciones corresponden con las equivalentes en las librerías de _Python_. El listado completo de funciones puede encontrarse en la sección correspondiente de la [API](https://pandas.pydata.org/pandas-docs/stable/reference/series.html#accessors)."
   ]
  },
  {
   "cell_type": "code",
   "execution_count": 42,
   "metadata": {},
   "outputs": [
    {
     "name": "stdout",
     "output_type": "stream",
     "text": [
      "España          REAL MADRID\n",
      "Inglaterra       MANCHESTER\n",
      "Italia                MILÁN\n",
      "Francia                 PSG\n",
      "Alemania      BAYERN MUNICH\n",
      "dtype: object \n",
      "\n",
      "España          Real madrid\n",
      "Inglaterra       Manchester\n",
      "Italia                Milán\n",
      "Francia                 Psg\n",
      "Alemania      Bayern munich\n",
      "dtype: object\n"
     ]
    }
   ],
   "source": [
    "equipos = {'España': 'Real Madrid',\n",
    "           'Inglaterra': 'Manchester',\n",
    "           'Italia': 'Milán',\n",
    "           'Francia': 'PSG',\n",
    "           'Alemania': 'Bayern Munich'}\n",
    "serie_equipos = pd.Series(equipos)\n",
    "\n",
    "# Pasa a mayúsculas cada elemento de la serie. \n",
    "serie_equipos = serie_equipos.str.upper()\n",
    "print(serie_equipos,'\\n')\n",
    "\n",
    "# Ahora deja solo cada inicial en mayúscula.\n",
    "serie_equipos = serie_equipos.str.capitalize()\n",
    "print(serie_equipos)"
   ]
  },
  {
   "cell_type": "markdown",
   "metadata": {},
   "source": [
    "Estas funcionalidades se pueden reproducir también con `apply`, pero se recomiendan los métodos implementados en `Series` por cuestiones de eficiencia."
   ]
  },
  {
   "cell_type": "code",
   "execution_count": 43,
   "metadata": {},
   "outputs": [
    {
     "name": "stdout",
     "output_type": "stream",
     "text": [
      "España          REAL MADRID\n",
      "Inglaterra       MANCHESTER\n",
      "Italia                MILÁN\n",
      "Francia                 PSG\n",
      "Alemania      BAYERN MUNICH\n",
      "dtype: object\n"
     ]
    }
   ],
   "source": [
    "print(serie_equipos.apply(str.upper)) "
   ]
  },
  {
   "cell_type": "markdown",
   "metadata": {},
   "source": [
    "<div style=\"text-align: right\">\n",
    "<a href=\"#indice\"><font size=5><i class=\"fa fa-arrow-circle-up\" aria-hidden=\"true\" style=\"color:#004D7F\"></i></font></a>\n",
    "</div>\n",
    "\n",
    "---\n",
    "\n",
    "<a id=\"section34\"></a> \n",
    "## <font color=\"#7F000E\">Descripción y resumen </font>\n",
    "<br>\n",
    "\n",
    "Los objetos de tipo `Series` implementan también una gran cantidad de funciones que actúan sobre los elementos como un conjunto (no uno a uno). Algunas de ellas permiten obtener algunos datos de interés sobre la serie. El siguiente fragmento de código contiene ejemplos de llamadas a algunas de ellas. El listado completo puede consultarse en la sección correspondiente de la [API](https://pandas.pydata.org/pandas-docs/stable/reference/series.html#computations-descriptive-stats)."
   ]
  },
  {
   "cell_type": "code",
   "execution_count": 44,
   "metadata": {},
   "outputs": [
    {
     "name": "stdout",
     "output_type": "stream",
     "text": [
      "Numero de elementos:  5\n",
      "Suma de los valores:  28\n",
      "Serie acumulada de valores:\n",
      " Real Madrid          13\n",
      "Manchester United    16\n",
      "Milán                23\n",
      "Bayern Munich        28\n",
      "PSG                  28\n",
      "dtype: int64\n",
      "\n",
      "Índice del máximo valor:  Real Madrid\n",
      "Máximo valor:  13\n",
      "Mínimo valor acumulado:  Real Madrid          13\n",
      "Manchester United     3\n",
      "Milán                 3\n",
      "Bayern Munich         3\n",
      "PSG                   0\n",
      "dtype: int64\n",
      "\n",
      "Media:  5.6\n",
      "Desviación estándar:  4.878524367060187\n",
      "2 mayores valores:  Real Madrid    13\n",
      "Milán           7\n",
      "dtype: int64\n",
      "\n",
      "Cambio en porcentaje:  Real Madrid               NaN\n",
      "Manchester United   -0.769231\n",
      "Milán                1.333333\n",
      "Bayern Munich       -0.285714\n",
      "PSG                 -1.000000\n",
      "dtype: float64\n"
     ]
    }
   ],
   "source": [
    "champions = {'Real Madrid':13, 'Manchester United':3, 'Milán':7, 'Bayern Munich':5, 'PSG': 0}\n",
    "serie_champions = pd.Series(champions)\n",
    "\n",
    "print(\"Numero de elementos: \",serie_champions.count())                   \n",
    "print(\"Suma de los valores: \",serie_champions.sum())    \n",
    "print(\"Serie acumulada de valores:\\n\",serie_champions.cumsum())  \n",
    "\n",
    "print(\"\\nÍndice del máximo valor: \",serie_champions.idxmax())     \n",
    "print(\"Máximo valor: \",serie_champions.max())  \n",
    "print(\"Mínimo valor acumulado: \",serie_champions.cummin()) \n",
    "\n",
    "print(\"\\nMedia: \",serie_champions.mean())                      \n",
    "print(\"Desviación estándar: \", serie_champions.std())                      \n",
    "print(\"2 mayores valores: \",serie_champions.nlargest(2))  \n",
    "\n",
    "print(\"\\nCambio en porcentaje: \", serie_champions.pct_change())"
   ]
  },
  {
   "cell_type": "markdown",
   "metadata": {},
   "source": [
    "La función `describe` devuelve un resumen descriptivo de los datos. Admite algunos parámetros, como por ejemplo los percentiles. "
   ]
  },
  {
   "cell_type": "code",
   "execution_count": 45,
   "metadata": {},
   "outputs": [
    {
     "name": "stdout",
     "output_type": "stream",
     "text": [
      "Serie con valores numéricos:\n",
      "count     5.000000\n",
      "mean      5.600000\n",
      "std       4.878524\n",
      "min       0.000000\n",
      "20%       2.400000\n",
      "40%       4.200000\n",
      "50%       5.000000\n",
      "60%       5.800000\n",
      "80%       8.200000\n",
      "max      13.000000\n",
      "dtype: float64 \n",
      "\n",
      "Serie con valores no numéricos:\n",
      "count              5\n",
      "unique             5\n",
      "top       Manchester\n",
      "freq               1\n",
      "dtype: object \n",
      "\n"
     ]
    }
   ],
   "source": [
    "equipos = {'España': 'Real Madrid', 'Inglaterra': 'Manchester', 'Italia': 'Milán','Francia': 'PSG', 'Alemania': 'Bayern Munich'}\n",
    "serie_equipos = pd.Series(equipos)\n",
    "\n",
    "champions = {'Real Madrid':13, 'Manchester United':3, 'Milán':7, 'Bayern Munich':5, 'PSG': 0}\n",
    "serie_champions = pd.Series(champions)\n",
    "\n",
    "print(\"Serie con valores numéricos:\")\n",
    "print(serie_champions.describe(percentiles=[0.2,0.4,0.6,0.8]),'\\n')     # Resumen de los valores (datos numéricos) \n",
    "\n",
    "print(\"Serie con valores no numéricos:\")\n",
    "print(serie_equipos.describe(),'\\n')                                    # Resumen de los valores (datos no numéricos)"
   ]
  },
  {
   "cell_type": "markdown",
   "metadata": {},
   "source": [
    "Mediante la función `unique()` es posible determinar qué valores aparecen en la serie. Esta funcionalidad es especialmente  útil cuando los valores son categóricos."
   ]
  },
  {
   "cell_type": "code",
   "execution_count": 46,
   "metadata": {},
   "outputs": [
    {
     "name": "stdout",
     "output_type": "stream",
     "text": [
      "Real Madrid           2\n",
      "Manchester United     1\n",
      "Milán                 0\n",
      "Bayern Munich         1\n",
      "PSG                   0\n",
      "Atlético de Madrid    2\n",
      "dtype: int64 \n",
      "\n",
      "Valores distintos:  [2 1 0]\n",
      "Número de valores distintos: 3\n",
      "Veces que aparece cada valor:\n",
      " 2    2\n",
      "1    2\n",
      "0    2\n",
      "dtype: int64\n"
     ]
    }
   ],
   "source": [
    "europa_league = {'Real Madrid':2, 'Manchester United':1, 'Milán':0, \n",
    "                 'Bayern Munich':1, 'PSG': 0, 'Atlético de Madrid':2}\n",
    "serie_europa_league = pd.Series(europa_league)\n",
    "\n",
    "print(serie_europa_league,'\\n')\n",
    "                                \n",
    "print(\"Valores distintos: \",serie_europa_league.unique())               \n",
    "print(\"Número de valores distintos:\", serie_europa_league.nunique())             \n",
    "print(\"Veces que aparece cada valor:\\n\", serie_europa_league.value_counts())          "
   ]
  },
  {
   "cell_type": "markdown",
   "metadata": {},
   "source": [
    "<div style=\"text-align: right\">\n",
    "<a href=\"#indice\"><font size=5><i class=\"fa fa-arrow-circle-up\" aria-hidden=\"true\" style=\"color:#004D7F\"></i></font></a>\n",
    "</div>\n",
    "\n",
    "---\n",
    "\n",
    "\n",
    "<a id=\"section35\"></a> \n",
    "## <font color=\"#7F000E\">Manipulación de series </font>\n",
    "<br>\n",
    "\n",
    "### <font color=\"#7F000E\"> Eliminación de elementos </font>\n",
    "\n",
    "Es posible eliminar elementos de la serie mediante la función `drop()`. Ésta recibe como argumento una clave."
   ]
  },
  {
   "cell_type": "code",
   "execution_count": 47,
   "metadata": {},
   "outputs": [
    {
     "name": "stdout",
     "output_type": "stream",
     "text": [
      "Real Madrid          13\n",
      "Manchester United     3\n",
      "Milán                 7\n",
      "Bayern Munich         5\n",
      "PSG                   0\n",
      "dtype: int64\n"
     ]
    }
   ],
   "source": [
    "champions = {'Real Madrid':13, 'Manchester United':3, 'Milán':7, 'Bayern Munich':5, 'PSG': 0}\n",
    "serie_champions = pd.Series(champions)\n",
    "\n",
    "serie_champions.drop('Real Madrid')\n",
    "print(serie_champions)                    # ¡Imprime la serie original!"
   ]
  },
  {
   "cell_type": "markdown",
   "metadata": {},
   "source": [
    "<div class=\"alert alert-block alert-danger\">\n",
    "\n",
    "<i class=\"fa fa-exclamation-triangle\" aria-hidden=\"true\"></i>\n",
    "En el ejemplo anterior ___no___ se ha borrado la entrada correspondiente. La mayoría de operaciones, por defecto, __generan una copia__ de la serie.\n",
    "</div>"
   ]
  },
  {
   "cell_type": "code",
   "execution_count": 48,
   "metadata": {},
   "outputs": [
    {
     "name": "stdout",
     "output_type": "stream",
     "text": [
      "Manchester United    3\n",
      "Milán                7\n",
      "Bayern Munich        5\n",
      "PSG                  0\n",
      "dtype: int64\n"
     ]
    }
   ],
   "source": [
    "serie_champions_borrada = serie_champions.drop('Real Madrid')\n",
    "print(serie_champions_borrada)"
   ]
  },
  {
   "cell_type": "markdown",
   "metadata": {},
   "source": [
    "El parámetro `inplace` indica que la operación se lleve a cabo sobre la propia serie. Por defecto, su valor es _False_."
   ]
  },
  {
   "cell_type": "code",
   "execution_count": 49,
   "metadata": {},
   "outputs": [
    {
     "name": "stdout",
     "output_type": "stream",
     "text": [
      "Manchester United    3\n",
      "Milán                7\n",
      "Bayern Munich        5\n",
      "PSG                  0\n",
      "dtype: int64\n"
     ]
    }
   ],
   "source": [
    "serie_champions.drop('Real Madrid', inplace=True)\n",
    "print(serie_champions)"
   ]
  },
  {
   "cell_type": "markdown",
   "metadata": {},
   "source": [
    "### <font color=\"#7F000E\"> Concatenación de series </font>\n",
    "\n",
    "El método `append()` permite concatenar series. "
   ]
  },
  {
   "cell_type": "code",
   "execution_count": 50,
   "metadata": {},
   "outputs": [
    {
     "name": "stdout",
     "output_type": "stream",
     "text": [
      "Real Madrid           13\n",
      "Manchester United      3\n",
      "Milán                  7\n",
      "Bayern Munich          5\n",
      "PSG                    0\n",
      "Real Madrid            2\n",
      "Manchester United      1\n",
      "Milán                  0\n",
      "Bayern Munich          1\n",
      "PSG                    0\n",
      "Atlético de Madrid     3\n",
      "dtype: int64\n"
     ]
    }
   ],
   "source": [
    "champions = {'Real Madrid':13, 'Manchester United':3, 'Milán':7, 'Bayern Munich':5, 'PSG': 0}\n",
    "serie_champions = pd.Series(champions)\n",
    "\n",
    "europa_league = {'Real Madrid':2, 'Manchester United':1, 'Milán':0, 'Bayern Munich':1, 'PSG': 0, 'Atlético de Madrid':3}\n",
    "serie_europa_league = pd.Series(europa_league)\n",
    "\n",
    "print(serie_champions.append(serie_europa_league))"
   ]
  },
  {
   "cell_type": "markdown",
   "metadata": {},
   "source": [
    "<div class=\"alert alert-block alert-warning\">\n",
    "    \n",
    "<i class=\"fa fa-exclamation-circle\" aria-hidden=\"true\"></i>\n",
    "Se observa que en una serie puede haber dos elementos con el mismo índice. \n",
    "</div>"
   ]
  },
  {
   "cell_type": "code",
   "execution_count": 51,
   "metadata": {},
   "outputs": [
    {
     "name": "stdout",
     "output_type": "stream",
     "text": [
      "Real Madrid    13\n",
      "Real Madrid     2\n",
      "dtype: int64\n"
     ]
    }
   ],
   "source": [
    "serie_champions_europa = serie_champions.append(serie_europa_league)\n",
    "print(serie_champions_europa.loc['Real Madrid'])\n",
    "\n",
    "#print(type(serie_champions_europa.loc['Real Madrid']))"
   ]
  },
  {
   "cell_type": "markdown",
   "metadata": {},
   "source": [
    "### <font color=\"#7F000E\">Sustitución de elementos </font>\n",
    "\n",
    "El método `replace()` permite reemplazar valores. Admite como parámetro un diccionario, permitiendo así sustituir varios valores a la vez. Incluso es posible utilizar _expresiones regulares_ [(documentación)](https://pandas.pydata.org/pandas-docs/stable/generated/pandas.Series.replace.html)."
   ]
  },
  {
   "cell_type": "code",
   "execution_count": 52,
   "metadata": {},
   "outputs": [
    {
     "name": "stdout",
     "output_type": "stream",
     "text": [
      "Real Madrid           13\n",
      "Manchester United      3\n",
      "Milán                  7\n",
      "Bayern Munich          5\n",
      "PSG                    0\n",
      "Atlético de Madrid     0\n",
      "dtype: int64 \n",
      "\n",
      "Real Madrid              13\n",
      "Manchester United         3\n",
      "Milán                     7\n",
      "Bayern Munich             5\n",
      "PSG                   Nunca\n",
      "Atlético de Madrid    Nunca\n",
      "dtype: object \n",
      "\n"
     ]
    }
   ],
   "source": [
    "champions = {'Real Madrid':13, 'Manchester United':3, 'Milán':7, 'Bayern Munich':5, 'PSG': 0, 'Atlético de Madrid':0}\n",
    "serie_champions = pd.Series(champions)\n",
    "print(serie_champions,'\\n')\n",
    "# Reemplaza un valor por otro\n",
    "print(serie_champions.replace(0,'Nunca'),'\\n')"
   ]
  },
  {
   "cell_type": "code",
   "execution_count": 53,
   "metadata": {},
   "outputs": [
    {
     "name": "stdout",
     "output_type": "stream",
     "text": [
      "España              Real Madrid\n",
      "Inglaterra    Manchester United\n",
      "Italia                    Milán\n",
      "Francia                     PSG\n",
      "Alemania          Bayern Munich\n",
      "dtype: object \n",
      "\n",
      "España        Atlético de Madrid\n",
      "Inglaterra     Manchester United\n",
      "Italia                  Juventus\n",
      "Francia                      PSG\n",
      "Alemania           Bayern Munich\n",
      "dtype: object\n"
     ]
    }
   ],
   "source": [
    "equipos = {'España': 'Real Madrid', 'Inglaterra': 'Manchester United', 'Italia': 'Milán', 'Francia': 'PSG', 'Alemania': 'Bayern Munich'}\n",
    "serie_equipos = pd.Series(equipos)\n",
    "\n",
    "print(serie_equipos, '\\n')\n",
    "# Utiliza un diccionario para determinar los valores que se reemplazan y los nuevos valores. \n",
    "print(serie_equipos.replace({'Real Madrid':'Atlético de Madrid', 'Milán':'Juventus'}))"
   ]
  },
  {
   "cell_type": "markdown",
   "metadata": {},
   "source": [
    "<div style=\"text-align: right\">\n",
    "<a href=\"#indice\"><font size=5><i class=\"fa fa-arrow-circle-up\" aria-hidden=\"true\" style=\"color:#7F000E\"></i></font></a>\n",
    "</div>\n",
    "\n",
    "---\n",
    "\n",
    "<a id=\"section36\"></a> \n",
    "## <font color=\"#7F000E\">Consulta y selección </font>\n",
    "<br>\n",
    "\n",
    "Además de las posibilidades que ofrece la indexación, existen algunas funciones que permiten llevar a cabo diversas operaciones de consulta y selección sobre `Series`.\n",
    "\n",
    "### <font color=\"#7F000E\" face=\"monospace\"> head() / tail() </font>\n",
    "\n",
    "\n",
    "La función `head()` muestra los primeros elementos de la serie; la función `tail()` los últimos."
   ]
  },
  {
   "cell_type": "code",
   "execution_count": 54,
   "metadata": {},
   "outputs": [
    {
     "name": "stdout",
     "output_type": "stream",
     "text": [
      "Real Madrid          12\n",
      "Manchester United     3\n",
      "Milán                 7\n",
      "dtype: int64 \n",
      "\n",
      "Bayern Munich    5\n",
      "PSG              0\n",
      "dtype: int64\n"
     ]
    }
   ],
   "source": [
    "champions = {'Real Madrid':12, 'Manchester United':3, 'Milán':7, 'Bayern Munich':5, 'PSG': 0}\n",
    "serie_champions = pd.Series(champions)\n",
    "\n",
    "print(serie_champions.head(3),'\\n')                 # Devuelve los 3 primeros elementos. \n",
    "print(serie_champions.tail(2))                      # Devuelve los 2 últimos elementos. "
   ]
  },
  {
   "cell_type": "markdown",
   "metadata": {},
   "source": [
    "### <font color=\"#7F000E\" face=\"monospace\"> any() / all() </font>\n",
    "\n",
    "Las funciones denominadas `any()` y `all()`  permiten determinar si uno o todos  (respectivamente) los valores de la serie, son distintos de `False` (o 0). "
   ]
  },
  {
   "cell_type": "code",
   "execution_count": 55,
   "metadata": {},
   "outputs": [
    {
     "name": "stdout",
     "output_type": "stream",
     "text": [
      "Real Madrid          13\n",
      "Manchester United     3\n",
      "Milán                 7\n",
      "Bayern Munich         5\n",
      "PSG                   0\n",
      "dtype: int64\n",
      "\n",
      "True\n",
      "False \n",
      "\n"
     ]
    }
   ],
   "source": [
    "champions = {'Real Madrid':13, 'Manchester United':3, 'Milán':7, 'Bayern Munich':5, 'PSG': 0}\n",
    "serie_champions = pd.Series(champions)\n",
    "print(serie_champions)\n",
    "print()\n",
    "\n",
    "print(serie_champions.any())\n",
    "print(serie_champions.all(),'\\n')"
   ]
  },
  {
   "cell_type": "markdown",
   "metadata": {},
   "source": [
    "Estas funciones se utilizan a menudo junto a una condición. "
   ]
  },
  {
   "cell_type": "code",
   "execution_count": 56,
   "metadata": {},
   "outputs": [
    {
     "name": "stdout",
     "output_type": "stream",
     "text": [
      "Real Madrid          False\n",
      "Manchester United    False\n",
      "Milán                False\n",
      "Bayern Munich        False\n",
      "PSG                  False\n",
      "dtype: bool \n",
      "\n",
      "False\n"
     ]
    }
   ],
   "source": [
    "print(serie_champions>13,'\\n')                      # Esta comparación genera una serie. \n",
    "\n",
    "print((serie_champions>13).any())                   # Se le puede aplicar la función any()."
   ]
  },
  {
   "cell_type": "markdown",
   "metadata": {},
   "source": [
    "### <font color=\"#7F000E\" face=\"monospace\">isna()/isnull() y notna()/notnull() </font>\n",
    "\n",
    "También existen las funciones `isna()/isnull()` y `notna()/notnull()` que permiten determinar qué elementos de la serie son `NaN` (o `None`, dependiendo del tipo de datos) o no lo son."
   ]
  },
  {
   "cell_type": "code",
   "execution_count": 57,
   "metadata": {},
   "outputs": [
    {
     "name": "stdout",
     "output_type": "stream",
     "text": [
      "Real Madrid          NaN\n",
      "Manchester United    3.0\n",
      "Milán                7.0\n",
      "Bayern Munich        5.0\n",
      "PSG                  0.0\n",
      "dtype: float64\n",
      "\n",
      "Real Madrid           True\n",
      "Manchester United    False\n",
      "Milán                False\n",
      "Bayern Munich        False\n",
      "PSG                  False\n",
      "dtype: bool\n",
      "\n",
      "Real Madrid          False\n",
      "Manchester United     True\n",
      "Milán                 True\n",
      "Bayern Munich         True\n",
      "PSG                   True\n",
      "dtype: bool\n"
     ]
    }
   ],
   "source": [
    "champions = {'Real Madrid':13, 'Manchester United':3, 'Milán':7, 'Bayern Munich':5, 'PSG': 0}\n",
    "serie_champions = pd.Series(champions)\n",
    "serie_champions['Real Madrid']=np.nan       # Muestra qué elementos son null o na.\n",
    "print(serie_champions)\n",
    "print()\n",
    "\n",
    "print(serie_champions.isnull())\n",
    "print()\n",
    "print(serie_champions.notnull())"
   ]
  },
  {
   "cell_type": "markdown",
   "metadata": {},
   "source": [
    "### <font color=\"#7F000E\" face=\"monospace\"> where() y mask() </font>\n",
    "\n",
    "La función `where(condición)` devuelve una serie con los elementos que cumplen la condición, y en la que los elementos que __no__ cumplen la condición toman un valor predefinido. Por defecto, este valor es `NaN`, pero puede ser un escalar, o incluso el valor correspondiente en otra serie. "
   ]
  },
  {
   "cell_type": "code",
   "execution_count": 58,
   "metadata": {},
   "outputs": [
    {
     "name": "stdout",
     "output_type": "stream",
     "text": [
      "Real Madrid           13.0\n",
      "Manchester United      3.0\n",
      "Milán                  7.0\n",
      "Bayern Munich          5.0\n",
      "PSG                    0.0\n",
      "Atlético de Madrid     0.0\n",
      "dtype: float64\n",
      "\n",
      "Real Madrid           13.0\n",
      "Manchester United      3.0\n",
      "Milán                  7.0\n",
      "Bayern Munich          5.0\n",
      "PSG                    NaN\n",
      "Atlético de Madrid     NaN\n",
      "dtype: float64\n",
      "\n"
     ]
    }
   ],
   "source": [
    "serie_champions['Real Madrid']=13 \n",
    "serie_champions['Atlético de Madrid']=0 \n",
    "print(serie_champions)\n",
    "print()\n",
    "print(serie_champions.where((serie_champions >= 3)))\n",
    "print()"
   ]
  },
  {
   "cell_type": "code",
   "execution_count": 59,
   "metadata": {},
   "outputs": [
    {
     "name": "stdout",
     "output_type": "stream",
     "text": [
      "Con un valor por defecto:\n",
      "Real Madrid                          13\n",
      "Manchester United                     3\n",
      "Milán                                 7\n",
      "Bayern Munich                         5\n",
      "PSG                   Ninguna (todavía)\n",
      "Atlético de Madrid    Ninguna (todavía)\n",
      "dtype: object\n"
     ]
    }
   ],
   "source": [
    "print(\"Con un valor por defecto:\")\n",
    "print(serie_champions.where((serie_champions > 1),'Ninguna (todavía)'))"
   ]
  },
  {
   "cell_type": "code",
   "execution_count": 60,
   "metadata": {},
   "outputs": [
    {
     "name": "stdout",
     "output_type": "stream",
     "text": [
      "A los que tienen menos de 1 champions, les asigna el número de Europa League\n",
      "Real Madrid           13.0\n",
      "Manchester United      3.0\n",
      "Milán                  7.0\n",
      "Bayern Munich          5.0\n",
      "PSG                    0.0\n",
      "Atlético de Madrid     3.0\n",
      "dtype: float64\n"
     ]
    }
   ],
   "source": [
    "print(\"A los que tienen menos de 1 champions, les asigna el número de Europa League\")\n",
    "print(serie_champions.where((serie_champions >1), serie_europa_league))"
   ]
  },
  {
   "cell_type": "markdown",
   "metadata": {},
   "source": [
    "<div class=\"alert alert-block alert-warning\">\n",
    "\n",
    "<i class=\"fa fa-exclamation-circle\" aria-hidden=\"true\"></i>\n",
    "Además de la posibilidad de reemplazar los elementos que no cumplen la condición, la diferencia de esta función con la indexación condicional es que, esta última, solamente devuelve los elementos que cumplen la condición.\n",
    "</div>"
   ]
  },
  {
   "cell_type": "code",
   "execution_count": 61,
   "metadata": {},
   "outputs": [
    {
     "data": {
      "text/plain": [
       "Milán            7.0\n",
       "Bayern Munich    5.0\n",
       "dtype: float64"
      ]
     },
     "execution_count": 61,
     "metadata": {},
     "output_type": "execute_result"
    }
   ],
   "source": [
    "serie_champions[(serie_champions>3) & (serie_champions<12)]"
   ]
  },
  {
   "cell_type": "markdown",
   "metadata": {},
   "source": [
    "La función `mask()` es parecida a la anterior, pero sustituye (enmascara) los elementos que cumplen la condición, y copia tal cual los elementos que __no__ la cumplen."
   ]
  },
  {
   "cell_type": "code",
   "execution_count": 62,
   "metadata": {},
   "outputs": [
    {
     "name": "stdout",
     "output_type": "stream",
     "text": [
      "Con un valor por defecto:\n",
      "Real Madrid           Demasiadas\n",
      "Manchester United              3\n",
      "Milán                 Demasiadas\n",
      "Bayern Munich         Demasiadas\n",
      "PSG                            0\n",
      "Atlético de Madrid             0\n",
      "dtype: object\n"
     ]
    }
   ],
   "source": [
    "print(\"Con un valor por defecto:\")\n",
    "print(serie_champions.mask((serie_champions > 3), 'Demasiadas'))"
   ]
  },
  {
   "cell_type": "markdown",
   "metadata": {},
   "source": [
    "### <font color=\"#7F000E\" face=\"monospace\"> filter() </font>\n",
    "\n",
    "La función `filter()` permite filtrar elementos de la serie en función del valor del índice. Admite varios parámetros."
   ]
  },
  {
   "cell_type": "code",
   "execution_count": 63,
   "metadata": {},
   "outputs": [
    {
     "data": {
      "text/plain": [
       "Real Madrid           13.0\n",
       "Manchester United      3.0\n",
       "Bayern Munich          5.0\n",
       "Atlético de Madrid     0.0\n",
       "dtype: float64"
      ]
     },
     "execution_count": 63,
     "metadata": {},
     "output_type": "execute_result"
    }
   ],
   "source": [
    "#serie_champions.filter(items=['Milán'])       # Elementos cuyo índice es 'Milán'\n",
    "#serie_champions.filter(like='Madrid')         # Elementos cuyo índice contiene 'Madrid'\n",
    "serie_champions.filter(regex=r'\\w.* \\w.*')     # Elementos que contienen la expresión regular (al menos dos palabras)"
   ]
  },
  {
   "cell_type": "markdown",
   "metadata": {},
   "source": [
    "<div class=\"alert alert-block alert-warning\">\n",
    "\n",
    "<i class=\"fa fa-exclamation-circle\" aria-hidden=\"true\"></i> Existía una función parecida, denominada `select()` pero se ha eliminado de Pandas ( _Deprecated_ ).\n",
    "</div>"
   ]
  },
  {
   "cell_type": "markdown",
   "metadata": {},
   "source": [
    "<div style=\"text-align: right\">\n",
    "<a href=\"#indice\"><font size=5><i class=\"fa fa-arrow-circle-up\" aria-hidden=\"true\" style=\"color:#004D7F\"></i></font></a>\n",
    "</div>\n",
    "\n",
    "---\n",
    "\n",
    "<a id=\"section37\"></a> \n",
    "## <font color=\"#7F000E\">Vectorización </font>\n",
    "<br>\n",
    "\n",
    "Internamente, _Pandas_ utiliza _Numpy_ para almacenar los datos. Por tanto, algunas de las  peraciones que se pueden llevar sobre los objetos `Series` (y los `DataFrame` que se verán después) son vectorizadas. Esto supone un aumento importante en la eficiencia."
   ]
  },
  {
   "cell_type": "code",
   "execution_count": 64,
   "metadata": {},
   "outputs": [
    {
     "name": "stdout",
     "output_type": "stream",
     "text": [
      "(10000,)\n"
     ]
    }
   ],
   "source": [
    "# Crea una serie de números aleatorios\n",
    "serie = pd.Series(np.random.randint(0,1000,10000))\n",
    "print(serie.shape)"
   ]
  },
  {
   "cell_type": "markdown",
   "metadata": {},
   "source": [
    "En las celdas siguientes se calcula la suma de los elementos de la serie, sin, y con vectorización."
   ]
  },
  {
   "cell_type": "code",
   "execution_count": 65,
   "metadata": {},
   "outputs": [
    {
     "name": "stdout",
     "output_type": "stream",
     "text": [
      "707 µs ± 53.5 µs per loop (mean ± std. dev. of 7 runs, 10 loops each)\n"
     ]
    }
   ],
   "source": [
    "%%timeit -n 10 -r 7\n",
    "suma = 0\n",
    "for elem in serie:\n",
    "    suma+=elem"
   ]
  },
  {
   "cell_type": "code",
   "execution_count": 66,
   "metadata": {},
   "outputs": [
    {
     "name": "stdout",
     "output_type": "stream",
     "text": [
      "176 µs ± 89.6 µs per loop (mean ± std. dev. of 7 runs, 10 loops each)\n"
     ]
    }
   ],
   "source": [
    "%%timeit -n 10 \n",
    "suma = serie.sum()\n",
    "#suma = np.sum(serie)"
   ]
  },
  {
   "cell_type": "markdown",
   "metadata": {},
   "source": [
    "En el siguiente ejemplo se compara el tiempo de ejecución de una suma con un escalar mediante un bucle, y mediante _Broadcast_. (En este caso, se inicializa la estructura en la misma linea de `timeit`, pero ese tiempo no se computa)."
   ]
  },
  {
   "cell_type": "code",
   "execution_count": 67,
   "metadata": {},
   "outputs": [
    {
     "name": "stdout",
     "output_type": "stream",
     "text": [
      "204 ms ± 5.98 ms per loop (mean ± std. dev. of 7 runs, 10 loops each)\n"
     ]
    }
   ],
   "source": [
    "%%timeit -n 10 serie = pd.Series(np.random.randint(0,1000,1000))\n",
    "for indice, valor in serie.iteritems():\n",
    "    serie.loc[indice]= valor+2"
   ]
  },
  {
   "cell_type": "code",
   "execution_count": 68,
   "metadata": {},
   "outputs": [
    {
     "name": "stdout",
     "output_type": "stream",
     "text": [
      "The slowest run took 4.64 times longer than the fastest. This could mean that an intermediate result is being cached.\n",
      "424 µs ± 222 µs per loop (mean ± std. dev. of 7 runs, 10 loops each)\n"
     ]
    }
   ],
   "source": [
    "%%timeit -n 10 serie = pd.Series(np.random.randint(0,1000,1000))\n",
    "serie+=2"
   ]
  },
  {
   "cell_type": "markdown",
   "metadata": {},
   "source": [
    "<div style=\"text-align: right\">\n",
    "<a href=\"#indice\"><font size=5><i class=\"fa fa-arrow-circle-up\" aria-hidden=\"true\" style=\"color:#004D7F\"></i></font></a>\n",
    "</div>\n",
    "\n",
    "---\n",
    "\n",
    "<a id=\"section4\"></a>\n",
    "# <font color=\"#7F000E\"> 4. DataFrames</font>\n",
    "<br>\n",
    "\n",
    "Un `DataFrame` es una estructura _bidimensional_ de datos que se indexa por filas y columnas. Al igual que en una hoja de cálculo o una tabla SQL, cada columna puede almacenar datos de un tipo diferente, y es tratada como un objeto de tipo `Series`. "
   ]
  },
  {
   "cell_type": "code",
   "execution_count": 69,
   "metadata": {},
   "outputs": [
    {
     "data": {
      "text/html": [
       "<div>\n",
       "<style scoped>\n",
       "    .dataframe tbody tr th:only-of-type {\n",
       "        vertical-align: middle;\n",
       "    }\n",
       "\n",
       "    .dataframe tbody tr th {\n",
       "        vertical-align: top;\n",
       "    }\n",
       "\n",
       "    .dataframe thead th {\n",
       "        text-align: right;\n",
       "    }\n",
       "</style>\n",
       "<table border=\"1\" class=\"dataframe\">\n",
       "  <thead>\n",
       "    <tr style=\"text-align: right;\">\n",
       "      <th></th>\n",
       "      <th>Name</th>\n",
       "      <th>Age</th>\n",
       "      <th>Photo</th>\n",
       "      <th>Nationality</th>\n",
       "      <th>Flag</th>\n",
       "      <th>Overall</th>\n",
       "      <th>Potential</th>\n",
       "      <th>Club</th>\n",
       "      <th>Club Logo</th>\n",
       "      <th>Value</th>\n",
       "      <th>...</th>\n",
       "      <th>Composure</th>\n",
       "      <th>Marking</th>\n",
       "      <th>StandingTackle</th>\n",
       "      <th>SlidingTackle</th>\n",
       "      <th>GKDiving</th>\n",
       "      <th>GKHandling</th>\n",
       "      <th>GKKicking</th>\n",
       "      <th>GKPositioning</th>\n",
       "      <th>GKReflexes</th>\n",
       "      <th>Release Clause</th>\n",
       "    </tr>\n",
       "    <tr>\n",
       "      <th>ID</th>\n",
       "      <th></th>\n",
       "      <th></th>\n",
       "      <th></th>\n",
       "      <th></th>\n",
       "      <th></th>\n",
       "      <th></th>\n",
       "      <th></th>\n",
       "      <th></th>\n",
       "      <th></th>\n",
       "      <th></th>\n",
       "      <th></th>\n",
       "      <th></th>\n",
       "      <th></th>\n",
       "      <th></th>\n",
       "      <th></th>\n",
       "      <th></th>\n",
       "      <th></th>\n",
       "      <th></th>\n",
       "      <th></th>\n",
       "      <th></th>\n",
       "      <th></th>\n",
       "    </tr>\n",
       "  </thead>\n",
       "  <tbody>\n",
       "    <tr>\n",
       "      <th>158023</th>\n",
       "      <td>L. Messi</td>\n",
       "      <td>31</td>\n",
       "      <td>https://cdn.sofifa.org/players/4/19/158023.png</td>\n",
       "      <td>Argentina</td>\n",
       "      <td>https://cdn.sofifa.org/flags/52.png</td>\n",
       "      <td>94</td>\n",
       "      <td>94</td>\n",
       "      <td>FC Barcelona</td>\n",
       "      <td>https://cdn.sofifa.org/teams/2/light/241.png</td>\n",
       "      <td>€110.5M</td>\n",
       "      <td>...</td>\n",
       "      <td>96.0</td>\n",
       "      <td>33.0</td>\n",
       "      <td>28.0</td>\n",
       "      <td>26.0</td>\n",
       "      <td>6.0</td>\n",
       "      <td>11.0</td>\n",
       "      <td>15.0</td>\n",
       "      <td>14.0</td>\n",
       "      <td>8.0</td>\n",
       "      <td>€226.5M</td>\n",
       "    </tr>\n",
       "    <tr>\n",
       "      <th>20801</th>\n",
       "      <td>Cristiano Ronaldo</td>\n",
       "      <td>33</td>\n",
       "      <td>https://cdn.sofifa.org/players/4/19/20801.png</td>\n",
       "      <td>Portugal</td>\n",
       "      <td>https://cdn.sofifa.org/flags/38.png</td>\n",
       "      <td>94</td>\n",
       "      <td>94</td>\n",
       "      <td>Juventus</td>\n",
       "      <td>https://cdn.sofifa.org/teams/2/light/45.png</td>\n",
       "      <td>€77M</td>\n",
       "      <td>...</td>\n",
       "      <td>95.0</td>\n",
       "      <td>28.0</td>\n",
       "      <td>31.0</td>\n",
       "      <td>23.0</td>\n",
       "      <td>7.0</td>\n",
       "      <td>11.0</td>\n",
       "      <td>15.0</td>\n",
       "      <td>14.0</td>\n",
       "      <td>11.0</td>\n",
       "      <td>€127.1M</td>\n",
       "    </tr>\n",
       "    <tr>\n",
       "      <th>190871</th>\n",
       "      <td>Neymar Jr</td>\n",
       "      <td>26</td>\n",
       "      <td>https://cdn.sofifa.org/players/4/19/190871.png</td>\n",
       "      <td>Brazil</td>\n",
       "      <td>https://cdn.sofifa.org/flags/54.png</td>\n",
       "      <td>92</td>\n",
       "      <td>93</td>\n",
       "      <td>Paris Saint-Germain</td>\n",
       "      <td>https://cdn.sofifa.org/teams/2/light/73.png</td>\n",
       "      <td>€118.5M</td>\n",
       "      <td>...</td>\n",
       "      <td>94.0</td>\n",
       "      <td>27.0</td>\n",
       "      <td>24.0</td>\n",
       "      <td>33.0</td>\n",
       "      <td>9.0</td>\n",
       "      <td>9.0</td>\n",
       "      <td>15.0</td>\n",
       "      <td>15.0</td>\n",
       "      <td>11.0</td>\n",
       "      <td>€228.1M</td>\n",
       "    </tr>\n",
       "    <tr>\n",
       "      <th>193080</th>\n",
       "      <td>De Gea</td>\n",
       "      <td>27</td>\n",
       "      <td>https://cdn.sofifa.org/players/4/19/193080.png</td>\n",
       "      <td>Spain</td>\n",
       "      <td>https://cdn.sofifa.org/flags/45.png</td>\n",
       "      <td>91</td>\n",
       "      <td>93</td>\n",
       "      <td>Manchester United</td>\n",
       "      <td>https://cdn.sofifa.org/teams/2/light/11.png</td>\n",
       "      <td>€72M</td>\n",
       "      <td>...</td>\n",
       "      <td>68.0</td>\n",
       "      <td>15.0</td>\n",
       "      <td>21.0</td>\n",
       "      <td>13.0</td>\n",
       "      <td>90.0</td>\n",
       "      <td>85.0</td>\n",
       "      <td>87.0</td>\n",
       "      <td>88.0</td>\n",
       "      <td>94.0</td>\n",
       "      <td>€138.6M</td>\n",
       "    </tr>\n",
       "    <tr>\n",
       "      <th>192985</th>\n",
       "      <td>K. De Bruyne</td>\n",
       "      <td>27</td>\n",
       "      <td>https://cdn.sofifa.org/players/4/19/192985.png</td>\n",
       "      <td>Belgium</td>\n",
       "      <td>https://cdn.sofifa.org/flags/7.png</td>\n",
       "      <td>91</td>\n",
       "      <td>92</td>\n",
       "      <td>Manchester City</td>\n",
       "      <td>https://cdn.sofifa.org/teams/2/light/10.png</td>\n",
       "      <td>€102M</td>\n",
       "      <td>...</td>\n",
       "      <td>88.0</td>\n",
       "      <td>68.0</td>\n",
       "      <td>58.0</td>\n",
       "      <td>51.0</td>\n",
       "      <td>15.0</td>\n",
       "      <td>13.0</td>\n",
       "      <td>5.0</td>\n",
       "      <td>10.0</td>\n",
       "      <td>13.0</td>\n",
       "      <td>€196.4M</td>\n",
       "    </tr>\n",
       "  </tbody>\n",
       "</table>\n",
       "<p>5 rows × 87 columns</p>\n",
       "</div>"
      ],
      "text/plain": [
       "                     Name  Age  \\\n",
       "ID                               \n",
       "158023           L. Messi   31   \n",
       "20801   Cristiano Ronaldo   33   \n",
       "190871          Neymar Jr   26   \n",
       "193080             De Gea   27   \n",
       "192985       K. De Bruyne   27   \n",
       "\n",
       "                                                 Photo Nationality  \\\n",
       "ID                                                                   \n",
       "158023  https://cdn.sofifa.org/players/4/19/158023.png   Argentina   \n",
       "20801    https://cdn.sofifa.org/players/4/19/20801.png    Portugal   \n",
       "190871  https://cdn.sofifa.org/players/4/19/190871.png      Brazil   \n",
       "193080  https://cdn.sofifa.org/players/4/19/193080.png       Spain   \n",
       "192985  https://cdn.sofifa.org/players/4/19/192985.png     Belgium   \n",
       "\n",
       "                                       Flag  Overall  Potential  \\\n",
       "ID                                                                \n",
       "158023  https://cdn.sofifa.org/flags/52.png       94         94   \n",
       "20801   https://cdn.sofifa.org/flags/38.png       94         94   \n",
       "190871  https://cdn.sofifa.org/flags/54.png       92         93   \n",
       "193080  https://cdn.sofifa.org/flags/45.png       91         93   \n",
       "192985   https://cdn.sofifa.org/flags/7.png       91         92   \n",
       "\n",
       "                       Club                                     Club Logo  \\\n",
       "ID                                                                          \n",
       "158023         FC Barcelona  https://cdn.sofifa.org/teams/2/light/241.png   \n",
       "20801              Juventus   https://cdn.sofifa.org/teams/2/light/45.png   \n",
       "190871  Paris Saint-Germain   https://cdn.sofifa.org/teams/2/light/73.png   \n",
       "193080    Manchester United   https://cdn.sofifa.org/teams/2/light/11.png   \n",
       "192985      Manchester City   https://cdn.sofifa.org/teams/2/light/10.png   \n",
       "\n",
       "          Value      ...       Composure  Marking StandingTackle  \\\n",
       "ID                   ...                                           \n",
       "158023  €110.5M      ...            96.0     33.0           28.0   \n",
       "20801      €77M      ...            95.0     28.0           31.0   \n",
       "190871  €118.5M      ...            94.0     27.0           24.0   \n",
       "193080     €72M      ...            68.0     15.0           21.0   \n",
       "192985    €102M      ...            88.0     68.0           58.0   \n",
       "\n",
       "        SlidingTackle  GKDiving  GKHandling GKKicking GKPositioning  \\\n",
       "ID                                                                    \n",
       "158023           26.0       6.0        11.0      15.0          14.0   \n",
       "20801            23.0       7.0        11.0      15.0          14.0   \n",
       "190871           33.0       9.0         9.0      15.0          15.0   \n",
       "193080           13.0      90.0        85.0      87.0          88.0   \n",
       "192985           51.0      15.0        13.0       5.0          10.0   \n",
       "\n",
       "       GKReflexes Release Clause  \n",
       "ID                                \n",
       "158023        8.0        €226.5M  \n",
       "20801        11.0        €127.1M  \n",
       "190871       11.0        €228.1M  \n",
       "193080       94.0        €138.6M  \n",
       "192985       13.0        €196.4M  \n",
       "\n",
       "[5 rows x 87 columns]"
      ]
     },
     "execution_count": 69,
     "metadata": {},
     "output_type": "execute_result"
    }
   ],
   "source": [
    "# Lee el archivo, utiliza el campo ID como índice.\n",
    "df_fifa = pd.read_csv('./data/fifa19.csv', index_col=0).set_index('ID')\n",
    "# Muestra la cabecera\n",
    "df_fifa.head()"
   ]
  },
  {
   "cell_type": "code",
   "execution_count": 70,
   "metadata": {},
   "outputs": [
    {
     "name": "stdout",
     "output_type": "stream",
     "text": [
      "\n",
      " <class 'pandas.core.series.Series'>\n",
      "ID\n",
      "158023             L. Messi\n",
      "20801     Cristiano Ronaldo\n",
      "190871            Neymar Jr\n",
      "193080               De Gea\n",
      "192985         K. De Bruyne\n",
      "Name: Name, dtype: object\n"
     ]
    }
   ],
   "source": [
    "nombres = df_fifa['Name']\n",
    "print('\\n',type(nombres))\n",
    "print(nombres[:5])"
   ]
  },
  {
   "cell_type": "markdown",
   "metadata": {},
   "source": [
    "<div style=\"text-align: right\">\n",
    "<a href=\"#indice\"><font size=5><i class=\"fa fa-arrow-circle-up\" aria-hidden=\"true\" style=\"color:#7F000E\"></i></font></a>\n",
    "</div>\n",
    "\n",
    "---\n",
    "\n",
    "<a id=\"section41\"></a> \n",
    "## <font color=\"#7F000E\">Estructura </font>\n",
    "<br>\n",
    "\n",
    "Un `DataFrame` está formado por tres componentes principales:\n",
    "\n",
    "1. Los _datos_, almacenados en el campo `DataFrame.values`, que es un array _NumPy_.\n",
    "2. El _índice_, almacenado en el campo `DataFrame.index`, y que permite indexar las filas.\n",
    "3. El _índice de columnas_, almacenado en el campo `DataFrame.columns`. "
   ]
  },
  {
   "cell_type": "code",
   "execution_count": 71,
   "metadata": {},
   "outputs": [
    {
     "name": "stdout",
     "output_type": "stream",
     "text": [
      "Valores (2 primeras filas)\n",
      "[['L. Messi' 31 'https://cdn.sofifa.org/players/4/19/158023.png'\n",
      "  'Argentina' 'https://cdn.sofifa.org/flags/52.png' 94 94 'FC Barcelona'\n",
      "  'https://cdn.sofifa.org/teams/2/light/241.png' '€110.5M' '€565K' 2202\n",
      "  'Left' 5.0 4.0 4.0 'Medium/ Medium' 'Messi' 'Yes' 'RF' 10.0\n",
      "  'Jul 1, 2004' nan '2021' \"5'7\" '159lbs' '88+2' '88+2' '88+2' '92+2'\n",
      "  '93+2' '93+2' '93+2' '92+2' '93+2' '93+2' '93+2' '91+2' '84+2' '84+2'\n",
      "  '84+2' '91+2' '64+2' '61+2' '61+2' '61+2' '64+2' '59+2' '47+2' '47+2'\n",
      "  '47+2' '59+2' 84.0 95.0 70.0 90.0 86.0 97.0 93.0 94.0 87.0 96.0 91.0\n",
      "  86.0 91.0 95.0 95.0 85.0 68.0 72.0 59.0 94.0 48.0 22.0 94.0 94.0 75.0\n",
      "  96.0 33.0 28.0 26.0 6.0 11.0 15.0 14.0 8.0 '€226.5M']\n",
      " ['Cristiano Ronaldo' 33 'https://cdn.sofifa.org/players/4/19/20801.png'\n",
      "  'Portugal' 'https://cdn.sofifa.org/flags/38.png' 94 94 'Juventus'\n",
      "  'https://cdn.sofifa.org/teams/2/light/45.png' '€77M' '€405K' 2228\n",
      "  'Right' 5.0 4.0 5.0 'High/ Low' 'C. Ronaldo' 'Yes' 'ST' 7.0\n",
      "  'Jul 10, 2018' nan '2022' \"6'2\" '183lbs' '91+3' '91+3' '91+3' '89+3'\n",
      "  '90+3' '90+3' '90+3' '89+3' '88+3' '88+3' '88+3' '88+3' '81+3' '81+3'\n",
      "  '81+3' '88+3' '65+3' '61+3' '61+3' '61+3' '65+3' '61+3' '53+3' '53+3'\n",
      "  '53+3' '61+3' 84.0 94.0 89.0 81.0 87.0 88.0 81.0 76.0 77.0 94.0 89.0\n",
      "  91.0 87.0 96.0 70.0 95.0 95.0 88.0 79.0 93.0 63.0 29.0 95.0 82.0 85.0\n",
      "  95.0 28.0 31.0 23.0 7.0 11.0 15.0 14.0 11.0 '€127.1M']]\n",
      "<class 'numpy.ndarray'>\n",
      "\n",
      "Índice:\n",
      "Int64Index([158023,  20801, 190871, 193080, 192985, 183277, 177003, 176580,\n",
      "            155862, 200389,\n",
      "            ...\n",
      "            246167, 242844, 244677, 231381, 243413, 238813, 243165, 241638,\n",
      "            246268, 246269],\n",
      "           dtype='int64', name='ID', length=18207)\n",
      "<class 'pandas.core.indexes.numeric.Int64Index'>\n",
      "\n",
      "Columnas:\n",
      "Index(['Name', 'Age', 'Photo', 'Nationality', 'Flag', 'Overall', 'Potential',\n",
      "       'Club', 'Club Logo', 'Value', 'Wage', 'Special', 'Preferred Foot',\n",
      "       'International Reputation', 'Weak Foot', 'Skill Moves', 'Work Rate',\n",
      "       'Body Type', 'Real Face', 'Position', 'Jersey Number', 'Joined',\n",
      "       'Loaned From', 'Contract Valid Until', 'Height', 'Weight', 'LS', 'ST',\n",
      "       'RS', 'LW', 'LF', 'CF', 'RF', 'RW', 'LAM', 'CAM', 'RAM', 'LM', 'LCM',\n",
      "       'CM', 'RCM', 'RM', 'LWB', 'LDM', 'CDM', 'RDM', 'RWB', 'LB', 'LCB', 'CB',\n",
      "       'RCB', 'RB', 'Crossing', 'Finishing', 'HeadingAccuracy', 'ShortPassing',\n",
      "       'Volleys', 'Dribbling', 'Curve', 'FKAccuracy', 'LongPassing',\n",
      "       'BallControl', 'Acceleration', 'SprintSpeed', 'Agility', 'Reactions',\n",
      "       'Balance', 'ShotPower', 'Jumping', 'Stamina', 'Strength', 'LongShots',\n",
      "       'Aggression', 'Interceptions', 'Positioning', 'Vision', 'Penalties',\n",
      "       'Composure', 'Marking', 'StandingTackle', 'SlidingTackle', 'GKDiving',\n",
      "       'GKHandling', 'GKKicking', 'GKPositioning', 'GKReflexes',\n",
      "       'Release Clause'],\n",
      "      dtype='object')\n",
      "<class 'pandas.core.indexes.base.Index'>\n"
     ]
    }
   ],
   "source": [
    "print('Valores (2 primeras filas)')\n",
    "print(df_fifa.values[:2,:])\n",
    "print(type(df_fifa.values))\n",
    "\n",
    "print('\\nÍndice:')\n",
    "print(df_fifa.index)\n",
    "print(type(df_fifa.index))\n",
    "\n",
    "print('\\nColumnas:')\n",
    "print(df_fifa.columns)\n",
    "print(type(df_fifa.columns))\n",
    "\n",
    "#df_fifa.axes     # Índice y columnas (No se suele usar)"
   ]
  },
  {
   "cell_type": "markdown",
   "metadata": {},
   "source": [
    "Es posible hacer algunas comprobaciones sobre los índices y columnas."
   ]
  },
  {
   "cell_type": "code",
   "execution_count": 72,
   "metadata": {},
   "outputs": [
    {
     "name": "stdout",
     "output_type": "stream",
     "text": [
      "True\n",
      "False\n"
     ]
    }
   ],
   "source": [
    "print(df_fifa.index.is_unique)\n",
    "print(df_fifa.Age.is_unique)\n",
    "#df_fifa.index.is_monotonic_increasing\n",
    "#df_fifa.index.is_monotonic_decreasing\n",
    "#df_fifa.index.has_duplicates"
   ]
  },
  {
   "cell_type": "markdown",
   "metadata": {},
   "source": [
    "Es posible acceder a muchas de las propiedades de la estructura de un `DataFrame`, como sus dimensiones, los tipos de datos de las columnas, o incluso la ocupación en memoria. "
   ]
  },
  {
   "cell_type": "code",
   "execution_count": 73,
   "metadata": {
    "scrolled": false
   },
   "outputs": [
    {
     "name": "stdout",
     "output_type": "stream",
     "text": [
      "Tamaño del conjunto de datos: 18207 filas, 87 columnas.\n",
      "Número de elementos almacenados: 1584009\n",
      "\n",
      "Tipo de datos de cada columna: \n",
      " Name                         object\n",
      "Age                           int64\n",
      "Photo                        object\n",
      "Nationality                  object\n",
      "Flag                         object\n",
      "Overall                       int64\n",
      "Potential                     int64\n",
      "Club                         object\n",
      "Club Logo                    object\n",
      "Value                        object\n",
      "Wage                         object\n",
      "Special                       int64\n",
      "Preferred Foot               object\n",
      "International Reputation    float64\n",
      "Weak Foot                   float64\n",
      "Skill Moves                 float64\n",
      "Work Rate                    object\n",
      "Body Type                    object\n",
      "Real Face                    object\n",
      "Position                     object\n",
      "Jersey Number               float64\n",
      "Joined                       object\n",
      "Loaned From                  object\n",
      "Contract Valid Until         object\n",
      "Height                       object\n",
      "Weight                       object\n",
      "LS                           object\n",
      "ST                           object\n",
      "RS                           object\n",
      "LW                           object\n",
      "                             ...   \n",
      "Dribbling                   float64\n",
      "Curve                       float64\n",
      "FKAccuracy                  float64\n",
      "LongPassing                 float64\n",
      "BallControl                 float64\n",
      "Acceleration                float64\n",
      "SprintSpeed                 float64\n",
      "Agility                     float64\n",
      "Reactions                   float64\n",
      "Balance                     float64\n",
      "ShotPower                   float64\n",
      "Jumping                     float64\n",
      "Stamina                     float64\n",
      "Strength                    float64\n",
      "LongShots                   float64\n",
      "Aggression                  float64\n",
      "Interceptions               float64\n",
      "Positioning                 float64\n",
      "Vision                      float64\n",
      "Penalties                   float64\n",
      "Composure                   float64\n",
      "Marking                     float64\n",
      "StandingTackle              float64\n",
      "SlidingTackle               float64\n",
      "GKDiving                    float64\n",
      "GKHandling                  float64\n",
      "GKKicking                   float64\n",
      "GKPositioning               float64\n",
      "GKReflexes                  float64\n",
      "Release Clause               object\n",
      "Length: 87, dtype: object\n",
      "\n",
      "Toda la información:\n",
      "\n",
      "<class 'pandas.core.frame.DataFrame'>\n",
      "Int64Index: 18207 entries, 158023 to 246269\n",
      "Data columns (total 87 columns):\n",
      "Name                        18207 non-null object\n",
      "Age                         18207 non-null int64\n",
      "Photo                       18207 non-null object\n",
      "Nationality                 18207 non-null object\n",
      "Flag                        18207 non-null object\n",
      "Overall                     18207 non-null int64\n",
      "Potential                   18207 non-null int64\n",
      "Club                        17966 non-null object\n",
      "Club Logo                   18207 non-null object\n",
      "Value                       18207 non-null object\n",
      "Wage                        18207 non-null object\n",
      "Special                     18207 non-null int64\n",
      "Preferred Foot              18159 non-null object\n",
      "International Reputation    18159 non-null float64\n",
      "Weak Foot                   18159 non-null float64\n",
      "Skill Moves                 18159 non-null float64\n",
      "Work Rate                   18159 non-null object\n",
      "Body Type                   18159 non-null object\n",
      "Real Face                   18159 non-null object\n",
      "Position                    18147 non-null object\n",
      "Jersey Number               18147 non-null float64\n",
      "Joined                      16654 non-null object\n",
      "Loaned From                 1264 non-null object\n",
      "Contract Valid Until        17918 non-null object\n",
      "Height                      18159 non-null object\n",
      "Weight                      18159 non-null object\n",
      "LS                          16122 non-null object\n",
      "ST                          16122 non-null object\n",
      "RS                          16122 non-null object\n",
      "LW                          16122 non-null object\n",
      "LF                          16122 non-null object\n",
      "CF                          16122 non-null object\n",
      "RF                          16122 non-null object\n",
      "RW                          16122 non-null object\n",
      "LAM                         16122 non-null object\n",
      "CAM                         16122 non-null object\n",
      "RAM                         16122 non-null object\n",
      "LM                          16122 non-null object\n",
      "LCM                         16122 non-null object\n",
      "CM                          16122 non-null object\n",
      "RCM                         16122 non-null object\n",
      "RM                          16122 non-null object\n",
      "LWB                         16122 non-null object\n",
      "LDM                         16122 non-null object\n",
      "CDM                         16122 non-null object\n",
      "RDM                         16122 non-null object\n",
      "RWB                         16122 non-null object\n",
      "LB                          16122 non-null object\n",
      "LCB                         16122 non-null object\n",
      "CB                          16122 non-null object\n",
      "RCB                         16122 non-null object\n",
      "RB                          16122 non-null object\n",
      "Crossing                    18159 non-null float64\n",
      "Finishing                   18159 non-null float64\n",
      "HeadingAccuracy             18159 non-null float64\n",
      "ShortPassing                18159 non-null float64\n",
      "Volleys                     18159 non-null float64\n",
      "Dribbling                   18159 non-null float64\n",
      "Curve                       18159 non-null float64\n",
      "FKAccuracy                  18159 non-null float64\n",
      "LongPassing                 18159 non-null float64\n",
      "BallControl                 18159 non-null float64\n",
      "Acceleration                18159 non-null float64\n",
      "SprintSpeed                 18159 non-null float64\n",
      "Agility                     18159 non-null float64\n",
      "Reactions                   18159 non-null float64\n",
      "Balance                     18159 non-null float64\n",
      "ShotPower                   18159 non-null float64\n",
      "Jumping                     18159 non-null float64\n",
      "Stamina                     18159 non-null float64\n",
      "Strength                    18159 non-null float64\n",
      "LongShots                   18159 non-null float64\n",
      "Aggression                  18159 non-null float64\n",
      "Interceptions               18159 non-null float64\n",
      "Positioning                 18159 non-null float64\n",
      "Vision                      18159 non-null float64\n",
      "Penalties                   18159 non-null float64\n",
      "Composure                   18159 non-null float64\n",
      "Marking                     18159 non-null float64\n",
      "StandingTackle              18159 non-null float64\n",
      "SlidingTackle               18159 non-null float64\n",
      "GKDiving                    18159 non-null float64\n",
      "GKHandling                  18159 non-null float64\n",
      "GKKicking                   18159 non-null float64\n",
      "GKPositioning               18159 non-null float64\n",
      "GKReflexes                  18159 non-null float64\n",
      "Release Clause              16643 non-null object\n",
      "dtypes: float64(38), int64(4), object(45)\n",
      "memory usage: 12.8+ MB\n",
      "None\n"
     ]
    }
   ],
   "source": [
    "print('Tamaño del conjunto de datos: {:d} filas, {:d} columnas.'.format(df_fifa.shape[0], df_fifa.shape[1]))\n",
    "#print('Tamaño del conjunto de datos: {:d} filas, {:d} columnas.'.format(len(df_fifa.index), len(df_fifa.columns)))\n",
    "#print('Número de filas del Dataframe: ', len(df_fifa))\n",
    "print('Número de elementos almacenados: {:d}'.format(df_fifa.size))\n",
    "print(\"\\nTipo de datos de cada columna: \\n\", df_fifa.dtypes)\n",
    "print(\"\\nToda la información:\\n\")\n",
    "print(df_fifa.info())"
   ]
  },
  {
   "cell_type": "markdown",
   "metadata": {},
   "source": [
    "Incluso es posible acceder a información más detallada sobre el uso de memoria (por columnas) mediante `DataFrame.memory_usage()`."
   ]
  },
  {
   "cell_type": "code",
   "execution_count": 74,
   "metadata": {},
   "outputs": [
    {
     "data": {
      "text/plain": [
       "Index                       801016\n",
       "Name                        145656\n",
       "Age                         145656\n",
       "Photo                       145656\n",
       "Nationality                 145656\n",
       "Flag                        145656\n",
       "Overall                     145656\n",
       "Potential                   145656\n",
       "Club                        145656\n",
       "Club Logo                   145656\n",
       "Value                       145656\n",
       "Wage                        145656\n",
       "Special                     145656\n",
       "Preferred Foot              145656\n",
       "International Reputation    145656\n",
       "Weak Foot                   145656\n",
       "Skill Moves                 145656\n",
       "Work Rate                   145656\n",
       "Body Type                   145656\n",
       "Real Face                   145656\n",
       "Position                    145656\n",
       "Jersey Number               145656\n",
       "Joined                      145656\n",
       "Loaned From                 145656\n",
       "Contract Valid Until        145656\n",
       "Height                      145656\n",
       "Weight                      145656\n",
       "LS                          145656\n",
       "ST                          145656\n",
       "RS                          145656\n",
       "                             ...  \n",
       "Dribbling                   145656\n",
       "Curve                       145656\n",
       "FKAccuracy                  145656\n",
       "LongPassing                 145656\n",
       "BallControl                 145656\n",
       "Acceleration                145656\n",
       "SprintSpeed                 145656\n",
       "Agility                     145656\n",
       "Reactions                   145656\n",
       "Balance                     145656\n",
       "ShotPower                   145656\n",
       "Jumping                     145656\n",
       "Stamina                     145656\n",
       "Strength                    145656\n",
       "LongShots                   145656\n",
       "Aggression                  145656\n",
       "Interceptions               145656\n",
       "Positioning                 145656\n",
       "Vision                      145656\n",
       "Penalties                   145656\n",
       "Composure                   145656\n",
       "Marking                     145656\n",
       "StandingTackle              145656\n",
       "SlidingTackle               145656\n",
       "GKDiving                    145656\n",
       "GKHandling                  145656\n",
       "GKKicking                   145656\n",
       "GKPositioning               145656\n",
       "GKReflexes                  145656\n",
       "Release Clause              145656\n",
       "Length: 88, dtype: int64"
      ]
     },
     "execution_count": 74,
     "metadata": {},
     "output_type": "execute_result"
    }
   ],
   "source": [
    "df_fifa.memory_usage()"
   ]
  },
  {
   "cell_type": "markdown",
   "metadata": {},
   "source": [
    "<div class=\"alert alert-block alert-info\">\n",
    "\n",
    "<i class=\"fa fa-info-circle\" aria-hidden=\"true\"></i>\n",
    "&nbsp;  Aunque el uso de información a este nivel __excede el nivel de este tutorial__, sí que puede ser útil ocasionalmente si se hace necesario reducir el tamaño del `DataFrame` en memoria. Por ejemplo, el siguiente código convierte el tipo de datos de la columna `Age` a un entero de un byte, con la correspondiente disminución en el tamaño de la estructura. \n",
    "</div>"
   ]
  },
  {
   "cell_type": "code",
   "execution_count": 75,
   "metadata": {},
   "outputs": [
    {
     "name": "stdout",
     "output_type": "stream",
     "text": [
      "Index                       801016\n",
      "Name                        145656\n",
      "Age                          18207\n",
      "Photo                       145656\n",
      "Nationality                 145656\n",
      "Flag                        145656\n",
      "Overall                     145656\n",
      "Potential                   145656\n",
      "Club                        145656\n",
      "Club Logo                   145656\n",
      "Value                       145656\n",
      "Wage                        145656\n",
      "Special                     145656\n",
      "Preferred Foot              145656\n",
      "International Reputation    145656\n",
      "Weak Foot                   145656\n",
      "Skill Moves                 145656\n",
      "Work Rate                   145656\n",
      "Body Type                   145656\n",
      "Real Face                   145656\n",
      "Position                    145656\n",
      "Jersey Number               145656\n",
      "Joined                      145656\n",
      "Loaned From                 145656\n",
      "Contract Valid Until        145656\n",
      "Height                      145656\n",
      "Weight                      145656\n",
      "LS                          145656\n",
      "ST                          145656\n",
      "RS                          145656\n",
      "                             ...  \n",
      "Dribbling                   145656\n",
      "Curve                       145656\n",
      "FKAccuracy                  145656\n",
      "LongPassing                 145656\n",
      "BallControl                 145656\n",
      "Acceleration                145656\n",
      "SprintSpeed                 145656\n",
      "Agility                     145656\n",
      "Reactions                   145656\n",
      "Balance                     145656\n",
      "ShotPower                   145656\n",
      "Jumping                     145656\n",
      "Stamina                     145656\n",
      "Strength                    145656\n",
      "LongShots                   145656\n",
      "Aggression                  145656\n",
      "Interceptions               145656\n",
      "Positioning                 145656\n",
      "Vision                      145656\n",
      "Penalties                   145656\n",
      "Composure                   145656\n",
      "Marking                     145656\n",
      "StandingTackle              145656\n",
      "SlidingTackle               145656\n",
      "GKDiving                    145656\n",
      "GKHandling                  145656\n",
      "GKKicking                   145656\n",
      "GKPositioning               145656\n",
      "GKReflexes                  145656\n",
      "Release Clause              145656\n",
      "Length: 88, dtype: int64\n"
     ]
    }
   ],
   "source": [
    "df_fifa['Age'] = df_fifa['Age'].astype(np.int8)\n",
    "print(df_fifa.memory_usage())"
   ]
  },
  {
   "cell_type": "markdown",
   "metadata": {},
   "source": [
    "Con respecto a los índices, tanto el propio índice como las columnas se representan con tipos de datos específicos que optimizan los accesos. Sin embargo, la colección de valores se representa internamente mediante un array _Numpy_ que es accesible a través del campo `values`. También se pueden convertir en listas mediante el método `tolist()`. "
   ]
  },
  {
   "cell_type": "code",
   "execution_count": 76,
   "metadata": {},
   "outputs": [
    {
     "name": "stdout",
     "output_type": "stream",
     "text": [
      "Columnas\n",
      "Index(['Name', 'Age', 'Photo', 'Nationality', 'Flag', 'Overall', 'Potential',\n",
      "       'Club', 'Club Logo', 'Value', 'Wage', 'Special', 'Preferred Foot',\n",
      "       'International Reputation', 'Weak Foot', 'Skill Moves', 'Work Rate',\n",
      "       'Body Type', 'Real Face', 'Position', 'Jersey Number', 'Joined',\n",
      "       'Loaned From', 'Contract Valid Until', 'Height', 'Weight', 'LS', 'ST',\n",
      "       'RS', 'LW', 'LF', 'CF', 'RF', 'RW', 'LAM', 'CAM', 'RAM', 'LM', 'LCM',\n",
      "       'CM', 'RCM', 'RM', 'LWB', 'LDM', 'CDM', 'RDM', 'RWB', 'LB', 'LCB', 'CB',\n",
      "       'RCB', 'RB', 'Crossing', 'Finishing', 'HeadingAccuracy', 'ShortPassing',\n",
      "       'Volleys', 'Dribbling', 'Curve', 'FKAccuracy', 'LongPassing',\n",
      "       'BallControl', 'Acceleration', 'SprintSpeed', 'Agility', 'Reactions',\n",
      "       'Balance', 'ShotPower', 'Jumping', 'Stamina', 'Strength', 'LongShots',\n",
      "       'Aggression', 'Interceptions', 'Positioning', 'Vision', 'Penalties',\n",
      "       'Composure', 'Marking', 'StandingTackle', 'SlidingTackle', 'GKDiving',\n",
      "       'GKHandling', 'GKKicking', 'GKPositioning', 'GKReflexes',\n",
      "       'Release Clause'],\n",
      "      dtype='object')\n",
      "\n",
      "Array interno (values): \n",
      "['Name' 'Age' 'Photo' 'Nationality' 'Flag' 'Overall' 'Potential' 'Club'\n",
      " 'Club Logo' 'Value' 'Wage' 'Special' 'Preferred Foot'\n",
      " 'International Reputation' 'Weak Foot' 'Skill Moves' 'Work Rate'\n",
      " 'Body Type' 'Real Face' 'Position' 'Jersey Number' 'Joined' 'Loaned From'\n",
      " 'Contract Valid Until' 'Height' 'Weight' 'LS' 'ST' 'RS' 'LW' 'LF' 'CF'\n",
      " 'RF' 'RW' 'LAM' 'CAM' 'RAM' 'LM' 'LCM' 'CM' 'RCM' 'RM' 'LWB' 'LDM' 'CDM'\n",
      " 'RDM' 'RWB' 'LB' 'LCB' 'CB' 'RCB' 'RB' 'Crossing' 'Finishing'\n",
      " 'HeadingAccuracy' 'ShortPassing' 'Volleys' 'Dribbling' 'Curve'\n",
      " 'FKAccuracy' 'LongPassing' 'BallControl' 'Acceleration' 'SprintSpeed'\n",
      " 'Agility' 'Reactions' 'Balance' 'ShotPower' 'Jumping' 'Stamina'\n",
      " 'Strength' 'LongShots' 'Aggression' 'Interceptions' 'Positioning'\n",
      " 'Vision' 'Penalties' 'Composure' 'Marking' 'StandingTackle'\n",
      " 'SlidingTackle' 'GKDiving' 'GKHandling' 'GKKicking' 'GKPositioning'\n",
      " 'GKReflexes' 'Release Clause']\n",
      "<class 'numpy.ndarray'>\n",
      "\n",
      "Como lista:\n",
      "['Name', 'Age', 'Photo', 'Nationality', 'Flag', 'Overall', 'Potential', 'Club', 'Club Logo', 'Value', 'Wage', 'Special', 'Preferred Foot', 'International Reputation', 'Weak Foot', 'Skill Moves', 'Work Rate', 'Body Type', 'Real Face', 'Position', 'Jersey Number', 'Joined', 'Loaned From', 'Contract Valid Until', 'Height', 'Weight', 'LS', 'ST', 'RS', 'LW', 'LF', 'CF', 'RF', 'RW', 'LAM', 'CAM', 'RAM', 'LM', 'LCM', 'CM', 'RCM', 'RM', 'LWB', 'LDM', 'CDM', 'RDM', 'RWB', 'LB', 'LCB', 'CB', 'RCB', 'RB', 'Crossing', 'Finishing', 'HeadingAccuracy', 'ShortPassing', 'Volleys', 'Dribbling', 'Curve', 'FKAccuracy', 'LongPassing', 'BallControl', 'Acceleration', 'SprintSpeed', 'Agility', 'Reactions', 'Balance', 'ShotPower', 'Jumping', 'Stamina', 'Strength', 'LongShots', 'Aggression', 'Interceptions', 'Positioning', 'Vision', 'Penalties', 'Composure', 'Marking', 'StandingTackle', 'SlidingTackle', 'GKDiving', 'GKHandling', 'GKKicking', 'GKPositioning', 'GKReflexes', 'Release Clause']\n",
      "<class 'list'>\n"
     ]
    }
   ],
   "source": [
    "print(\"Columnas\")\n",
    "print(df_fifa.columns)\n",
    "print(\"\\nArray interno (values): \")\n",
    "print(df_fifa.columns.values)\n",
    "print(type(df_fifa.columns.values))\n",
    "print(\"\\nComo lista:\")\n",
    "\n",
    "print(df_fifa.columns.tolist())\n",
    "print(type(df_fifa.columns.tolist()))"
   ]
  },
  {
   "cell_type": "markdown",
   "metadata": {},
   "source": [
    "<div style=\"text-align: right\">\n",
    "<a href=\"#indice\"><font size=5><i class=\"fa fa-arrow-circle-up\" aria-hidden=\"true\" style=\"color:#7F000E\"></i></font></a>\n",
    "</div>\n",
    "\n",
    "---\n",
    "\n",
    "<a id=\"section42\"></a> \n",
    "## <font color=\"#7F000E\">Lectura / escritura de DataFrames </font>\n",
    "<br>\n",
    "\n",
    "_Pandas_ proporciona funciones muy flexibles que permiten leer objetos `DataFrame` desde diversas fuentes de datos, como archivos csv, excel, JSON, HDF5, HTML, fuentes SQL, o incluso el portapapeles del sistema ([documentación](http://pandas.pydata.org/pandas-docs/version/0.20/io.html)). \n",
    "\n",
    "A continuación se describen los métodos que se utilizarán con más frecuencia en este curso.\n",
    "\n"
   ]
  },
  {
   "cell_type": "markdown",
   "metadata": {},
   "source": [
    "### <font color=\"#7F000E\">  Lectura y escritura de archivos en formato csv (_comma separated values_) </font>\n",
    "\n",
    "Se lleva a cabo mediante la función `read_csv()`. El parámetro `index_col` permite especificar si alguna de las columnas ha de ser utilizada como índice del `DataFrame`. Esta función acepta otros muchos parámetros, que permiten por ejemplo:\n",
    "* descartar líneas (`skiprows`)\n",
    "* elegir el separador entre columnas (`sep`)\n",
    "* especificar el nombre de cada columna (`names`)\n",
    "* especificar el tipo de datos de cada columna (`dtype`)\n",
    "* especificar qué valores se considerarán perdidos (`na_values`)\n",
    "* especificar el caracter con el que se delimitan cadenas de texto (`quotechar`)\n",
    "* etc.\n",
    "\n",
    "Además, puede acceder a la fuente de datos a través de una URL ([documentación](http://pandas.pydata.org/pandas-docs/stable/generated/pandas.read_csv.html))."
   ]
  },
  {
   "cell_type": "code",
   "execution_count": 77,
   "metadata": {},
   "outputs": [
    {
     "data": {
      "text/html": [
       "<div>\n",
       "<style scoped>\n",
       "    .dataframe tbody tr th:only-of-type {\n",
       "        vertical-align: middle;\n",
       "    }\n",
       "\n",
       "    .dataframe tbody tr th {\n",
       "        vertical-align: top;\n",
       "    }\n",
       "\n",
       "    .dataframe thead th {\n",
       "        text-align: right;\n",
       "    }\n",
       "</style>\n",
       "<table border=\"1\" class=\"dataframe\">\n",
       "  <thead>\n",
       "    <tr style=\"text-align: right;\">\n",
       "      <th></th>\n",
       "      <th>ID</th>\n",
       "      <th>Clase</th>\n",
       "      <th>Edad</th>\n",
       "      <th>Sexo</th>\n",
       "      <th>Superviviente</th>\n",
       "      <th>Código (Sexo)</th>\n",
       "    </tr>\n",
       "    <tr>\n",
       "      <th>Nombre</th>\n",
       "      <th></th>\n",
       "      <th></th>\n",
       "      <th></th>\n",
       "      <th></th>\n",
       "      <th></th>\n",
       "      <th></th>\n",
       "    </tr>\n",
       "  </thead>\n",
       "  <tbody>\n",
       "    <tr>\n",
       "      <th>Allen, Miss Elisabeth Walton</th>\n",
       "      <td>1</td>\n",
       "      <td>1st</td>\n",
       "      <td>29.00</td>\n",
       "      <td>female</td>\n",
       "      <td>1</td>\n",
       "      <td>1</td>\n",
       "    </tr>\n",
       "    <tr>\n",
       "      <th>Allison, Miss Helen Loraine</th>\n",
       "      <td>2</td>\n",
       "      <td>1st</td>\n",
       "      <td>2.00</td>\n",
       "      <td>female</td>\n",
       "      <td>0</td>\n",
       "      <td>1</td>\n",
       "    </tr>\n",
       "    <tr>\n",
       "      <th>Allison, Mr Hudson Joshua Creighton</th>\n",
       "      <td>3</td>\n",
       "      <td>1st</td>\n",
       "      <td>30.00</td>\n",
       "      <td>male</td>\n",
       "      <td>0</td>\n",
       "      <td>0</td>\n",
       "    </tr>\n",
       "    <tr>\n",
       "      <th>Allison, Mrs Hudson JC (Bessie Waldo Daniels)</th>\n",
       "      <td>4</td>\n",
       "      <td>1st</td>\n",
       "      <td>25.00</td>\n",
       "      <td>female</td>\n",
       "      <td>0</td>\n",
       "      <td>1</td>\n",
       "    </tr>\n",
       "    <tr>\n",
       "      <th>Allison, Master Hudson Trevor</th>\n",
       "      <td>5</td>\n",
       "      <td>1st</td>\n",
       "      <td>0.92</td>\n",
       "      <td>male</td>\n",
       "      <td>1</td>\n",
       "      <td>0</td>\n",
       "    </tr>\n",
       "  </tbody>\n",
       "</table>\n",
       "</div>"
      ],
      "text/plain": [
       "                                               ID Clase   Edad    Sexo  \\\n",
       "Nombre                                                                   \n",
       "Allen, Miss Elisabeth Walton                    1   1st  29.00  female   \n",
       "Allison, Miss Helen Loraine                     2   1st   2.00  female   \n",
       "Allison, Mr Hudson Joshua Creighton             3   1st  30.00    male   \n",
       "Allison, Mrs Hudson JC (Bessie Waldo Daniels)   4   1st  25.00  female   \n",
       "Allison, Master Hudson Trevor                   5   1st   0.92    male   \n",
       "\n",
       "                                               Superviviente  Código (Sexo)  \n",
       "Nombre                                                                       \n",
       "Allen, Miss Elisabeth Walton                               1              1  \n",
       "Allison, Miss Helen Loraine                                0              1  \n",
       "Allison, Mr Hudson Joshua Creighton                        0              0  \n",
       "Allison, Mrs Hudson JC (Bessie Waldo Daniels)              0              1  \n",
       "Allison, Master Hudson Trevor                              1              0  "
      ]
     },
     "execution_count": 77,
     "metadata": {},
     "output_type": "execute_result"
    }
   ],
   "source": [
    "#df_titanic = pd.read_csv('data/Titanic.csv', index_col=0, sep=',')\n",
    "#df = pd.read_csv('https://vincentarelbundock.github.io/Rdatasets/csv/datasets/Titanic.csv', index_col=0)\n",
    "df_titanic = pd.read_csv('data/Titanic.csv', sep=',', skiprows=1, index_col=1,\n",
    "                         names=['ID','Nombre','Clase','Edad','Sexo','Superviviente','Código (Sexo)'])\n",
    "df_titanic.head()"
   ]
  },
  {
   "cell_type": "markdown",
   "metadata": {},
   "source": [
    "La escritura se lleva a cabo mediante la función `to_csv()`. Ésta acepta parámetros relativos al contenido:`header` o `index` para escribir los nombres de columnas o filas, `na_rep` para representación de los valores perdidos, etc. También acepta un parámetro denominado `encoding`, para establecer la codificación de los caracteres [(documentación)](https://pandas.pydata.org/pandas-docs/stable/reference/api/pandas.DataFrame.to_csv.html).\n",
    "\n",
    "<div class=\"alert alert-block alert-info\">\n",
    "\n",
    "<i class=\"fa fa-info-circle\" aria-hidden=\"true\"></i>\n",
    "Ambos métodos admiten un parámetro, denominado `compress` que permite leer/escribir directamente desde archivos comprimidos (más lento).\n",
    "</div>"
   ]
  },
  {
   "cell_type": "code",
   "execution_count": 78,
   "metadata": {},
   "outputs": [],
   "source": [
    "df_titanic.to_csv('data/Titanic.zip', sep=';', header=True, encoding='utf-8', compression='gzip')"
   ]
  },
  {
   "cell_type": "markdown",
   "metadata": {},
   "source": [
    "---\n",
    "### <font color=\"#7F000E\">  Lectura y escritura de archivos en formato excel </font>\n",
    "\n",
    "Se hace mediante la función `read_excel()`. Al igual que la anterior, permite especificar numerosos parámetros como la hoja concreta del archivo (`sheet_name`), tipos de datos, etc ([documentación](https://pandas.pydata.org/pandas-docs/stable/generated/pandas.read_excel.html)). También es posible exportar un `DataFrame` a formato Excel mediante la función `to_excel()` [(documentación)]( https://pandas.pydata.org/pandas-docs/stable/reference/api/pandas.DataFrame.to_excel.html)."
   ]
  },
  {
   "cell_type": "code",
   "execution_count": 79,
   "metadata": {},
   "outputs": [
    {
     "data": {
      "text/html": [
       "<div>\n",
       "<style scoped>\n",
       "    .dataframe tbody tr th:only-of-type {\n",
       "        vertical-align: middle;\n",
       "    }\n",
       "\n",
       "    .dataframe tbody tr th {\n",
       "        vertical-align: top;\n",
       "    }\n",
       "\n",
       "    .dataframe thead th {\n",
       "        text-align: right;\n",
       "    }\n",
       "</style>\n",
       "<table border=\"1\" class=\"dataframe\">\n",
       "  <thead>\n",
       "    <tr style=\"text-align: right;\">\n",
       "      <th></th>\n",
       "      <th>Nombre</th>\n",
       "      <th>Clase</th>\n",
       "      <th>Edad</th>\n",
       "      <th>Sexo</th>\n",
       "      <th>Superviviente</th>\n",
       "      <th>Código (Sexo)</th>\n",
       "    </tr>\n",
       "    <tr>\n",
       "      <th>ID</th>\n",
       "      <th></th>\n",
       "      <th></th>\n",
       "      <th></th>\n",
       "      <th></th>\n",
       "      <th></th>\n",
       "      <th></th>\n",
       "    </tr>\n",
       "  </thead>\n",
       "  <tbody>\n",
       "    <tr>\n",
       "      <th>1</th>\n",
       "      <td>Allen, Miss Elisabeth Walton</td>\n",
       "      <td>1st</td>\n",
       "      <td>29.00</td>\n",
       "      <td>female</td>\n",
       "      <td>1</td>\n",
       "      <td>1</td>\n",
       "    </tr>\n",
       "    <tr>\n",
       "      <th>2</th>\n",
       "      <td>Allison, Miss Helen Loraine</td>\n",
       "      <td>1st</td>\n",
       "      <td>2.00</td>\n",
       "      <td>female</td>\n",
       "      <td>0</td>\n",
       "      <td>1</td>\n",
       "    </tr>\n",
       "    <tr>\n",
       "      <th>3</th>\n",
       "      <td>Allison, Mr Hudson Joshua Creighton</td>\n",
       "      <td>1st</td>\n",
       "      <td>30.00</td>\n",
       "      <td>male</td>\n",
       "      <td>0</td>\n",
       "      <td>0</td>\n",
       "    </tr>\n",
       "    <tr>\n",
       "      <th>4</th>\n",
       "      <td>Allison, Mrs Hudson JC (Bessie Waldo Daniels)</td>\n",
       "      <td>1st</td>\n",
       "      <td>25.00</td>\n",
       "      <td>female</td>\n",
       "      <td>0</td>\n",
       "      <td>1</td>\n",
       "    </tr>\n",
       "    <tr>\n",
       "      <th>5</th>\n",
       "      <td>Allison, Master Hudson Trevor</td>\n",
       "      <td>1st</td>\n",
       "      <td>0.92</td>\n",
       "      <td>male</td>\n",
       "      <td>1</td>\n",
       "      <td>0</td>\n",
       "    </tr>\n",
       "  </tbody>\n",
       "</table>\n",
       "</div>"
      ],
      "text/plain": [
       "                                           Nombre Clase   Edad    Sexo  \\\n",
       "ID                                                                       \n",
       "1                    Allen, Miss Elisabeth Walton   1st  29.00  female   \n",
       "2                     Allison, Miss Helen Loraine   1st   2.00  female   \n",
       "3             Allison, Mr Hudson Joshua Creighton   1st  30.00    male   \n",
       "4   Allison, Mrs Hudson JC (Bessie Waldo Daniels)   1st  25.00  female   \n",
       "5                   Allison, Master Hudson Trevor   1st   0.92    male   \n",
       "\n",
       "    Superviviente  Código (Sexo)  \n",
       "ID                                \n",
       "1               1              1  \n",
       "2               0              1  \n",
       "3               0              0  \n",
       "4               0              1  \n",
       "5               1              0  "
      ]
     },
     "execution_count": 79,
     "metadata": {},
     "output_type": "execute_result"
    }
   ],
   "source": [
    "df_titanic = pd.read_excel('data/Titanic.xls', sheet_name='Hoja1', skiprows=0, index_col=0,names=['Nombre','Clase','Edad','Sexo','Superviviente','Código (Sexo)'])\n",
    "df_titanic.head()"
   ]
  },
  {
   "cell_type": "markdown",
   "metadata": {},
   "source": [
    "<div class=\"alert alert-block alert-danger\">\n",
    "\n",
    "<i class=\"fa fa-exclamation-triangle\" aria-hidden=\"true\"></i>\n",
    " Para trabajar con excel es necesario instalar el paquete `xlrd`.\n",
    "</div>"
   ]
  },
  {
   "cell_type": "code",
   "execution_count": 80,
   "metadata": {},
   "outputs": [
    {
     "name": "stdout",
     "output_type": "stream",
     "text": [
      "Requirement already satisfied: xlrd in c:\\users\\yuri\\anaconda3\\lib\\site-packages (1.1.0)\n"
     ]
    },
    {
     "name": "stderr",
     "output_type": "stream",
     "text": [
      "distributed 1.21.8 requires msgpack, which is not installed.\n",
      "You are using pip version 10.0.1, however version 20.2.2 is available.\n",
      "You should consider upgrading via the 'python -m pip install --upgrade pip' command.\n"
     ]
    }
   ],
   "source": [
    "!pip install xlrd"
   ]
  },
  {
   "cell_type": "markdown",
   "metadata": {},
   "source": [
    "Existen objetos, denominados `pd.ExcelFile` y `pd.ExcelWriter` que permiten leer y escribir, respectivamente, archivos Excel. Su funcionalidad es similar a la de los métodos descritos anteriormente. "
   ]
  },
  {
   "cell_type": "code",
   "execution_count": 81,
   "metadata": {},
   "outputs": [
    {
     "name": "stdout",
     "output_type": "stream",
     "text": [
      "Hojas:  ['Hoja1']\n"
     ]
    },
    {
     "data": {
      "text/html": [
       "<div>\n",
       "<style scoped>\n",
       "    .dataframe tbody tr th:only-of-type {\n",
       "        vertical-align: middle;\n",
       "    }\n",
       "\n",
       "    .dataframe tbody tr th {\n",
       "        vertical-align: top;\n",
       "    }\n",
       "\n",
       "    .dataframe thead th {\n",
       "        text-align: right;\n",
       "    }\n",
       "</style>\n",
       "<table border=\"1\" class=\"dataframe\">\n",
       "  <thead>\n",
       "    <tr style=\"text-align: right;\">\n",
       "      <th></th>\n",
       "      <th>Nombre</th>\n",
       "      <th>Clase</th>\n",
       "      <th>Edad</th>\n",
       "      <th>Sexo</th>\n",
       "      <th>Superviviente</th>\n",
       "      <th>Código (Sexo)</th>\n",
       "    </tr>\n",
       "    <tr>\n",
       "      <th>Name</th>\n",
       "      <th></th>\n",
       "      <th></th>\n",
       "      <th></th>\n",
       "      <th></th>\n",
       "      <th></th>\n",
       "      <th></th>\n",
       "    </tr>\n",
       "  </thead>\n",
       "  <tbody>\n",
       "    <tr>\n",
       "      <th>Allen, Miss Elisabeth Walton</th>\n",
       "      <td>1</td>\n",
       "      <td>1st</td>\n",
       "      <td>29.00</td>\n",
       "      <td>female</td>\n",
       "      <td>1</td>\n",
       "      <td>1</td>\n",
       "    </tr>\n",
       "    <tr>\n",
       "      <th>Allison, Miss Helen Loraine</th>\n",
       "      <td>2</td>\n",
       "      <td>1st</td>\n",
       "      <td>2.00</td>\n",
       "      <td>female</td>\n",
       "      <td>0</td>\n",
       "      <td>1</td>\n",
       "    </tr>\n",
       "    <tr>\n",
       "      <th>Allison, Mr Hudson Joshua Creighton</th>\n",
       "      <td>3</td>\n",
       "      <td>1st</td>\n",
       "      <td>30.00</td>\n",
       "      <td>male</td>\n",
       "      <td>0</td>\n",
       "      <td>0</td>\n",
       "    </tr>\n",
       "    <tr>\n",
       "      <th>Allison, Mrs Hudson JC (Bessie Waldo Daniels)</th>\n",
       "      <td>4</td>\n",
       "      <td>1st</td>\n",
       "      <td>25.00</td>\n",
       "      <td>female</td>\n",
       "      <td>0</td>\n",
       "      <td>1</td>\n",
       "    </tr>\n",
       "    <tr>\n",
       "      <th>Allison, Master Hudson Trevor</th>\n",
       "      <td>5</td>\n",
       "      <td>1st</td>\n",
       "      <td>0.92</td>\n",
       "      <td>male</td>\n",
       "      <td>1</td>\n",
       "      <td>0</td>\n",
       "    </tr>\n",
       "  </tbody>\n",
       "</table>\n",
       "</div>"
      ],
      "text/plain": [
       "                                               Nombre Clase   Edad    Sexo  \\\n",
       "Name                                                                         \n",
       "Allen, Miss Elisabeth Walton                        1   1st  29.00  female   \n",
       "Allison, Miss Helen Loraine                         2   1st   2.00  female   \n",
       "Allison, Mr Hudson Joshua Creighton                 3   1st  30.00    male   \n",
       "Allison, Mrs Hudson JC (Bessie Waldo Daniels)       4   1st  25.00  female   \n",
       "Allison, Master Hudson Trevor                       5   1st   0.92    male   \n",
       "\n",
       "                                               Superviviente  Código (Sexo)  \n",
       "Name                                                                         \n",
       "Allen, Miss Elisabeth Walton                               1              1  \n",
       "Allison, Miss Helen Loraine                                0              1  \n",
       "Allison, Mr Hudson Joshua Creighton                        0              0  \n",
       "Allison, Mrs Hudson JC (Bessie Waldo Daniels)              0              1  \n",
       "Allison, Master Hudson Trevor                              1              0  "
      ]
     },
     "execution_count": 81,
     "metadata": {},
     "output_type": "execute_result"
    }
   ],
   "source": [
    "excel_titanic = pd.ExcelFile('data/Titanic.xls')\n",
    "print(\"Hojas: \", excel_titanic.sheet_names)\n",
    "\n",
    "df_titanic = excel_titanic.parse('Hoja1', names=['Nombre','Clase','Edad','Sexo','Superviviente','Código (Sexo)'], index_col=1)\n",
    "df_titanic.head()"
   ]
  },
  {
   "cell_type": "markdown",
   "metadata": {},
   "source": [
    "### <font color=\"#7F000E\">  Lectura y escritura de archivos en formato JSON </font>\n",
    "\n",
    "La función `read_json()` permite leer un `DataFrame` a partir de un conjunto de datos en formato JSON. También acepta como parámetro un `String`. El formato del objeto JSON ha de ajustarse al del `DataFrame`, y puede ser indicado a través del parámetro `orient` que, en este caso, además de `columns` e `index`, puede tomar los valores `split`, `records`, `index`, `columns` y `values` ([documentación](https://pandas.pydata.org/pandas-docs/stable/generated/pandas.read_json.html)). "
   ]
  },
  {
   "cell_type": "code",
   "execution_count": 82,
   "metadata": {},
   "outputs": [
    {
     "data": {
      "text/html": [
       "<div>\n",
       "<style scoped>\n",
       "    .dataframe tbody tr th:only-of-type {\n",
       "        vertical-align: middle;\n",
       "    }\n",
       "\n",
       "    .dataframe tbody tr th {\n",
       "        vertical-align: top;\n",
       "    }\n",
       "\n",
       "    .dataframe thead th {\n",
       "        text-align: right;\n",
       "    }\n",
       "</style>\n",
       "<table border=\"1\" class=\"dataframe\">\n",
       "  <thead>\n",
       "    <tr style=\"text-align: right;\">\n",
       "      <th></th>\n",
       "      <th>integer</th>\n",
       "      <th>datetime</th>\n",
       "      <th>category</th>\n",
       "    </tr>\n",
       "  </thead>\n",
       "  <tbody>\n",
       "    <tr>\n",
       "      <th>0</th>\n",
       "      <td>5</td>\n",
       "      <td>2015-01-01 00:00:00</td>\n",
       "      <td>0</td>\n",
       "    </tr>\n",
       "    <tr>\n",
       "      <th>1</th>\n",
       "      <td>5</td>\n",
       "      <td>2015-01-01 00:00:01</td>\n",
       "      <td>0</td>\n",
       "    </tr>\n",
       "    <tr>\n",
       "      <th>10</th>\n",
       "      <td>5</td>\n",
       "      <td>2015-01-01 00:00:10</td>\n",
       "      <td>0</td>\n",
       "    </tr>\n",
       "    <tr>\n",
       "      <th>11</th>\n",
       "      <td>5</td>\n",
       "      <td>2015-01-01 00:00:11</td>\n",
       "      <td>0</td>\n",
       "    </tr>\n",
       "    <tr>\n",
       "      <th>12</th>\n",
       "      <td>8</td>\n",
       "      <td>2015-01-01 00:00:12</td>\n",
       "      <td>0</td>\n",
       "    </tr>\n",
       "  </tbody>\n",
       "</table>\n",
       "</div>"
      ],
      "text/plain": [
       "    integer            datetime  category\n",
       "0         5 2015-01-01 00:00:00         0\n",
       "1         5 2015-01-01 00:00:01         0\n",
       "10        5 2015-01-01 00:00:10         0\n",
       "11        5 2015-01-01 00:00:11         0\n",
       "12        8 2015-01-01 00:00:12         0"
      ]
     },
     "execution_count": 82,
     "metadata": {},
     "output_type": "execute_result"
    }
   ],
   "source": [
    "url = 'http://raw.githubusercontent.com/chrisalbon/simulated_datasets/master/data.json'\n",
    "df_json = pd.read_json(url, orient='records')\n",
    "df_json.head(5)"
   ]
  },
  {
   "cell_type": "markdown",
   "metadata": {},
   "source": [
    "La función `to_json()` permite exportar el `DataFrame` a un String con formato JSON. También admite el parámetro `orient`."
   ]
  },
  {
   "cell_type": "code",
   "execution_count": 83,
   "metadata": {},
   "outputs": [
    {
     "data": {
      "text/plain": [
       "{'Nombre': {'Allen, Miss Elisabeth Walton': 1,\n",
       "  'Allison, Miss Helen Loraine': 2,\n",
       "  'Allison, Mr Hudson Joshua Creighton': 3,\n",
       "  'Allison, Mrs Hudson JC (Bessie Waldo Daniels)': 4,\n",
       "  'Allison, Master Hudson Trevor': 5},\n",
       " 'Clase': {'Allen, Miss Elisabeth Walton': '1st',\n",
       "  'Allison, Miss Helen Loraine': '1st',\n",
       "  'Allison, Mr Hudson Joshua Creighton': '1st',\n",
       "  'Allison, Mrs Hudson JC (Bessie Waldo Daniels)': '1st',\n",
       "  'Allison, Master Hudson Trevor': '1st'},\n",
       " 'Edad': {'Allen, Miss Elisabeth Walton': 29.0,\n",
       "  'Allison, Miss Helen Loraine': 2.0,\n",
       "  'Allison, Mr Hudson Joshua Creighton': 30.0,\n",
       "  'Allison, Mrs Hudson JC (Bessie Waldo Daniels)': 25.0,\n",
       "  'Allison, Master Hudson Trevor': 0.92},\n",
       " 'Sexo': {'Allen, Miss Elisabeth Walton': 'female',\n",
       "  'Allison, Miss Helen Loraine': 'female',\n",
       "  'Allison, Mr Hudson Joshua Creighton': 'male',\n",
       "  'Allison, Mrs Hudson JC (Bessie Waldo Daniels)': 'female',\n",
       "  'Allison, Master Hudson Trevor': 'male'},\n",
       " 'Superviviente': {'Allen, Miss Elisabeth Walton': 1,\n",
       "  'Allison, Miss Helen Loraine': 0,\n",
       "  'Allison, Mr Hudson Joshua Creighton': 0,\n",
       "  'Allison, Mrs Hudson JC (Bessie Waldo Daniels)': 0,\n",
       "  'Allison, Master Hudson Trevor': 1},\n",
       " 'Código (Sexo)': {'Allen, Miss Elisabeth Walton': 1,\n",
       "  'Allison, Miss Helen Loraine': 1,\n",
       "  'Allison, Mr Hudson Joshua Creighton': 0,\n",
       "  'Allison, Mrs Hudson JC (Bessie Waldo Daniels)': 1,\n",
       "  'Allison, Master Hudson Trevor': 0}}"
      ]
     },
     "execution_count": 83,
     "metadata": {},
     "output_type": "execute_result"
    }
   ],
   "source": [
    "import json\n",
    "\n",
    "json_titanic = json.loads(df_titanic.head().to_json(orient='columns'))\n",
    "#json_titanic = json.loads(df_titanic.head().to_json(orient='split'))\n",
    "#json_titanic = json.loads(df_titanic.head(2).to_json(orient='records'))\n",
    "json_titanic\n",
    "\n",
    "#json_titanic = json.loads(df_titanic.head().to_json(orient='table'))\n",
    "#json_titanic['data'][1]['index']"
   ]
  },
  {
   "cell_type": "markdown",
   "metadata": {},
   "source": [
    "### <font color=\"#7F000E\">  Lectura y escritura sobre bases de datos SQL</font>\n",
    "\n",
    "Pandas proporciona métodos para leer y escribir `DataFrame` en bases de datos SQL. En todos ellos es necesario proporcionar una conexión a la base de datos. \n",
    "\n",
    "El método `read_sql_table` lee una tabla de una base de datos (necesita una conexión) y la almacena en un `DataFrame`."
   ]
  },
  {
   "cell_type": "code",
   "execution_count": 84,
   "metadata": {},
   "outputs": [
    {
     "data": {
      "text/html": [
       "<div>\n",
       "<style scoped>\n",
       "    .dataframe tbody tr th:only-of-type {\n",
       "        vertical-align: middle;\n",
       "    }\n",
       "\n",
       "    .dataframe tbody tr th {\n",
       "        vertical-align: top;\n",
       "    }\n",
       "\n",
       "    .dataframe thead th {\n",
       "        text-align: right;\n",
       "    }\n",
       "</style>\n",
       "<table border=\"1\" class=\"dataframe\">\n",
       "  <thead>\n",
       "    <tr style=\"text-align: right;\">\n",
       "      <th></th>\n",
       "      <th>Apellido</th>\n",
       "      <th>Nombre</th>\n",
       "    </tr>\n",
       "    <tr>\n",
       "      <th>id</th>\n",
       "      <th></th>\n",
       "      <th></th>\n",
       "    </tr>\n",
       "  </thead>\n",
       "  <tbody>\n",
       "    <tr>\n",
       "      <th>1</th>\n",
       "      <td>Felix</td>\n",
       "      <td>Joao</td>\n",
       "    </tr>\n",
       "    <tr>\n",
       "      <th>2</th>\n",
       "      <td>Nadal</td>\n",
       "      <td>Rafael</td>\n",
       "    </tr>\n",
       "    <tr>\n",
       "      <th>3</th>\n",
       "      <td>Gasol</td>\n",
       "      <td>Pau</td>\n",
       "    </tr>\n",
       "    <tr>\n",
       "      <th>4</th>\n",
       "      <td>Godín</td>\n",
       "      <td>Diego</td>\n",
       "    </tr>\n",
       "    <tr>\n",
       "      <th>5</th>\n",
       "      <td>Llul</td>\n",
       "      <td>Sergio</td>\n",
       "    </tr>\n",
       "    <tr>\n",
       "      <th>6</th>\n",
       "      <td>Ñíguez</td>\n",
       "      <td>Saúl</td>\n",
       "    </tr>\n",
       "  </tbody>\n",
       "</table>\n",
       "</div>"
      ],
      "text/plain": [
       "   Apellido  Nombre\n",
       "id                 \n",
       "1     Felix    Joao\n",
       "2     Nadal  Rafael\n",
       "3     Gasol     Pau\n",
       "4     Godín   Diego\n",
       "5      Llul  Sergio\n",
       "6    Ñíguez    Saúl"
      ]
     },
     "execution_count": 84,
     "metadata": {},
     "output_type": "execute_result"
    }
   ],
   "source": [
    "from sqlalchemy import create_engine\n",
    "\n",
    "# Crea una conexión a una base de datos sqlite\n",
    "engine = create_engine('sqlite:///data/deportes.db')   \n",
    "\n",
    "# Lee la tabla\n",
    "df_persona = pd.read_sql_table(\"persona\", engine, index_col=\"id\")\n",
    "df_persona"
   ]
  },
  {
   "cell_type": "markdown",
   "metadata": {},
   "source": [
    "La función `read_sql_query` permite hacer consultas sobre la base de datos y almacenar el resultado en un _DataFrame_."
   ]
  },
  {
   "cell_type": "code",
   "execution_count": 85,
   "metadata": {},
   "outputs": [
    {
     "data": {
      "text/html": [
       "<div>\n",
       "<style scoped>\n",
       "    .dataframe tbody tr th:only-of-type {\n",
       "        vertical-align: middle;\n",
       "    }\n",
       "\n",
       "    .dataframe tbody tr th {\n",
       "        vertical-align: top;\n",
       "    }\n",
       "\n",
       "    .dataframe thead th {\n",
       "        text-align: right;\n",
       "    }\n",
       "</style>\n",
       "<table border=\"1\" class=\"dataframe\">\n",
       "  <thead>\n",
       "    <tr style=\"text-align: right;\">\n",
       "      <th></th>\n",
       "      <th>Apellido</th>\n",
       "      <th>Nombre</th>\n",
       "      <th>Equipo</th>\n",
       "      <th>Deporte</th>\n",
       "    </tr>\n",
       "    <tr>\n",
       "      <th>id</th>\n",
       "      <th></th>\n",
       "      <th></th>\n",
       "      <th></th>\n",
       "      <th></th>\n",
       "    </tr>\n",
       "  </thead>\n",
       "  <tbody>\n",
       "    <tr>\n",
       "      <th>1</th>\n",
       "      <td>Felix</td>\n",
       "      <td>Joao</td>\n",
       "      <td>At. Madrid</td>\n",
       "      <td>Fútbol</td>\n",
       "    </tr>\n",
       "    <tr>\n",
       "      <th>3</th>\n",
       "      <td>Gasol</td>\n",
       "      <td>Pau</td>\n",
       "      <td>Porland</td>\n",
       "      <td>Baloncesto</td>\n",
       "    </tr>\n",
       "    <tr>\n",
       "      <th>4</th>\n",
       "      <td>Godín</td>\n",
       "      <td>Diego</td>\n",
       "      <td>Int. Milán</td>\n",
       "      <td>Fútbol</td>\n",
       "    </tr>\n",
       "    <tr>\n",
       "      <th>5</th>\n",
       "      <td>Llul</td>\n",
       "      <td>Sergio</td>\n",
       "      <td>R. Madrid</td>\n",
       "      <td>Baloncesto</td>\n",
       "    </tr>\n",
       "  </tbody>\n",
       "</table>\n",
       "</div>"
      ],
      "text/plain": [
       "   Apellido  Nombre      Equipo     Deporte\n",
       "id                                         \n",
       "1     Felix    Joao  At. Madrid      Fútbol\n",
       "3     Gasol     Pau     Porland  Baloncesto\n",
       "4     Godín   Diego  Int. Milán      Fútbol\n",
       "5      Llul  Sergio   R. Madrid  Baloncesto"
      ]
     },
     "execution_count": 85,
     "metadata": {},
     "output_type": "execute_result"
    }
   ],
   "source": [
    "query = r'SELECT p.ID, p.Apellido, p.Nombre, e.Equipo, e.Deporte FROM persona p, equipo e WHERE p.ID == e.ID'\n",
    "\n",
    "df_persona_equipo = pd.read_sql_query(query, engine, index_col=\"id\")\n",
    "df_persona_equipo"
   ]
  },
  {
   "cell_type": "markdown",
   "metadata": {},
   "source": [
    "<div class=\"alert alert-block alert-info\">\n",
    "    \n",
    "<i class=\"fa fa-info-circle\" aria-hidden=\"true\"></i> La función `read_sql` llama a una u otra según los parámetros.\n",
    "</div>"
   ]
  },
  {
   "cell_type": "code",
   "execution_count": 86,
   "metadata": {},
   "outputs": [
    {
     "data": {
      "text/html": [
       "<div>\n",
       "<style scoped>\n",
       "    .dataframe tbody tr th:only-of-type {\n",
       "        vertical-align: middle;\n",
       "    }\n",
       "\n",
       "    .dataframe tbody tr th {\n",
       "        vertical-align: top;\n",
       "    }\n",
       "\n",
       "    .dataframe thead th {\n",
       "        text-align: right;\n",
       "    }\n",
       "</style>\n",
       "<table border=\"1\" class=\"dataframe\">\n",
       "  <thead>\n",
       "    <tr style=\"text-align: right;\">\n",
       "      <th></th>\n",
       "      <th>Apellido</th>\n",
       "      <th>Nombre</th>\n",
       "    </tr>\n",
       "    <tr>\n",
       "      <th>id</th>\n",
       "      <th></th>\n",
       "      <th></th>\n",
       "    </tr>\n",
       "  </thead>\n",
       "  <tbody>\n",
       "    <tr>\n",
       "      <th>1</th>\n",
       "      <td>Felix</td>\n",
       "      <td>Joao</td>\n",
       "    </tr>\n",
       "    <tr>\n",
       "      <th>2</th>\n",
       "      <td>Nadal</td>\n",
       "      <td>Rafael</td>\n",
       "    </tr>\n",
       "    <tr>\n",
       "      <th>3</th>\n",
       "      <td>Gasol</td>\n",
       "      <td>Pau</td>\n",
       "    </tr>\n",
       "    <tr>\n",
       "      <th>4</th>\n",
       "      <td>Godín</td>\n",
       "      <td>Diego</td>\n",
       "    </tr>\n",
       "    <tr>\n",
       "      <th>5</th>\n",
       "      <td>Llul</td>\n",
       "      <td>Sergio</td>\n",
       "    </tr>\n",
       "    <tr>\n",
       "      <th>6</th>\n",
       "      <td>Ñíguez</td>\n",
       "      <td>Saúl</td>\n",
       "    </tr>\n",
       "  </tbody>\n",
       "</table>\n",
       "</div>"
      ],
      "text/plain": [
       "   Apellido  Nombre\n",
       "id                 \n",
       "1     Felix    Joao\n",
       "2     Nadal  Rafael\n",
       "3     Gasol     Pau\n",
       "4     Godín   Diego\n",
       "5      Llul  Sergio\n",
       "6    Ñíguez    Saúl"
      ]
     },
     "execution_count": 86,
     "metadata": {},
     "output_type": "execute_result"
    }
   ],
   "source": [
    "pd.read_sql(\"persona\", engine, index_col=\"id\")\n",
    "#pd.read_sql(query, engine, index_col=\"id\")"
   ]
  },
  {
   "cell_type": "markdown",
   "metadata": {},
   "source": [
    "<div class=\"alert alert-block alert-info\">\n",
    "    \n",
    "<i class=\"fa fa-info-circle\" aria-hidden=\"true\"></i> Existen módulos que permiten trabajar directamente con algunos tipos de bases de datos.\n",
    "</div>"
   ]
  },
  {
   "cell_type": "code",
   "execution_count": 87,
   "metadata": {},
   "outputs": [
    {
     "data": {
      "text/html": [
       "<div>\n",
       "<style scoped>\n",
       "    .dataframe tbody tr th:only-of-type {\n",
       "        vertical-align: middle;\n",
       "    }\n",
       "\n",
       "    .dataframe tbody tr th {\n",
       "        vertical-align: top;\n",
       "    }\n",
       "\n",
       "    .dataframe thead th {\n",
       "        text-align: right;\n",
       "    }\n",
       "</style>\n",
       "<table border=\"1\" class=\"dataframe\">\n",
       "  <thead>\n",
       "    <tr style=\"text-align: right;\">\n",
       "      <th></th>\n",
       "      <th>Apellido</th>\n",
       "      <th>Nombre</th>\n",
       "      <th>Equipo</th>\n",
       "      <th>Deporte</th>\n",
       "    </tr>\n",
       "    <tr>\n",
       "      <th>id</th>\n",
       "      <th></th>\n",
       "      <th></th>\n",
       "      <th></th>\n",
       "      <th></th>\n",
       "    </tr>\n",
       "  </thead>\n",
       "  <tbody>\n",
       "    <tr>\n",
       "      <th>1</th>\n",
       "      <td>Felix</td>\n",
       "      <td>Joao</td>\n",
       "      <td>At. Madrid</td>\n",
       "      <td>Fútbol</td>\n",
       "    </tr>\n",
       "    <tr>\n",
       "      <th>3</th>\n",
       "      <td>Gasol</td>\n",
       "      <td>Pau</td>\n",
       "      <td>Porland</td>\n",
       "      <td>Baloncesto</td>\n",
       "    </tr>\n",
       "    <tr>\n",
       "      <th>4</th>\n",
       "      <td>Godín</td>\n",
       "      <td>Diego</td>\n",
       "      <td>Int. Milán</td>\n",
       "      <td>Fútbol</td>\n",
       "    </tr>\n",
       "    <tr>\n",
       "      <th>5</th>\n",
       "      <td>Llul</td>\n",
       "      <td>Sergio</td>\n",
       "      <td>R. Madrid</td>\n",
       "      <td>Baloncesto</td>\n",
       "    </tr>\n",
       "  </tbody>\n",
       "</table>\n",
       "</div>"
      ],
      "text/plain": [
       "   Apellido  Nombre      Equipo     Deporte\n",
       "id                                         \n",
       "1     Felix    Joao  At. Madrid      Fútbol\n",
       "3     Gasol     Pau     Porland  Baloncesto\n",
       "4     Godín   Diego  Int. Milán      Fútbol\n",
       "5      Llul  Sergio   R. Madrid  Baloncesto"
      ]
     },
     "execution_count": 87,
     "metadata": {},
     "output_type": "execute_result"
    }
   ],
   "source": [
    "import sqlite3 # Bases de datos sqlite\n",
    "conn = sqlite3.connect(\"data/deportes.db\")\n",
    "df_persona_equipo = pd.read_sql_query(query, conn, index_col=\"id\")\n",
    "conn.close()\n",
    "\n",
    "df_persona_equipo"
   ]
  },
  {
   "cell_type": "markdown",
   "metadata": {},
   "source": [
    "La función `to_sql` permite almacenar `DataFrame` en tablas SQL."
   ]
  },
  {
   "cell_type": "code",
   "execution_count": 88,
   "metadata": {},
   "outputs": [],
   "source": [
    "engine = create_engine('sqlite:///data/titanic.db')    # Lee de una base de datos sqlite\n",
    "\n",
    "#df_titanic.to_sql('titanic', con=engine) # Da error si el archivo existe ya."
   ]
  },
  {
   "cell_type": "markdown",
   "metadata": {},
   "source": [
    "<div style=\"text-align: right\">\n",
    "<a href=\"#indice\"><font size=5><i class=\"fa fa-arrow-circle-up\" aria-hidden=\"true\" style=\"color:#7F000E\"></i></font></a>\n",
    "</div>\n",
    "\n",
    "---\n",
    "\n",
    "<a id=\"section43\"></a> \n",
    "## <font color=\"#7F000E\">Construcción de DataFrames </font>\n",
    "<br>\n",
    "\n",
    "Existen _múltiples formas_ de crear un objeto `DataFrame` a partir de otros objetos como colecciones, diccionarios, series, etc. Éstas son útiles, por ejemplo,  a la hora de construir el `DataFrame` a partir de datos procedentes de fuentes heterogéneas. "
   ]
  },
  {
   "cell_type": "markdown",
   "metadata": {},
   "source": [
    "### <font color=\"#7F000E\"> Construcción a partir de una lista o colección</font>\n",
    "\n",
    "Se hace mediante el método `DataFrame.from_records()`. Cada elemento de la lista representa una fila. Si no se proporcionan las columnas e índice, en ambos casos se utilizan enteros."
   ]
  },
  {
   "cell_type": "code",
   "execution_count": 89,
   "metadata": {},
   "outputs": [
    {
     "data": {
      "text/html": [
       "<div>\n",
       "<style scoped>\n",
       "    .dataframe tbody tr th:only-of-type {\n",
       "        vertical-align: middle;\n",
       "    }\n",
       "\n",
       "    .dataframe tbody tr th {\n",
       "        vertical-align: top;\n",
       "    }\n",
       "\n",
       "    .dataframe thead th {\n",
       "        text-align: right;\n",
       "    }\n",
       "</style>\n",
       "<table border=\"1\" class=\"dataframe\">\n",
       "  <thead>\n",
       "    <tr style=\"text-align: right;\">\n",
       "      <th></th>\n",
       "      <th>Nombre</th>\n",
       "      <th>Precio</th>\n",
       "      <th>Producto</th>\n",
       "    </tr>\n",
       "  </thead>\n",
       "  <tbody>\n",
       "    <tr>\n",
       "      <th>Tienda 1</th>\n",
       "      <td>Álvaro</td>\n",
       "      <td>22.5</td>\n",
       "      <td>Queso</td>\n",
       "    </tr>\n",
       "    <tr>\n",
       "      <th>Tienda 1</th>\n",
       "      <td>Benito</td>\n",
       "      <td>14.5</td>\n",
       "      <td>Vino</td>\n",
       "    </tr>\n",
       "    <tr>\n",
       "      <th>Tienda 2</th>\n",
       "      <td>Fernando</td>\n",
       "      <td>50.0</td>\n",
       "      <td>Jamón</td>\n",
       "    </tr>\n",
       "    <tr>\n",
       "      <th>Tienda 3</th>\n",
       "      <td>Martín</td>\n",
       "      <td>20.0</td>\n",
       "      <td>Aceite</td>\n",
       "    </tr>\n",
       "    <tr>\n",
       "      <th>Tienda 3</th>\n",
       "      <td>Hernán</td>\n",
       "      <td>NaN</td>\n",
       "      <td>Azafrán</td>\n",
       "    </tr>\n",
       "  </tbody>\n",
       "</table>\n",
       "</div>"
      ],
      "text/plain": [
       "            Nombre  Precio Producto\n",
       "Tienda 1    Álvaro    22.5    Queso\n",
       "Tienda 1    Benito    14.5     Vino\n",
       "Tienda 2  Fernando    50.0    Jamón\n",
       "Tienda 3    Martín    20.0   Aceite\n",
       "Tienda 3    Hernán     NaN  Azafrán"
      ]
     },
     "execution_count": 89,
     "metadata": {},
     "output_type": "execute_result"
    }
   ],
   "source": [
    "ventas = [('Álvaro', 22.5, 'Queso'),\n",
    "         ('Benito', 14.5, 'Vino'),\n",
    "         ('Fernando', 50, 'Jamón'),\n",
    "         ('Martín', 20.0, 'Aceite'),\n",
    "         ('Hernán',np.NaN, 'Azafrán')]\n",
    "\n",
    "columnas = ['Nombre', 'Precio', 'Producto']\n",
    "indice =['Tienda 1', 'Tienda 1', 'Tienda 2', 'Tienda 3','Tienda 3']\n",
    "\n",
    "df_ventas = pd.DataFrame.from_records(ventas, columns=columnas, index=indice)\n",
    "df_ventas"
   ]
  },
  {
   "cell_type": "markdown",
   "metadata": {},
   "source": [
    "Este método se encapsula dentro del constructor general."
   ]
  },
  {
   "cell_type": "code",
   "execution_count": 90,
   "metadata": {},
   "outputs": [
    {
     "data": {
      "text/html": [
       "<div>\n",
       "<style scoped>\n",
       "    .dataframe tbody tr th:only-of-type {\n",
       "        vertical-align: middle;\n",
       "    }\n",
       "\n",
       "    .dataframe tbody tr th {\n",
       "        vertical-align: top;\n",
       "    }\n",
       "\n",
       "    .dataframe thead th {\n",
       "        text-align: right;\n",
       "    }\n",
       "</style>\n",
       "<table border=\"1\" class=\"dataframe\">\n",
       "  <thead>\n",
       "    <tr style=\"text-align: right;\">\n",
       "      <th></th>\n",
       "      <th>Nombre</th>\n",
       "      <th>Precio</th>\n",
       "      <th>Producto</th>\n",
       "    </tr>\n",
       "  </thead>\n",
       "  <tbody>\n",
       "    <tr>\n",
       "      <th>Tienda 1</th>\n",
       "      <td>Álvaro</td>\n",
       "      <td>22.5</td>\n",
       "      <td>Queso</td>\n",
       "    </tr>\n",
       "    <tr>\n",
       "      <th>Tienda 1</th>\n",
       "      <td>Benito</td>\n",
       "      <td>14.5</td>\n",
       "      <td>Vino</td>\n",
       "    </tr>\n",
       "    <tr>\n",
       "      <th>Tienda 2</th>\n",
       "      <td>Fernando</td>\n",
       "      <td>50.0</td>\n",
       "      <td>Jamón</td>\n",
       "    </tr>\n",
       "    <tr>\n",
       "      <th>Tienda 3</th>\n",
       "      <td>Martín</td>\n",
       "      <td>20.0</td>\n",
       "      <td>Aceite</td>\n",
       "    </tr>\n",
       "    <tr>\n",
       "      <th>Tienda 3</th>\n",
       "      <td>Hernán</td>\n",
       "      <td>NaN</td>\n",
       "      <td>Azafrán</td>\n",
       "    </tr>\n",
       "  </tbody>\n",
       "</table>\n",
       "</div>"
      ],
      "text/plain": [
       "            Nombre  Precio Producto\n",
       "Tienda 1    Álvaro    22.5    Queso\n",
       "Tienda 1    Benito    14.5     Vino\n",
       "Tienda 2  Fernando    50.0    Jamón\n",
       "Tienda 3    Martín    20.0   Aceite\n",
       "Tienda 3    Hernán     NaN  Azafrán"
      ]
     },
     "execution_count": 90,
     "metadata": {},
     "output_type": "execute_result"
    }
   ],
   "source": [
    "ventas = [('Álvaro', 22.5, 'Queso'),\n",
    "         ('Benito', 14.5, 'Vino'),\n",
    "         ('Fernando', 50, 'Jamón'),\n",
    "         ('Martín', 20.0, 'Aceite'),\n",
    "         ('Hernán',np.NaN, 'Azafrán')]\n",
    "\n",
    "columnas = ['Nombre', 'Precio', 'Producto']\n",
    "indice =['Tienda 1', 'Tienda 1', 'Tienda 2', 'Tienda 3','Tienda 3']\n",
    "\n",
    "df_ventas = pd.DataFrame(ventas, index=indice, columns=columnas)\n",
    "df_ventas"
   ]
  },
  {
   "cell_type": "markdown",
   "metadata": {},
   "source": [
    "### <font color=\"#7F000E\"> Construcción a partir de diccionarios </font>"
   ]
  },
  {
   "cell_type": "markdown",
   "metadata": {},
   "source": [
    "La función `DataFrame.from_dict()`  construye un `DataFrame` a partir de un diccionario. Mediante el parámetro `orient`, permite especificar si las claves corresponden a las columnas o al índice, es decir, a las filas. "
   ]
  },
  {
   "cell_type": "code",
   "execution_count": 91,
   "metadata": {},
   "outputs": [
    {
     "data": {
      "text/html": [
       "<div>\n",
       "<style scoped>\n",
       "    .dataframe tbody tr th:only-of-type {\n",
       "        vertical-align: middle;\n",
       "    }\n",
       "\n",
       "    .dataframe tbody tr th {\n",
       "        vertical-align: top;\n",
       "    }\n",
       "\n",
       "    .dataframe thead th {\n",
       "        text-align: right;\n",
       "    }\n",
       "</style>\n",
       "<table border=\"1\" class=\"dataframe\">\n",
       "  <thead>\n",
       "    <tr style=\"text-align: right;\">\n",
       "      <th></th>\n",
       "      <th>0</th>\n",
       "      <th>1</th>\n",
       "      <th>2</th>\n",
       "      <th>3</th>\n",
       "      <th>4</th>\n",
       "    </tr>\n",
       "  </thead>\n",
       "  <tbody>\n",
       "    <tr>\n",
       "      <th>Nombre</th>\n",
       "      <td>Álvaro</td>\n",
       "      <td>Benito</td>\n",
       "      <td>Fernando</td>\n",
       "      <td>Martín</td>\n",
       "      <td>Hernán</td>\n",
       "    </tr>\n",
       "    <tr>\n",
       "      <th>Precio</th>\n",
       "      <td>22.5</td>\n",
       "      <td>14.5</td>\n",
       "      <td>50</td>\n",
       "      <td>20</td>\n",
       "      <td>NaN</td>\n",
       "    </tr>\n",
       "    <tr>\n",
       "      <th>Producto</th>\n",
       "      <td>Queso</td>\n",
       "      <td>Vino</td>\n",
       "      <td>Jamón</td>\n",
       "      <td>Aceite</td>\n",
       "      <td>Azafrán</td>\n",
       "    </tr>\n",
       "  </tbody>\n",
       "</table>\n",
       "</div>"
      ],
      "text/plain": [
       "               0       1         2       3        4\n",
       "Nombre    Álvaro  Benito  Fernando  Martín   Hernán\n",
       "Precio      22.5    14.5        50      20      NaN\n",
       "Producto   Queso    Vino     Jamón  Aceite  Azafrán"
      ]
     },
     "execution_count": 91,
     "metadata": {},
     "output_type": "execute_result"
    }
   ],
   "source": [
    "ventas = {'Nombre': ['Álvaro', 'Benito', 'Fernando','Martín','Hernán'],\n",
    "          'Precio': [22.5, 14.5, 50.0, 20.0, np.NaN],\n",
    "          'Producto':['Queso', 'Vino', 'Jamón', 'Aceite','Azafrán']}\n",
    "\n",
    "df_ventas = pd.DataFrame.from_dict(ventas, orient=\"index\")\n",
    "#df_ventas = pd.DataFrame.from_dict(ventas, orient=\"columns\")\n",
    "df_ventas"
   ]
  },
  {
   "cell_type": "markdown",
   "metadata": {},
   "source": [
    "<div class=\"alert alert-block alert-info\">\n",
    "\n",
    "<i class=\"fa fa-info-circle\" aria-hidden=\"true\"></i>\n",
    "De igual manera, el método `to_dict` permite exportar un _DataFrame_ a un diccionario.\n",
    "</div>"
   ]
  },
  {
   "cell_type": "markdown",
   "metadata": {},
   "source": [
    "El constructor acepta directamente un diccionario con el formato anterior (es equivalente a `from_dict(orient=\"columns\")`."
   ]
  },
  {
   "cell_type": "code",
   "execution_count": 92,
   "metadata": {},
   "outputs": [
    {
     "data": {
      "text/html": [
       "<div>\n",
       "<style scoped>\n",
       "    .dataframe tbody tr th:only-of-type {\n",
       "        vertical-align: middle;\n",
       "    }\n",
       "\n",
       "    .dataframe tbody tr th {\n",
       "        vertical-align: top;\n",
       "    }\n",
       "\n",
       "    .dataframe thead th {\n",
       "        text-align: right;\n",
       "    }\n",
       "</style>\n",
       "<table border=\"1\" class=\"dataframe\">\n",
       "  <thead>\n",
       "    <tr style=\"text-align: right;\">\n",
       "      <th></th>\n",
       "      <th>Nombre</th>\n",
       "      <th>Precio</th>\n",
       "      <th>Producto</th>\n",
       "    </tr>\n",
       "  </thead>\n",
       "  <tbody>\n",
       "    <tr>\n",
       "      <th>Tienda 1</th>\n",
       "      <td>Álvaro</td>\n",
       "      <td>22.5</td>\n",
       "      <td>Queso</td>\n",
       "    </tr>\n",
       "    <tr>\n",
       "      <th>Tienda 1</th>\n",
       "      <td>Benito</td>\n",
       "      <td>14.5</td>\n",
       "      <td>Vino</td>\n",
       "    </tr>\n",
       "    <tr>\n",
       "      <th>Tienda 2</th>\n",
       "      <td>Fernando</td>\n",
       "      <td>50.0</td>\n",
       "      <td>Jamón</td>\n",
       "    </tr>\n",
       "    <tr>\n",
       "      <th>Tienda 3</th>\n",
       "      <td>Martín</td>\n",
       "      <td>20.0</td>\n",
       "      <td>Aceite</td>\n",
       "    </tr>\n",
       "    <tr>\n",
       "      <th>Tienda 3</th>\n",
       "      <td>Hernán</td>\n",
       "      <td>NaN</td>\n",
       "      <td>Azafrán</td>\n",
       "    </tr>\n",
       "  </tbody>\n",
       "</table>\n",
       "</div>"
      ],
      "text/plain": [
       "            Nombre  Precio Producto\n",
       "Tienda 1    Álvaro    22.5    Queso\n",
       "Tienda 1    Benito    14.5     Vino\n",
       "Tienda 2  Fernando    50.0    Jamón\n",
       "Tienda 3    Martín    20.0   Aceite\n",
       "Tienda 3    Hernán     NaN  Azafrán"
      ]
     },
     "execution_count": 92,
     "metadata": {},
     "output_type": "execute_result"
    }
   ],
   "source": [
    "df_compras = pd.DataFrame(ventas, index=indice, columns=columnas)\n",
    "df_compras"
   ]
  },
  {
   "cell_type": "markdown",
   "metadata": {},
   "source": [
    "Aunque lo ___recomendable es utilizar las dos funciones descritas anteriormente___, la construcción de `DataFrame` es muy versátil, y acepta multitud de opciones que, en alguna ocasión, pueden ser útiles. En este ejemplo, cada uno de los diccionarios representa una fila del `DataFrame`. Las claves representan el nombre de la columna, y los valores el valor correspondiente de la columna para la fila. "
   ]
  },
  {
   "cell_type": "code",
   "execution_count": 93,
   "metadata": {},
   "outputs": [
    {
     "data": {
      "text/html": [
       "<div>\n",
       "<style scoped>\n",
       "    .dataframe tbody tr th:only-of-type {\n",
       "        vertical-align: middle;\n",
       "    }\n",
       "\n",
       "    .dataframe tbody tr th {\n",
       "        vertical-align: top;\n",
       "    }\n",
       "\n",
       "    .dataframe thead th {\n",
       "        text-align: right;\n",
       "    }\n",
       "</style>\n",
       "<table border=\"1\" class=\"dataframe\">\n",
       "  <thead>\n",
       "    <tr style=\"text-align: right;\">\n",
       "      <th></th>\n",
       "      <th>Nombre</th>\n",
       "      <th>Precio</th>\n",
       "      <th>Producto</th>\n",
       "    </tr>\n",
       "  </thead>\n",
       "  <tbody>\n",
       "    <tr>\n",
       "      <th>Tienda 1</th>\n",
       "      <td>Álvaro</td>\n",
       "      <td>22.5</td>\n",
       "      <td>Queso</td>\n",
       "    </tr>\n",
       "    <tr>\n",
       "      <th>Tienda 1</th>\n",
       "      <td>Benito</td>\n",
       "      <td>14.5</td>\n",
       "      <td>Vino</td>\n",
       "    </tr>\n",
       "    <tr>\n",
       "      <th>Tienda 2</th>\n",
       "      <td>Fernando</td>\n",
       "      <td>50.0</td>\n",
       "      <td>Jamón</td>\n",
       "    </tr>\n",
       "    <tr>\n",
       "      <th>Tienda 3</th>\n",
       "      <td>Martín</td>\n",
       "      <td>20.0</td>\n",
       "      <td>Aceite</td>\n",
       "    </tr>\n",
       "    <tr>\n",
       "      <th>Tienda 3</th>\n",
       "      <td>Hernán</td>\n",
       "      <td>NaN</td>\n",
       "      <td>Azafrán</td>\n",
       "    </tr>\n",
       "  </tbody>\n",
       "</table>\n",
       "</div>"
      ],
      "text/plain": [
       "            Nombre  Precio Producto\n",
       "Tienda 1    Álvaro    22.5    Queso\n",
       "Tienda 1    Benito    14.5     Vino\n",
       "Tienda 2  Fernando    50.0    Jamón\n",
       "Tienda 3    Martín    20.0   Aceite\n",
       "Tienda 3    Hernán     NaN  Azafrán"
      ]
     },
     "execution_count": 93,
     "metadata": {},
     "output_type": "execute_result"
    }
   ],
   "source": [
    "compra_1 =  {'Nombre': 'Álvaro', 'Producto': 'Queso', 'Precio': 22.50}\n",
    "compra_2 =  {'Nombre': 'Benito', 'Producto': 'Vino', 'Precio': 14.50}\n",
    "compra_3 =  {'Nombre': 'Fernando','Producto': 'Jamón', 'Precio': 50.00}\n",
    "compra_4 =  {'Nombre': 'Martín', 'Producto': 'Aceite', 'Precio': 20.00}\n",
    "compra_5 =  {'Nombre': 'Hernán', 'Producto': 'Azafrán'} # Deja a NaN los campos para los que no se proporciona valor.\n",
    "\n",
    "df_compras = pd.DataFrame([compra_1, compra_2, compra_3, compra_4, compra_5], \n",
    "                          index=['Tienda 1', 'Tienda 1', 'Tienda 2', 'Tienda 3', 'Tienda 3'])\n",
    "df_compras"
   ]
  },
  {
   "cell_type": "markdown",
   "metadata": {},
   "source": [
    "<div style=\"text-align: right\">\n",
    "<a href=\"#indice\"><font size=5><i class=\"fa fa-arrow-circle-up\" aria-hidden=\"true\" style=\"color:#7F000E\"></i></font></a>\n",
    "</div>\n",
    "\n",
    "---\n",
    "\n",
    "\n",
    "<a id=\"section44\"></a> \n",
    "## <font color=\"#7F000E\"> Acceso a elementos </font>\n",
    "<br>\n",
    "\n",
    "Para ilustrar el acceso a los elementos, se utilizará este  `DataFrame`, descrito anteriormente."
   ]
  },
  {
   "cell_type": "code",
   "execution_count": 94,
   "metadata": {},
   "outputs": [
    {
     "data": {
      "text/html": [
       "<div>\n",
       "<style scoped>\n",
       "    .dataframe tbody tr th:only-of-type {\n",
       "        vertical-align: middle;\n",
       "    }\n",
       "\n",
       "    .dataframe tbody tr th {\n",
       "        vertical-align: top;\n",
       "    }\n",
       "\n",
       "    .dataframe thead th {\n",
       "        text-align: right;\n",
       "    }\n",
       "</style>\n",
       "<table border=\"1\" class=\"dataframe\">\n",
       "  <thead>\n",
       "    <tr style=\"text-align: right;\">\n",
       "      <th></th>\n",
       "      <th>Nombre</th>\n",
       "      <th>Producto</th>\n",
       "      <th>Compra</th>\n",
       "      <th>Venta</th>\n",
       "    </tr>\n",
       "  </thead>\n",
       "  <tbody>\n",
       "    <tr>\n",
       "      <th>Tienda 1</th>\n",
       "      <td>Álvaro</td>\n",
       "      <td>Queso</td>\n",
       "      <td>15.0</td>\n",
       "      <td>22.5</td>\n",
       "    </tr>\n",
       "    <tr>\n",
       "      <th>Tienda 1</th>\n",
       "      <td>Benito</td>\n",
       "      <td>Vino</td>\n",
       "      <td>10.0</td>\n",
       "      <td>14.5</td>\n",
       "    </tr>\n",
       "    <tr>\n",
       "      <th>Tienda 2</th>\n",
       "      <td>Fernando</td>\n",
       "      <td>Jamón</td>\n",
       "      <td>35.0</td>\n",
       "      <td>50.0</td>\n",
       "    </tr>\n",
       "    <tr>\n",
       "      <th>Tienda 3</th>\n",
       "      <td>Martín</td>\n",
       "      <td>Aceite</td>\n",
       "      <td>12.0</td>\n",
       "      <td>20.0</td>\n",
       "    </tr>\n",
       "    <tr>\n",
       "      <th>Tienda 3</th>\n",
       "      <td>Hernán</td>\n",
       "      <td>Azafrán</td>\n",
       "      <td>NaN</td>\n",
       "      <td>NaN</td>\n",
       "    </tr>\n",
       "  </tbody>\n",
       "</table>\n",
       "</div>"
      ],
      "text/plain": [
       "            Nombre Producto  Compra  Venta\n",
       "Tienda 1    Álvaro    Queso    15.0   22.5\n",
       "Tienda 1    Benito     Vino    10.0   14.5\n",
       "Tienda 2  Fernando    Jamón    35.0   50.0\n",
       "Tienda 3    Martín   Aceite    12.0   20.0\n",
       "Tienda 3    Hernán  Azafrán     NaN    NaN"
      ]
     },
     "execution_count": 94,
     "metadata": {},
     "output_type": "execute_result"
    }
   ],
   "source": [
    "ventas = [('Álvaro', 'Queso', 15.0, 22.5),\n",
    "         ('Benito',  'Vino', 10.0, 14.5),\n",
    "         ('Fernando', 'Jamón', 35, 50),\n",
    "         ('Martín',  'Aceite', 12, 20),\n",
    "         ('Hernán', 'Azafrán', np.NaN, np.NaN)]\n",
    "\n",
    "columnas = ['Nombre', 'Producto', 'Compra', 'Venta']\n",
    "indice =['Tienda 1', 'Tienda 1', 'Tienda 2', 'Tienda 3','Tienda 3']\n",
    "\n",
    "df = pd.DataFrame(ventas, index=indice, columns=columnas)\n",
    "df"
   ]
  },
  {
   "cell_type": "markdown",
   "metadata": {},
   "source": [
    "###  <font color=\"#7F000E\"> Acceso a las filas de un DataFrame </font>\n",
    "\n",
    "Del mismo modo que en los objetos `Series`, el acceso a las filas del `DataFrame` se hace mediante los métodos `loc[]` e `iloc[]` (también `at[]` e `iat[]`). Si el índice corresponde a una sola fila, estos devuelven un objeto de tipo `Series`; sin embargo, si el índice corresponde a varias filas, devuelven otro `Dataframe`."
   ]
  },
  {
   "cell_type": "code",
   "execution_count": 95,
   "metadata": {},
   "outputs": [
    {
     "name": "stdout",
     "output_type": "stream",
     "text": [
      "Nombre      Fernando\n",
      "Producto       Jamón\n",
      "Compra            35\n",
      "Venta             50\n",
      "Name: Tienda 2, dtype: object\n",
      "<class 'pandas.core.series.Series'> \n",
      "\n",
      "          Nombre Producto  Compra  Venta\n",
      "Tienda 1  Álvaro    Queso    15.0   22.5\n",
      "Tienda 1  Benito     Vino    10.0   14.5\n",
      "<class 'pandas.core.frame.DataFrame'> \n",
      "\n",
      "Nombre      Álvaro\n",
      "Producto     Queso\n",
      "Compra          15\n",
      "Venta         22.5\n",
      "Name: Tienda 1, dtype: object\n",
      "<class 'pandas.core.series.Series'>\n"
     ]
    }
   ],
   "source": [
    "fila = df.loc['Tienda 2']               # Accede a la fila con índice 'Tienda 2'\n",
    "print(fila)\n",
    "print(type(fila),'\\n')                  # Imprime el tipo.\n",
    "\n",
    "filas = df.loc['Tienda 1']              # Accede a las filas con índice 'Tienda 1'\n",
    "print(filas)\n",
    "print(type(filas),'\\n')\n",
    "\n",
    "filas = df.iloc[0]                      # Accede a la fila en la posición 0.\n",
    "print(filas)\n",
    "print(type(filas))"
   ]
  },
  {
   "cell_type": "markdown",
   "metadata": {},
   "source": [
    "La funcionalidad de ambos métodos también es similar a la descrita en el caso de las `Series`. Es decir, aceptan indexación a partir de colecciones del tipo del índice o booleanos (en el caso de `loc[]`), y de enteros (en el caso de `iloc[]`)."
   ]
  },
  {
   "cell_type": "code",
   "execution_count": 96,
   "metadata": {},
   "outputs": [
    {
     "name": "stdout",
     "output_type": "stream",
     "text": [
      "            Nombre Producto  Compra  Venta\n",
      "Tienda 2  Fernando    Jamón    35.0   50.0\n",
      "Tienda 1    Álvaro    Queso    15.0   22.5\n",
      "Tienda 1    Benito     Vino    10.0   14.5\n",
      "\n",
      "            Nombre Producto  Compra  Venta\n",
      "Tienda 2  Fernando    Jamón    35.0   50.0\n",
      "Tienda 3    Martín   Aceite    12.0   20.0\n",
      "Tienda 3    Hernán  Azafrán     NaN    NaN\n",
      "\n",
      "          Nombre Producto  Compra  Venta\n",
      "Tienda 1  Álvaro    Queso    15.0   22.5\n",
      "Tienda 3  Martín   Aceite    12.0   20.0\n"
     ]
    }
   ],
   "source": [
    "print(df.loc[['Tienda 2','Tienda 1']])      \n",
    "print()\n",
    "\n",
    "print(df.loc['Tienda 2':])\n",
    "print()\n",
    "\n",
    "print(df.iloc[[0,3]])"
   ]
  },
  {
   "cell_type": "markdown",
   "metadata": {},
   "source": [
    "<div class=\"alert alert-block alert-info\">\n",
    "    \n",
    "<i class=\"fa fa-info-circle\" aria-hidden=\"true\"></i> Los índices de cada tipo ofrecen funcionalidades específicas. Por ejemplo, en el caso de índices alfanuméricos, se puede hacer _slicing_ lexicográfico sin necesidad de especificar los valores concretos de los elementos.\n",
    "</div>"
   ]
  },
  {
   "cell_type": "code",
   "execution_count": 97,
   "metadata": {},
   "outputs": [
    {
     "data": {
      "text/html": [
       "<div>\n",
       "<style scoped>\n",
       "    .dataframe tbody tr th:only-of-type {\n",
       "        vertical-align: middle;\n",
       "    }\n",
       "\n",
       "    .dataframe tbody tr th {\n",
       "        vertical-align: top;\n",
       "    }\n",
       "\n",
       "    .dataframe thead th {\n",
       "        text-align: right;\n",
       "    }\n",
       "</style>\n",
       "<table border=\"1\" class=\"dataframe\">\n",
       "  <thead>\n",
       "    <tr style=\"text-align: right;\">\n",
       "      <th></th>\n",
       "      <th>Nombre</th>\n",
       "      <th>Clase</th>\n",
       "      <th>Edad</th>\n",
       "      <th>Sexo</th>\n",
       "      <th>Superviviente</th>\n",
       "      <th>Código (Sexo)</th>\n",
       "    </tr>\n",
       "    <tr>\n",
       "      <th>Name</th>\n",
       "      <th></th>\n",
       "      <th></th>\n",
       "      <th></th>\n",
       "      <th></th>\n",
       "      <th></th>\n",
       "      <th></th>\n",
       "    </tr>\n",
       "  </thead>\n",
       "  <tbody>\n",
       "    <tr>\n",
       "      <th>Ahlin, Mrs Johanna Persdotter</th>\n",
       "      <td>613</td>\n",
       "      <td>3rd</td>\n",
       "      <td>40.00</td>\n",
       "      <td>female</td>\n",
       "      <td>0</td>\n",
       "      <td>1</td>\n",
       "    </tr>\n",
       "    <tr>\n",
       "      <th>Ahmed, Mr Ali</th>\n",
       "      <td>614</td>\n",
       "      <td>3rd</td>\n",
       "      <td>24.00</td>\n",
       "      <td>male</td>\n",
       "      <td>0</td>\n",
       "      <td>0</td>\n",
       "    </tr>\n",
       "    <tr>\n",
       "      <th>Aijo-Nirva, Mr Isak</th>\n",
       "      <td>615</td>\n",
       "      <td>3rd</td>\n",
       "      <td>41.00</td>\n",
       "      <td>male</td>\n",
       "      <td>0</td>\n",
       "      <td>0</td>\n",
       "    </tr>\n",
       "    <tr>\n",
       "      <th>Aks, Master Philip</th>\n",
       "      <td>617</td>\n",
       "      <td>3rd</td>\n",
       "      <td>0.83</td>\n",
       "      <td>male</td>\n",
       "      <td>1</td>\n",
       "      <td>0</td>\n",
       "    </tr>\n",
       "    <tr>\n",
       "      <th>Aks, Mrs Sam (Leah Rosen)</th>\n",
       "      <td>616</td>\n",
       "      <td>3rd</td>\n",
       "      <td>18.00</td>\n",
       "      <td>female</td>\n",
       "      <td>1</td>\n",
       "      <td>1</td>\n",
       "    </tr>\n",
       "  </tbody>\n",
       "</table>\n",
       "</div>"
      ],
      "text/plain": [
       "                               Nombre Clase   Edad    Sexo  Superviviente  \\\n",
       "Name                                                                        \n",
       "Ahlin, Mrs Johanna Persdotter     613   3rd  40.00  female              0   \n",
       "Ahmed, Mr Ali                     614   3rd  24.00    male              0   \n",
       "Aijo-Nirva, Mr Isak               615   3rd  41.00    male              0   \n",
       "Aks, Master Philip                617   3rd   0.83    male              1   \n",
       "Aks, Mrs Sam (Leah Rosen)         616   3rd  18.00  female              1   \n",
       "\n",
       "                               Código (Sexo)  \n",
       "Name                                          \n",
       "Ahlin, Mrs Johanna Persdotter              1  \n",
       "Ahmed, Mr Ali                              0  \n",
       "Aijo-Nirva, Mr Isak                        0  \n",
       "Aks, Master Philip                         0  \n",
       "Aks, Mrs Sam (Leah Rosen)                  1  "
      ]
     },
     "execution_count": 97,
     "metadata": {},
     "output_type": "execute_result"
    }
   ],
   "source": [
    "df_titanic = df_titanic.sort_index()\n",
    "df_titanic.loc['Ae':'Al']"
   ]
  },
  {
   "cell_type": "markdown",
   "metadata": {},
   "source": [
    "El método `DataFrame.iterrows()` permite iterar sobre las filas de un _DataFrame_."
   ]
  },
  {
   "cell_type": "code",
   "execution_count": 98,
   "metadata": {},
   "outputs": [
    {
     "name": "stdout",
     "output_type": "stream",
     "text": [
      "Tienda 1 --> Queso\n",
      "Tienda 1 --> Vino\n",
      "Tienda 2 --> Jamón\n",
      "Tienda 3 --> Aceite\n",
      "Tienda 3 --> Azafrán\n"
     ]
    }
   ],
   "source": [
    "for idx, row in df.iterrows():           \n",
    "    print(idx, end=' --> ')                        \n",
    "    print(row['Producto'])"
   ]
  },
  {
   "cell_type": "markdown",
   "metadata": {},
   "source": [
    "El método `DataFrame.iteritems()` itera sobre las columnas.  Devuelve tuplas en las que el primer elemento es el nombre y el segundo la serie correspondiente."
   ]
  },
  {
   "cell_type": "code",
   "execution_count": 99,
   "metadata": {},
   "outputs": [
    {
     "name": "stdout",
     "output_type": "stream",
     "text": [
      "('Nombre', Tienda 1      Álvaro\n",
      "Tienda 1      Benito\n",
      "Tienda 2    Fernando\n",
      "Tienda 3      Martín\n",
      "Tienda 3      Hernán\n",
      "Name: Nombre, dtype: object)\n",
      "---->\n",
      "('Producto', Tienda 1      Queso\n",
      "Tienda 1       Vino\n",
      "Tienda 2      Jamón\n",
      "Tienda 3     Aceite\n",
      "Tienda 3    Azafrán\n",
      "Name: Producto, dtype: object)\n",
      "---->\n",
      "('Compra', Tienda 1    15.0\n",
      "Tienda 1    10.0\n",
      "Tienda 2    35.0\n",
      "Tienda 3    12.0\n",
      "Tienda 3     NaN\n",
      "Name: Compra, dtype: float64)\n",
      "---->\n",
      "('Venta', Tienda 1    22.5\n",
      "Tienda 1    14.5\n",
      "Tienda 2    50.0\n",
      "Tienda 3    20.0\n",
      "Tienda 3     NaN\n",
      "Name: Venta, dtype: float64)\n",
      "---->\n"
     ]
    }
   ],
   "source": [
    "for row in df.iteritems(): \n",
    "    print(row)\n",
    "    print('---->')"
   ]
  },
  {
   "cell_type": "markdown",
   "metadata": {},
   "source": [
    "---\n",
    "\n",
    "###  <font color=\"#7F000E\"> Acceso a las columnas de un DataFrame </font>\n",
    "\n",
    "Se puede acceder a los elementos de una columna (o varias) mediante el operador `[]`. También se devuelve un objeto de tipo `Series` o `DataFrame` según se accedan, respectivamente, una o varias columnas."
   ]
  },
  {
   "cell_type": "code",
   "execution_count": 100,
   "metadata": {},
   "outputs": [
    {
     "data": {
      "text/plain": [
       "Tienda 1      Queso\n",
       "Tienda 1       Vino\n",
       "Tienda 2      Jamón\n",
       "Tienda 3     Aceite\n",
       "Tienda 3    Azafrán\n",
       "Name: Producto, dtype: object"
      ]
     },
     "execution_count": 100,
     "metadata": {},
     "output_type": "execute_result"
    }
   ],
   "source": [
    "productos = df['Producto']\n",
    "productos"
   ]
  },
  {
   "cell_type": "markdown",
   "metadata": {},
   "source": [
    "Por defecto, el acceso a una columna devuelve una serie. Si se utilizan dobles corchetes, devuelve un `DataFrame`."
   ]
  },
  {
   "cell_type": "code",
   "execution_count": 101,
   "metadata": {},
   "outputs": [
    {
     "data": {
      "text/html": [
       "<div>\n",
       "<style scoped>\n",
       "    .dataframe tbody tr th:only-of-type {\n",
       "        vertical-align: middle;\n",
       "    }\n",
       "\n",
       "    .dataframe tbody tr th {\n",
       "        vertical-align: top;\n",
       "    }\n",
       "\n",
       "    .dataframe thead th {\n",
       "        text-align: right;\n",
       "    }\n",
       "</style>\n",
       "<table border=\"1\" class=\"dataframe\">\n",
       "  <thead>\n",
       "    <tr style=\"text-align: right;\">\n",
       "      <th></th>\n",
       "      <th>Producto</th>\n",
       "    </tr>\n",
       "  </thead>\n",
       "  <tbody>\n",
       "    <tr>\n",
       "      <th>Tienda 1</th>\n",
       "      <td>Queso</td>\n",
       "    </tr>\n",
       "    <tr>\n",
       "      <th>Tienda 1</th>\n",
       "      <td>Vino</td>\n",
       "    </tr>\n",
       "    <tr>\n",
       "      <th>Tienda 2</th>\n",
       "      <td>Jamón</td>\n",
       "    </tr>\n",
       "    <tr>\n",
       "      <th>Tienda 3</th>\n",
       "      <td>Aceite</td>\n",
       "    </tr>\n",
       "    <tr>\n",
       "      <th>Tienda 3</th>\n",
       "      <td>Azafrán</td>\n",
       "    </tr>\n",
       "  </tbody>\n",
       "</table>\n",
       "</div>"
      ],
      "text/plain": [
       "         Producto\n",
       "Tienda 1    Queso\n",
       "Tienda 1     Vino\n",
       "Tienda 2    Jamón\n",
       "Tienda 3   Aceite\n",
       "Tienda 3  Azafrán"
      ]
     },
     "execution_count": 101,
     "metadata": {},
     "output_type": "execute_result"
    }
   ],
   "source": [
    "productos = df[['Producto']]\n",
    "productos"
   ]
  },
  {
   "cell_type": "code",
   "execution_count": 102,
   "metadata": {},
   "outputs": [
    {
     "data": {
      "text/html": [
       "<div>\n",
       "<style scoped>\n",
       "    .dataframe tbody tr th:only-of-type {\n",
       "        vertical-align: middle;\n",
       "    }\n",
       "\n",
       "    .dataframe tbody tr th {\n",
       "        vertical-align: top;\n",
       "    }\n",
       "\n",
       "    .dataframe thead th {\n",
       "        text-align: right;\n",
       "    }\n",
       "</style>\n",
       "<table border=\"1\" class=\"dataframe\">\n",
       "  <thead>\n",
       "    <tr style=\"text-align: right;\">\n",
       "      <th></th>\n",
       "      <th>Producto</th>\n",
       "      <th>Compra</th>\n",
       "      <th>Venta</th>\n",
       "    </tr>\n",
       "  </thead>\n",
       "  <tbody>\n",
       "    <tr>\n",
       "      <th>Tienda 1</th>\n",
       "      <td>Queso</td>\n",
       "      <td>15.0</td>\n",
       "      <td>22.5</td>\n",
       "    </tr>\n",
       "    <tr>\n",
       "      <th>Tienda 1</th>\n",
       "      <td>Vino</td>\n",
       "      <td>10.0</td>\n",
       "      <td>14.5</td>\n",
       "    </tr>\n",
       "    <tr>\n",
       "      <th>Tienda 2</th>\n",
       "      <td>Jamón</td>\n",
       "      <td>35.0</td>\n",
       "      <td>50.0</td>\n",
       "    </tr>\n",
       "    <tr>\n",
       "      <th>Tienda 3</th>\n",
       "      <td>Aceite</td>\n",
       "      <td>12.0</td>\n",
       "      <td>20.0</td>\n",
       "    </tr>\n",
       "    <tr>\n",
       "      <th>Tienda 3</th>\n",
       "      <td>Azafrán</td>\n",
       "      <td>NaN</td>\n",
       "      <td>NaN</td>\n",
       "    </tr>\n",
       "  </tbody>\n",
       "</table>\n",
       "</div>"
      ],
      "text/plain": [
       "         Producto  Compra  Venta\n",
       "Tienda 1    Queso    15.0   22.5\n",
       "Tienda 1     Vino    10.0   14.5\n",
       "Tienda 2    Jamón    35.0   50.0\n",
       "Tienda 3   Aceite    12.0   20.0\n",
       "Tienda 3  Azafrán     NaN    NaN"
      ]
     },
     "execution_count": 102,
     "metadata": {},
     "output_type": "execute_result"
    }
   ],
   "source": [
    "columnas = ['Producto','Compra','Venta']\n",
    "productos_coste = df[columnas]\n",
    "# productos_coste = df[['Producto','Compra','Venta']]   # Equivalente \n",
    "productos_coste"
   ]
  },
  {
   "cell_type": "markdown",
   "metadata": {},
   "source": [
    "<div class=\"alert alert-block alert-danger\">\n",
    "    \n",
    "<i class=\"fa fa-exclamation-triangle\" aria-hidden=\"true\"></i>\n",
    "Un error muy común a la hora de acceder a varias columnas consiste en utilizar como argumentos los nombres de las columnas separados por comas, en lugar de ___una colección___ con los nombres de las columnas.\n",
    "</div>"
   ]
  },
  {
   "cell_type": "code",
   "execution_count": 103,
   "metadata": {},
   "outputs": [],
   "source": [
    "# productos_coste = df['Producto','Compra','Venta']   # Devuelve error."
   ]
  },
  {
   "cell_type": "markdown",
   "metadata": {},
   "source": [
    "Las columnas puden accederse individualmente como un campo del objeto `DataFrame`."
   ]
  },
  {
   "cell_type": "code",
   "execution_count": 104,
   "metadata": {},
   "outputs": [
    {
     "name": "stdout",
     "output_type": "stream",
     "text": [
      "Tienda 1      Queso\n",
      "Tienda 1       Vino\n",
      "Tienda 2      Jamón\n",
      "Tienda 3     Aceite\n",
      "Tienda 3    Azafrán\n",
      "Name: Producto, dtype: object\n"
     ]
    },
    {
     "data": {
      "text/plain": [
       "pandas.core.series.Series"
      ]
     },
     "execution_count": 104,
     "metadata": {},
     "output_type": "execute_result"
    }
   ],
   "source": [
    "productos = df.Producto          # Es equivalente a  df['Producto']\n",
    "print(productos)\n",
    "type(df.Producto)"
   ]
  },
  {
   "cell_type": "markdown",
   "metadata": {},
   "source": [
    "<div class=\"alert alert-block alert-warning\">\n",
    "\n",
    "<i class=\"fa fa-exclamation-circle\" aria-hidden=\"true\"></i>\n",
    "Por legibilidad del código, es preferible no hacerlo.\n",
    "</div>"
   ]
  },
  {
   "cell_type": "markdown",
   "metadata": {},
   "source": [
    "####  <font color=\"#7F000E\"> Acceso a las columnas en función de su tipo </font>\n",
    "\n",
    "En muchos casos, es interesante seleccionar las columnas cuyos elementos son de un tipo determinado.  Por ejemplo, la siguiente celda accede a las columnas numéricas. "
   ]
  },
  {
   "cell_type": "code",
   "execution_count": 105,
   "metadata": {},
   "outputs": [
    {
     "data": {
      "text/html": [
       "<div>\n",
       "<style scoped>\n",
       "    .dataframe tbody tr th:only-of-type {\n",
       "        vertical-align: middle;\n",
       "    }\n",
       "\n",
       "    .dataframe tbody tr th {\n",
       "        vertical-align: top;\n",
       "    }\n",
       "\n",
       "    .dataframe thead th {\n",
       "        text-align: right;\n",
       "    }\n",
       "</style>\n",
       "<table border=\"1\" class=\"dataframe\">\n",
       "  <thead>\n",
       "    <tr style=\"text-align: right;\">\n",
       "      <th></th>\n",
       "      <th>Compra</th>\n",
       "      <th>Venta</th>\n",
       "    </tr>\n",
       "  </thead>\n",
       "  <tbody>\n",
       "    <tr>\n",
       "      <th>Tienda 1</th>\n",
       "      <td>15.0</td>\n",
       "      <td>22.5</td>\n",
       "    </tr>\n",
       "    <tr>\n",
       "      <th>Tienda 1</th>\n",
       "      <td>10.0</td>\n",
       "      <td>14.5</td>\n",
       "    </tr>\n",
       "    <tr>\n",
       "      <th>Tienda 2</th>\n",
       "      <td>35.0</td>\n",
       "      <td>50.0</td>\n",
       "    </tr>\n",
       "    <tr>\n",
       "      <th>Tienda 3</th>\n",
       "      <td>12.0</td>\n",
       "      <td>20.0</td>\n",
       "    </tr>\n",
       "    <tr>\n",
       "      <th>Tienda 3</th>\n",
       "      <td>NaN</td>\n",
       "      <td>NaN</td>\n",
       "    </tr>\n",
       "  </tbody>\n",
       "</table>\n",
       "</div>"
      ],
      "text/plain": [
       "          Compra  Venta\n",
       "Tienda 1    15.0   22.5\n",
       "Tienda 1    10.0   14.5\n",
       "Tienda 2    35.0   50.0\n",
       "Tienda 3    12.0   20.0\n",
       "Tienda 3     NaN    NaN"
      ]
     },
     "execution_count": 105,
     "metadata": {},
     "output_type": "execute_result"
    }
   ],
   "source": [
    "df._get_numeric_data()"
   ]
  },
  {
   "cell_type": "markdown",
   "metadata": {},
   "source": [
    "La función `DataFrame.select_dtypes()` ofrece mucha versatilidad, y permite determinar las columnas de qué tipos se incluyen (parámetro `include`) y qué tipos se excluyen (parámetro `exclude`). Se pueden utilizar tanto Strings como tipos de datos implementados en _Numpy_. "
   ]
  },
  {
   "cell_type": "code",
   "execution_count": 106,
   "metadata": {},
   "outputs": [
    {
     "data": {
      "text/html": [
       "<div>\n",
       "<style scoped>\n",
       "    .dataframe tbody tr th:only-of-type {\n",
       "        vertical-align: middle;\n",
       "    }\n",
       "\n",
       "    .dataframe tbody tr th {\n",
       "        vertical-align: top;\n",
       "    }\n",
       "\n",
       "    .dataframe thead th {\n",
       "        text-align: right;\n",
       "    }\n",
       "</style>\n",
       "<table border=\"1\" class=\"dataframe\">\n",
       "  <thead>\n",
       "    <tr style=\"text-align: right;\">\n",
       "      <th></th>\n",
       "      <th>Nombre</th>\n",
       "      <th>Clase</th>\n",
       "      <th>Edad</th>\n",
       "      <th>Sexo</th>\n",
       "      <th>Superviviente</th>\n",
       "      <th>Código (Sexo)</th>\n",
       "    </tr>\n",
       "    <tr>\n",
       "      <th>Name</th>\n",
       "      <th></th>\n",
       "      <th></th>\n",
       "      <th></th>\n",
       "      <th></th>\n",
       "      <th></th>\n",
       "      <th></th>\n",
       "    </tr>\n",
       "  </thead>\n",
       "  <tbody>\n",
       "    <tr>\n",
       "      <th>Abbing, Mr Anthony</th>\n",
       "      <td>603</td>\n",
       "      <td>3rd</td>\n",
       "      <td>42.0</td>\n",
       "      <td>male</td>\n",
       "      <td>0</td>\n",
       "      <td>0</td>\n",
       "    </tr>\n",
       "    <tr>\n",
       "      <th>Abbott, Master Eugene Joseph</th>\n",
       "      <td>604</td>\n",
       "      <td>3rd</td>\n",
       "      <td>13.0</td>\n",
       "      <td>male</td>\n",
       "      <td>0</td>\n",
       "      <td>0</td>\n",
       "    </tr>\n",
       "    <tr>\n",
       "      <th>Abbott, Mr Rossmore Edward</th>\n",
       "      <td>605</td>\n",
       "      <td>3rd</td>\n",
       "      <td>16.0</td>\n",
       "      <td>male</td>\n",
       "      <td>0</td>\n",
       "      <td>0</td>\n",
       "    </tr>\n",
       "    <tr>\n",
       "      <th>Abbott, Mrs Stanton (Rosa)</th>\n",
       "      <td>606</td>\n",
       "      <td>3rd</td>\n",
       "      <td>35.0</td>\n",
       "      <td>female</td>\n",
       "      <td>1</td>\n",
       "      <td>1</td>\n",
       "    </tr>\n",
       "    <tr>\n",
       "      <th>Abelseth, Miss Anna Karen</th>\n",
       "      <td>607</td>\n",
       "      <td>3rd</td>\n",
       "      <td>16.0</td>\n",
       "      <td>female</td>\n",
       "      <td>1</td>\n",
       "      <td>1</td>\n",
       "    </tr>\n",
       "  </tbody>\n",
       "</table>\n",
       "</div>"
      ],
      "text/plain": [
       "                              Nombre Clase  Edad    Sexo  Superviviente  \\\n",
       "Name                                                                      \n",
       "Abbing, Mr Anthony               603   3rd  42.0    male              0   \n",
       "Abbott, Master Eugene Joseph     604   3rd  13.0    male              0   \n",
       "Abbott, Mr Rossmore Edward       605   3rd  16.0    male              0   \n",
       "Abbott, Mrs Stanton (Rosa)       606   3rd  35.0  female              1   \n",
       "Abelseth, Miss Anna Karen        607   3rd  16.0  female              1   \n",
       "\n",
       "                              Código (Sexo)  \n",
       "Name                                         \n",
       "Abbing, Mr Anthony                        0  \n",
       "Abbott, Master Eugene Joseph              0  \n",
       "Abbott, Mr Rossmore Edward                0  \n",
       "Abbott, Mrs Stanton (Rosa)                1  \n",
       "Abelseth, Miss Anna Karen                 1  "
      ]
     },
     "metadata": {},
     "output_type": "display_data"
    },
    {
     "name": "stdout",
     "output_type": "stream",
     "text": [
      "\n"
     ]
    },
    {
     "data": {
      "text/html": [
       "<div>\n",
       "<style scoped>\n",
       "    .dataframe tbody tr th:only-of-type {\n",
       "        vertical-align: middle;\n",
       "    }\n",
       "\n",
       "    .dataframe tbody tr th {\n",
       "        vertical-align: top;\n",
       "    }\n",
       "\n",
       "    .dataframe thead th {\n",
       "        text-align: right;\n",
       "    }\n",
       "</style>\n",
       "<table border=\"1\" class=\"dataframe\">\n",
       "  <thead>\n",
       "    <tr style=\"text-align: right;\">\n",
       "      <th></th>\n",
       "      <th>Nombre</th>\n",
       "      <th>Superviviente</th>\n",
       "      <th>Código (Sexo)</th>\n",
       "    </tr>\n",
       "    <tr>\n",
       "      <th>Name</th>\n",
       "      <th></th>\n",
       "      <th></th>\n",
       "      <th></th>\n",
       "    </tr>\n",
       "  </thead>\n",
       "  <tbody>\n",
       "    <tr>\n",
       "      <th>Abbing, Mr Anthony</th>\n",
       "      <td>603</td>\n",
       "      <td>0</td>\n",
       "      <td>0</td>\n",
       "    </tr>\n",
       "    <tr>\n",
       "      <th>Abbott, Master Eugene Joseph</th>\n",
       "      <td>604</td>\n",
       "      <td>0</td>\n",
       "      <td>0</td>\n",
       "    </tr>\n",
       "    <tr>\n",
       "      <th>Abbott, Mr Rossmore Edward</th>\n",
       "      <td>605</td>\n",
       "      <td>0</td>\n",
       "      <td>0</td>\n",
       "    </tr>\n",
       "    <tr>\n",
       "      <th>Abbott, Mrs Stanton (Rosa)</th>\n",
       "      <td>606</td>\n",
       "      <td>1</td>\n",
       "      <td>1</td>\n",
       "    </tr>\n",
       "    <tr>\n",
       "      <th>Abelseth, Miss Anna Karen</th>\n",
       "      <td>607</td>\n",
       "      <td>1</td>\n",
       "      <td>1</td>\n",
       "    </tr>\n",
       "  </tbody>\n",
       "</table>\n",
       "</div>"
      ],
      "text/plain": [
       "                              Nombre  Superviviente  Código (Sexo)\n",
       "Name                                                              \n",
       "Abbing, Mr Anthony               603              0              0\n",
       "Abbott, Master Eugene Joseph     604              0              0\n",
       "Abbott, Mr Rossmore Edward       605              0              0\n",
       "Abbott, Mrs Stanton (Rosa)       606              1              1\n",
       "Abelseth, Miss Anna Karen        607              1              1"
      ]
     },
     "execution_count": 106,
     "metadata": {},
     "output_type": "execute_result"
    }
   ],
   "source": [
    "display(df_titanic.head(5))\n",
    "print()\n",
    "\n",
    "df_titanic.select_dtypes(include='number', exclude=np.float64).head(5)"
   ]
  },
  {
   "cell_type": "markdown",
   "metadata": {},
   "source": [
    "<div class=\"alert alert-block alert-warning\">\n",
    "    \n",
    "<i class=\"fa fa-exclamation-circle\" aria-hidden=\"true\"></i>\n",
    "__Importante__: Hay un mundo en relación a los tipos de datos en _Numpy_, pero para el usuario de _Pandas_ o las librerías que se verán en el curso (para la inmensa mayoría de los profesionales) raramente se ha de recurrir a esta información [(documentación)](https://docs.scipy.org/doc/numpy/reference/arrays.scalars.html).\n",
    "</div>"
   ]
  },
  {
   "cell_type": "markdown",
   "metadata": {},
   "source": [
    "---\n",
    "### <font color=\"#7F000E\"> Acceso a elementos del DataFrame. </font>\n",
    "\n",
    "Con `loc` se puede acceder también a los elementos dados el valor (o valores) de su índice y columna. No se recomienda utilizar la segunda de las alternativas que se proponen a continuación, ya que puede dar lugar a comportamientos inesperados (particularmente en escrituras)."
   ]
  },
  {
   "cell_type": "code",
   "execution_count": 107,
   "metadata": {},
   "outputs": [
    {
     "name": "stdout",
     "output_type": "stream",
     "text": [
      "Tienda 2    Jamón\n",
      "Tienda 1    Queso\n",
      "Tienda 1     Vino\n",
      "Name: Producto, dtype: object\n",
      "\n",
      "Tienda 2    Jamón\n",
      "Tienda 1    Queso\n",
      "Tienda 1     Vino\n",
      "Name: Producto, dtype: object\n",
      "\n",
      "         Producto  Compra  Venta\n",
      "Tienda 2    Jamón    35.0   50.0\n",
      "Tienda 1    Queso    15.0   22.5\n",
      "Tienda 1     Vino    10.0   14.5\n",
      "\n",
      "            Nombre Producto\n",
      "Tienda 1    Álvaro    Queso\n",
      "Tienda 1    Benito     Vino\n",
      "Tienda 2  Fernando    Jamón\n"
     ]
    }
   ],
   "source": [
    "print(df.loc[['Tienda 2','Tienda 1'],'Producto'])\n",
    "print()\n",
    "\n",
    "print(df.loc[['Tienda 2','Tienda 1']]['Producto'])\n",
    "print()\n",
    "\n",
    "print(df.loc[['Tienda 2','Tienda 1'],['Producto','Compra','Venta']])\n",
    "print()\n",
    "\n",
    "print(df.iloc[0:3,0:2]) "
   ]
  },
  {
   "cell_type": "markdown",
   "metadata": {},
   "source": [
    "<div class=\"alert alert-block alert-info\">\n",
    "\n",
    "<i class=\"fa fa-info-circle\" aria-hidden=\"true\"></i> Como se comentó anteriormente, el método `at` es equivalente a `loc`, (e `iat` a `iloc`) con la salvedad de que `at` e `iat` __solamente aceptan escalares como índice__. Debido a esto, también son más eficientes. \n",
    "</div>"
   ]
  },
  {
   "cell_type": "code",
   "execution_count": 108,
   "metadata": {},
   "outputs": [
    {
     "name": "stdout",
     "output_type": "stream",
     "text": [
      "['Queso' 'Vino'] \n",
      "\n",
      "Jamón\n"
     ]
    }
   ],
   "source": [
    "fila = df.at['Tienda 1','Producto']            \n",
    "print(fila,'\\n')\n",
    "\n",
    "fila = df.iat[2,1]            \n",
    "print(fila)"
   ]
  },
  {
   "cell_type": "markdown",
   "metadata": {},
   "source": [
    "---\n",
    "### <font color=\"#7F000E\"> Escritura en elementos del DataFrame. </font>\n",
    "\n",
    "El acceso de para escritura es similar del acceso para lectura. Cuando se escriben varias posiciones, las dimensiones de los conjuntos de elementos a ambos lados de la asignación han de ser similares (salvo en el caso en que se asignen escalares)."
   ]
  },
  {
   "cell_type": "code",
   "execution_count": 109,
   "metadata": {},
   "outputs": [
    {
     "data": {
      "text/html": [
       "<div>\n",
       "<style scoped>\n",
       "    .dataframe tbody tr th:only-of-type {\n",
       "        vertical-align: middle;\n",
       "    }\n",
       "\n",
       "    .dataframe tbody tr th {\n",
       "        vertical-align: top;\n",
       "    }\n",
       "\n",
       "    .dataframe thead th {\n",
       "        text-align: right;\n",
       "    }\n",
       "</style>\n",
       "<table border=\"1\" class=\"dataframe\">\n",
       "  <thead>\n",
       "    <tr style=\"text-align: right;\">\n",
       "      <th></th>\n",
       "      <th>Nombre</th>\n",
       "      <th>Producto</th>\n",
       "      <th>Compra</th>\n",
       "      <th>Venta</th>\n",
       "    </tr>\n",
       "  </thead>\n",
       "  <tbody>\n",
       "    <tr>\n",
       "      <th>Tienda 1</th>\n",
       "      <td>Álvaro</td>\n",
       "      <td>Queso</td>\n",
       "      <td>15.0</td>\n",
       "      <td>22.5</td>\n",
       "    </tr>\n",
       "    <tr>\n",
       "      <th>Tienda 1</th>\n",
       "      <td>Benito</td>\n",
       "      <td>Vino</td>\n",
       "      <td>10.0</td>\n",
       "      <td>14.5</td>\n",
       "    </tr>\n",
       "    <tr>\n",
       "      <th>Tienda 2</th>\n",
       "      <td>Fernando</td>\n",
       "      <td>Jamón</td>\n",
       "      <td>35.0</td>\n",
       "      <td>50.0</td>\n",
       "    </tr>\n",
       "    <tr>\n",
       "      <th>Tienda 3</th>\n",
       "      <td>Martín</td>\n",
       "      <td>Aceite</td>\n",
       "      <td>12.0</td>\n",
       "      <td>20.0</td>\n",
       "    </tr>\n",
       "    <tr>\n",
       "      <th>Tienda 3</th>\n",
       "      <td>Hernán</td>\n",
       "      <td>Azafrán</td>\n",
       "      <td>NaN</td>\n",
       "      <td>NaN</td>\n",
       "    </tr>\n",
       "  </tbody>\n",
       "</table>\n",
       "</div>"
      ],
      "text/plain": [
       "            Nombre Producto  Compra  Venta\n",
       "Tienda 1    Álvaro    Queso    15.0   22.5\n",
       "Tienda 1    Benito     Vino    10.0   14.5\n",
       "Tienda 2  Fernando    Jamón    35.0   50.0\n",
       "Tienda 3    Martín   Aceite    12.0   20.0\n",
       "Tienda 3    Hernán  Azafrán     NaN    NaN"
      ]
     },
     "execution_count": 109,
     "metadata": {},
     "output_type": "execute_result"
    }
   ],
   "source": [
    "df"
   ]
  },
  {
   "cell_type": "markdown",
   "metadata": {},
   "source": [
    "Este código asigna un escalar a varias posiciones."
   ]
  },
  {
   "cell_type": "code",
   "execution_count": 110,
   "metadata": {},
   "outputs": [
    {
     "data": {
      "text/html": [
       "<div>\n",
       "<style scoped>\n",
       "    .dataframe tbody tr th:only-of-type {\n",
       "        vertical-align: middle;\n",
       "    }\n",
       "\n",
       "    .dataframe tbody tr th {\n",
       "        vertical-align: top;\n",
       "    }\n",
       "\n",
       "    .dataframe thead th {\n",
       "        text-align: right;\n",
       "    }\n",
       "</style>\n",
       "<table border=\"1\" class=\"dataframe\">\n",
       "  <thead>\n",
       "    <tr style=\"text-align: right;\">\n",
       "      <th></th>\n",
       "      <th>Nombre</th>\n",
       "      <th>Producto</th>\n",
       "      <th>Compra</th>\n",
       "      <th>Venta</th>\n",
       "    </tr>\n",
       "  </thead>\n",
       "  <tbody>\n",
       "    <tr>\n",
       "      <th>Tienda 1</th>\n",
       "      <td>Álvaro</td>\n",
       "      <td>Queso</td>\n",
       "      <td>15.0</td>\n",
       "      <td>100.0</td>\n",
       "    </tr>\n",
       "    <tr>\n",
       "      <th>Tienda 1</th>\n",
       "      <td>Benito</td>\n",
       "      <td>Vino</td>\n",
       "      <td>10.0</td>\n",
       "      <td>100.0</td>\n",
       "    </tr>\n",
       "    <tr>\n",
       "      <th>Tienda 2</th>\n",
       "      <td>Fernando</td>\n",
       "      <td>Jamón</td>\n",
       "      <td>35.0</td>\n",
       "      <td>50.0</td>\n",
       "    </tr>\n",
       "    <tr>\n",
       "      <th>Tienda 3</th>\n",
       "      <td>Martín</td>\n",
       "      <td>Aceite</td>\n",
       "      <td>12.0</td>\n",
       "      <td>100.0</td>\n",
       "    </tr>\n",
       "    <tr>\n",
       "      <th>Tienda 3</th>\n",
       "      <td>Hernán</td>\n",
       "      <td>Azafrán</td>\n",
       "      <td>NaN</td>\n",
       "      <td>100.0</td>\n",
       "    </tr>\n",
       "  </tbody>\n",
       "</table>\n",
       "</div>"
      ],
      "text/plain": [
       "            Nombre Producto  Compra  Venta\n",
       "Tienda 1    Álvaro    Queso    15.0  100.0\n",
       "Tienda 1    Benito     Vino    10.0  100.0\n",
       "Tienda 2  Fernando    Jamón    35.0   50.0\n",
       "Tienda 3    Martín   Aceite    12.0  100.0\n",
       "Tienda 3    Hernán  Azafrán     NaN  100.0"
      ]
     },
     "execution_count": 110,
     "metadata": {},
     "output_type": "execute_result"
    }
   ],
   "source": [
    "df.loc[['Tienda 1','Tienda 3'],'Venta']=100\n",
    "df"
   ]
  },
  {
   "cell_type": "markdown",
   "metadata": {},
   "source": [
    "Restaura los valores una colección de valores (los tamaños de las estructuras de datos a izquierda y derecha de la asignación deben coincidir)."
   ]
  },
  {
   "cell_type": "code",
   "execution_count": 111,
   "metadata": {},
   "outputs": [
    {
     "data": {
      "text/html": [
       "<div>\n",
       "<style scoped>\n",
       "    .dataframe tbody tr th:only-of-type {\n",
       "        vertical-align: middle;\n",
       "    }\n",
       "\n",
       "    .dataframe tbody tr th {\n",
       "        vertical-align: top;\n",
       "    }\n",
       "\n",
       "    .dataframe thead th {\n",
       "        text-align: right;\n",
       "    }\n",
       "</style>\n",
       "<table border=\"1\" class=\"dataframe\">\n",
       "  <thead>\n",
       "    <tr style=\"text-align: right;\">\n",
       "      <th></th>\n",
       "      <th>Nombre</th>\n",
       "      <th>Producto</th>\n",
       "      <th>Compra</th>\n",
       "      <th>Venta</th>\n",
       "    </tr>\n",
       "  </thead>\n",
       "  <tbody>\n",
       "    <tr>\n",
       "      <th>Tienda 1</th>\n",
       "      <td>Álvaro</td>\n",
       "      <td>Queso</td>\n",
       "      <td>15.0</td>\n",
       "      <td>22.0</td>\n",
       "    </tr>\n",
       "    <tr>\n",
       "      <th>Tienda 1</th>\n",
       "      <td>Benito</td>\n",
       "      <td>Vino</td>\n",
       "      <td>10.0</td>\n",
       "      <td>14.5</td>\n",
       "    </tr>\n",
       "    <tr>\n",
       "      <th>Tienda 2</th>\n",
       "      <td>Fernando</td>\n",
       "      <td>Jamón</td>\n",
       "      <td>35.0</td>\n",
       "      <td>50.0</td>\n",
       "    </tr>\n",
       "    <tr>\n",
       "      <th>Tienda 3</th>\n",
       "      <td>Martín</td>\n",
       "      <td>Aceite</td>\n",
       "      <td>12.0</td>\n",
       "      <td>0.0</td>\n",
       "    </tr>\n",
       "    <tr>\n",
       "      <th>Tienda 3</th>\n",
       "      <td>Hernán</td>\n",
       "      <td>Azafrán</td>\n",
       "      <td>NaN</td>\n",
       "      <td>0.0</td>\n",
       "    </tr>\n",
       "  </tbody>\n",
       "</table>\n",
       "</div>"
      ],
      "text/plain": [
       "            Nombre Producto  Compra  Venta\n",
       "Tienda 1    Álvaro    Queso    15.0   22.0\n",
       "Tienda 1    Benito     Vino    10.0   14.5\n",
       "Tienda 2  Fernando    Jamón    35.0   50.0\n",
       "Tienda 3    Martín   Aceite    12.0    0.0\n",
       "Tienda 3    Hernán  Azafrán     NaN    0.0"
      ]
     },
     "execution_count": 111,
     "metadata": {},
     "output_type": "execute_result"
    }
   ],
   "source": [
    "df.loc[['Tienda 1','Tienda 3'],'Venta']=[22, 14.5, 0, 0]\n",
    "df"
   ]
  },
  {
   "cell_type": "markdown",
   "metadata": {},
   "source": [
    "También se puede escribir el valor de columnas completas. Al igual que anteriormente, han de coindidir los tamaños."
   ]
  },
  {
   "cell_type": "code",
   "execution_count": 112,
   "metadata": {},
   "outputs": [
    {
     "data": {
      "text/html": [
       "<div>\n",
       "<style scoped>\n",
       "    .dataframe tbody tr th:only-of-type {\n",
       "        vertical-align: middle;\n",
       "    }\n",
       "\n",
       "    .dataframe tbody tr th {\n",
       "        vertical-align: top;\n",
       "    }\n",
       "\n",
       "    .dataframe thead th {\n",
       "        text-align: right;\n",
       "    }\n",
       "</style>\n",
       "<table border=\"1\" class=\"dataframe\">\n",
       "  <thead>\n",
       "    <tr style=\"text-align: right;\">\n",
       "      <th></th>\n",
       "      <th>Nombre</th>\n",
       "      <th>Producto</th>\n",
       "      <th>Compra</th>\n",
       "      <th>Venta</th>\n",
       "    </tr>\n",
       "  </thead>\n",
       "  <tbody>\n",
       "    <tr>\n",
       "      <th>Tienda 1</th>\n",
       "      <td>Álvaro</td>\n",
       "      <td>Queso manchego</td>\n",
       "      <td>15.0</td>\n",
       "      <td>22.0</td>\n",
       "    </tr>\n",
       "    <tr>\n",
       "      <th>Tienda 1</th>\n",
       "      <td>Benito</td>\n",
       "      <td>Vino manchego</td>\n",
       "      <td>10.0</td>\n",
       "      <td>14.5</td>\n",
       "    </tr>\n",
       "    <tr>\n",
       "      <th>Tienda 2</th>\n",
       "      <td>Fernando</td>\n",
       "      <td>Jamón Extremeño</td>\n",
       "      <td>35.0</td>\n",
       "      <td>50.0</td>\n",
       "    </tr>\n",
       "    <tr>\n",
       "      <th>Tienda 3</th>\n",
       "      <td>Martín</td>\n",
       "      <td>Aceite Andaluz</td>\n",
       "      <td>12.0</td>\n",
       "      <td>0.0</td>\n",
       "    </tr>\n",
       "    <tr>\n",
       "      <th>Tienda 3</th>\n",
       "      <td>Hernán</td>\n",
       "      <td>Azafrán manchego</td>\n",
       "      <td>NaN</td>\n",
       "      <td>0.0</td>\n",
       "    </tr>\n",
       "  </tbody>\n",
       "</table>\n",
       "</div>"
      ],
      "text/plain": [
       "            Nombre          Producto  Compra  Venta\n",
       "Tienda 1    Álvaro    Queso manchego    15.0   22.0\n",
       "Tienda 1    Benito     Vino manchego    10.0   14.5\n",
       "Tienda 2  Fernando   Jamón Extremeño    35.0   50.0\n",
       "Tienda 3    Martín    Aceite Andaluz    12.0    0.0\n",
       "Tienda 3    Hernán  Azafrán manchego     NaN    0.0"
      ]
     },
     "execution_count": 112,
     "metadata": {},
     "output_type": "execute_result"
    }
   ],
   "source": [
    "df['Producto'] = ['Queso manchego', 'Vino manchego', \n",
    "                  'Jamón Extremeño', 'Aceite Andaluz', 'Azafrán manchego']\n",
    "df"
   ]
  },
  {
   "cell_type": "markdown",
   "metadata": {},
   "source": [
    "<div style=\"text-align: right\">\n",
    "<a href=\"#indice\"><font size=5><i class=\"fa fa-arrow-circle-up\" aria-hidden=\"true\" style=\"color:#004D7F\"></i></font></a>\n",
    "</div>\n",
    "\n",
    "---\n",
    "\n",
    "<a id=\"section45\"></a> \n",
    "## <font color=\"#7F000E\">Manipulación de la estructura</font>\n",
    "<br>\n",
    "\n",
    "### <font color=\"#7F000E\"> Cambio de índice </font>\n",
    "\n",
    "El índice se puede cambiar mediante la función `set_index`.  Esta función genera un nuevo _DataFrame_, salvo que explícitamente se indique lo contrario mediante el atributo `inplace`.\n",
    "\n",
    "En la siguiente celda se copia el _DataFrame_ original para conservarlo y poder visualizar mejor los resultados de las distintas operaciones. "
   ]
  },
  {
   "cell_type": "code",
   "execution_count": 113,
   "metadata": {},
   "outputs": [
    {
     "data": {
      "text/html": [
       "<div>\n",
       "<style scoped>\n",
       "    .dataframe tbody tr th:only-of-type {\n",
       "        vertical-align: middle;\n",
       "    }\n",
       "\n",
       "    .dataframe tbody tr th {\n",
       "        vertical-align: top;\n",
       "    }\n",
       "\n",
       "    .dataframe thead th {\n",
       "        text-align: right;\n",
       "    }\n",
       "</style>\n",
       "<table border=\"1\" class=\"dataframe\">\n",
       "  <thead>\n",
       "    <tr style=\"text-align: right;\">\n",
       "      <th></th>\n",
       "      <th>Producto</th>\n",
       "      <th>Compra</th>\n",
       "      <th>Venta</th>\n",
       "    </tr>\n",
       "    <tr>\n",
       "      <th>Nombre</th>\n",
       "      <th></th>\n",
       "      <th></th>\n",
       "      <th></th>\n",
       "    </tr>\n",
       "  </thead>\n",
       "  <tbody>\n",
       "    <tr>\n",
       "      <th>Álvaro</th>\n",
       "      <td>Queso manchego</td>\n",
       "      <td>15.0</td>\n",
       "      <td>22.0</td>\n",
       "    </tr>\n",
       "    <tr>\n",
       "      <th>Benito</th>\n",
       "      <td>Vino manchego</td>\n",
       "      <td>10.0</td>\n",
       "      <td>14.5</td>\n",
       "    </tr>\n",
       "    <tr>\n",
       "      <th>Fernando</th>\n",
       "      <td>Jamón Extremeño</td>\n",
       "      <td>35.0</td>\n",
       "      <td>50.0</td>\n",
       "    </tr>\n",
       "    <tr>\n",
       "      <th>Martín</th>\n",
       "      <td>Aceite Andaluz</td>\n",
       "      <td>12.0</td>\n",
       "      <td>0.0</td>\n",
       "    </tr>\n",
       "    <tr>\n",
       "      <th>Hernán</th>\n",
       "      <td>Azafrán manchego</td>\n",
       "      <td>NaN</td>\n",
       "      <td>0.0</td>\n",
       "    </tr>\n",
       "  </tbody>\n",
       "</table>\n",
       "</div>"
      ],
      "text/plain": [
       "                  Producto  Compra  Venta\n",
       "Nombre                                   \n",
       "Álvaro      Queso manchego    15.0   22.0\n",
       "Benito       Vino manchego    10.0   14.5\n",
       "Fernando   Jamón Extremeño    35.0   50.0\n",
       "Martín      Aceite Andaluz    12.0    0.0\n",
       "Hernán    Azafrán manchego     NaN    0.0"
      ]
     },
     "execution_count": 113,
     "metadata": {},
     "output_type": "execute_result"
    }
   ],
   "source": [
    "df_copia = df.copy()\n",
    "df_copia.set_index('Nombre', inplace=True)\n",
    "df_copia.head()"
   ]
  },
  {
   "cell_type": "markdown",
   "metadata": {},
   "source": [
    "La función `reindex` recibe un índice y lo utiliza para indexar el `DataFrame`. Las filas cuyo índice no aparece en el nuevo índice son descartadas, mientras que se crean filas para aquellos valores del nuevo índice que no existían en el índice anterior. El indice original ha de contener valores únicos. "
   ]
  },
  {
   "cell_type": "code",
   "execution_count": 114,
   "metadata": {},
   "outputs": [
    {
     "data": {
      "text/html": [
       "<div>\n",
       "<style scoped>\n",
       "    .dataframe tbody tr th:only-of-type {\n",
       "        vertical-align: middle;\n",
       "    }\n",
       "\n",
       "    .dataframe tbody tr th {\n",
       "        vertical-align: top;\n",
       "    }\n",
       "\n",
       "    .dataframe thead th {\n",
       "        text-align: right;\n",
       "    }\n",
       "</style>\n",
       "<table border=\"1\" class=\"dataframe\">\n",
       "  <thead>\n",
       "    <tr style=\"text-align: right;\">\n",
       "      <th></th>\n",
       "      <th>Producto</th>\n",
       "      <th>Compra</th>\n",
       "      <th>Venta</th>\n",
       "    </tr>\n",
       "    <tr>\n",
       "      <th>Nombre</th>\n",
       "      <th></th>\n",
       "      <th></th>\n",
       "      <th></th>\n",
       "    </tr>\n",
       "  </thead>\n",
       "  <tbody>\n",
       "    <tr>\n",
       "      <th>Álvaro</th>\n",
       "      <td>Queso manchego</td>\n",
       "      <td>15.0</td>\n",
       "      <td>22.0</td>\n",
       "    </tr>\n",
       "    <tr>\n",
       "      <th>Diego</th>\n",
       "      <td>NaN</td>\n",
       "      <td>NaN</td>\n",
       "      <td>NaN</td>\n",
       "    </tr>\n",
       "    <tr>\n",
       "      <th>Hernán</th>\n",
       "      <td>Azafrán manchego</td>\n",
       "      <td>NaN</td>\n",
       "      <td>0.0</td>\n",
       "    </tr>\n",
       "    <tr>\n",
       "      <th>Diego</th>\n",
       "      <td>NaN</td>\n",
       "      <td>NaN</td>\n",
       "      <td>NaN</td>\n",
       "    </tr>\n",
       "  </tbody>\n",
       "</table>\n",
       "</div>"
      ],
      "text/plain": [
       "                Producto  Compra  Venta\n",
       "Nombre                                 \n",
       "Álvaro    Queso manchego    15.0   22.0\n",
       "Diego                NaN     NaN    NaN\n",
       "Hernán  Azafrán manchego     NaN    0.0\n",
       "Diego                NaN     NaN    NaN"
      ]
     },
     "execution_count": 114,
     "metadata": {},
     "output_type": "execute_result"
    }
   ],
   "source": [
    "df_copia.reindex(index=['Álvaro', 'Diego','Hernán','Diego'])"
   ]
  },
  {
   "cell_type": "markdown",
   "metadata": {},
   "source": [
    "### <font color=\"#7F000E\"> Creación de nuevas columnas </font>\n",
    "\n",
    "\n",
    "Cuando se asignan valores a una columna no existente, se crea ésta automáticamente. Si el valor es una colección, asigna uno por uno, según el orden del índice, los elementos. El tamaño de la colección ha de coincidir con el número de filas del `DataFrame`.\n",
    "\n",
    "<div class=\"alert alert-block alert-warning\">\n",
    "    \n",
    "<i class=\"fa fa-exclamation-circle\" aria-hidden=\"true\"></i>\n",
    "En este ejemplo se usan datos _categóricos_. Es decir, se definen unas categorías predeterminadas. Esto se verá más detalle más adelante. \n",
    "</div>"
   ]
  },
  {
   "cell_type": "code",
   "execution_count": 115,
   "metadata": {},
   "outputs": [
    {
     "data": {
      "text/html": [
       "<div>\n",
       "<style scoped>\n",
       "    .dataframe tbody tr th:only-of-type {\n",
       "        vertical-align: middle;\n",
       "    }\n",
       "\n",
       "    .dataframe tbody tr th {\n",
       "        vertical-align: top;\n",
       "    }\n",
       "\n",
       "    .dataframe thead th {\n",
       "        text-align: right;\n",
       "    }\n",
       "</style>\n",
       "<table border=\"1\" class=\"dataframe\">\n",
       "  <thead>\n",
       "    <tr style=\"text-align: right;\">\n",
       "      <th></th>\n",
       "      <th>Nombre</th>\n",
       "      <th>Producto</th>\n",
       "      <th>Compra</th>\n",
       "      <th>Venta</th>\n",
       "      <th>C.P</th>\n",
       "    </tr>\n",
       "  </thead>\n",
       "  <tbody>\n",
       "    <tr>\n",
       "      <th>Tienda 1</th>\n",
       "      <td>Álvaro</td>\n",
       "      <td>Queso manchego</td>\n",
       "      <td>15.0</td>\n",
       "      <td>22.0</td>\n",
       "      <td>02001</td>\n",
       "    </tr>\n",
       "    <tr>\n",
       "      <th>Tienda 1</th>\n",
       "      <td>Benito</td>\n",
       "      <td>Vino manchego</td>\n",
       "      <td>10.0</td>\n",
       "      <td>14.5</td>\n",
       "      <td>02001</td>\n",
       "    </tr>\n",
       "    <tr>\n",
       "      <th>Tienda 2</th>\n",
       "      <td>Fernando</td>\n",
       "      <td>Jamón Extremeño</td>\n",
       "      <td>35.0</td>\n",
       "      <td>50.0</td>\n",
       "      <td>02003</td>\n",
       "    </tr>\n",
       "    <tr>\n",
       "      <th>Tienda 3</th>\n",
       "      <td>Martín</td>\n",
       "      <td>Aceite Andaluz</td>\n",
       "      <td>12.0</td>\n",
       "      <td>0.0</td>\n",
       "      <td>02004</td>\n",
       "    </tr>\n",
       "    <tr>\n",
       "      <th>Tienda 3</th>\n",
       "      <td>Hernán</td>\n",
       "      <td>Azafrán manchego</td>\n",
       "      <td>NaN</td>\n",
       "      <td>0.0</td>\n",
       "      <td>02004</td>\n",
       "    </tr>\n",
       "  </tbody>\n",
       "</table>\n",
       "</div>"
      ],
      "text/plain": [
       "            Nombre          Producto  Compra  Venta    C.P\n",
       "Tienda 1    Álvaro    Queso manchego    15.0   22.0  02001\n",
       "Tienda 1    Benito     Vino manchego    10.0   14.5  02001\n",
       "Tienda 2  Fernando   Jamón Extremeño    35.0   50.0  02003\n",
       "Tienda 3    Martín    Aceite Andaluz    12.0    0.0  02004\n",
       "Tienda 3    Hernán  Azafrán manchego     NaN    0.0  02004"
      ]
     },
     "execution_count": 115,
     "metadata": {},
     "output_type": "execute_result"
    }
   ],
   "source": [
    "df['C.P'] = pd.Categorical(['02001', '02001', '02003', '02004','02004'])\n",
    "df"
   ]
  },
  {
   "cell_type": "markdown",
   "metadata": {},
   "source": [
    "También se puede añadir una columna y fijar los elementos en todas las filas a un valor determinado."
   ]
  },
  {
   "cell_type": "code",
   "execution_count": 116,
   "metadata": {},
   "outputs": [
    {
     "data": {
      "text/html": [
       "<div>\n",
       "<style scoped>\n",
       "    .dataframe tbody tr th:only-of-type {\n",
       "        vertical-align: middle;\n",
       "    }\n",
       "\n",
       "    .dataframe tbody tr th {\n",
       "        vertical-align: top;\n",
       "    }\n",
       "\n",
       "    .dataframe thead th {\n",
       "        text-align: right;\n",
       "    }\n",
       "</style>\n",
       "<table border=\"1\" class=\"dataframe\">\n",
       "  <thead>\n",
       "    <tr style=\"text-align: right;\">\n",
       "      <th></th>\n",
       "      <th>Nombre</th>\n",
       "      <th>Producto</th>\n",
       "      <th>Compra</th>\n",
       "      <th>Venta</th>\n",
       "      <th>C.P</th>\n",
       "      <th>Localidad</th>\n",
       "    </tr>\n",
       "  </thead>\n",
       "  <tbody>\n",
       "    <tr>\n",
       "      <th>Tienda 1</th>\n",
       "      <td>Álvaro</td>\n",
       "      <td>Queso manchego</td>\n",
       "      <td>15.0</td>\n",
       "      <td>22.0</td>\n",
       "      <td>02001</td>\n",
       "      <td>Madrid</td>\n",
       "    </tr>\n",
       "    <tr>\n",
       "      <th>Tienda 1</th>\n",
       "      <td>Benito</td>\n",
       "      <td>Vino manchego</td>\n",
       "      <td>10.0</td>\n",
       "      <td>14.5</td>\n",
       "      <td>02001</td>\n",
       "      <td>Madrid</td>\n",
       "    </tr>\n",
       "    <tr>\n",
       "      <th>Tienda 2</th>\n",
       "      <td>Fernando</td>\n",
       "      <td>Jamón Extremeño</td>\n",
       "      <td>35.0</td>\n",
       "      <td>50.0</td>\n",
       "      <td>02003</td>\n",
       "      <td>Madrid</td>\n",
       "    </tr>\n",
       "    <tr>\n",
       "      <th>Tienda 3</th>\n",
       "      <td>Martín</td>\n",
       "      <td>Aceite Andaluz</td>\n",
       "      <td>12.0</td>\n",
       "      <td>0.0</td>\n",
       "      <td>02004</td>\n",
       "      <td>Madrid</td>\n",
       "    </tr>\n",
       "    <tr>\n",
       "      <th>Tienda 3</th>\n",
       "      <td>Hernán</td>\n",
       "      <td>Azafrán manchego</td>\n",
       "      <td>NaN</td>\n",
       "      <td>0.0</td>\n",
       "      <td>02004</td>\n",
       "      <td>Madrid</td>\n",
       "    </tr>\n",
       "  </tbody>\n",
       "</table>\n",
       "</div>"
      ],
      "text/plain": [
       "            Nombre          Producto  Compra  Venta    C.P Localidad\n",
       "Tienda 1    Álvaro    Queso manchego    15.0   22.0  02001    Madrid\n",
       "Tienda 1    Benito     Vino manchego    10.0   14.5  02001    Madrid\n",
       "Tienda 2  Fernando   Jamón Extremeño    35.0   50.0  02003    Madrid\n",
       "Tienda 3    Martín    Aceite Andaluz    12.0    0.0  02004    Madrid\n",
       "Tienda 3    Hernán  Azafrán manchego     NaN    0.0  02004    Madrid"
      ]
     },
     "execution_count": 116,
     "metadata": {},
     "output_type": "execute_result"
    }
   ],
   "source": [
    "df['Localidad'] = 'Madrid'\n",
    "df"
   ]
  },
  {
   "cell_type": "markdown",
   "metadata": {},
   "source": [
    "Se pueden añadir valores a algunas filas solamente mediante un diccionario en el que las claves corresponden al índice, dejando el resto con valor indeterminado o NaN."
   ]
  },
  {
   "cell_type": "code",
   "execution_count": 117,
   "metadata": {},
   "outputs": [
    {
     "data": {
      "text/html": [
       "<div>\n",
       "<style scoped>\n",
       "    .dataframe tbody tr th:only-of-type {\n",
       "        vertical-align: middle;\n",
       "    }\n",
       "\n",
       "    .dataframe tbody tr th {\n",
       "        vertical-align: top;\n",
       "    }\n",
       "\n",
       "    .dataframe thead th {\n",
       "        text-align: right;\n",
       "    }\n",
       "</style>\n",
       "<table border=\"1\" class=\"dataframe\">\n",
       "  <thead>\n",
       "    <tr style=\"text-align: right;\">\n",
       "      <th></th>\n",
       "      <th>Nombre</th>\n",
       "      <th>Producto</th>\n",
       "      <th>Compra</th>\n",
       "      <th>Venta</th>\n",
       "      <th>C.P</th>\n",
       "      <th>Localidad</th>\n",
       "      <th>Entregado</th>\n",
       "    </tr>\n",
       "  </thead>\n",
       "  <tbody>\n",
       "    <tr>\n",
       "      <th>Tienda 1</th>\n",
       "      <td>Álvaro</td>\n",
       "      <td>Queso manchego</td>\n",
       "      <td>15.0</td>\n",
       "      <td>22.0</td>\n",
       "      <td>02001</td>\n",
       "      <td>Madrid</td>\n",
       "      <td>True</td>\n",
       "    </tr>\n",
       "    <tr>\n",
       "      <th>Tienda 1</th>\n",
       "      <td>Benito</td>\n",
       "      <td>Vino manchego</td>\n",
       "      <td>10.0</td>\n",
       "      <td>14.5</td>\n",
       "      <td>02001</td>\n",
       "      <td>Madrid</td>\n",
       "      <td>True</td>\n",
       "    </tr>\n",
       "    <tr>\n",
       "      <th>Tienda 2</th>\n",
       "      <td>Fernando</td>\n",
       "      <td>Jamón Extremeño</td>\n",
       "      <td>35.0</td>\n",
       "      <td>50.0</td>\n",
       "      <td>02003</td>\n",
       "      <td>Madrid</td>\n",
       "      <td>True</td>\n",
       "    </tr>\n",
       "    <tr>\n",
       "      <th>Tienda 3</th>\n",
       "      <td>Martín</td>\n",
       "      <td>Aceite Andaluz</td>\n",
       "      <td>12.0</td>\n",
       "      <td>0.0</td>\n",
       "      <td>02004</td>\n",
       "      <td>Madrid</td>\n",
       "      <td>NaN</td>\n",
       "    </tr>\n",
       "    <tr>\n",
       "      <th>Tienda 3</th>\n",
       "      <td>Hernán</td>\n",
       "      <td>Azafrán manchego</td>\n",
       "      <td>NaN</td>\n",
       "      <td>0.0</td>\n",
       "      <td>02004</td>\n",
       "      <td>Madrid</td>\n",
       "      <td>NaN</td>\n",
       "    </tr>\n",
       "  </tbody>\n",
       "</table>\n",
       "</div>"
      ],
      "text/plain": [
       "            Nombre          Producto  Compra  Venta    C.P Localidad Entregado\n",
       "Tienda 1    Álvaro    Queso manchego    15.0   22.0  02001    Madrid      True\n",
       "Tienda 1    Benito     Vino manchego    10.0   14.5  02001    Madrid      True\n",
       "Tienda 2  Fernando   Jamón Extremeño    35.0   50.0  02003    Madrid      True\n",
       "Tienda 3    Martín    Aceite Andaluz    12.0    0.0  02004    Madrid       NaN\n",
       "Tienda 3    Hernán  Azafrán manchego     NaN    0.0  02004    Madrid       NaN"
      ]
     },
     "execution_count": 117,
     "metadata": {},
     "output_type": "execute_result"
    }
   ],
   "source": [
    "df['Entregado'] = pd.Series({'Tienda 1': True, 'Tienda 2': True})\n",
    "df"
   ]
  },
  {
   "cell_type": "markdown",
   "metadata": {},
   "source": [
    "Existe una función, denominada `assign` que permite copiar un `DataFrame` y crear nuevas columnas. El `DataFrame` original no se modifica. "
   ]
  },
  {
   "cell_type": "code",
   "execution_count": 118,
   "metadata": {},
   "outputs": [
    {
     "data": {
      "text/html": [
       "<div>\n",
       "<style scoped>\n",
       "    .dataframe tbody tr th:only-of-type {\n",
       "        vertical-align: middle;\n",
       "    }\n",
       "\n",
       "    .dataframe tbody tr th {\n",
       "        vertical-align: top;\n",
       "    }\n",
       "\n",
       "    .dataframe thead th {\n",
       "        text-align: right;\n",
       "    }\n",
       "</style>\n",
       "<table border=\"1\" class=\"dataframe\">\n",
       "  <thead>\n",
       "    <tr style=\"text-align: right;\">\n",
       "      <th></th>\n",
       "      <th>Nombre</th>\n",
       "      <th>Producto</th>\n",
       "      <th>Compra</th>\n",
       "      <th>Venta</th>\n",
       "      <th>C.P</th>\n",
       "      <th>Localidad</th>\n",
       "      <th>Entregado</th>\n",
       "      <th>Calle</th>\n",
       "    </tr>\n",
       "  </thead>\n",
       "  <tbody>\n",
       "    <tr>\n",
       "      <th>Tienda 1</th>\n",
       "      <td>Álvaro</td>\n",
       "      <td>Queso manchego</td>\n",
       "      <td>15.0</td>\n",
       "      <td>22.0</td>\n",
       "      <td>02001</td>\n",
       "      <td>Madrid</td>\n",
       "      <td>True</td>\n",
       "      <td>Ramón y Cajal</td>\n",
       "    </tr>\n",
       "    <tr>\n",
       "      <th>Tienda 1</th>\n",
       "      <td>Benito</td>\n",
       "      <td>Vino manchego</td>\n",
       "      <td>10.0</td>\n",
       "      <td>14.5</td>\n",
       "      <td>02001</td>\n",
       "      <td>Madrid</td>\n",
       "      <td>True</td>\n",
       "      <td>Ramón y Cajal</td>\n",
       "    </tr>\n",
       "    <tr>\n",
       "      <th>Tienda 2</th>\n",
       "      <td>Fernando</td>\n",
       "      <td>Jamón Extremeño</td>\n",
       "      <td>35.0</td>\n",
       "      <td>50.0</td>\n",
       "      <td>02003</td>\n",
       "      <td>Madrid</td>\n",
       "      <td>True</td>\n",
       "      <td>Hellín</td>\n",
       "    </tr>\n",
       "    <tr>\n",
       "      <th>Tienda 3</th>\n",
       "      <td>Martín</td>\n",
       "      <td>Aceite Andaluz</td>\n",
       "      <td>12.0</td>\n",
       "      <td>0.0</td>\n",
       "      <td>02004</td>\n",
       "      <td>Madrid</td>\n",
       "      <td>NaN</td>\n",
       "      <td>NaN</td>\n",
       "    </tr>\n",
       "    <tr>\n",
       "      <th>Tienda 3</th>\n",
       "      <td>Hernán</td>\n",
       "      <td>Azafrán manchego</td>\n",
       "      <td>NaN</td>\n",
       "      <td>0.0</td>\n",
       "      <td>02004</td>\n",
       "      <td>Madrid</td>\n",
       "      <td>NaN</td>\n",
       "      <td>NaN</td>\n",
       "    </tr>\n",
       "  </tbody>\n",
       "</table>\n",
       "</div>"
      ],
      "text/plain": [
       "            Nombre          Producto  Compra  Venta    C.P Localidad  \\\n",
       "Tienda 1    Álvaro    Queso manchego    15.0   22.0  02001    Madrid   \n",
       "Tienda 1    Benito     Vino manchego    10.0   14.5  02001    Madrid   \n",
       "Tienda 2  Fernando   Jamón Extremeño    35.0   50.0  02003    Madrid   \n",
       "Tienda 3    Martín    Aceite Andaluz    12.0    0.0  02004    Madrid   \n",
       "Tienda 3    Hernán  Azafrán manchego     NaN    0.0  02004    Madrid   \n",
       "\n",
       "         Entregado          Calle  \n",
       "Tienda 1      True  Ramón y Cajal  \n",
       "Tienda 1      True  Ramón y Cajal  \n",
       "Tienda 2      True         Hellín  \n",
       "Tienda 3       NaN            NaN  \n",
       "Tienda 3       NaN            NaN  "
      ]
     },
     "execution_count": 118,
     "metadata": {},
     "output_type": "execute_result"
    }
   ],
   "source": [
    "df.assign(Calle=pd.Series({'Tienda 1': 'Ramón y Cajal', 'Tienda 2': 'Hellín'}))"
   ]
  },
  {
   "cell_type": "code",
   "execution_count": 119,
   "metadata": {},
   "outputs": [
    {
     "data": {
      "text/html": [
       "<div>\n",
       "<style scoped>\n",
       "    .dataframe tbody tr th:only-of-type {\n",
       "        vertical-align: middle;\n",
       "    }\n",
       "\n",
       "    .dataframe tbody tr th {\n",
       "        vertical-align: top;\n",
       "    }\n",
       "\n",
       "    .dataframe thead th {\n",
       "        text-align: right;\n",
       "    }\n",
       "</style>\n",
       "<table border=\"1\" class=\"dataframe\">\n",
       "  <thead>\n",
       "    <tr style=\"text-align: right;\">\n",
       "      <th></th>\n",
       "      <th>Nombre</th>\n",
       "      <th>Producto</th>\n",
       "      <th>Compra</th>\n",
       "      <th>Venta</th>\n",
       "      <th>C.P</th>\n",
       "      <th>Localidad</th>\n",
       "      <th>Entregado</th>\n",
       "    </tr>\n",
       "  </thead>\n",
       "  <tbody>\n",
       "    <tr>\n",
       "      <th>Tienda 1</th>\n",
       "      <td>Álvaro</td>\n",
       "      <td>Queso manchego</td>\n",
       "      <td>15.0</td>\n",
       "      <td>22.0</td>\n",
       "      <td>02001</td>\n",
       "      <td>Madrid</td>\n",
       "      <td>True</td>\n",
       "    </tr>\n",
       "    <tr>\n",
       "      <th>Tienda 1</th>\n",
       "      <td>Benito</td>\n",
       "      <td>Vino manchego</td>\n",
       "      <td>10.0</td>\n",
       "      <td>14.5</td>\n",
       "      <td>02001</td>\n",
       "      <td>Madrid</td>\n",
       "      <td>True</td>\n",
       "    </tr>\n",
       "    <tr>\n",
       "      <th>Tienda 2</th>\n",
       "      <td>Fernando</td>\n",
       "      <td>Jamón Extremeño</td>\n",
       "      <td>35.0</td>\n",
       "      <td>50.0</td>\n",
       "      <td>02003</td>\n",
       "      <td>Madrid</td>\n",
       "      <td>True</td>\n",
       "    </tr>\n",
       "    <tr>\n",
       "      <th>Tienda 3</th>\n",
       "      <td>Martín</td>\n",
       "      <td>Aceite Andaluz</td>\n",
       "      <td>12.0</td>\n",
       "      <td>0.0</td>\n",
       "      <td>02004</td>\n",
       "      <td>Madrid</td>\n",
       "      <td>NaN</td>\n",
       "    </tr>\n",
       "    <tr>\n",
       "      <th>Tienda 3</th>\n",
       "      <td>Hernán</td>\n",
       "      <td>Azafrán manchego</td>\n",
       "      <td>NaN</td>\n",
       "      <td>0.0</td>\n",
       "      <td>02004</td>\n",
       "      <td>Madrid</td>\n",
       "      <td>NaN</td>\n",
       "    </tr>\n",
       "  </tbody>\n",
       "</table>\n",
       "</div>"
      ],
      "text/plain": [
       "            Nombre          Producto  Compra  Venta    C.P Localidad Entregado\n",
       "Tienda 1    Álvaro    Queso manchego    15.0   22.0  02001    Madrid      True\n",
       "Tienda 1    Benito     Vino manchego    10.0   14.5  02001    Madrid      True\n",
       "Tienda 2  Fernando   Jamón Extremeño    35.0   50.0  02003    Madrid      True\n",
       "Tienda 3    Martín    Aceite Andaluz    12.0    0.0  02004    Madrid       NaN\n",
       "Tienda 3    Hernán  Azafrán manchego     NaN    0.0  02004    Madrid       NaN"
      ]
     },
     "execution_count": 119,
     "metadata": {},
     "output_type": "execute_result"
    }
   ],
   "source": [
    "df"
   ]
  },
  {
   "cell_type": "markdown",
   "metadata": {},
   "source": [
    "### <font color=\"#7F000E\"> Renombrado de índice y de columnas </font>\n",
    "\n",
    "\n",
    "El índice y las columnas pueden renombrarse mediante el método `rename()`. Puede tomar como argumento un diccionario con las correspondencias, o una función de transformación ([documentación](https://pandas.pydata.org/pandas-docs/stable/generated/pandas.DataFrame.rename.html)). En caso de tomar una función de transformación, es necesario especificar si ésta actúa sobre índices o sobre columnas mediante el atributo `axis` (que por defecto toma el valor `index`).\n",
    "\n",
    "El siguiente ejemplo, renombra todos los índices anteponiéndoles el caracter `'#'` y transformándolo en un `String`. Esta operación devuelve un nuevo `DataFrame`, a menos que se indique que actúe sobre el mismo mediante el parámetro `inplace`."
   ]
  },
  {
   "cell_type": "code",
   "execution_count": 120,
   "metadata": {},
   "outputs": [
    {
     "data": {
      "text/html": [
       "<div>\n",
       "<style scoped>\n",
       "    .dataframe tbody tr th:only-of-type {\n",
       "        vertical-align: middle;\n",
       "    }\n",
       "\n",
       "    .dataframe tbody tr th {\n",
       "        vertical-align: top;\n",
       "    }\n",
       "\n",
       "    .dataframe thead th {\n",
       "        text-align: right;\n",
       "    }\n",
       "</style>\n",
       "<table border=\"1\" class=\"dataframe\">\n",
       "  <thead>\n",
       "    <tr style=\"text-align: right;\">\n",
       "      <th></th>\n",
       "      <th>Nombre</th>\n",
       "      <th>Producto</th>\n",
       "      <th>Compra</th>\n",
       "      <th>Venta</th>\n",
       "      <th>C.P</th>\n",
       "      <th>Localidad</th>\n",
       "      <th>Entregado</th>\n",
       "    </tr>\n",
       "  </thead>\n",
       "  <tbody>\n",
       "    <tr>\n",
       "      <th>#Tienda 1</th>\n",
       "      <td>Álvaro</td>\n",
       "      <td>Queso manchego</td>\n",
       "      <td>15.0</td>\n",
       "      <td>22.0</td>\n",
       "      <td>02001</td>\n",
       "      <td>Madrid</td>\n",
       "      <td>True</td>\n",
       "    </tr>\n",
       "    <tr>\n",
       "      <th>#Tienda 1</th>\n",
       "      <td>Benito</td>\n",
       "      <td>Vino manchego</td>\n",
       "      <td>10.0</td>\n",
       "      <td>14.5</td>\n",
       "      <td>02001</td>\n",
       "      <td>Madrid</td>\n",
       "      <td>True</td>\n",
       "    </tr>\n",
       "    <tr>\n",
       "      <th>#Tienda 2</th>\n",
       "      <td>Fernando</td>\n",
       "      <td>Jamón Extremeño</td>\n",
       "      <td>35.0</td>\n",
       "      <td>50.0</td>\n",
       "      <td>02003</td>\n",
       "      <td>Madrid</td>\n",
       "      <td>True</td>\n",
       "    </tr>\n",
       "    <tr>\n",
       "      <th>#Tienda 3</th>\n",
       "      <td>Martín</td>\n",
       "      <td>Aceite Andaluz</td>\n",
       "      <td>12.0</td>\n",
       "      <td>0.0</td>\n",
       "      <td>02004</td>\n",
       "      <td>Madrid</td>\n",
       "      <td>NaN</td>\n",
       "    </tr>\n",
       "    <tr>\n",
       "      <th>#Tienda 3</th>\n",
       "      <td>Hernán</td>\n",
       "      <td>Azafrán manchego</td>\n",
       "      <td>NaN</td>\n",
       "      <td>0.0</td>\n",
       "      <td>02004</td>\n",
       "      <td>Madrid</td>\n",
       "      <td>NaN</td>\n",
       "    </tr>\n",
       "  </tbody>\n",
       "</table>\n",
       "</div>"
      ],
      "text/plain": [
       "             Nombre          Producto  Compra  Venta    C.P Localidad  \\\n",
       "#Tienda 1    Álvaro    Queso manchego    15.0   22.0  02001    Madrid   \n",
       "#Tienda 1    Benito     Vino manchego    10.0   14.5  02001    Madrid   \n",
       "#Tienda 2  Fernando   Jamón Extremeño    35.0   50.0  02003    Madrid   \n",
       "#Tienda 3    Martín    Aceite Andaluz    12.0    0.0  02004    Madrid   \n",
       "#Tienda 3    Hernán  Azafrán manchego     NaN    0.0  02004    Madrid   \n",
       "\n",
       "          Entregado  \n",
       "#Tienda 1      True  \n",
       "#Tienda 1      True  \n",
       "#Tienda 2      True  \n",
       "#Tienda 3       NaN  \n",
       "#Tienda 3       NaN  "
      ]
     },
     "execution_count": 120,
     "metadata": {},
     "output_type": "execute_result"
    }
   ],
   "source": [
    "df_copia = df.copy()              # Copia el original (por claridad en los ejemplos)\n",
    "\n",
    "df_copia.rename(lambda x: '#'+str(x), axis='index', inplace=True)\n",
    "df_copia.head()"
   ]
  },
  {
   "cell_type": "markdown",
   "metadata": {},
   "source": [
    "También se pueden renombrar índices o columnas asignando un diccionario a los atributos `index` o  `columns`."
   ]
  },
  {
   "cell_type": "code",
   "execution_count": 121,
   "metadata": {},
   "outputs": [
    {
     "data": {
      "text/html": [
       "<div>\n",
       "<style scoped>\n",
       "    .dataframe tbody tr th:only-of-type {\n",
       "        vertical-align: middle;\n",
       "    }\n",
       "\n",
       "    .dataframe tbody tr th {\n",
       "        vertical-align: top;\n",
       "    }\n",
       "\n",
       "    .dataframe thead th {\n",
       "        text-align: right;\n",
       "    }\n",
       "</style>\n",
       "<table border=\"1\" class=\"dataframe\">\n",
       "  <thead>\n",
       "    <tr style=\"text-align: right;\">\n",
       "      <th></th>\n",
       "      <th>Nombre</th>\n",
       "      <th>Producto</th>\n",
       "      <th>Compra</th>\n",
       "      <th>PVP</th>\n",
       "      <th>C.P</th>\n",
       "      <th>Localidad</th>\n",
       "      <th>Disponible</th>\n",
       "    </tr>\n",
       "  </thead>\n",
       "  <tbody>\n",
       "    <tr>\n",
       "      <th>Tienda 1</th>\n",
       "      <td>Álvaro</td>\n",
       "      <td>Queso manchego</td>\n",
       "      <td>15.0</td>\n",
       "      <td>22.0</td>\n",
       "      <td>02001</td>\n",
       "      <td>Madrid</td>\n",
       "      <td>True</td>\n",
       "    </tr>\n",
       "    <tr>\n",
       "      <th>Tienda 1</th>\n",
       "      <td>Benito</td>\n",
       "      <td>Vino manchego</td>\n",
       "      <td>10.0</td>\n",
       "      <td>14.5</td>\n",
       "      <td>02001</td>\n",
       "      <td>Madrid</td>\n",
       "      <td>True</td>\n",
       "    </tr>\n",
       "    <tr>\n",
       "      <th>Tienda 2</th>\n",
       "      <td>Fernando</td>\n",
       "      <td>Jamón Extremeño</td>\n",
       "      <td>35.0</td>\n",
       "      <td>50.0</td>\n",
       "      <td>02003</td>\n",
       "      <td>Madrid</td>\n",
       "      <td>True</td>\n",
       "    </tr>\n",
       "    <tr>\n",
       "      <th>Tienda 3</th>\n",
       "      <td>Martín</td>\n",
       "      <td>Aceite Andaluz</td>\n",
       "      <td>12.0</td>\n",
       "      <td>0.0</td>\n",
       "      <td>02004</td>\n",
       "      <td>Madrid</td>\n",
       "      <td>NaN</td>\n",
       "    </tr>\n",
       "    <tr>\n",
       "      <th>Tienda 3</th>\n",
       "      <td>Hernán</td>\n",
       "      <td>Azafrán manchego</td>\n",
       "      <td>NaN</td>\n",
       "      <td>0.0</td>\n",
       "      <td>02004</td>\n",
       "      <td>Madrid</td>\n",
       "      <td>NaN</td>\n",
       "    </tr>\n",
       "  </tbody>\n",
       "</table>\n",
       "</div>"
      ],
      "text/plain": [
       "            Nombre          Producto  Compra   PVP    C.P Localidad Disponible\n",
       "Tienda 1    Álvaro    Queso manchego    15.0  22.0  02001    Madrid       True\n",
       "Tienda 1    Benito     Vino manchego    10.0  14.5  02001    Madrid       True\n",
       "Tienda 2  Fernando   Jamón Extremeño    35.0  50.0  02003    Madrid       True\n",
       "Tienda 3    Martín    Aceite Andaluz    12.0   0.0  02004    Madrid        NaN\n",
       "Tienda 3    Hernán  Azafrán manchego     NaN   0.0  02004    Madrid        NaN"
      ]
     },
     "execution_count": 121,
     "metadata": {},
     "output_type": "execute_result"
    }
   ],
   "source": [
    "df_copia = df.copy()       # Copia el original (por claridad en los ejemplos)\n",
    "df_copia.rename(columns = {'Venta': 'PVP', 'Entregado':'Disponible'}, inplace = True);\n",
    "df_copia.head()"
   ]
  },
  {
   "cell_type": "markdown",
   "metadata": {},
   "source": [
    "Por último, es posible renombrar las columnas directamente asignando una colección de valores al campo `DataFrame.columns`."
   ]
  },
  {
   "cell_type": "code",
   "execution_count": 122,
   "metadata": {},
   "outputs": [
    {
     "data": {
      "text/html": [
       "<div>\n",
       "<style scoped>\n",
       "    .dataframe tbody tr th:only-of-type {\n",
       "        vertical-align: middle;\n",
       "    }\n",
       "\n",
       "    .dataframe tbody tr th {\n",
       "        vertical-align: top;\n",
       "    }\n",
       "\n",
       "    .dataframe thead th {\n",
       "        text-align: right;\n",
       "    }\n",
       "</style>\n",
       "<table border=\"1\" class=\"dataframe\">\n",
       "  <thead>\n",
       "    <tr style=\"text-align: right;\">\n",
       "      <th></th>\n",
       "      <th>COMPRA</th>\n",
       "      <th>NOMBRE</th>\n",
       "      <th>PVP</th>\n",
       "      <th>PRODUCTO</th>\n",
       "      <th>C.P</th>\n",
       "      <th>LOCALIDAD</th>\n",
       "      <th>ENTREGADO</th>\n",
       "    </tr>\n",
       "  </thead>\n",
       "  <tbody>\n",
       "    <tr>\n",
       "      <th>Tienda 1</th>\n",
       "      <td>Álvaro</td>\n",
       "      <td>Queso manchego</td>\n",
       "      <td>15.0</td>\n",
       "      <td>22.0</td>\n",
       "      <td>02001</td>\n",
       "      <td>Madrid</td>\n",
       "      <td>True</td>\n",
       "    </tr>\n",
       "    <tr>\n",
       "      <th>Tienda 1</th>\n",
       "      <td>Benito</td>\n",
       "      <td>Vino manchego</td>\n",
       "      <td>10.0</td>\n",
       "      <td>14.5</td>\n",
       "      <td>02001</td>\n",
       "      <td>Madrid</td>\n",
       "      <td>True</td>\n",
       "    </tr>\n",
       "    <tr>\n",
       "      <th>Tienda 2</th>\n",
       "      <td>Fernando</td>\n",
       "      <td>Jamón Extremeño</td>\n",
       "      <td>35.0</td>\n",
       "      <td>50.0</td>\n",
       "      <td>02003</td>\n",
       "      <td>Madrid</td>\n",
       "      <td>True</td>\n",
       "    </tr>\n",
       "    <tr>\n",
       "      <th>Tienda 3</th>\n",
       "      <td>Martín</td>\n",
       "      <td>Aceite Andaluz</td>\n",
       "      <td>12.0</td>\n",
       "      <td>0.0</td>\n",
       "      <td>02004</td>\n",
       "      <td>Madrid</td>\n",
       "      <td>NaN</td>\n",
       "    </tr>\n",
       "    <tr>\n",
       "      <th>Tienda 3</th>\n",
       "      <td>Hernán</td>\n",
       "      <td>Azafrán manchego</td>\n",
       "      <td>NaN</td>\n",
       "      <td>0.0</td>\n",
       "      <td>02004</td>\n",
       "      <td>Madrid</td>\n",
       "      <td>NaN</td>\n",
       "    </tr>\n",
       "  </tbody>\n",
       "</table>\n",
       "</div>"
      ],
      "text/plain": [
       "            COMPRA            NOMBRE   PVP  PRODUCTO    C.P LOCALIDAD  \\\n",
       "Tienda 1    Álvaro    Queso manchego  15.0      22.0  02001    Madrid   \n",
       "Tienda 1    Benito     Vino manchego  10.0      14.5  02001    Madrid   \n",
       "Tienda 2  Fernando   Jamón Extremeño  35.0      50.0  02003    Madrid   \n",
       "Tienda 3    Martín    Aceite Andaluz  12.0       0.0  02004    Madrid   \n",
       "Tienda 3    Hernán  Azafrán manchego   NaN       0.0  02004    Madrid   \n",
       "\n",
       "         ENTREGADO  \n",
       "Tienda 1      True  \n",
       "Tienda 1      True  \n",
       "Tienda 2      True  \n",
       "Tienda 3       NaN  \n",
       "Tienda 3       NaN  "
      ]
     },
     "execution_count": 122,
     "metadata": {},
     "output_type": "execute_result"
    }
   ],
   "source": [
    "df_copia.columns = ['COMPRA','NOMBRE', 'PVP','PRODUCTO','C.P', 'LOCALIDAD','ENTREGADO']\n",
    "df_copia"
   ]
  },
  {
   "cell_type": "markdown",
   "metadata": {},
   "source": [
    "### <font color=\"#7F000E\"> Reordenación de columnas </font>\n",
    "\n",
    "Al acceder a una colección de columnas se genera un nuevo `DataFrame` en el que las columnas se colocan en el orden de la colección. "
   ]
  },
  {
   "cell_type": "code",
   "execution_count": 123,
   "metadata": {},
   "outputs": [
    {
     "data": {
      "text/html": [
       "<div>\n",
       "<style scoped>\n",
       "    .dataframe tbody tr th:only-of-type {\n",
       "        vertical-align: middle;\n",
       "    }\n",
       "\n",
       "    .dataframe tbody tr th {\n",
       "        vertical-align: top;\n",
       "    }\n",
       "\n",
       "    .dataframe thead th {\n",
       "        text-align: right;\n",
       "    }\n",
       "</style>\n",
       "<table border=\"1\" class=\"dataframe\">\n",
       "  <thead>\n",
       "    <tr style=\"text-align: right;\">\n",
       "      <th></th>\n",
       "      <th>NOMBRE</th>\n",
       "      <th>LOCALIDAD</th>\n",
       "      <th>C.P</th>\n",
       "      <th>PRODUCTO</th>\n",
       "      <th>COMPRA</th>\n",
       "      <th>PVP</th>\n",
       "    </tr>\n",
       "  </thead>\n",
       "  <tbody>\n",
       "    <tr>\n",
       "      <th>Tienda 1</th>\n",
       "      <td>Queso manchego</td>\n",
       "      <td>Madrid</td>\n",
       "      <td>02001</td>\n",
       "      <td>22.0</td>\n",
       "      <td>Álvaro</td>\n",
       "      <td>15.0</td>\n",
       "    </tr>\n",
       "    <tr>\n",
       "      <th>Tienda 1</th>\n",
       "      <td>Vino manchego</td>\n",
       "      <td>Madrid</td>\n",
       "      <td>02001</td>\n",
       "      <td>14.5</td>\n",
       "      <td>Benito</td>\n",
       "      <td>10.0</td>\n",
       "    </tr>\n",
       "    <tr>\n",
       "      <th>Tienda 2</th>\n",
       "      <td>Jamón Extremeño</td>\n",
       "      <td>Madrid</td>\n",
       "      <td>02003</td>\n",
       "      <td>50.0</td>\n",
       "      <td>Fernando</td>\n",
       "      <td>35.0</td>\n",
       "    </tr>\n",
       "    <tr>\n",
       "      <th>Tienda 3</th>\n",
       "      <td>Aceite Andaluz</td>\n",
       "      <td>Madrid</td>\n",
       "      <td>02004</td>\n",
       "      <td>0.0</td>\n",
       "      <td>Martín</td>\n",
       "      <td>12.0</td>\n",
       "    </tr>\n",
       "    <tr>\n",
       "      <th>Tienda 3</th>\n",
       "      <td>Azafrán manchego</td>\n",
       "      <td>Madrid</td>\n",
       "      <td>02004</td>\n",
       "      <td>0.0</td>\n",
       "      <td>Hernán</td>\n",
       "      <td>NaN</td>\n",
       "    </tr>\n",
       "  </tbody>\n",
       "</table>\n",
       "</div>"
      ],
      "text/plain": [
       "                    NOMBRE LOCALIDAD    C.P  PRODUCTO    COMPRA   PVP\n",
       "Tienda 1    Queso manchego    Madrid  02001      22.0    Álvaro  15.0\n",
       "Tienda 1     Vino manchego    Madrid  02001      14.5    Benito  10.0\n",
       "Tienda 2   Jamón Extremeño    Madrid  02003      50.0  Fernando  35.0\n",
       "Tienda 3    Aceite Andaluz    Madrid  02004       0.0    Martín  12.0\n",
       "Tienda 3  Azafrán manchego    Madrid  02004       0.0    Hernán   NaN"
      ]
     },
     "execution_count": 123,
     "metadata": {},
     "output_type": "execute_result"
    }
   ],
   "source": [
    "df_copia = df_copia[['NOMBRE','LOCALIDAD','C.P', 'PRODUCTO','COMPRA','PVP']]\n",
    "df_copia"
   ]
  },
  {
   "cell_type": "markdown",
   "metadata": {},
   "source": [
    "### <font color=\"#7F000E\"> Eliminación de filas y columnas </font>\n",
    "\n",
    "El método `drop()` permite eliminar filas y columnas. Sin embargo, ___devuelve un nuevo objeto___, y el original permanece en su estado. Para que la eliminación se haga sobre el objeto original, ha de indicarse fijando el parámetro `inplace=True`."
   ]
  },
  {
   "cell_type": "markdown",
   "metadata": {},
   "source": [
    "<div class=\"alert alert-block alert-warning\">\n",
    "\n",
    "<i class=\"fa fa-exclamation-circle\" aria-hidden=\"true\"></i>\n",
    "__Recordad__ que la mayor parte de operaciones que manipulan la estructura del `DataFrame` no los elementos, producen una copia del mismo, pero aceptan el parámetro `inplace`.\n",
    "</div>"
   ]
  },
  {
   "cell_type": "code",
   "execution_count": 124,
   "metadata": {},
   "outputs": [
    {
     "data": {
      "text/html": [
       "<div>\n",
       "<style scoped>\n",
       "    .dataframe tbody tr th:only-of-type {\n",
       "        vertical-align: middle;\n",
       "    }\n",
       "\n",
       "    .dataframe tbody tr th {\n",
       "        vertical-align: top;\n",
       "    }\n",
       "\n",
       "    .dataframe thead th {\n",
       "        text-align: right;\n",
       "    }\n",
       "</style>\n",
       "<table border=\"1\" class=\"dataframe\">\n",
       "  <thead>\n",
       "    <tr style=\"text-align: right;\">\n",
       "      <th></th>\n",
       "      <th>Nombre</th>\n",
       "      <th>Producto</th>\n",
       "      <th>Compra</th>\n",
       "      <th>Venta</th>\n",
       "      <th>C.P</th>\n",
       "      <th>Localidad</th>\n",
       "      <th>Entregado</th>\n",
       "    </tr>\n",
       "  </thead>\n",
       "  <tbody>\n",
       "    <tr>\n",
       "      <th>Tienda 1</th>\n",
       "      <td>Álvaro</td>\n",
       "      <td>Queso manchego</td>\n",
       "      <td>15.0</td>\n",
       "      <td>22.0</td>\n",
       "      <td>02001</td>\n",
       "      <td>Madrid</td>\n",
       "      <td>True</td>\n",
       "    </tr>\n",
       "    <tr>\n",
       "      <th>Tienda 1</th>\n",
       "      <td>Benito</td>\n",
       "      <td>Vino manchego</td>\n",
       "      <td>10.0</td>\n",
       "      <td>14.5</td>\n",
       "      <td>02001</td>\n",
       "      <td>Madrid</td>\n",
       "      <td>True</td>\n",
       "    </tr>\n",
       "    <tr>\n",
       "      <th>Tienda 3</th>\n",
       "      <td>Martín</td>\n",
       "      <td>Aceite Andaluz</td>\n",
       "      <td>12.0</td>\n",
       "      <td>0.0</td>\n",
       "      <td>02004</td>\n",
       "      <td>Madrid</td>\n",
       "      <td>NaN</td>\n",
       "    </tr>\n",
       "    <tr>\n",
       "      <th>Tienda 3</th>\n",
       "      <td>Hernán</td>\n",
       "      <td>Azafrán manchego</td>\n",
       "      <td>NaN</td>\n",
       "      <td>0.0</td>\n",
       "      <td>02004</td>\n",
       "      <td>Madrid</td>\n",
       "      <td>NaN</td>\n",
       "    </tr>\n",
       "  </tbody>\n",
       "</table>\n",
       "</div>"
      ],
      "text/plain": [
       "          Nombre          Producto  Compra  Venta    C.P Localidad Entregado\n",
       "Tienda 1  Álvaro    Queso manchego    15.0   22.0  02001    Madrid      True\n",
       "Tienda 1  Benito     Vino manchego    10.0   14.5  02001    Madrid      True\n",
       "Tienda 3  Martín    Aceite Andaluz    12.0    0.0  02004    Madrid       NaN\n",
       "Tienda 3  Hernán  Azafrán manchego     NaN    0.0  02004    Madrid       NaN"
      ]
     },
     "execution_count": 124,
     "metadata": {},
     "output_type": "execute_result"
    }
   ],
   "source": [
    "df_copia = df.copy()                             # Copia el original (por claridad en los ejemplos))\n",
    "df_copia.drop('Tienda 2', inplace = True)\n",
    "df_copia"
   ]
  },
  {
   "cell_type": "markdown",
   "metadata": {},
   "source": [
    "La eliminación de columnas puede hacerse con el mismo método, utilizando el parámetro `axis=1` (el valor por defecto de `axis` es 0, que indica que se eliminen filas)."
   ]
  },
  {
   "cell_type": "code",
   "execution_count": 125,
   "metadata": {},
   "outputs": [
    {
     "data": {
      "text/html": [
       "<div>\n",
       "<style scoped>\n",
       "    .dataframe tbody tr th:only-of-type {\n",
       "        vertical-align: middle;\n",
       "    }\n",
       "\n",
       "    .dataframe tbody tr th {\n",
       "        vertical-align: top;\n",
       "    }\n",
       "\n",
       "    .dataframe thead th {\n",
       "        text-align: right;\n",
       "    }\n",
       "</style>\n",
       "<table border=\"1\" class=\"dataframe\">\n",
       "  <thead>\n",
       "    <tr style=\"text-align: right;\">\n",
       "      <th></th>\n",
       "      <th>Nombre</th>\n",
       "      <th>Producto</th>\n",
       "      <th>Compra</th>\n",
       "      <th>Venta</th>\n",
       "      <th>C.P</th>\n",
       "      <th>Localidad</th>\n",
       "    </tr>\n",
       "  </thead>\n",
       "  <tbody>\n",
       "    <tr>\n",
       "      <th>Tienda 1</th>\n",
       "      <td>Álvaro</td>\n",
       "      <td>Queso manchego</td>\n",
       "      <td>15.0</td>\n",
       "      <td>22.0</td>\n",
       "      <td>02001</td>\n",
       "      <td>Madrid</td>\n",
       "    </tr>\n",
       "    <tr>\n",
       "      <th>Tienda 1</th>\n",
       "      <td>Benito</td>\n",
       "      <td>Vino manchego</td>\n",
       "      <td>10.0</td>\n",
       "      <td>14.5</td>\n",
       "      <td>02001</td>\n",
       "      <td>Madrid</td>\n",
       "    </tr>\n",
       "    <tr>\n",
       "      <th>Tienda 2</th>\n",
       "      <td>Fernando</td>\n",
       "      <td>Jamón Extremeño</td>\n",
       "      <td>35.0</td>\n",
       "      <td>50.0</td>\n",
       "      <td>02003</td>\n",
       "      <td>Madrid</td>\n",
       "    </tr>\n",
       "    <tr>\n",
       "      <th>Tienda 3</th>\n",
       "      <td>Martín</td>\n",
       "      <td>Aceite Andaluz</td>\n",
       "      <td>12.0</td>\n",
       "      <td>0.0</td>\n",
       "      <td>02004</td>\n",
       "      <td>Madrid</td>\n",
       "    </tr>\n",
       "    <tr>\n",
       "      <th>Tienda 3</th>\n",
       "      <td>Hernán</td>\n",
       "      <td>Azafrán manchego</td>\n",
       "      <td>NaN</td>\n",
       "      <td>0.0</td>\n",
       "      <td>02004</td>\n",
       "      <td>Madrid</td>\n",
       "    </tr>\n",
       "  </tbody>\n",
       "</table>\n",
       "</div>"
      ],
      "text/plain": [
       "            Nombre          Producto  Compra  Venta    C.P Localidad\n",
       "Tienda 1    Álvaro    Queso manchego    15.0   22.0  02001    Madrid\n",
       "Tienda 1    Benito     Vino manchego    10.0   14.5  02001    Madrid\n",
       "Tienda 2  Fernando   Jamón Extremeño    35.0   50.0  02003    Madrid\n",
       "Tienda 3    Martín    Aceite Andaluz    12.0    0.0  02004    Madrid\n",
       "Tienda 3    Hernán  Azafrán manchego     NaN    0.0  02004    Madrid"
      ]
     },
     "execution_count": 125,
     "metadata": {},
     "output_type": "execute_result"
    }
   ],
   "source": [
    "df_copia = df.copy()                             # Copia el original (por claridad en los ejemplos))\n",
    "df_copia.drop('Entregado', axis=1, inplace=True)\n",
    "df_copia"
   ]
  },
  {
   "cell_type": "markdown",
   "metadata": {},
   "source": [
    "Se pueden borrar __columnas__ también mediante la función `del`."
   ]
  },
  {
   "cell_type": "code",
   "execution_count": 126,
   "metadata": {},
   "outputs": [
    {
     "data": {
      "text/html": [
       "<div>\n",
       "<style scoped>\n",
       "    .dataframe tbody tr th:only-of-type {\n",
       "        vertical-align: middle;\n",
       "    }\n",
       "\n",
       "    .dataframe tbody tr th {\n",
       "        vertical-align: top;\n",
       "    }\n",
       "\n",
       "    .dataframe thead th {\n",
       "        text-align: right;\n",
       "    }\n",
       "</style>\n",
       "<table border=\"1\" class=\"dataframe\">\n",
       "  <thead>\n",
       "    <tr style=\"text-align: right;\">\n",
       "      <th></th>\n",
       "      <th>Nombre</th>\n",
       "      <th>Producto</th>\n",
       "      <th>Compra</th>\n",
       "      <th>Venta</th>\n",
       "      <th>C.P</th>\n",
       "    </tr>\n",
       "  </thead>\n",
       "  <tbody>\n",
       "    <tr>\n",
       "      <th>Tienda 1</th>\n",
       "      <td>Álvaro</td>\n",
       "      <td>Queso manchego</td>\n",
       "      <td>15.0</td>\n",
       "      <td>22.0</td>\n",
       "      <td>02001</td>\n",
       "    </tr>\n",
       "    <tr>\n",
       "      <th>Tienda 1</th>\n",
       "      <td>Benito</td>\n",
       "      <td>Vino manchego</td>\n",
       "      <td>10.0</td>\n",
       "      <td>14.5</td>\n",
       "      <td>02001</td>\n",
       "    </tr>\n",
       "    <tr>\n",
       "      <th>Tienda 2</th>\n",
       "      <td>Fernando</td>\n",
       "      <td>Jamón Extremeño</td>\n",
       "      <td>35.0</td>\n",
       "      <td>50.0</td>\n",
       "      <td>02003</td>\n",
       "    </tr>\n",
       "    <tr>\n",
       "      <th>Tienda 3</th>\n",
       "      <td>Martín</td>\n",
       "      <td>Aceite Andaluz</td>\n",
       "      <td>12.0</td>\n",
       "      <td>0.0</td>\n",
       "      <td>02004</td>\n",
       "    </tr>\n",
       "    <tr>\n",
       "      <th>Tienda 3</th>\n",
       "      <td>Hernán</td>\n",
       "      <td>Azafrán manchego</td>\n",
       "      <td>NaN</td>\n",
       "      <td>0.0</td>\n",
       "      <td>02004</td>\n",
       "    </tr>\n",
       "  </tbody>\n",
       "</table>\n",
       "</div>"
      ],
      "text/plain": [
       "            Nombre          Producto  Compra  Venta    C.P\n",
       "Tienda 1    Álvaro    Queso manchego    15.0   22.0  02001\n",
       "Tienda 1    Benito     Vino manchego    10.0   14.5  02001\n",
       "Tienda 2  Fernando   Jamón Extremeño    35.0   50.0  02003\n",
       "Tienda 3    Martín    Aceite Andaluz    12.0    0.0  02004\n",
       "Tienda 3    Hernán  Azafrán manchego     NaN    0.0  02004"
      ]
     },
     "execution_count": 126,
     "metadata": {},
     "output_type": "execute_result"
    }
   ],
   "source": [
    "del df_copia['Localidad']\n",
    "df_copia"
   ]
  },
  {
   "cell_type": "markdown",
   "metadata": {},
   "source": [
    "<div class=\"alert alert-block alert-warning\">\n",
    "\n",
    "<i class=\"fa fa-exclamation-circle\" aria-hidden=\"true\"></i>\n",
    "__Importante__: Esta función solamente permite borrar __columnas__, no filas. \n",
    "</div>"
   ]
  },
  {
   "cell_type": "markdown",
   "metadata": {},
   "source": [
    "La función `pop` devuelve y elimina columnas en una misma operación."
   ]
  },
  {
   "cell_type": "code",
   "execution_count": 127,
   "metadata": {},
   "outputs": [
    {
     "name": "stdout",
     "output_type": "stream",
     "text": [
      "Tienda 1    Madrid\n",
      "Tienda 1    Madrid\n",
      "Tienda 2    Madrid\n",
      "Tienda 3    Madrid\n",
      "Tienda 3    Madrid\n",
      "Name: Localidad, dtype: object\n"
     ]
    },
    {
     "data": {
      "text/html": [
       "<div>\n",
       "<style scoped>\n",
       "    .dataframe tbody tr th:only-of-type {\n",
       "        vertical-align: middle;\n",
       "    }\n",
       "\n",
       "    .dataframe tbody tr th {\n",
       "        vertical-align: top;\n",
       "    }\n",
       "\n",
       "    .dataframe thead th {\n",
       "        text-align: right;\n",
       "    }\n",
       "</style>\n",
       "<table border=\"1\" class=\"dataframe\">\n",
       "  <thead>\n",
       "    <tr style=\"text-align: right;\">\n",
       "      <th></th>\n",
       "      <th>Nombre</th>\n",
       "      <th>Producto</th>\n",
       "      <th>Compra</th>\n",
       "      <th>Venta</th>\n",
       "      <th>C.P</th>\n",
       "      <th>Entregado</th>\n",
       "    </tr>\n",
       "  </thead>\n",
       "  <tbody>\n",
       "    <tr>\n",
       "      <th>Tienda 1</th>\n",
       "      <td>Álvaro</td>\n",
       "      <td>Queso manchego</td>\n",
       "      <td>15.0</td>\n",
       "      <td>22.0</td>\n",
       "      <td>02001</td>\n",
       "      <td>True</td>\n",
       "    </tr>\n",
       "    <tr>\n",
       "      <th>Tienda 1</th>\n",
       "      <td>Benito</td>\n",
       "      <td>Vino manchego</td>\n",
       "      <td>10.0</td>\n",
       "      <td>14.5</td>\n",
       "      <td>02001</td>\n",
       "      <td>True</td>\n",
       "    </tr>\n",
       "    <tr>\n",
       "      <th>Tienda 2</th>\n",
       "      <td>Fernando</td>\n",
       "      <td>Jamón Extremeño</td>\n",
       "      <td>35.0</td>\n",
       "      <td>50.0</td>\n",
       "      <td>02003</td>\n",
       "      <td>True</td>\n",
       "    </tr>\n",
       "    <tr>\n",
       "      <th>Tienda 3</th>\n",
       "      <td>Martín</td>\n",
       "      <td>Aceite Andaluz</td>\n",
       "      <td>12.0</td>\n",
       "      <td>0.0</td>\n",
       "      <td>02004</td>\n",
       "      <td>NaN</td>\n",
       "    </tr>\n",
       "    <tr>\n",
       "      <th>Tienda 3</th>\n",
       "      <td>Hernán</td>\n",
       "      <td>Azafrán manchego</td>\n",
       "      <td>NaN</td>\n",
       "      <td>0.0</td>\n",
       "      <td>02004</td>\n",
       "      <td>NaN</td>\n",
       "    </tr>\n",
       "  </tbody>\n",
       "</table>\n",
       "</div>"
      ],
      "text/plain": [
       "            Nombre          Producto  Compra  Venta    C.P Entregado\n",
       "Tienda 1    Álvaro    Queso manchego    15.0   22.0  02001      True\n",
       "Tienda 1    Benito     Vino manchego    10.0   14.5  02001      True\n",
       "Tienda 2  Fernando   Jamón Extremeño    35.0   50.0  02003      True\n",
       "Tienda 3    Martín    Aceite Andaluz    12.0    0.0  02004       NaN\n",
       "Tienda 3    Hernán  Azafrán manchego     NaN    0.0  02004       NaN"
      ]
     },
     "execution_count": 127,
     "metadata": {},
     "output_type": "execute_result"
    }
   ],
   "source": [
    "df_copia = df.copy() \n",
    "localidades = df_copia.pop('Localidad')\n",
    "\n",
    "print(localidades)\n",
    "df_copia"
   ]
  },
  {
   "cell_type": "markdown",
   "metadata": {},
   "source": [
    "<div style=\"text-align: right\">\n",
    "<a href=\"#indice\"><font size=5><i class=\"fa fa-arrow-circle-up\" aria-hidden=\"true\" style=\"color:#004D7F\"></i></font></a>\n",
    "</div>\n",
    "\n",
    "---\n",
    "\n",
    "<a id=\"section46\"></a> \n",
    "## <font color=\"#7F000E\" >Descripción de los datos </font>\n",
    "<br>\n",
    "\n",
    "La función `describe()` devuelve diversa información con respecto a las columnas. Esta información varía según el tipo de datos. Además, se puede especificar sobre qué columnas se aplica la función con los parámetros `include` \\ `exclude`.\n",
    "\n",
    "La siguiente llamada incluye todas las columnas. Puede apreciarse que para las numéricas muestra unos datos, y para las no numéricas otros."
   ]
  },
  {
   "cell_type": "code",
   "execution_count": 128,
   "metadata": {},
   "outputs": [
    {
     "data": {
      "text/html": [
       "<div>\n",
       "<style scoped>\n",
       "    .dataframe tbody tr th:only-of-type {\n",
       "        vertical-align: middle;\n",
       "    }\n",
       "\n",
       "    .dataframe tbody tr th {\n",
       "        vertical-align: top;\n",
       "    }\n",
       "\n",
       "    .dataframe thead th {\n",
       "        text-align: right;\n",
       "    }\n",
       "</style>\n",
       "<table border=\"1\" class=\"dataframe\">\n",
       "  <thead>\n",
       "    <tr style=\"text-align: right;\">\n",
       "      <th></th>\n",
       "      <th>Nombre</th>\n",
       "      <th>Producto</th>\n",
       "      <th>Compra</th>\n",
       "      <th>Venta</th>\n",
       "      <th>C.P</th>\n",
       "      <th>Entregado</th>\n",
       "    </tr>\n",
       "  </thead>\n",
       "  <tbody>\n",
       "    <tr>\n",
       "      <th>count</th>\n",
       "      <td>5</td>\n",
       "      <td>5</td>\n",
       "      <td>4.000000</td>\n",
       "      <td>5.000000</td>\n",
       "      <td>5</td>\n",
       "      <td>3</td>\n",
       "    </tr>\n",
       "    <tr>\n",
       "      <th>unique</th>\n",
       "      <td>5</td>\n",
       "      <td>5</td>\n",
       "      <td>NaN</td>\n",
       "      <td>NaN</td>\n",
       "      <td>3</td>\n",
       "      <td>1</td>\n",
       "    </tr>\n",
       "    <tr>\n",
       "      <th>top</th>\n",
       "      <td>Fernando</td>\n",
       "      <td>Azafrán manchego</td>\n",
       "      <td>NaN</td>\n",
       "      <td>NaN</td>\n",
       "      <td>02004</td>\n",
       "      <td>True</td>\n",
       "    </tr>\n",
       "    <tr>\n",
       "      <th>freq</th>\n",
       "      <td>1</td>\n",
       "      <td>1</td>\n",
       "      <td>NaN</td>\n",
       "      <td>NaN</td>\n",
       "      <td>2</td>\n",
       "      <td>3</td>\n",
       "    </tr>\n",
       "    <tr>\n",
       "      <th>mean</th>\n",
       "      <td>NaN</td>\n",
       "      <td>NaN</td>\n",
       "      <td>18.000000</td>\n",
       "      <td>17.300000</td>\n",
       "      <td>NaN</td>\n",
       "      <td>NaN</td>\n",
       "    </tr>\n",
       "    <tr>\n",
       "      <th>std</th>\n",
       "      <td>NaN</td>\n",
       "      <td>NaN</td>\n",
       "      <td>11.518102</td>\n",
       "      <td>20.602184</td>\n",
       "      <td>NaN</td>\n",
       "      <td>NaN</td>\n",
       "    </tr>\n",
       "    <tr>\n",
       "      <th>min</th>\n",
       "      <td>NaN</td>\n",
       "      <td>NaN</td>\n",
       "      <td>10.000000</td>\n",
       "      <td>0.000000</td>\n",
       "      <td>NaN</td>\n",
       "      <td>NaN</td>\n",
       "    </tr>\n",
       "    <tr>\n",
       "      <th>25%</th>\n",
       "      <td>NaN</td>\n",
       "      <td>NaN</td>\n",
       "      <td>11.500000</td>\n",
       "      <td>0.000000</td>\n",
       "      <td>NaN</td>\n",
       "      <td>NaN</td>\n",
       "    </tr>\n",
       "    <tr>\n",
       "      <th>50%</th>\n",
       "      <td>NaN</td>\n",
       "      <td>NaN</td>\n",
       "      <td>13.500000</td>\n",
       "      <td>14.500000</td>\n",
       "      <td>NaN</td>\n",
       "      <td>NaN</td>\n",
       "    </tr>\n",
       "    <tr>\n",
       "      <th>75%</th>\n",
       "      <td>NaN</td>\n",
       "      <td>NaN</td>\n",
       "      <td>20.000000</td>\n",
       "      <td>22.000000</td>\n",
       "      <td>NaN</td>\n",
       "      <td>NaN</td>\n",
       "    </tr>\n",
       "    <tr>\n",
       "      <th>max</th>\n",
       "      <td>NaN</td>\n",
       "      <td>NaN</td>\n",
       "      <td>35.000000</td>\n",
       "      <td>50.000000</td>\n",
       "      <td>NaN</td>\n",
       "      <td>NaN</td>\n",
       "    </tr>\n",
       "  </tbody>\n",
       "</table>\n",
       "</div>"
      ],
      "text/plain": [
       "          Nombre          Producto     Compra      Venta    C.P Entregado\n",
       "count          5                 5   4.000000   5.000000      5         3\n",
       "unique         5                 5        NaN        NaN      3         1\n",
       "top     Fernando  Azafrán manchego        NaN        NaN  02004      True\n",
       "freq           1                 1        NaN        NaN      2         3\n",
       "mean         NaN               NaN  18.000000  17.300000    NaN       NaN\n",
       "std          NaN               NaN  11.518102  20.602184    NaN       NaN\n",
       "min          NaN               NaN  10.000000   0.000000    NaN       NaN\n",
       "25%          NaN               NaN  11.500000   0.000000    NaN       NaN\n",
       "50%          NaN               NaN  13.500000  14.500000    NaN       NaN\n",
       "75%          NaN               NaN  20.000000  22.000000    NaN       NaN\n",
       "max          NaN               NaN  35.000000  50.000000    NaN       NaN"
      ]
     },
     "execution_count": 128,
     "metadata": {},
     "output_type": "execute_result"
    }
   ],
   "source": [
    "df_copia.describe(include=\"all\")"
   ]
  },
  {
   "cell_type": "markdown",
   "metadata": {},
   "source": [
    "En el caso de las variables numéricas, se pueden determinar los percentiles que se han de mostrar. "
   ]
  },
  {
   "cell_type": "code",
   "execution_count": 129,
   "metadata": {},
   "outputs": [
    {
     "data": {
      "text/html": [
       "<div>\n",
       "<style scoped>\n",
       "    .dataframe tbody tr th:only-of-type {\n",
       "        vertical-align: middle;\n",
       "    }\n",
       "\n",
       "    .dataframe tbody tr th {\n",
       "        vertical-align: top;\n",
       "    }\n",
       "\n",
       "    .dataframe thead th {\n",
       "        text-align: right;\n",
       "    }\n",
       "</style>\n",
       "<table border=\"1\" class=\"dataframe\">\n",
       "  <thead>\n",
       "    <tr style=\"text-align: right;\">\n",
       "      <th></th>\n",
       "      <th>Compra</th>\n",
       "      <th>Venta</th>\n",
       "    </tr>\n",
       "  </thead>\n",
       "  <tbody>\n",
       "    <tr>\n",
       "      <th>count</th>\n",
       "      <td>4.000000</td>\n",
       "      <td>5.000000</td>\n",
       "    </tr>\n",
       "    <tr>\n",
       "      <th>mean</th>\n",
       "      <td>18.000000</td>\n",
       "      <td>17.300000</td>\n",
       "    </tr>\n",
       "    <tr>\n",
       "      <th>std</th>\n",
       "      <td>11.518102</td>\n",
       "      <td>20.602184</td>\n",
       "    </tr>\n",
       "    <tr>\n",
       "      <th>min</th>\n",
       "      <td>10.000000</td>\n",
       "      <td>0.000000</td>\n",
       "    </tr>\n",
       "    <tr>\n",
       "      <th>32%</th>\n",
       "      <td>11.920000</td>\n",
       "      <td>4.060000</td>\n",
       "    </tr>\n",
       "    <tr>\n",
       "      <th>50%</th>\n",
       "      <td>13.500000</td>\n",
       "      <td>14.500000</td>\n",
       "    </tr>\n",
       "    <tr>\n",
       "      <th>61%</th>\n",
       "      <td>14.490000</td>\n",
       "      <td>17.800000</td>\n",
       "    </tr>\n",
       "    <tr>\n",
       "      <th>max</th>\n",
       "      <td>35.000000</td>\n",
       "      <td>50.000000</td>\n",
       "    </tr>\n",
       "  </tbody>\n",
       "</table>\n",
       "</div>"
      ],
      "text/plain": [
       "          Compra      Venta\n",
       "count   4.000000   5.000000\n",
       "mean   18.000000  17.300000\n",
       "std    11.518102  20.602184\n",
       "min    10.000000   0.000000\n",
       "32%    11.920000   4.060000\n",
       "50%    13.500000  14.500000\n",
       "61%    14.490000  17.800000\n",
       "max    35.000000  50.000000"
      ]
     },
     "execution_count": 129,
     "metadata": {},
     "output_type": "execute_result"
    }
   ],
   "source": [
    "df_copia.describe(include=\"number\", percentiles=[0.32, 0.61])"
   ]
  },
  {
   "cell_type": "markdown",
   "metadata": {},
   "source": [
    "<div style=\"text-align: right\">\n",
    "<a href=\"#indice\"><font size=5><i class=\"fa fa-arrow-circle-up\" aria-hidden=\"true\" style=\"color:#004D7F\"></i></font></a>\n",
    "</div>\n",
    "\n",
    "---\n",
    "\n",
    "<div style=\"text-align: right\"> <font size=6><i class=\"fa fa-coffee\" aria-hidden=\"true\" style=\"color:#004D7F\"></i> </font></div>\n"
   ]
  },
  {
   "cell_type": "code",
   "execution_count": null,
   "metadata": {},
   "outputs": [],
   "source": []
  }
 ],
 "metadata": {
  "kernelspec": {
   "display_name": "Python 3",
   "language": "python",
   "name": "python3"
  },
  "language_info": {
   "codemirror_mode": {
    "name": "ipython",
    "version": 3
   },
   "file_extension": ".py",
   "mimetype": "text/x-python",
   "name": "python",
   "nbconvert_exporter": "python",
   "pygments_lexer": "ipython3",
   "version": "3.7.3"
  }
 },
 "nbformat": 4,
 "nbformat_minor": 2
}
