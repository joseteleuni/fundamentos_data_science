{
 "cells": [
  {
   "cell_type": "markdown",
   "metadata": {},
   "source": [
    "# <img src=\"uni-logo.png\" alt=\"Logo UNI\" width=100 hight=200 align=\"right\">\n",
    "\n",
    "\n",
    "<br><br><br>\n",
    "<h1><font color=\"#7F000E\" size=5>POO con Python</font></h1>\n",
    "\n",
    "\n",
    "\n",
    "<h1><font color=\"#7F000E\" size=6>Módulo 2: Numpy II</font></h1>\n",
    "\n",
    "<br>\n",
    "<div style=\"text-align: right\">\n",
    "<font color=\"#7F000E\" size=3>Jose Lizarraga Trebejo</font><br>\n",
    "<font color=\"#7F000E\" size=3>Ing Telecom</font><br>\n",
    "<font color=\"#7F000E\" size=3>Ciencias de la Computación</font><br>\n",
    "</div>"
   ]
  },
  {
   "cell_type": "markdown",
   "metadata": {},
   "source": [
    "---\n",
    "<a id=\"indice\"></a> \n",
    "<h2><font color=\"#7F000E\" size=5>Índice</font></h2><a id=\"indice\"></a>\n",
    "\n",
    "\n",
    "* [6. Vectorización](#section6)\n",
    "* [7. Operadores y funciones _universales_](#section7)\n",
    "    * [Funciones y operaciones aritméticas básicas](#section71)\n",
    "    * [Funciones matemáticas](#section72)    \n",
    "    * [Funciones lógicas](#section73)     \n",
    "    * [Funciones y operaciones de comparación](#section74)\n",
    "    * [Funciones específicas de punto flotante](#section75)\n",
    "    * [Operaciones \"_in place_\"](#section76)\n",
    "* [8. Operadores sobre matrices](#section8)    \n",
    "    * [Producto vectorial](#section81)\n",
    "    * [Inversa](#section82)\n",
    "    * [Transposición de matrices](#section83)    \n",
    "    * [Extracción/creación del a diagonal de una matriz](#section84)      \n",
    "* [9. Otras funciones de interés](#section9)   \n",
    "    * [Funciones generales](#section91)      \n",
    "    * [Funciones estadísticas](#section92)      \n",
    "    * [Funciones sobre conjuntos](#section93)  \n",
    "    * [Funciones sobre Strings](#section94)  \n",
    "    * [La librería SciPy](#section95)      \n",
    "    * [Búsqueda](#section96)  \n",
    "    * [Test y comprobaciones](#section97)\n",
    "    * [Ordenación](#section98)         "
   ]
  },
  {
   "cell_type": "markdown",
   "metadata": {},
   "source": [
    "---\n",
    "\n",
    "<a id=\"section6\"></a> \n",
    "<h2><font color=\"#7F000E\" size=5> 6. Vectorización</font></h2>\n",
    "<br>\n",
    "\n",
    "Una de las principales ventajas que aporta _Numpy_ es que muchas funciones se implementan internamente de forma _vectorizada_, lo que supone un aumento de la eficiencia _muy importante_ (varios órdenes de magnitud) con respecto a las operaciones secuenciales."
   ]
  },
  {
   "cell_type": "code",
   "execution_count": 1,
   "metadata": {},
   "outputs": [
    {
     "name": "stdout",
     "output_type": "stream",
     "text": [
      "(1000000,)\n"
     ]
    }
   ],
   "source": [
    "import numpy as np\n",
    "\n",
    "# Crea un vector de 100000 números aleatorios.\n",
    "gran_vector = np.random.randint(0,1000,1000000)\n",
    "print(gran_vector.shape)"
   ]
  },
  {
   "cell_type": "markdown",
   "metadata": {},
   "source": [
    "Mediante la palabra clave o _magic_ `timeit`, se indica a _Jupyter_ que ejecute un número determinado de veces (en este caso 10) el código que aparece en la celda y mida el tiempo medio que tarda y la desviación típoca. Por defecto, repite esta operación 7 veces, y devuelve el mejor tiempo medio.\n",
    "\n",
    "En esta primera llamada, se obtiene la suma de los elementos del vector mediante un bucle."
   ]
  },
  {
   "cell_type": "code",
   "execution_count": 2,
   "metadata": {},
   "outputs": [
    {
     "name": "stdout",
     "output_type": "stream",
     "text": [
      "276 ms ± 14.3 ms per loop (mean ± std. dev. of 7 runs, 10 loops each)\n"
     ]
    }
   ],
   "source": [
    "%%timeit -n 10\n",
    "suma = 0\n",
    "for elem in gran_vector:\n",
    "    suma+=elem"
   ]
  },
  {
   "cell_type": "markdown",
   "metadata": {},
   "source": [
    "En esta llamada se suman los elementos mediante la función vectorizada `np.sum()` (se verán las funciones en el siguiente apartado). Puede verse que el tiempo necesario se reduce en varios órdenes de magnitud."
   ]
  },
  {
   "cell_type": "code",
   "execution_count": 3,
   "metadata": {},
   "outputs": [
    {
     "name": "stdout",
     "output_type": "stream",
     "text": [
      "554 µs ± 123 µs per loop (mean ± std. dev. of 7 runs, 10 loops each)\n"
     ]
    }
   ],
   "source": [
    "%%timeit -n 10\n",
    "suma = np.sum(gran_vector)"
   ]
  },
  {
   "cell_type": "markdown",
   "metadata": {},
   "source": [
    "<div style=\"text-align: right\"> <font size=5>\n",
    "    <a href=\"#indice\"><i class=\"fa fa-arrow-circle-up\" aria-hidden=\"true\" style=\"color:#004D7F\"></i></a>\n",
    "</font></div>"
   ]
  },
  {
   "cell_type": "markdown",
   "metadata": {},
   "source": [
    "---\n",
    "\n",
    "<a id=\"section7\"></a> \n",
    "<h2><font color=\"#7F000E\" size=5> 7. Operadores y funciones _universales_</font></h2>"
   ]
  },
  {
   "cell_type": "markdown",
   "metadata": {},
   "source": [
    "_NumPy_ implementa numerosas funciones. Algunas de ellas, denominadas _universales_ (_ufunc_), se aplican de manera eficiente (son implementaciones _vectorizadas_) elemento por elemento, y soportan algunas características como  _broadcasting_ (que es un mecanismo que permite más flexibilidad, y se verá más adelante). También se pueden aplicar entre cada elemento de un array y un escalar.\n",
    "\n",
    "A continuación se describen algunas de las funciones universales de uso más frecuente. Una lista completa de este tipo de funciones puede consultarse [aquí](https://docs.scipy.org/doc/numpy/reference/ufuncs.html#available-ufuncs). El resto de funciones disponibles (también las no universales) pueden consultarse en la [referencia de Numpy](https://docs.scipy.org/doc/numpy/reference/index.html).\n",
    "\n"
   ]
  },
  {
   "cell_type": "markdown",
   "metadata": {},
   "source": [
    "---\n",
    "\n",
    "<a id=\"section71\"></a> \n",
    "<h2><font color=\"#7F000E\" size=4> Funciones y operaciones aritméticas básicas</font></h2>\n"
   ]
  },
  {
   "cell_type": "code",
   "execution_count": 4,
   "metadata": {},
   "outputs": [
    {
     "name": "stdout",
     "output_type": "stream",
     "text": [
      "[[1. 2. 3.]\n",
      " [4. 5. 6.]]\n",
      "[[10. 10. 10.]\n",
      " [20. 20. 20.]]\n",
      "---\n",
      "[[11. 12. 13.]\n",
      " [24. 25. 26.]]\n",
      "---\n",
      "[[ 5.  5.  5.]\n",
      " [15. 15. 15.]]\n",
      "---\n",
      "[[ 10.  20.  30.]\n",
      " [ 80. 100. 120.]]\n",
      "---\n",
      "[[10.          5.          3.33333333]\n",
      " [ 5.          4.          3.33333333]]\n",
      "---\n",
      "[[1. 0. 1.]\n",
      " [0. 1. 0.]]\n",
      "---\n",
      "[[100. 100. 100.]\n",
      " [400. 400. 400.]]\n"
     ]
    }
   ],
   "source": [
    "x = np.array([[1,2,3],[4,5,6]], dtype=np.float64)\n",
    "y = np.array([[10,10,10],[20,20,20]], dtype=np.float64)\n",
    "\n",
    "print(x)\n",
    "print(y)\n",
    "print(\"---\")\n",
    "\n",
    "print(np.add(x, y))                           # Suma\n",
    "print(\"---\")\n",
    "print(np.subtract(y,5))                       # Resta (con escalar)\n",
    "print(\"---\")\n",
    "print(np.multiply(x,y))                       # Multiplicación\n",
    "print(\"---\")\n",
    "print(np.divide(y,x))                         # División\n",
    "print(\"---\")\n",
    "print(np.mod(x,2))                            # Resto de la división entera\n",
    "print(\"---\")\n",
    "print(np.power(y,2))                          # Potencia"
   ]
  },
  {
   "cell_type": "markdown",
   "metadata": {},
   "source": [
    "Estas operaciones también están implementadas en forma de operador."
   ]
  },
  {
   "cell_type": "code",
   "execution_count": 5,
   "metadata": {},
   "outputs": [
    {
     "name": "stdout",
     "output_type": "stream",
     "text": [
      "[[11. 12. 13.]\n",
      " [24. 25. 26.]]\n",
      "[[ 5.  5.  5.]\n",
      " [15. 15. 15.]]\n",
      "[[ 10.  20.  30.]\n",
      " [ 80. 100. 120.]]\n",
      "[[10.          5.          3.33333333]\n",
      " [ 5.          4.          3.33333333]]\n",
      "[[1. 0. 1.]\n",
      " [0. 1. 0.]]\n",
      "[[100. 100. 100.]\n",
      " [400. 400. 400.]]\n"
     ]
    }
   ],
   "source": [
    "print(x + y)                     \n",
    "print(y - 5)                      \n",
    "print(x * y)                    \n",
    "print(y / x) \n",
    "print(x % 2)\n",
    "print(y ** 2)"
   ]
  },
  {
   "cell_type": "markdown",
   "metadata": {},
   "source": [
    "---\n",
    "\n",
    "<a id=\"section72\"></a> \n",
    "<h2><font color=\"#7F000E\" size=4> Funciones matemáticas</font></h2>\n",
    "\n",
    "\n",
    "- Trigonométricas: `sin()`, `cos()`, `tan()`, `arcsin()`, `arccos()`, `arctan()`, `degrees()` \n",
    "- Logaritmos y explonenciales: `log()`, `log10()`, `log2()`,`exp()`, `exp2()`\n",
    "- Otras: `square()`, `reciprocal()`\n",
    "- etc."
   ]
  },
  {
   "cell_type": "code",
   "execution_count": 6,
   "metadata": {},
   "outputs": [],
   "source": [
    "import numpy as np"
   ]
  },
  {
   "cell_type": "code",
   "execution_count": 17,
   "metadata": {},
   "outputs": [
    {
     "data": {
      "text/plain": [
       "array([ 1.,  2.,  3.,  4.,  5.,  6.,  7.,  8.,  9., 10.])"
      ]
     },
     "execution_count": 17,
     "metadata": {},
     "output_type": "execute_result"
    }
   ],
   "source": [
    "np.linspace(1, 10, 10)*np.linspace(1, 10, 1)"
   ]
  },
  {
   "cell_type": "code",
   "execution_count": 8,
   "metadata": {},
   "outputs": [
    {
     "name": "stdout",
     "output_type": "stream",
     "text": [
      "Ángulos\n",
      "[ 0 30 45 60 90]\n",
      "En radianes\n",
      "[0.         0.52359878 0.78539816 1.04719755 1.57079633]\n",
      "Seno:\n",
      "[0.         0.5        0.70710678 0.8660254  1.        ]\n",
      "Logaritmos\n",
      "[0. 1. 2. 3.]\n"
     ]
    }
   ],
   "source": [
    "a = np.array([0,30,45,60,90]) \n",
    "print(\"Ángulos\")\n",
    "print(a)\n",
    "arad = a*np.pi/180                 # Convierte a radianes todos los elementos\n",
    "print(\"En radianes\")\n",
    "print(arad)\n",
    "print('Seno:') \n",
    "s = np.sin(arad)\n",
    "print(s)                           # Imprime el seno de cada elemento\n",
    "\n",
    "b = np.array([1, 10, 100, 1000])\n",
    "print(\"Logaritmos\")\n",
    "print(np.log10(b))                 # Imprime el logaritmo en base 10 de cada elemento"
   ]
  },
  {
   "cell_type": "markdown",
   "metadata": {},
   "source": [
    "---\n",
    "\n",
    "<a id=\"section73\"></a> \n",
    "<h2><font color=\"#7F000E\" size=4> Funciones lógicas</font></h2>\n",
    "\n",
    "- `logical_and` (AND)\n",
    "- `logical_or` (OR)\n",
    "- `logical_not` (NOT)\n",
    "- `logical_xor` (XOR)\n",
    "\n"
   ]
  },
  {
   "cell_type": "code",
   "execution_count": 9,
   "metadata": {},
   "outputs": [
    {
     "name": "stdout",
     "output_type": "stream",
     "text": [
      "[[False  True]\n",
      " [False  True]]\n",
      "[[ True  True]\n",
      " [False  True]]\n",
      "\n",
      "[[False  True]\n",
      " [False  True]]\n",
      "[[ True False]\n",
      " [False False]]\n"
     ]
    }
   ],
   "source": [
    "m1 = np.array([[False, True],[False, True]], dtype=np.bool)\n",
    "m2 = np.array([[True, True],[False, True]], dtype=np.bool)\n",
    "print(m1)\n",
    "print(m2)\n",
    "print()\n",
    "\n",
    "print(np.logical_and(m1,m2))                       # Imprime un AND entre las dos matrices.\n",
    "print(np.logical_xor(m1,m2))                       # Imprime un XOR entre las dos matrices."
   ]
  },
  {
   "cell_type": "markdown",
   "metadata": {},
   "source": [
    "---\n",
    "\n",
    "<a id=\"section74\"></a> \n",
    "<h2><font color=\"#7F000E\" size=4> Funciones y operaciones para comparación</font></h2>\n",
    "\n",
    "_Numpy_ proporciona una serie de funciones para la comparación de arrays, algunas de las cuales también se implementan como operador.\n",
    "\n",
    "- `greater()`\t    x1 > x2 \n",
    "- `greater_equal()` x1 >= x2 \n",
    "- `less()`\t        x1 < x2\n",
    "- `less_equal()`\tx1 =< x2\n",
    "- `not_equal()`\t    x1 != x2 \n",
    "- `equal()`\t        x1 == x2 \n",
    "- `maximum()`       maximo(x1,x2)\n",
    "- `minimum()`       minimo(x1,x2)\n",
    "\n",
    "_Nota_: No confundir `np.maximum` y `np.minimum` con `np.max` y `np.min`. Mientras que los primeros realizan operaciones elemento a elemento entre dos vectores, devolviendo un nuevo vector, los segundos reciben un solo array y devuelven un único valor."
   ]
  },
  {
   "cell_type": "code",
   "execution_count": 10,
   "metadata": {},
   "outputs": [
    {
     "name": "stdout",
     "output_type": "stream",
     "text": [
      "[[0 1]\n",
      " [0 3]]\n",
      "[[1 2]\n",
      " [0 1]]\n",
      "\n",
      "[[False False]\n",
      " [False  True]]\n",
      "\n",
      "[[1 2]\n",
      " [0 3]]\n"
     ]
    }
   ],
   "source": [
    "m1 = np.array([[0, 1],[0, 3]])\n",
    "m2 = np.array([[1, 2],[0, 1]])\n",
    "print(m1)\n",
    "print(m2)\n",
    "print()\n",
    "\n",
    "print(m1>m2)\n",
    "print()\n",
    "\n",
    "mm = np.maximum(m1,m2)\n",
    "print(mm)"
   ]
  },
  {
   "cell_type": "markdown",
   "metadata": {},
   "source": [
    "---\n",
    "\n",
    "<a id=\"section75\"></a> \n",
    "<h2><font color=\"#7F000E\" size=4> Funciones específicas de punto flotante</font></h2>\n",
    "\n",
    "- `around()`, `floor()`, `ceil()` (Redondeo)\n",
    "- `isfinite()` (Testea si los elementos son finitos, es decir, si no son infinitos, o no son _NaN_)\n",
    "- `isinf()`\t(Testea si los elementos son  infinito positivo o negativo) \n",
    "- `isnan(x)` (Testea si los elementos son _NaN_)\n",
    "- `fabs(x)` (Devuelve el valor absoluto\tde los elementos)"
   ]
  },
  {
   "cell_type": "code",
   "execution_count": 11,
   "metadata": {},
   "outputs": [
    {
     "name": "stdout",
     "output_type": "stream",
     "text": [
      "[[2.6 3.2]\n",
      " [4.5 5.6]]\n",
      "\n",
      "[[3. 3.]\n",
      " [4. 6.]]\n",
      "\n",
      "[[2. 3.]\n",
      " [4. 5.]]\n",
      "\n"
     ]
    }
   ],
   "source": [
    "m = np.array([[2.6, 3.2], [4.5, 5.6]])\n",
    "print(m)\n",
    "print()\n",
    "\n",
    "a = np.around(m)              # Redondeo al entero más cercano\n",
    "print(a)\n",
    "print()\n",
    "\n",
    "f = np.floor(m)               # Redondeo al entero anterior\n",
    "print(f)\n",
    "print()"
   ]
  },
  {
   "cell_type": "markdown",
   "metadata": {},
   "source": [
    "---\n",
    "\n",
    "<a id=\"section76\"></a> \n",
    "<h2><font color=\"#7F000E\" size=4> Operaciones \"<i>in place</i>\"</font></h2>\n",
    "<br>\n",
    "\n",
    "Es posible llevar a cabo las operaciones sobre vectores sin generar copias adicionales. Esta funcionalidad puede resultar de interés cuando el tamaño de los vectores es una limitación. "
   ]
  },
  {
   "cell_type": "code",
   "execution_count": 12,
   "metadata": {},
   "outputs": [
    {
     "name": "stdout",
     "output_type": "stream",
     "text": [
      "[1. 1. 1.]\n",
      "[2. 2. 2.]\n",
      "[3. 3. 3.]\n"
     ]
    }
   ],
   "source": [
    "a = np.ones(3)*1\n",
    "print(a)\n",
    "b = np.ones(3)*2\n",
    "print(b)\n",
    "np.add(a,b,out=b)\n",
    "print(b)"
   ]
  },
  {
   "cell_type": "markdown",
   "metadata": {},
   "source": [
    "<div class=\"alert alert-block alert-danger\">\n",
    "<i class=\"fa fa-exclamation-circle\" aria-hidden=\"true\"></i> Esta forma de operar requiere un cuidado especial con las secuencias de operaciones.\n",
    "</div>"
   ]
  },
  {
   "cell_type": "markdown",
   "metadata": {},
   "source": [
    "---\n",
    "\n",
    "<h3><font color=\"#004D7F\" size=4> <i class=\"fa fa-pencil-square-o\" aria-hidden=\"true\" style=\"color:#113D68\"></i> Ejercicio</font></h3>\n",
    "\n",
    "Crear un vector $x$ tamaño 100 con números separados de manera equidistante en el intervalo $[-10,10]$. Generar otro vector con el valor de la función sigmoide ($\\frac{1}{1+e^{-x}}$) para cada uno de ellos."
   ]
  },
  {
   "cell_type": "code",
   "execution_count": 13,
   "metadata": {},
   "outputs": [
    {
     "name": "stdout",
     "output_type": "stream",
     "text": [
      "59.6 µs ± 4.22 µs per loop (mean ± std. dev. of 7 runs, 10000 loops each)\n"
     ]
    }
   ],
   "source": [
    "%%timeit\n",
    "x = np.linspace(-10,10,100)\n",
    "sig_x = 1/(1+np.exp(-x))\n",
    "# x = \n",
    "# sig_x = "
   ]
  },
  {
   "cell_type": "markdown",
   "metadata": {},
   "source": [
    "<font size=4> <i class=\"fa fa-book\" aria-hidden=\"true\" style=\"color:#004D7F\"></i> </font>\n",
    "Este tipo de operación se hace de manera muy frecuente para dibujar gráficas con matplotlib (que veremos después). Por ejemplo:"
   ]
  },
  {
   "cell_type": "code",
   "execution_count": 14,
   "metadata": {},
   "outputs": [
    {
     "ename": "NameError",
     "evalue": "name 'sig_x' is not defined",
     "output_type": "error",
     "traceback": [
      "\u001b[1;31m---------------------------------------------------------------------------\u001b[0m",
      "\u001b[1;31mNameError\u001b[0m                                 Traceback (most recent call last)",
      "\u001b[1;32m<ipython-input-14-28e6cb737196>\u001b[0m in \u001b[0;36m<module>\u001b[1;34m\u001b[0m\n\u001b[0;32m      3\u001b[0m \u001b[0mget_ipython\u001b[0m\u001b[1;33m(\u001b[0m\u001b[1;33m)\u001b[0m\u001b[1;33m.\u001b[0m\u001b[0mrun_line_magic\u001b[0m\u001b[1;33m(\u001b[0m\u001b[1;34m'matplotlib'\u001b[0m\u001b[1;33m,\u001b[0m \u001b[1;34m'inline'\u001b[0m\u001b[1;33m)\u001b[0m\u001b[1;33m\u001b[0m\u001b[1;33m\u001b[0m\u001b[0m\n\u001b[0;32m      4\u001b[0m \u001b[1;33m\u001b[0m\u001b[0m\n\u001b[1;32m----> 5\u001b[1;33m \u001b[0mplt\u001b[0m\u001b[1;33m.\u001b[0m\u001b[0mplot\u001b[0m\u001b[1;33m(\u001b[0m\u001b[0mx\u001b[0m\u001b[1;33m,\u001b[0m \u001b[0msig_x\u001b[0m\u001b[1;33m)\u001b[0m                       \u001b[1;31m# Dibuja una gráfica simple.\u001b[0m\u001b[1;33m\u001b[0m\u001b[1;33m\u001b[0m\u001b[0m\n\u001b[0m",
      "\u001b[1;31mNameError\u001b[0m: name 'sig_x' is not defined"
     ]
    }
   ],
   "source": [
    "import matplotlib as mpl                  # Importa matplotlib y pyplot\n",
    "import matplotlib.pyplot as plt\n",
    "%matplotlib inline                        \n",
    "\n",
    "plt.plot(x, sig_x)                       # Dibuja una gráfica simple."
   ]
  },
  {
   "cell_type": "markdown",
   "metadata": {},
   "source": [
    "Generar un vector con 1000 números en el intervalo $[0,360]$ y transformarlo a radianes.  Obtener un array con el seno de cada uno de ellos, y otro con el coseno. "
   ]
  },
  {
   "cell_type": "code",
   "execution_count": null,
   "metadata": {},
   "outputs": [],
   "source": [
    "x = np.linspace(0,360,100)\n",
    "xr = x*np.pi/180 \n",
    "sin_x = np.sin(xr)\n",
    "cos_x = np.cos(xr)\n",
    "# x = \n",
    "# xr =  \n",
    "# sin_x = \n",
    "# cos_x = "
   ]
  },
  {
   "cell_type": "markdown",
   "metadata": {},
   "source": [
    "Lo dibujamos"
   ]
  },
  {
   "cell_type": "code",
   "execution_count": null,
   "metadata": {},
   "outputs": [],
   "source": [
    "plt.plot(x, sin_x, x, cos_x)                 "
   ]
  },
  {
   "cell_type": "markdown",
   "metadata": {},
   "source": [
    "<div style=\"text-align: left\"><font size=4> <i class=\"fa fa-check-square-o\" aria-hidden=\"true\" style=\"color:#113D68\"></i>\n",
    " </font></div>"
   ]
  },
  {
   "cell_type": "markdown",
   "metadata": {},
   "source": [
    "<div style=\"text-align: right\"> <font size=5>\n",
    "    <a href=\"#indice\"><i class=\"fa fa-arrow-circle-up\" aria-hidden=\"true\" style=\"color:#7F000E\"></i></a>\n",
    "</font></div>\n",
    "\n",
    "---\n",
    "\n",
    "<a id=\"section8\"></a> \n",
    "<h2><font color=\"#7F000E\" size=5> 8. Operaciones sobre matrices </font></h2>\n",
    "<br>\n",
    "\n",
    "_NumPy_ implementa funciones optimizadas (vectorizadas) para el cálculo con arrays (no a nivel de elemento). Las de uso más común son el producto, la inversa y la transposición.\n"
   ]
  },
  {
   "cell_type": "markdown",
   "metadata": {},
   "source": [
    "<a id=\"section81\"></a> \n",
    "<h2><font color=\"#7F000E\" size=4> Producto vectorial </font></h2>\n",
    "<br>\n",
    "\n",
    "\n",
    "La función `np.dot()`implementa el producto vectorial entre dos vectores o dos matrices.  En el caso de dos vectores, el producto vectorial se calcula como:\n",
    "\n",
    "$$\n",
    "[u_1, ... , u_n] \\cdot \\left[\\begin{array}{c}\n",
    "v_1 \\cr\n",
    "\\ldots \\cr\n",
    "v_n\n",
    "\\end{array} \\right] = u_1\\cdot v_1 + \\cdots + u_n \\cdot v_n\n",
    "$$\n",
    "\n",
    "Por ejemplo:\n",
    "\n",
    "$$\n",
    "\\left[\\begin{array}{c c c} 1 & 2 & 3 \\end{array} \\right] \\cdot \\left[\\begin{array}{c}\n",
    "10 \\cr\n",
    "20 \\cr\n",
    "30\n",
    "\\end{array} \\right] = 1\\cdot 10 + 2\\cdot 20 + 3 \\cdot 30 = 140\n",
    "$$"
   ]
  },
  {
   "cell_type": "code",
   "execution_count": null,
   "metadata": {},
   "outputs": [],
   "source": [
    "u = np.array([1,2,3])\n",
    "v = np.array([10,20,30])\n",
    "\n",
    "print(np.dot(u,v))              # Se puede llamar la función de las dos maneras. \n",
    "print(u.dot(v))"
   ]
  },
  {
   "cell_type": "markdown",
   "metadata": {},
   "source": [
    "El producto vectorial de una matriz de tamaño ($m \\times n$) y otra de tamaño ($n \\times o$), es una nueva matriz, de tamaño ($m \\times o$), en la que el valor de la posición ($i,j$) es obtenido como el producto vectorial de la fila $i$ de la primera matriz, y la columna $j$ de la segunda matriz.\n",
    "\n",
    "<br>\n",
    "\n",
    "$$\n",
    " \\left[\\begin{array}{c c c}\n",
    "u_{11} & \\cdots & u_{1n} \\cr\n",
    "\\cdots & \\cdots & \\cdots\\cr\n",
    "u_{m1} &\\cdots & u_{mn} \\cr\n",
    "\\end{array} \\right] \\cdot  \\left[\\begin{array}{c c c}\n",
    "v_{11} & \\cdots & v_{1o} \\cr\n",
    "\\cdots &\\cdots & \\cdots \\cr\n",
    "v_{n1} & \\cdots & v_{no} \\cr\n",
    "\\end{array} \\right] =\n",
    "\\left[\\begin{array}{c c c}\n",
    "u_{11}\\cdot v_{11} + \\cdots + u_{1n}\\cdot v_{n1}& \\cdots & u_{11}\\cdot v_{10} + \\cdots + u_{1n}\\cdot v_{n0}\\cr\n",
    "\\cdots &\\cdots & \\cdots \\cr\n",
    "u_{m1}\\cdot v_{11} + \\cdots + u_{mn}\\cdot v_{n1}& \\cdots & u_{m1}\\cdot v_{10} + \\cdots + u_{mn}\\cdot v_{n0} \\cr\n",
    "\\end{array} \\right]\n",
    "$$\n",
    "\n",
    "Por ejemplo:\n",
    "$$\n",
    "\\left[\\begin{array}{c c}\n",
    "1 & 2 \\cr\n",
    "3 & 4  \\cr\n",
    "5 & 6  \\cr\n",
    "\\end{array} \\right] \\cdot\n",
    "\\left[\\begin{array}{c c c c}\n",
    "1&  10 & 100& 200\\cr\n",
    "2 & 4 &  6 & 8 \\cr\n",
    "\\end{array} \\right] = \n",
    "\\left[\\begin{array}{c c c c}\n",
    "5 & 18 & 112& 216 \\cr\n",
    "11 & 46 & 324 & 632 \\cr\n",
    "17 & 74 & 536 & 1048 \\cr\n",
    "\\end{array} \\right]\n",
    "$$\n",
    "\n",
    "<br> \n",
    "Si el número de columnas de la primera matriz es distinto del número de filas de la segunda, las matrices no se pueden multiplicar."
   ]
  },
  {
   "cell_type": "code",
   "execution_count": null,
   "metadata": {},
   "outputs": [],
   "source": [
    "u = np.array([[1,2],[3,4],[5,6]])\n",
    "v = np.array([[1,10,100,200],[2,4,6,8]])\n",
    "\n",
    "print(np.dot(u,v))             # Se puede llamar a la función de los dos modos. \n",
    "print()\n",
    "print(u.dot(v))"
   ]
  },
  {
   "cell_type": "markdown",
   "metadata": {},
   "source": [
    "<font size=4> <i class=\"fa fa-book\" aria-hidden=\"true\" style=\"color:#004D7F\"></i> </font> A partir de la versión 3.5 de Python, es posible utilizar el símbolo '@' para llevar a cabo la multiplicación de matrices."
   ]
  },
  {
   "cell_type": "code",
   "execution_count": null,
   "metadata": {},
   "outputs": [],
   "source": [
    "print(u @ v)"
   ]
  },
  {
   "cell_type": "markdown",
   "metadata": {},
   "source": [
    "Cuando se utilizan matrices (objetos de tipo `matrix`), el operador `*` se puede utilizar para hacer multiplicaciones matriciales de modo similar a `dot()`"
   ]
  },
  {
   "cell_type": "code",
   "execution_count": null,
   "metadata": {},
   "outputs": [],
   "source": [
    "u = np.matrix('1,2;3,4;5,6')\n",
    "v = np.matrix('1,10,100,200;2,4,6,8')\n",
    "\n",
    "print(np.dot(u,v))\n",
    "print()\n",
    "\n",
    "print(u*v)"
   ]
  },
  {
   "cell_type": "markdown",
   "metadata": {},
   "source": [
    "---\n",
    "\n",
    "<a id=\"section82\"></a> \n",
    "<h2><font color=\"#7F000E\" size=4> Inversa </font></h2>\n",
    "<br>\n",
    "\n",
    "La función `numpy.linalg.inv()` devuelve la inversa de una matriz."
   ]
  },
  {
   "cell_type": "code",
   "execution_count": null,
   "metadata": {},
   "outputs": [],
   "source": [
    "m = np.array([[1,1,1],[0,2,5],[2,5,-1]]) \n",
    "\n",
    "m_inv = np.linalg.inv(m)\n",
    "print(m_inv)\n",
    "print()\n",
    "\n",
    "# El producto de una matriz por su inversa devuelve la matriz identidad\n",
    "print(np.dot(m,m_inv))               # Por precisión numérica, aparecen algunos decimales ínfimos. "
   ]
  },
  {
   "cell_type": "markdown",
   "metadata": {},
   "source": [
    "Aunque no recomendamos abusar de la importación de paquetes y módulos usando `from module import function`, si no se pierde información de dónde viene cada módulo o función, se puede utilizar para simplificar el aspecto del código."
   ]
  },
  {
   "cell_type": "code",
   "execution_count": null,
   "metadata": {},
   "outputs": [],
   "source": [
    "from numpy.linalg import inv as inverse\n",
    "\n",
    "m_inv = inverse(m)\n",
    "print(m_inv)"
   ]
  },
  {
   "cell_type": "markdown",
   "metadata": {},
   "source": [
    "---\n",
    "\n",
    "<a id=\"section83\"></a> \n",
    "<h2><font color=\"#7F000E\" size=4> Transposición de matrices </font></h2>\n",
    "<br>\n",
    "\n",
    "Aunque existen algunos otros métodos, `transpose` y `ndarray.T` son los más importantes. Son equivalentes, y ___devuelven una vista___. Por lo tanto, los elementos que se cambien en la vista, se cambiarán en la matriz original."
   ]
  },
  {
   "cell_type": "code",
   "execution_count": null,
   "metadata": {},
   "outputs": [],
   "source": [
    "a = np.array([[0,1,2,3],[4,5,6,7],[8,9,10,11]])\n",
    "print(a)\n",
    "print()\n",
    "\n",
    "a_t = a.transpose()\n",
    "print(a_t)\n",
    "print()\n",
    "\n",
    "a_t[0,0]=10\n",
    "print(a)"
   ]
  },
  {
   "cell_type": "markdown",
   "metadata": {},
   "source": [
    "---\n",
    "\n",
    "<a id=\"section84\"></a> \n",
    "<h2><font color=\"#7F000E\" size=4> Extracción/creación de la diagonal de una matriz </font></h2>\n",
    "<br>\n",
    "\n",
    "La función `diag` permite extraer la diagonal de una matriz. Admite un parámetro que permite especificar la diagonal."
   ]
  },
  {
   "cell_type": "code",
   "execution_count": null,
   "metadata": {},
   "outputs": [],
   "source": [
    "a = np.array([[0,1,2,3],[4,5,6,7],[8,9,10,11],[12,13,14,15]])\n",
    "print(a)\n",
    "print()\n",
    "print(np.diag(a))\n",
    "print(np.diag(a,1))\n",
    "print(np.diag(a,-1))"
   ]
  },
  {
   "cell_type": "markdown",
   "metadata": {},
   "source": [
    "Si a la función anterior se le pasa un vector, entonces crea una matriz diagonal."
   ]
  },
  {
   "cell_type": "code",
   "execution_count": null,
   "metadata": {},
   "outputs": [],
   "source": [
    "print(np.diag(np.array([1,2,3,4])))"
   ]
  },
  {
   "cell_type": "markdown",
   "metadata": {},
   "source": [
    "---\n",
    "\n",
    "<h3><font color=\"#004D7F\" size=4> <i class=\"fa fa-pencil-square-o\" aria-hidden=\"true\" style=\"color:#113D68\"></i> Ejercicio</font></h3>\n",
    "\n",
    "Generar una matriz aleatoria de tamaño $5\\times5$, su inversa, y multiplicarlas. Redondear el resultado."
   ]
  },
  {
   "cell_type": "code",
   "execution_count": null,
   "metadata": {},
   "outputs": [],
   "source": [
    "# Completar"
   ]
  },
  {
   "cell_type": "markdown",
   "metadata": {},
   "source": [
    "<div style=\"text-align: left\"><font size=4> <i class=\"fa fa-check-square-o\" aria-hidden=\"true\" style=\"color:#113D68\"></i>\n",
    " </font></div>"
   ]
  },
  {
   "cell_type": "markdown",
   "metadata": {},
   "source": [
    "<div style=\"text-align: right\"> <font size=5>\n",
    "    <a href=\"#indice\"><i class=\"fa fa-arrow-circle-up\" aria-hidden=\"true\" style=\"color:#004D7F\"></i></a>\n",
    "</font></div>\n",
    "\n",
    "---\n",
    "\n",
    "<a id=\"section9\"></a> \n",
    "<h2><font color=\"#7F000E\" size=5> 9. Otras funciones de interés </font></h2>\n",
    "<br>\n",
    "Estas funciones no son universales, pero son de uso común."
   ]
  },
  {
   "cell_type": "markdown",
   "metadata": {},
   "source": [
    "\n",
    "---\n",
    "\n",
    "<a id=\"section91\"></a> \n",
    "<h2><font color=\"#7F000E\" size=4> Funciones generales </font></h2>\n",
    "<br>\n",
    "\n",
    "- `max()`, `min()`: Elemento máximo o mínimo.\n",
    "- `argmin()`, `argmax()`: Índice del elemento máximo o mínimo. \n",
    "- `sum()`: Suma de los elementos del array.\n",
    "- `cumsum()`: Suma acumulada de los elementos del array.\n",
    "- `prod()`: Producto de los elementos del array.\n",
    "- `cumprod()`: Producto acumulado de los elementos del array.\n",
    "- etc.\n",
    "\n",
    "Todas ellas se aplican sobre el array, o sobre un eje que es especificado como parámetro."
   ]
  },
  {
   "cell_type": "code",
   "execution_count": null,
   "metadata": {},
   "outputs": [],
   "source": [
    "m = np.array([[3,7,5],[8,4,1],[2,4,9],[3,1,6]]) \n",
    "print(m)\n",
    "print(\"Mínimo:\",np.amin(m))\n",
    "print(\"Mínimo de cada columna:\", np.amin(m,0))\n",
    "print(\"Mínimo de cada fila:\", np.amin(m,1))\n",
    "\n",
    "print(\"Rango de valores en cada fila:\",np.ptp(m,1))\n",
    "print(\"Suma de los valores de cada fila:\", np.sum(m,1))\n",
    "print(\"Suma de los valores de cada columna:\", np.sum(m,0))"
   ]
  },
  {
   "cell_type": "markdown",
   "metadata": {},
   "source": [
    "---\n",
    "\n",
    "<a id=\"section92\"></a> \n",
    "<h2><font color=\"#7F000E\" size=4> Funciones estadísticas básicas</font></h2>\n",
    "<br>\n",
    "\n",
    "NumPy implementa algunas funciones estadísticas basicas \n",
    "\n",
    "- `amin()`, `amax()`: Elemento máximo o mínimo. \n",
    "- `ptp()`: El rango de valores.\n",
    "- `mean()`, `average()`, `median()`: Media, media ponderada, mediana.\n",
    "- `percentile()`: Percentil\n",
    "- `var()`: Varianza\n",
    "- `cov()`: Matriz de covarianzas\n",
    "- etc."
   ]
  },
  {
   "cell_type": "code",
   "execution_count": null,
   "metadata": {},
   "outputs": [],
   "source": [
    "m = np.array([[3,7,5],[8,4,1],[2,4,9],[3,1,6]]) \n",
    "print(m, '\\n')\n",
    "print(\"Media de los valores de cada columna:\", np.mean(m, axis=0))\n",
    "print(\"Desviación estándard de los valores de la matriz:\", np.sqrt(np.var(m)))"
   ]
  },
  {
   "cell_type": "markdown",
   "metadata": {},
   "source": [
    "---\n",
    "\n",
    "<a id=\"section93\"></a> \n",
    "<h2><font color=\"#7F000E\" size=4> Funciones sobre conjuntos </font></h2>\n",
    "<br>\n",
    "\n",
    "NumPy proporciona varias funciones para el trabajo con conjuntos:\n",
    "\n",
    "- `unique()` Devuelve los elementos únicos de un array. \n",
    "- `union1d()` Devuele la union de dos arrays de una dimensión (si no, se convierten)\n",
    "- `intersect1d()`Devuelve la intersección de dos arrays de una dimensión (si no, se convierten)\n",
    "- `in1d()` Permite determinar qué elementos del primer array están en el segundo.\n",
    "- etc."
   ]
  },
  {
   "cell_type": "code",
   "execution_count": null,
   "metadata": {},
   "outputs": [],
   "source": [
    "a1 = np.array([1,2,3,4,5,6,7,8])\n",
    "a2 = np.array([1,0,1,3,0,7])\n",
    "\n",
    "print(np.union1d(a1,a2))\n",
    "print(np.intersect1d(a1,a2))\n",
    "print(np.in1d(a2, a1))"
   ]
  },
  {
   "cell_type": "markdown",
   "metadata": {},
   "source": [
    "---\n",
    "\n",
    "<a id=\"section94\"></a> \n",
    "<h2><font color=\"#7F000E\" size=4> Funciones sobre Strings </font></h2>\n",
    "<br>\n",
    "\n",
    "Las funciones para String llevan a cabo operaciones _vectorizadas_ para arrays con tipo (`dtype`) (`numpy.string_`) o (`numpy.unicode_`).  Se basan en las funciones standard que implementa _Python_, que deben ser las utilizadas en la mayoría de la situaciones. Éstas son algunas de las más importantes.\n",
    "- `add()`  Concatenación\n",
    "- `multiply()` Repetición\n",
    "- `lower()` Convierte a minúscula\n",
    "- `upper()` Convierte los elementos a mayúscula\n",
    "- `split()` Divide el String en partes. El separador por defecto es el espacio, pero se le puede pasar un separador.\n",
    "- `replace()` Permite reemplazar subcadenas en el String\n"
   ]
  },
  {
   "cell_type": "code",
   "execution_count": null,
   "metadata": {},
   "outputs": [],
   "source": [
    "l = np.array([\"Esta es la primera frase\", \"Aquí va la segunda\"])\n",
    "ls = np.chararray.split(l)\n",
    "print(ls, ls.shape)             # La salida es otro vector con dos elementos. Cada uno es una lista.\n",
    "print(ls[1])                    # Imprime la segunda lista\n",
    "print(ls[1][-1])                # Imprime la última palabra de la segunda lista.\n",
    "print()\n",
    "\n",
    "f = [\"Esto es una frase de ejemplo\"]\n",
    "print(np.chararray.replace(f,\"es\",\"puede ser\"))      # Reemplaza \"es\" por \"puede ser\""
   ]
  },
  {
   "cell_type": "markdown",
   "metadata": {},
   "source": [
    "---\n",
    "\n",
    "<a id=\"section95\"></a> \n",
    "<h2><font color=\"#7F000E\" size=4> La librería SciPy </font></h2>\n",
    "<br>\n",
    "\n",
    "\n",
    "_SciPy_ es una librería que usa _NumPy_ como base, e implementa una gran cantidad de funciones de utilidad relativas a cálculo numérico, estadística, optimización etc. Existe una referencia completa en la [documentación oficial](https://docs.scipy.org/doc/scipy/reference/).\n",
    "\n",
    "Por ejemplo, el módulo [`scipy.stats`](https://docs.scipy.org/doc/scipy/reference/stats.html#module-scipy.stats) implementa una gran cantidad de distribuciones de probabilidad y funciones estadísticas."
   ]
  },
  {
   "cell_type": "code",
   "execution_count": null,
   "metadata": {},
   "outputs": [],
   "source": [
    "from scipy.stats import norm\n",
    "\n",
    "norm.cdf([-3, -2, -1., 0, 1, 2, 3])     # Imprime la densidad acumulada para una lista de 7 valores en una distribución\n",
    "                                        # normal (al no dar valor a ningún parámetro, se utiliza la estándar)"
   ]
  },
  {
   "cell_type": "markdown",
   "metadata": {},
   "source": [
    "Si se utilizan arrays _NumPy_ en lugar de secuencias, muchas operaciones implementadas en los objetos y funciones de SciPy se hacen de forma vectorizada."
   ]
  },
  {
   "cell_type": "code",
   "execution_count": null,
   "metadata": {},
   "outputs": [],
   "source": [
    "norm.cdf(np.array([-3, -2, -1., 0, 1, 2, 3]))"
   ]
  },
  {
   "cell_type": "markdown",
   "metadata": {},
   "source": [
    "<div class=\"alert alert-block alert-warning\">\n",
    "<i class=\"fa fa-exclamation-circle\" aria-hidden=\"true\"></i>\n",
    "En este tutorial, por no ser necesario salvo de manera puntual a lo largo de los cursos de la maestría, no se tratará SciPy\n",
    "</div>"
   ]
  },
  {
   "cell_type": "markdown",
   "metadata": {},
   "source": [
    "---\n",
    "\n",
    "<h3><font color=\"#004D7F\" size=4> <i class=\"fa fa-pencil-square-o\" aria-hidden=\"true\" style=\"color:#113D68\"></i> Ejercicio</font></h3>\n",
    "\n",
    "Normaliza una matriz aleatoria de tamaño $5\\times4$ con números reales del 0 al 10. ($X_{norm} = \\frac{X-X_{min}}{X_{max}-X_{min}}$)."
   ]
  },
  {
   "cell_type": "code",
   "execution_count": null,
   "metadata": {},
   "outputs": [],
   "source": [
    "# Completar"
   ]
  },
  {
   "cell_type": "markdown",
   "metadata": {},
   "source": [
    "Normalizar cada columna de forma independiente. "
   ]
  },
  {
   "cell_type": "code",
   "execution_count": null,
   "metadata": {},
   "outputs": [],
   "source": [
    "# Completar"
   ]
  },
  {
   "cell_type": "markdown",
   "metadata": {},
   "source": [
    "<div style=\"text-align: left\"><font size=4> <i class=\"fa fa-check-square-o\" aria-hidden=\"true\" style=\"color:#113D68\"></i>\n",
    " </font></div>"
   ]
  },
  {
   "cell_type": "markdown",
   "metadata": {},
   "source": [
    "---\n",
    "\n",
    "<a id=\"section96\"></a> \n",
    "<h2><font color=\"#7F000E\" size=4> Búsqueda </font></h2>\n",
    "<br>\n",
    "\n",
    "\n",
    "La función `unique()` devuelve los elementos únicos en un array. Es flexible, ya que se le puede indicar cómo devolver estos elementos."
   ]
  },
  {
   "cell_type": "code",
   "execution_count": null,
   "metadata": {},
   "outputs": [],
   "source": [
    "v = np.array([5,2,6,2,7,5,6,8,2,9]) \n",
    "u = np.unique(v) \n",
    "print(u,'\\n')\n",
    "\n",
    "u,indices = np.unique(v, return_index = True)   # Se puede devolver también el vector, y los índices que ocupan los\n",
    "print(indices,'\\n')                             # elementos devueltos (la primera aparición)\n",
    "\n",
    "u,indices = np.unique(v,return_inverse = True)  # Devuelve también un array con la correspondencia entre el array\n",
    "print(indices,'\\n')                             # original y el array devuelto.\n",
    "\n",
    "u,counts = np.unique(v,return_counts = True)    # Devuelve un array con las veces que aparece cada elemento único\n",
    "print(counts)                                   # El correspondiente a esa posición."
   ]
  },
  {
   "cell_type": "markdown",
   "metadata": {},
   "source": [
    "_Numpy_ proporciona algunas funciones para la localización de elementos que cumplan determinados criterios. Por ejemplo, las funciones `argmax()`  y `argmin()` devuelven los índices de los elementos mayor y menor, respectivamente, en el eje pasado como parámetro."
   ]
  },
  {
   "cell_type": "code",
   "execution_count": null,
   "metadata": {},
   "outputs": [],
   "source": [
    "m = np.array([[2 ,6, 4], [4,  3 , 8], [1, 5, 2], [40, 2, 2]])\n",
    "print(m,'\\n')\n",
    "print(m.argmax(),'\\n')                 # Corresponde al índice en el array si el conjunto \n",
    "print (m.flatten(),'\\n')               # de elementos se indexa como vector\n",
    "\n",
    "maxindices = np.argmax(m, axis = 0)    # Devuelve un array con los índices del elemento máximo\n",
    "print(maxindices, '\\n')                # en cada columna"
   ]
  },
  {
   "cell_type": "markdown",
   "metadata": {},
   "source": [
    "La función `nonzero()` devuelve los índices de los elementos que no son cero en el array. Devuelve un array con los índices en cada dimensión."
   ]
  },
  {
   "cell_type": "code",
   "execution_count": null,
   "metadata": {},
   "outputs": [],
   "source": [
    "m = np.array([[0 ,6, 4], [0,  3 , 0], [0, 5, 2], [0, 2, 0]])\n",
    "print(m,'\\n')\n",
    "\n",
    "f,c = m.nonzero()             # 5 elementos no son cero.\n",
    "print(f, c,'\\n')\n",
    "print(\"El primer elemento que no es cero es: [%d,%d]\" % (f[0], c[0]))\n",
    "print(\"El último elemento que no es cero es: [%d,%d]\" % (f[-1], c[-1]))"
   ]
  },
  {
   "cell_type": "markdown",
   "metadata": {},
   "source": [
    "La función `where()` devuelve los índices de los elementos en un array que cumplen cierta condición."
   ]
  },
  {
   "cell_type": "code",
   "execution_count": null,
   "metadata": {},
   "outputs": [],
   "source": [
    "m = np.array([[2 ,6, 4], [4,  3 , 8], [1, 5, 2], [9, 2, 2]])\n",
    "print(m,'\\n')\n",
    "print('Posiciones de los elementos pares')\n",
    "m_par = np.where(m%2 == 0)   \n",
    "print(m_par)\n",
    "print(\"\\nEl primer elemento par es: [%d,%d]\" % (m_par[0][0], m_par[1][0]))"
   ]
  },
  {
   "cell_type": "markdown",
   "metadata": {},
   "source": [
    "La función `any()` permite determinar si existe un elemento en el array cuyo valor sea `True` (o distinto de 0)."
   ]
  },
  {
   "cell_type": "code",
   "execution_count": null,
   "metadata": {},
   "outputs": [],
   "source": [
    "np.any([[True, False], [True, True], [True, False]])"
   ]
  },
  {
   "cell_type": "markdown",
   "metadata": {},
   "source": [
    "Esta función se utiliza de manera frecuente para comprobar si algún elemento cumple una condición determinada. Por ejemplo, el siguiente código comprueba si existe algún valor mayor que 900 en la matriz."
   ]
  },
  {
   "cell_type": "code",
   "execution_count": null,
   "metadata": {},
   "outputs": [],
   "source": [
    "a = np.random.randint(1000, size=(10, 10))\n",
    "print(a)\n",
    "print(\"\\n\",np.any(a>900))"
   ]
  },
  {
   "cell_type": "markdown",
   "metadata": {},
   "source": [
    "La función `all()` determina si todos los elementos del array son `True` distintos de cero. El siguiente código permite comprobar si todos los elementos de la matriz son mayores que 50. "
   ]
  },
  {
   "cell_type": "code",
   "execution_count": null,
   "metadata": {},
   "outputs": [],
   "source": [
    "print(np.all(a>50))"
   ]
  },
  {
   "cell_type": "markdown",
   "metadata": {},
   "source": [
    "---\n",
    "\n",
    "<a id=\"section97\"></a> \n",
    "<h2><font color=\"#7F000E\" size=4>Tests y comprobaciones</font></h2>\n",
    "<br>\n",
    "\n",
    "\n",
    "Numpy también implementa una serie de funciones que permiten hacer comprobaciones sobre arrays.\n",
    "\n",
    "- `isnan()` comprueba, para cada elemento, si es nan.\n",
    "- `isfinite()` comprueba si cada elemento es finito (distinto de infinito y distinto de np.nan)\n",
    "- `isinf()` comprueba si cada elemento es infinito."
   ]
  },
  {
   "cell_type": "code",
   "execution_count": null,
   "metadata": {},
   "outputs": [],
   "source": [
    "a = np.ones((3,3))\n",
    "a[1,1]=np.nan\n",
    "print(a)\n",
    "print()\n",
    "\n",
    "print(np.isnan(a))\n",
    "print()\n",
    "print(np.isfinite(a))"
   ]
  },
  {
   "cell_type": "markdown",
   "metadata": {},
   "source": [
    "<div class=\"alert alert-block alert-danger\">\n",
    "<i class=\"fa fa-exclamation-triangle\" aria-hidden=\"true\"></i>\n",
    "    \n",
    "La llamada `a==np.nan` __no__ devolvería el resultado correcto porque las comparaciones que involucran elementos con valor `np.nan` siempre devuelven `False`.\n",
    "</div>"
   ]
  },
  {
   "cell_type": "markdown",
   "metadata": {},
   "source": [
    "---\n",
    "\n",
    "<a id=\"section98\"></a> \n",
    "<h2><font color=\"#7F000E\" size=4>Ordenación</font></h2>\n",
    "<br>\n",
    "\n",
    "La función `sort()` devuelve una copia con el contenido de un array ordenado. Toma varios parémetros. Uno de ellos es la dimensión que se ordena. Otro parámetro importante es el algoritmo de ordenación.  Implementa _quicksort_, _heapsort_ y _mergesort_. La función `argsort()` es parecida, pero devuelve los índices de los elementos en orden."
   ]
  },
  {
   "cell_type": "code",
   "execution_count": null,
   "metadata": {},
   "outputs": [],
   "source": [
    "m = np.around(np.random.random((4,5))*100)     # Crea una matriz de enteros del 0 al 100\n",
    "print(m,'\\n')\n",
    "\n",
    "ms = np.sort(m, axis=0)                        # Por defecto, ordena cada columna.\n",
    "print(ms,'\\n')\n",
    "\n",
    "ms = np.sort(m, axis=1)                        # Puede ordenar cada fila\n",
    "print(ms,'\\n')\n",
    "\n",
    "v = np.array([80, 40, 20, 30, 90])\n",
    "msi = np.argsort(v)\n",
    "print(v)\n",
    "print(msi,'\\n')"
   ]
  },
  {
   "cell_type": "markdown",
   "metadata": {},
   "source": [
    "<div style=\"text-align: right\"> <font size=5>\n",
    "    <a href=\"#indice\"><i class=\"fa fa-arrow-circle-up\" aria-hidden=\"true\" style=\"color:#004D7F\"></i></a>\n",
    "</font></div>\n",
    "\n",
    "---\n",
    "\n",
    "<div style=\"text-align: right\"> <font size=6><i class=\"fa fa-coffee\" aria-hidden=\"true\" style=\"color:#004D7F\"></i> </font></div>"
   ]
  }
 ],
 "metadata": {
  "kernelspec": {
   "display_name": "Python 3",
   "language": "python",
   "name": "python3"
  },
  "language_info": {
   "codemirror_mode": {
    "name": "ipython",
    "version": 3
   },
   "file_extension": ".py",
   "mimetype": "text/x-python",
   "name": "python",
   "nbconvert_exporter": "python",
   "pygments_lexer": "ipython3",
   "version": "3.7.3"
  }
 },
 "nbformat": 4,
 "nbformat_minor": 2
}
