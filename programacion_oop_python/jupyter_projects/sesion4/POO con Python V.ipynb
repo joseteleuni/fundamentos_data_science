{
 "cells": [
  {
   "cell_type": "markdown",
   "metadata": {},
   "source": [
    "# <img src=\"uni-logo.png\" alt=\"Logo UNI\" width=100 hight=200 align=\"right\">\n",
    "\n",
    "\n",
    "<br><br><br>\n",
    "<h1><font color=\"#7F000E\" size=5>POO con Python</font></h1>\n",
    "\n",
    "\n",
    "\n",
    "<h1><font color=\"#7F000E\" size=6>Módulo 2: Numpy III</font></h1>\n",
    "\n",
    "<br>\n",
    "<div style=\"text-align: right\">\n",
    "<font color=\"#7F000E\" size=3>Jose Lizarraga Trebejo</font><br>\n",
    "<font color=\"#7F000E\" size=3>Ing. Telecom</font><br>\n",
    "<font color=\"#7F000E\" size=3>Ciencias de la Computación</font><br>\n",
    "</div>"
   ]
  },
  {
   "cell_type": "markdown",
   "metadata": {},
   "source": [
    "---\n",
    "\n",
    "<a id=\"indice\"></a>\n",
    "<h2><font color=\"#004D7F\" size=5>Índice</font></h2>\n",
    "\n",
    "\n",
    "* [10. Manipulación de arrays](#section10)\n",
    "   * [Cambio de dimensiones](#section101)\n",
    "   * [Redimensionamiento (cambio del número de elementos)](#section102)\n",
    "   * [_Padding_](#section103)\n",
    "   * [Unión de arrays](#section104)   \n",
    "   * [Replicación de arrays](#section105)      \n",
    "   * [División de arrays](#section106)       \n",
    "   * [Adición y borrado de elemenetos](#section107)        \n",
    "\n",
    "* [11. Arrays con tipos de datos heterogéneos y estructurados](#section11)\n",
    "* [13. Almacenamiento de datos](#section12)\n",
    "* [13. _Broadcasting_](#section13)"
   ]
  },
  {
   "cell_type": "markdown",
   "metadata": {},
   "source": [
    "---\n",
    "\n",
    "<a id=\"section10\"></a> \n",
    "<h2><font color=\"#004D7F\" size=5> 10. Manipulación de arrays</font></h2>"
   ]
  },
  {
   "cell_type": "markdown",
   "metadata": {},
   "source": [
    "--- \n",
    "\n",
    "<a id=\"section101\"></a> \n",
    "<h2><font color=\"#004D7F\" size=4> Cambio de dimensiones </font></h2>\n",
    "\n",
    "Mediante `reshape()` se crea una *vista* del vector con las dimensiones pasadas como parámetros. Es decir, ambos comparten datos, por lo que si se cambia un elemento en el segundo array,  el cambio se aprecia en el primero."
   ]
  },
  {
   "cell_type": "code",
   "execution_count": 1,
   "metadata": {},
   "outputs": [
    {
     "name": "stdout",
     "output_type": "stream",
     "text": [
      "[[[1]\n",
      "  [2]]\n",
      "\n",
      " [[3]\n",
      "  [4]]]\n",
      "(2, 2, 1)\n"
     ]
    }
   ],
   "source": [
    "import numpy as np\n",
    "c = np.array([[[1], [2]], [[3], [4]]])\n",
    "print(c)\n",
    "print(c.shape)"
   ]
  },
  {
   "cell_type": "code",
   "execution_count": 1,
   "metadata": {},
   "outputs": [
    {
     "name": "stdout",
     "output_type": "stream",
     "text": [
      "[20  2  3  4  5  6]\n"
     ]
    }
   ],
   "source": [
    "a = np.array([1,2,3,4,5,6])\n",
    "b = a.reshape(2,3)\n",
    "b[0,0]=20                   \n",
    "print(a)"
   ]
  },
  {
   "cell_type": "markdown",
   "metadata": {},
   "source": [
    "Los métodos `flatten()` y `ravel()` redimensionan el array a una dimensión. La diferencia entre ellos es que `flatten()` devuelve una copia del array, y `ravel()` devuelve una vista, por lo que un cambio en el vector devuelto afecta al array original."
   ]
  },
  {
   "cell_type": "code",
   "execution_count": 2,
   "metadata": {},
   "outputs": [
    {
     "name": "stdout",
     "output_type": "stream",
     "text": [
      "[1 2 3 4 5 6]\n",
      "[[1 2 3]\n",
      " [4 5 6]]\n",
      "\n",
      "[[10  2  3]\n",
      " [ 4  5  6]]\n"
     ]
    }
   ],
   "source": [
    "m1 = np.array([[1,2,3],[4,5,6]])\n",
    "v1 = m1.flatten()\n",
    "print(v1)                  # Imprime el vector\n",
    "v1[0] = 10      \n",
    "print(m1)                  # La matriz es similar \n",
    "\n",
    "print()\n",
    "v2 = m1.ravel()\n",
    "v2[0] = 10\n",
    "print(m1)                  # Ahora la matriz m1 sí que cambia"
   ]
  },
  {
   "cell_type": "markdown",
   "metadata": {},
   "source": [
    "Existen varias funciones para cambiar el número de dimensiones de un array. La función `expand_dims()` permite añadir una dimensión al array en el eje especificado, _devolviendo una vista_. "
   ]
  },
  {
   "cell_type": "code",
   "execution_count": 3,
   "metadata": {},
   "outputs": [
    {
     "name": "stdout",
     "output_type": "stream",
     "text": [
      "[1 2 3 4 5 6]\n",
      "(6,)\n",
      "\n",
      "[[1 2 3 4 5 6]]\n",
      "(1, 6)\n",
      "\n",
      "[[1]\n",
      " [2]\n",
      " [3]\n",
      " [4]\n",
      " [5]\n",
      " [6]]\n",
      "(6, 1)\n"
     ]
    }
   ],
   "source": [
    "a = np.array([1,2,3,4,5,6])\n",
    "print(a)\n",
    "print(a.shape)\n",
    "print()\n",
    "\n",
    "b = np.expand_dims(a, axis=0)\n",
    "print(b)\n",
    "print(b.shape)\n",
    "print()\n",
    "\n",
    "c = np.expand_dims(a, axis=1)\n",
    "print(c)\n",
    "print(c.shape)"
   ]
  },
  {
   "cell_type": "markdown",
   "metadata": {},
   "source": [
    "La función `squeeze()` permite eliminar las dimensiones en las que solamente existe un elemento. "
   ]
  },
  {
   "cell_type": "code",
   "execution_count": 6,
   "metadata": {},
   "outputs": [
    {
     "name": "stdout",
     "output_type": "stream",
     "text": [
      "(1, 6)\n",
      "[[1 2 3 4 5 6]]\n",
      "(6,)\n",
      "[1 2 3 4 5 6]\n"
     ]
    }
   ],
   "source": [
    "print(b.shape)\n",
    "print(b)\n",
    "\n",
    "s = np.squeeze(b, axis=0)\n",
    "print(s.shape)\n",
    "print(s)\n",
    "\n",
    "# print(np.squeeze(b, axis=1))           # Esta llamada daría error porque el tamaño de esa dimensión no es uno."
   ]
  },
  {
   "cell_type": "markdown",
   "metadata": {},
   "source": [
    "---\n",
    "\n",
    "<a id=\"section102\"></a> \n",
    "<h2><font color=\"#004D7F\" size=4> Redimensionamiento (cambio del número de elementos) </font></h2>\n",
    "\n",
    "El método `resize()` permite cambiar el tamaño del array. Cambia la forma del array, y añade los elementos de uno en uno. Si el nuevo tamaño es superior, se copian (repiten) elementos. Si es menor, se descartan."
   ]
  },
  {
   "cell_type": "code",
   "execution_count": 7,
   "metadata": {},
   "outputs": [
    {
     "name": "stdout",
     "output_type": "stream",
     "text": [
      "[[1 2 3]\n",
      " [4 5 6]]\n",
      "[1 2 3 4 5 6]\n",
      "\n",
      "[[1 2 3]\n",
      " [4 5 6]\n",
      " [1 2 3]\n",
      " [4 5 6]]\n",
      "\n",
      "[[1 2 3 4]\n",
      " [5 6 1 2]\n",
      " [3 4 5 6]\n",
      " [1 2 3 4]]\n",
      "\n",
      "[[1 2]\n",
      " [3 4]]\n"
     ]
    }
   ],
   "source": [
    "a = np.array([[1,2,3],[4,5,6]]) \n",
    "print(a)\n",
    "print(a.flatten())\n",
    "print()\n",
    "\n",
    "ar = np.resize(a,(4,3))\n",
    "print(ar)\n",
    "print()\n",
    "\n",
    "ar2 = np.resize(a,(4,4))\n",
    "print(ar2)\n",
    "print()\n",
    "\n",
    "ar3 = np.resize(a,(2,2))\n",
    "print(ar3)"
   ]
  },
  {
   "cell_type": "markdown",
   "metadata": {},
   "source": [
    "---\n",
    "\n",
    "<a id=\"section103\"></a> \n",
    "<h2><font color=\"#004D7F\" size=4> <i>Padding</i> </font></h2>\n",
    "\n",
    "Consiste en ampliar el tamaño del array y rellenar las nuevas posiciones con valores determinados. La función `pad()` implementa varias opciones relativas al modo en que se calculan los nuevos valores (cuando no son constantes) o la forma del nuevo array ([documentación de pad](https://docs.scipy.org/doc/numpy-1.13.0/reference/generated/numpy.pad.html#numpy.pad)).\n",
    "\n",
    "Por ejemplo, el siguiente código crea un vector de 10 elementos. Posteriormente añade 2 elementos al principio y 4 al final. A los dos primeros les asigna el valor 0, y a los cuatro últimos 10. La segunda llamada a `pad()` rellena las nuevas posiciones con el valor del extremo correspondiente."
   ]
  },
  {
   "cell_type": "code",
   "execution_count": 8,
   "metadata": {},
   "outputs": [
    {
     "name": "stdout",
     "output_type": "stream",
     "text": [
      "[0 1 2 3 4 5 6 7 8 9]\n",
      "[ 0  0  0  1  2  3  4  5  6  7  8  9 10 10 10 10]\n",
      "[0 0 0 1 2 3 4 5 6 7 8 9 9 9 9]\n"
     ]
    }
   ],
   "source": [
    "v = np.array(np.arange(0,10))\n",
    "print(v)\n",
    "\n",
    "print(np.pad(v, (2,4), 'constant', constant_values=(0, 10)))\n",
    "print(np.pad(v, (2, 3), 'edge'))"
   ]
  },
  {
   "cell_type": "markdown",
   "metadata": {},
   "source": [
    "El siguiente código añade dos filas arriba y cuatro abajo; y una columna a la izquierda y 5 a la derecha. Cada una la rellena con el valor correspondiente. Como puede verse se sigue un orden al rellenarlas. La segunda llamada rellena cada posición con el valor del extremo correspondiente."
   ]
  },
  {
   "cell_type": "code",
   "execution_count": 9,
   "metadata": {},
   "outputs": [
    {
     "name": "stdout",
     "output_type": "stream",
     "text": [
      "[[1 2 3]\n",
      " [4 5 6]]\n",
      "[[ 10 100 100 100  20  20  20  20  20]\n",
      " [ 10 100 100 100  20  20  20  20  20]\n",
      " [ 10   1   2   3  20  20  20  20  20]\n",
      " [ 10   4   5   6  20  20  20  20  20]\n",
      " [ 10 200 200 200  20  20  20  20  20]\n",
      " [ 10 200 200 200  20  20  20  20  20]\n",
      " [ 10 200 200 200  20  20  20  20  20]\n",
      " [ 10 200 200 200  20  20  20  20  20]] \n",
      "\n",
      "[[1 1 2 3 3 3 3 3 3]\n",
      " [1 1 2 3 3 3 3 3 3]\n",
      " [1 1 2 3 3 3 3 3 3]\n",
      " [4 4 5 6 6 6 6 6 6]\n",
      " [4 4 5 6 6 6 6 6 6]\n",
      " [4 4 5 6 6 6 6 6 6]\n",
      " [4 4 5 6 6 6 6 6 6]\n",
      " [4 4 5 6 6 6 6 6 6]] \n",
      "\n"
     ]
    }
   ],
   "source": [
    "m = np.array([[1,2,3],[4,5,6]])\n",
    "print(m)\n",
    "\n",
    "print(np.pad(m, ((2,4),(1,5)), 'constant', constant_values=((100, 200),(10,20))),\"\\n\")\n",
    "\n",
    "print(np.pad(m, ((2,4),(1,5)), 'edge'),\"\\n\")"
   ]
  },
  {
   "cell_type": "markdown",
   "metadata": {},
   "source": [
    "---\n",
    "\n",
    "<a id=\"section104\"></a> \n",
    "<h2><font color=\"#004D7F\" size=4> Unión de arrays </font></h2>\n",
    "<br>\n",
    "    \n",
    "Es posible concatenar o apilar arrays. La función `concatenate()` permite unir dos o más arrays con las mismas dimensiones en la dimensión (existente) especificada. \n",
    "\n",
    "<div class=\"alert alert-block alert-warning\">\n",
    "    \n",
    "<i class=\"fa fa-exclamation-circle\" aria-hidden=\"true\"></i>\n",
    "Es muy importante que los tamaños de los arrays permitan llevar a cabo esta operación. \n",
    "</div>"
   ]
  },
  {
   "cell_type": "code",
   "execution_count": 10,
   "metadata": {},
   "outputs": [
    {
     "name": "stdout",
     "output_type": "stream",
     "text": [
      "[[1 2]\n",
      " [3 4]\n",
      " [5 6]]\n",
      "\n",
      "[[1 2 5]\n",
      " [3 4 6]]\n"
     ]
    }
   ],
   "source": [
    "a = np.array([[1, 2], [3, 4]])\n",
    "b = np.array([[5, 6]])\n",
    "print(np.concatenate((a, b), axis=0))         # Une los arrays verticalmente (filas)\n",
    "print()\n",
    "print(np.concatenate((a, b.T), axis=1))       # Une los arrays horizontalmente (columnas)"
   ]
  },
  {
   "cell_type": "markdown",
   "metadata": {},
   "source": [
    "Las funciones `vstack()` y `hstack()` permiten apilar arrays vertical y horizontalmente. Son equivalentes,  a utilizar  `concatenate()` especificando, respectivamente, los ejes 0 y 1. El siguiente código es equivalente al anterior."
   ]
  },
  {
   "cell_type": "code",
   "execution_count": 11,
   "metadata": {},
   "outputs": [
    {
     "name": "stdout",
     "output_type": "stream",
     "text": [
      "[[1 2]\n",
      " [3 4]\n",
      " [5 6]]\n",
      "\n",
      "[[1 2 5]\n",
      " [3 4 6]]\n"
     ]
    }
   ],
   "source": [
    "print(np.vstack((a, b)))         # Une los arrays verticalmente (filas)\n",
    "print()\n",
    "print(np.hstack((a, b.T)))       # Une los arrays horizontalmente (columnas)"
   ]
  },
  {
   "cell_type": "markdown",
   "metadata": {},
   "source": [
    "La función `stack()` permite unir los arrays a lo largo de una nueva dimensión, que es pasada como parámetro."
   ]
  },
  {
   "cell_type": "code",
   "execution_count": 12,
   "metadata": {},
   "outputs": [
    {
     "name": "stdout",
     "output_type": "stream",
     "text": [
      "[[0. 0. 0. 0.]\n",
      " [0. 0. 0. 0.]]\n",
      "------\n",
      "[[[0. 0. 0. 0.]\n",
      "  [0. 0. 0. 0.]]\n",
      "\n",
      " [[1. 1. 1. 1.]\n",
      "  [1. 1. 1. 1.]]\n",
      "\n",
      " [[2. 2. 2. 2.]\n",
      "  [2. 2. 2. 2.]]]\n",
      "------\n",
      "[[[0. 0. 0. 0.]\n",
      "  [1. 1. 1. 1.]\n",
      "  [2. 2. 2. 2.]]\n",
      "\n",
      " [[0. 0. 0. 0.]\n",
      "  [1. 1. 1. 1.]\n",
      "  [2. 2. 2. 2.]]]\n",
      "------\n",
      "[[[0. 1. 2.]\n",
      "  [0. 1. 2.]\n",
      "  [0. 1. 2.]\n",
      "  [0. 1. 2.]]\n",
      "\n",
      " [[0. 1. 2.]\n",
      "  [0. 1. 2.]\n",
      "  [0. 1. 2.]\n",
      "  [0. 1. 2.]]]\n"
     ]
    }
   ],
   "source": [
    "arrays = [np.ones((2, 4))*i for i in range(3)]       # Crea 3 arrays de dimensión 2x4\n",
    "print(arrays[0])\n",
    "print(\"------\") \n",
    "s1 = np.stack(arrays, axis=0)                        # Los apila en un array de dimensión (3,2,4)\n",
    "print(s1)   \n",
    "print(\"------\")\n",
    "\n",
    "s2 = np.stack(arrays, axis=1)                        # Los apila en un array de dimensión (2,3,4)\n",
    "print(s2)\n",
    "print(\"------\")\n",
    "\n",
    "s3 = np.stack(arrays, axis=2)                        # Los apila en un array de dimensión (2,4,3)\n",
    "print(s3)"
   ]
  },
  {
   "cell_type": "markdown",
   "metadata": {},
   "source": [
    "---\n",
    "\n",
    "<h3><font color=\"#004D7F\" size=4> <i class=\"fa fa-pencil-square-o\" aria-hidden=\"true\" style=\"color:#113D68\"></i> Ejercicio</font></h3>\n",
    "\n",
    "Crear una matriz aleatoria de tamaño 5x5. Añadir una columna a la izquierda en la que todos los valores sean uno."
   ]
  },
  {
   "cell_type": "code",
   "execution_count": null,
   "metadata": {},
   "outputs": [],
   "source": [
    "# Completar"
   ]
  },
  {
   "cell_type": "markdown",
   "metadata": {},
   "source": [
    "<div style=\"text-align: left\"><font size=4> <i class=\"fa fa-check-square-o\" aria-hidden=\"true\" style=\"color:#113D68\"></i>\n",
    " </font></div>"
   ]
  },
  {
   "cell_type": "markdown",
   "metadata": {},
   "source": [
    "---\n",
    "\n",
    "<a id=\"section105\"></a> \n",
    "<h2><font color=\"#004D7F\" size=4> Replicación de arrays </font></h2>\n",
    "\n",
    "Mediante la función `tile()` se puede replicar un array."
   ]
  },
  {
   "cell_type": "code",
   "execution_count": 13,
   "metadata": {},
   "outputs": [
    {
     "name": "stdout",
     "output_type": "stream",
     "text": [
      "[0 1 2 0 1 2]\n",
      "\n",
      "[[0 1 2 0 1 2]\n",
      " [0 1 2 0 1 2]]\n",
      "\n",
      "[[1 2 1 2]\n",
      " [3 4 3 4]\n",
      " [1 2 1 2]\n",
      " [3 4 3 4]]\n"
     ]
    }
   ],
   "source": [
    "a = np.array([0, 1, 2])\n",
    "m1 = np.tile(a, 2)                  # Concatena a dos veces.          \n",
    "print(m1)\n",
    "print()\n",
    "\n",
    "m2 = np.tile(a, (2, 2))             # Concatena a 2 veces en cada dimensión\n",
    "print(m2)\n",
    "print()\n",
    "\n",
    "\n",
    "a2 = np.array([[1, 2], [3, 4]])     # A partir de un array de dos por dos, crea uno de 4 x 4\n",
    "m3 = np.tile(a2, (2,2))\n",
    "print(m3)"
   ]
  },
  {
   "cell_type": "markdown",
   "metadata": {},
   "source": [
    "---\n",
    "\n",
    "<a id=\"section106\"></a> \n",
    "<h2><font color=\"#004D7F\" size=4> División de arrays </font></h2>\n",
    "\n",
    "Se lleva a cabo con el metodo `split()`, al que se le pasa como parámetro la matriz, los puntos de corte y la dimensión. El método `hsplit()` es similar, pero usa la dimensión 1, es decir, separa por columnas (horizontalmente). El método `vsplit()` usa la dimensión 0, es decir, separa por filas."
   ]
  },
  {
   "cell_type": "code",
   "execution_count": null,
   "metadata": {},
   "outputs": [],
   "source": [
    "m = np.arange(20).reshape(4,5) \n",
    "print(m) \n",
    "print()\n",
    "\n",
    "#splits = np.split(m,[2,3],axis=1)          # Los dos son equivalentes\n",
    "splits = np.hsplit(m,[2,3])\n",
    "print(splits)\n",
    "print(splits[0],'\\n')\n",
    "print(splits[1],'\\n')\n",
    "print(splits[2],'\\n')"
   ]
  },
  {
   "cell_type": "markdown",
   "metadata": {},
   "source": [
    "---\n",
    "\n",
    "<h3><font color=\"#004D7F\" size=4> <i class=\"fa fa-pencil-square-o\" aria-hidden=\"true\" style=\"color:#113D68\"></i> Ejercicio</font></h3>\n",
    "\n",
    "\n",
    "Crear un array de tamaño 100x5 con números aleatorios. Guardar las 60 primeras filas en una variable llamada `X`, las siguientes 20 en otra, llamada `V`, y las últimas 20 en otra llamada `T`."
   ]
  },
  {
   "cell_type": "code",
   "execution_count": null,
   "metadata": {},
   "outputs": [],
   "source": [
    "# Completar"
   ]
  },
  {
   "cell_type": "markdown",
   "metadata": {},
   "source": [
    "<div style=\"text-align: left\"><font size=4> <i class=\"fa fa-check-square-o\" aria-hidden=\"true\" style=\"color:#113D68\"></i>\n",
    " </font></div>"
   ]
  },
  {
   "cell_type": "markdown",
   "metadata": {},
   "source": [
    "---\n",
    "<a id=\"section107\"></a> \n",
    "<h2><font color=\"#004D7F\" size=4> Adición y borrado de elementos </font></h2>\n",
    "\n",
    "La función `append()` permite añadir elementos al final de un array. Esta operación genera un nuevo array. Además, las dimensiones del array y del array con los elementos deben coincidir. "
   ]
  },
  {
   "cell_type": "code",
   "execution_count": null,
   "metadata": {},
   "outputs": [],
   "source": [
    "m = np.array([[1,2,3],[4,5,6]]) \n",
    "print(m)\n",
    "print()\n",
    "\n",
    "m2 = np.append(m, [7,8,9])             # Si no se especifica dimensión genera un vector y añade al final\n",
    "print(m2)\n",
    "print()\n",
    "\n",
    "m3 = np.append(m, [[7,8,9]], axis = 0) # Aquí añade un elemento que es, a su vez, una lista. Lo añade como fila.\n",
    "print(m3)\n",
    "print()\n",
    "\n",
    "m4 =  np.append(m, [[5,5,5],[7,8,9]],axis = 1) # Añade dos elementos en la dimensión 1, es decir, como dos columnas.\n",
    "print(m4)"
   ]
  },
  {
   "cell_type": "markdown",
   "metadata": {},
   "source": [
    "La función `insert()` permite insertar elementos a partir de un índice, y en la dimensión especificada."
   ]
  },
  {
   "cell_type": "code",
   "execution_count": null,
   "metadata": {},
   "outputs": [],
   "source": [
    "m = np.array([[1,2],[3,4],[5,6]]) \n",
    "print(m)\n",
    "print()\n",
    "\n",
    "m1 = np.insert(m,3,[10,20])        # Como no se pasa dimensión, convierte a vector e inserta en la posición 3 los valores.\n",
    "print(m1)\n",
    "print()\n",
    "\n",
    "m2=np.insert(m,1,[10, 10],axis = 0)    # En este caso se añade una fila.\n",
    "print(m2)\n",
    "print()\n",
    "\n",
    "m3=np.insert(m,1,[10, 10, 10] ,axis = 1)   # Este ejemplo es similar al anterior, pero se añade una columna (la uno)\n",
    "print(m3)\n",
    "print()"
   ]
  },
  {
   "cell_type": "markdown",
   "metadata": {},
   "source": [
    "La función `delete()` permite eliminar elementos de un array. Funciona como `insert()`. Es decir, elimina los elementos en la dimensión especificada y, si no se especifica ninguna, convierte el array a un vector unidimensional primero."
   ]
  },
  {
   "cell_type": "code",
   "execution_count": null,
   "metadata": {},
   "outputs": [],
   "source": [
    "m = np.arange(12).reshape(3,4) \n",
    "print(m)\n",
    "print()\n",
    "\n",
    "m1 = np.delete(m,[5,7])                 # Borra los elementos 5 y 7\n",
    "print(m1)\n",
    "print()\n",
    "\n",
    "m2 = np.delete(m,1,axis = 1)            # Borra la columna 1\n",
    "print(m2)\n"
   ]
  },
  {
   "cell_type": "markdown",
   "metadata": {},
   "source": [
    "<div style=\"text-align: right\"> <font size=5>\n",
    "    <a href=\"#indice\"><i class=\"fa fa-arrow-circle-up\" aria-hidden=\"true\" style=\"color:#004D7F\"></i></a>\n",
    "</font></div>"
   ]
  },
  {
   "cell_type": "markdown",
   "metadata": {},
   "source": [
    "---\n",
    "\n",
    "<a id=\"section11\"></a> \n",
    "<h2><font color=\"#004D7F\" size=5> 11. Arrays con tipos de datos heterogéneos y estructurados </font></h2>\n",
    "<br>\n",
    "\n",
    "Los arrays pueden contener elementos de distinto tipo."
   ]
  },
  {
   "cell_type": "code",
   "execution_count": null,
   "metadata": {},
   "outputs": [],
   "source": [
    "m = np.array([[('Diana',21), ('Alicia',25)],[('Carmen', 17), ('Benito',27)]]) \n",
    "print(m[0][0])\n",
    "print(list(map(type, m[0][0])))\n",
    "print(m.shape)"
   ]
  },
  {
   "cell_type": "markdown",
   "metadata": {},
   "source": [
    "Numpy permite, además, crear tipos de datos estructurados."
   ]
  },
  {
   "cell_type": "code",
   "execution_count": null,
   "metadata": {},
   "outputs": [],
   "source": [
    "persona = np.dtype([('nombre', 'S10'),('edad', int)]) \n",
    "m = np.array([[('Diana',21), ('Alicia',25)],[('Carmen', 17), ('Benito',27)]], dtype = persona) \n",
    "print(\"Cambia la forma: \",m.shape)"
   ]
  },
  {
   "cell_type": "markdown",
   "metadata": {},
   "source": [
    "En el caso de que el array sea de valores con un tipo estructurado, se puede acceder de manera independiente a cada uno de los campos."
   ]
  },
  {
   "cell_type": "code",
   "execution_count": null,
   "metadata": {},
   "outputs": [],
   "source": [
    "m['edad']"
   ]
  },
  {
   "cell_type": "markdown",
   "metadata": {},
   "source": [
    "También es posible ordenar el array en función de un campo."
   ]
  },
  {
   "cell_type": "code",
   "execution_count": null,
   "metadata": {},
   "outputs": [],
   "source": [
    "print (np.sort(m, order = 'nombre'))"
   ]
  },
  {
   "cell_type": "markdown",
   "metadata": {},
   "source": [
    "<div style=\"text-align: right\"> <font size=5>\n",
    "    <a href=\"#indice\"><i class=\"fa fa-arrow-circle-up\" aria-hidden=\"true\" style=\"color:#004D7F\"></i></a>\n",
    "</font></div>\n",
    "\n",
    "---\n",
    "\n",
    "<a id=\"section12\"></a> \n",
    "<h2><font color=\"#004D7F\" size=5> 12. Almacenamiento de datos </font></h2>\n",
    "<br>\n",
    "\n",
    "Además de las estructuras `pickle` utilizadas en Python para serialización, es posible cargar y salvar arrays Numpy con las funciones `save()`\\ `savetxt()` y `load()` \\ `loadtxt()`. Las funciones `load()` y `save()` almacenan los datos en un archivo binario con extensión `npy`. Las funciones `loadtxt()` y `savetxt()` lo hacen en un archivo de texto."
   ]
  },
  {
   "cell_type": "code",
   "execution_count": null,
   "metadata": {},
   "outputs": [],
   "source": [
    "m = np.random.random((4,5))\n",
    "print(m)\n",
    "\n",
    "np.save('matriz',m)                 # Salva la matriz en formato binario\n",
    "np.savetxt('matriz.txt', m)         # Salva la matriz en el archivo de texto matriz.txt"
   ]
  },
  {
   "cell_type": "markdown",
   "metadata": {},
   "source": [
    "<font size=4> <i class=\"fa fa-book\" aria-hidden=\"true\" style=\"color:#004D7F\"></i> </font> Desde jupyter se pueden invocar órdenes del shell del sistema anteponiéndolas de `!`. Por ejemplo, para ver los archivos creados."
   ]
  },
  {
   "cell_type": "code",
   "execution_count": null,
   "metadata": {},
   "outputs": [],
   "source": [
    "! ls"
   ]
  },
  {
   "cell_type": "code",
   "execution_count": null,
   "metadata": {},
   "outputs": [],
   "source": [
    "m2 = np.loadtxt('matriz.txt')       # Carga el archivo de texto\n",
    "print(m1)"
   ]
  },
  {
   "cell_type": "markdown",
   "metadata": {},
   "source": [
    "<div style=\"text-align: right\"> <font size=5>\n",
    "    <a href=\"#indice\"><i class=\"fa fa-arrow-circle-up\" aria-hidden=\"true\" style=\"color:#004D7F\"></i></a>\n",
    "</font></div>\n",
    "\n",
    "---\n",
    "\n",
    "<a id=\"section13\"></a> \n",
    "<h2><font color=\"#004D7F\" size=5> 13. <i>Broadcasting</i> </font></h2>\n",
    "<br>\n",
    "\n",
    "El _Broadcasting_ es un mecanismo que permite llevar a cabo operaciones aritméticas con arrays de dimensiones diferentes.  Se suele aplicar sobre un array más pequeño y otro más grande. Generalmente, se utiliza el array más pequeño múltiples veces para hacer una operación en el más grande. Para aplicar _broadcasting_ sobre dos arrays, se deben cumplir unas condiciones. Información detallada al respecto puede consultarse [aquí](https://docs.scipy.org/doc/numpy-1.13.0/user/basics.broadcasting.html).\n",
    "\n",
    "# <img src=\"numpy_broadcasting.png\" alt=\"Broadcasting\" width=600 hight=400 align=\"center\">\n",
    "\n",
    "En el siguiente ejemplo se define una matriz de cuatro filas y tres columnas, y se suma un vector de tres elementos a cada una de las filas."
   ]
  },
  {
   "cell_type": "code",
   "execution_count": 2,
   "metadata": {},
   "outputs": [
    {
     "name": "stdout",
     "output_type": "stream",
     "text": [
      "[[ 1  2  3]\n",
      " [ 4  5  6]\n",
      " [ 7  8  9]\n",
      " [10 11 12]]\n",
      "\n",
      "[1 0 1]\n",
      "\n",
      "[[ 2  2  4]\n",
      " [ 5  5  7]\n",
      " [ 8  8 10]\n",
      " [11 11 13]]\n"
     ]
    }
   ],
   "source": [
    "m = np.array([[1,2,3], [4,5,6], [7,8,9], [10, 11, 12]])\n",
    "v = np.array([1, 0, 1])\n",
    "y = m + v                \n",
    "print(m)\n",
    "print()\n",
    "print(v)\n",
    "print()\n",
    "print(y)  +         # Por ejemplo, la primera fila es [1+1, 2+0, 3+1]; la segunda [4+1, 5+0, 6+1]4"
   ]
  },
  {
   "cell_type": "markdown",
   "metadata": {},
   "source": [
    "Existe una función, denominada `broadcast()`, cuyo objetivo es imitar el funcionamiento del _broadcasting_. El siguente código muestra un ejemplo de uso frecuente de _broadcasting_."
   ]
  },
  {
   "cell_type": "code",
   "execution_count": 3,
   "metadata": {},
   "outputs": [
    {
     "name": "stdout",
     "output_type": "stream",
     "text": [
      "[[1 2 3]\n",
      " [4 5 6]] \n",
      "\n",
      "[  1  10 100] \n",
      "\n",
      "(1, 1) (2, 10) (3, 100) (4, 1) (5, 10) (6, 100) \n",
      "[[  1.  20. 300.]\n",
      " [  4.  50. 600.]]\n"
     ]
    }
   ],
   "source": [
    "x = np.array([[1,2,3],[4,5,6]])\n",
    "print(x,\"\\n\")\n",
    "y = np.array([1,10,100])\n",
    "print(y,\"\\n\")\n",
    "b = np.broadcast(x,y)            # Devuelve un iterador. Cada elemento es una tupla con un elemento del primer vector\n",
    "for i in b:                      # y otra del segundo.\n",
    "    print(i,end=\" \")\n",
    "print()\n",
    "\n",
    "b = np.broadcast(x,y)  \n",
    "m = np.empty(b.shape)            # Crea una matriz vacía con las dimensiones del broadcast\n",
    "m.flat =[u*v for (u,v) in b]     # Para copiar los elementos de uno en uno utiliza flat. Usa como ejemplo\n",
    "                                 # el producto de fila y columna\n",
    "print(m)                         # Ahora imprime la matriz"
   ]
  },
  {
   "cell_type": "markdown",
   "metadata": {},
   "source": [
    "<div style=\"text-align: right\"> <font size=5>\n",
    "    <a href=\"#indice\"><i class=\"fa fa-arrow-circle-up\" aria-hidden=\"true\" style=\"color:#004D7F\"></i></a>\n",
    "</font></div>"
   ]
  },
  {
   "cell_type": "markdown",
   "metadata": {},
   "source": [
    "---\n",
    "\n",
    "<div style=\"text-align: right\"> <font size=6><i class=\"fa fa-coffee\" aria-hidden=\"true\" style=\"color:#004D7F\"></i> </font></div>"
   ]
  },
  {
   "cell_type": "code",
   "execution_count": null,
   "metadata": {},
   "outputs": [],
   "source": []
  }
 ],
 "metadata": {
  "kernelspec": {
   "display_name": "Python 3",
   "language": "python",
   "name": "python3"
  },
  "language_info": {
   "codemirror_mode": {
    "name": "ipython",
    "version": 3
   },
   "file_extension": ".py",
   "mimetype": "text/x-python",
   "name": "python",
   "nbconvert_exporter": "python",
   "pygments_lexer": "ipython3",
   "version": "3.7.3"
  }
 },
 "nbformat": 4,
 "nbformat_minor": 2
}
