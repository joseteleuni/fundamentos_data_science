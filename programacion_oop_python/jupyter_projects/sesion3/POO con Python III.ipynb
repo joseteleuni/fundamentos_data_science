{
 "cells": [
  {
   "cell_type": "markdown",
   "metadata": {},
   "source": [
    "# <img src=\"uni-logo.png\" alt=\"Logo UNI\" width=100 hight=200 align=\"right\">\n",
    "\n",
    "\n",
    "<br><br><br>\n",
    "<h1><font color=\"#7F000E\" size=5>POO con Python</font></h1>\n",
    "\n",
    "\n",
    "\n",
    "<h1><font color=\"#7F000E\" size=6>Módulo 2: Numpy I</font></h1>\n",
    "\n",
    "<br>\n",
    "<div style=\"text-align: right\">\n",
    "<font color=\"#7F000E\" size=3>Yuri Coicca, M.Sc.</font><br>\n",
    "<font color=\"#7F000E\" size=3>Facultad de Ciencias</font><br>\n",
    "<font color=\"#7F000E\" size=3>Pre-Maestria en Ciencia de la Computación</font><br>\n",
    "</div>"
   ]
  },
  {
   "cell_type": "markdown",
   "metadata": {},
   "source": [
    "---\n",
    "<a id=\"indice\"></a> \n",
    "<h2><font color=\"#004D7F\" size=5>Índice</font></h2><a id=\"indice\"></a>\n",
    "\n",
    "\n",
    "* [1. Introducción](#section1)\n",
    "* [2. Creación de arrays](#section2)\n",
    "    * [Creación de un array NumPy](#section21)\n",
    "    * [Tipos de datos de los elementos del array](#section22)\n",
    "    * [Creación de un array bidimensional](#section23)\n",
    "    * [Dimensiones de un array](#section24)\n",
    "    * [Funciones para la inicialización de arrays](#section25)\n",
    "    * [Inicialización a partir de secuencias](#section26)\n",
    "    * [Inicialización a partir de rangos numéricos](#section27)\n",
    "    \n",
    "* [3. Acceso a elementos e indexación de arrays](#section3)\n",
    "    * [Acceso a los elementos de un array](#section31)\n",
    "    * [Slicing](#section32)\n",
    "    * [Indexación mediante arrays de enteros](#section33)\n",
    "    * [Indexación mediante arrays de valores booleanos](#section34)\n",
    "\n",
    "* [4. Copias y vistas](#section4)\n",
    "    * [Vista o copia superficial](#section41)\n",
    "    * [Copia](#section42)\n",
    "    \n",
    "* [5. Matrices](#section5)\n",
    "\n"
   ]
  },
  {
   "cell_type": "markdown",
   "metadata": {},
   "source": [
    "---\n",
    "\n",
    "<a id=\"section1\"></a> \n",
    "<h2><font color=\"#004D7F\" size=5> 1. Introducción</font></h2>\n",
    "<br>\n",
    "\n",
    "[__NumPy__](http://www.numpy.org) es la librería para procesamiento numérico de Python. Proporciona funcionalidades para el manejo _eficiente_ de vectores, y es la base de otras librerías, como _SciPy_, _Pandas_ o _Scikit-learn_.\n",
    "\n",
    "En estas libretas se presentarán, mediante ejemplos, los conceptos de _Numpy_ que son necesarios para el seguimiento del curso, y que serán ampliados a lo largo del mismo.  Esta introducción puede completarse con la abundante información existente en la red, y con la [documentación oficial](https://docs.scipy.org/doc/numpy/index.html). "
   ]
  },
  {
   "cell_type": "markdown",
   "metadata": {},
   "source": [
    "<div style=\"text-align: right\"> <font size=5>\n",
    "    <a href=\"#indice\"><i class=\"fa fa-arrow-circle-up\" aria-hidden=\"true\" style=\"color:#004D7F\"></i></a>\n",
    "</font></div>"
   ]
  },
  {
   "cell_type": "markdown",
   "metadata": {},
   "source": [
    "---\n",
    "\n",
    "<a id=\"section2\"></a> \n",
    "<h2><font color=\"#004D7F\" size=5> 2. Creación de arrays</font></h2>\n",
    "<br>\n",
    "\n",
    "La programación gráfica se fundamenta sobre la idea de manipular información almacenada en unas estructuras conocidas como vectores y matrices. En Python la única forma de simular estas estructuras es usando listas y lo malo es que son muy limitadas respecto a las funciones matemáticas que permiten. **Numpy** viene a solucionar esa carencia ofreciéndonos un nuevo tipo de dato llamado array.\n",
    "<br>\n",
    "<br>\n",
    "En _NumPy_, un array (un objeto de la clase `ndarray`) es una secuencia _multidimensional_ de valores del mismo tipo, indexada por enteros. \n",
    "<br>\n",
    "<br>\n",
    "**ndarray** es la clase que permite crear objetos array en Numpy. Estos objetos recuerdan a los de la clase array del módulo array de la librería estándar de Python, aunque estos últimos solo permiten operar con arrays unidimensionales, cuentan con menos posibilidades para su procesamiento y tienen un rendimiento inferior.\n",
    "<br>\n",
    "\n",
    "<a id=\"section21\"></a> \n",
    "<h2><font color=\"#004D7F\" size=4> Creación de un array NumPy </font></h2>\n",
    " \n",
    "\n",
    "Los arrays pueden inicializarse a partir de secuencias de _Python_."
   ]
  },
  {
   "cell_type": "code",
   "execution_count": 1,
   "metadata": {},
   "outputs": [
    {
     "name": "stdout",
     "output_type": "stream",
     "text": [
      "[ 2  4  6  8 10 12]\n"
     ]
    }
   ],
   "source": [
    "import numpy as np\n",
    "\n",
    "v = np.array([2, 4, 6, 8, 10, 12])  # Crea un vector de 6 elementos a partir de una lista\n",
    "print(v)                      "
   ]
  },
  {
   "cell_type": "markdown",
   "metadata": {},
   "source": [
    "---\n",
    "\n",
    "<a id=\"section22\"></a> \n",
    "<h2><font color=\"#004D7F\" size=4> Tipos de datos de los elementos del array </font></h2>\n",
    "<br>\n",
    "\n",
    "El tipo de los elementos del array es definido por la propiedad `dtype`, y se establece de manera automática en función de los valores del array, a menos que se especifique en el constructor. \n",
    "\n",
    "Aunque los tipos más comunes son `int64` y `float64`, _Numpy_ implementa una gran cantidad de tipos. Información detallada al respecto puede encontrarse en la [documentación oficial](https://docs.scipy.org/doc/numpy/reference/arrays.dtypes.html)."
   ]
  },
  {
   "cell_type": "code",
   "execution_count": null,
   "metadata": {},
   "outputs": [],
   "source": [
    "# Imprime el tipo de datos del vector anterior.\n",
    "print(\"v:\", v)\n",
    "print(\"Tipo de v:\", v.dtype)   \n",
    "print()\n",
    "\n",
    "# Crea un vector similar, pero de tipo float\n",
    "vf = np.array([2, 4, 6, 8, 10, 12], dtype = np.float64)\n",
    "print(\"vf:\", vf)\n",
    "print(\"Tipo de vf: \",vf.dtype) "
   ]
  },
  {
   "cell_type": "markdown",
   "metadata": {
    "slideshow": {
     "slide_type": "-"
    }
   },
   "source": [
    "Además de los valores numéricos, los arrays pueden contener otros valores especiales. Los más importantes son:\n",
    "\n",
    "- `np.nan` representa el valor \"_Not a number_\". \n",
    "- `np.inf` representa el valor infinito."
   ]
  },
  {
   "cell_type": "markdown",
   "metadata": {},
   "source": [
    "**NaN**"
   ]
  },
  {
   "cell_type": "markdown",
   "metadata": {},
   "source": [
    "Cuando no queremos que una matriz NumPy contenga un valor en un índice particular, podemos usar `np.nan` para que actúe como marcador de posición. Un uso común de `np.nan` es como valor de relleno para datos incompletos.\n",
    "\n",
    "El siguiente código muestra un ejemplo de uso de `np.nan`. Tenga en cuenta que np.nan no puede tomar un tipo entero."
   ]
  },
  {
   "cell_type": "code",
   "execution_count": null,
   "metadata": {},
   "outputs": [],
   "source": [
    "arr = np.array([np.nan, 1, 2])\n",
    "print(repr(arr))\n",
    "\n",
    "arr = np.array([np.nan, 'abc'])\n",
    "print(repr(arr))\n",
    "\n",
    "# Resultará en ValueError\n",
    "np.array([np.nan, 1, 2], dtype=np.int32)"
   ]
  },
  {
   "cell_type": "markdown",
   "metadata": {},
   "source": [
    "**Infinity**"
   ]
  },
  {
   "cell_type": "markdown",
   "metadata": {},
   "source": [
    "Para representar el infinito en NumPy, usamos el valor especial `np.inf`. También podemos representar infinito negativo con `-np.inf`.\n",
    "\n",
    "El siguiente código muestra un ejemplo de uso de `np.inf`. Tenga en cuenta que `np.inf` no puede tomar un tipo entero."
   ]
  },
  {
   "cell_type": "code",
   "execution_count": null,
   "metadata": {},
   "outputs": [],
   "source": [
    "print(np.inf > 1000000)\n",
    "\n",
    "arr = np.array([np.inf, 5])\n",
    "print(repr(arr))\n",
    "\n",
    "arr = np.array([-np.inf, 1])\n",
    "print(repr(arr))\n",
    "\n",
    "# Will result in an OverflowError\n",
    "np.array([np.inf, 3], dtype=np.int32)"
   ]
  },
  {
   "cell_type": "markdown",
   "metadata": {},
   "source": [
    "<div class=\"alert alert-block alert-warning\">\n",
    "<i class=\"fa fa-exclamation-circle\" aria-hidden=\"true\"></i>\n",
    "Estos valores especiales se codifican como valores en punto flotante. Por tanto, no es posible asignarlos a una posición de un array de enteros.\n",
    "</div>"
   ]
  },
  {
   "cell_type": "markdown",
   "metadata": {},
   "source": [
    "---\n",
    "\n",
    "<a id=\"section23\"></a> \n",
    "<h2><font color=\"#004D7F\" size=4> Creación de un array bidimensional </font></h2>\n",
    "<br>\n",
    "\n",
    "Se puede crear con una \"lista de listas\" (en realidad, secuencia de secuencias). Por defecto, cada una de ellas corresponde a una dimensión. \n",
    "\n",
    "Por ejemplo, en la siguiente celda se construye esta matriz:\n",
    "\n",
    "$$\n",
    "m = \\begin{bmatrix}\n",
    "    1 & 2 & 3 \\\\\n",
    "    4 & 5 & 6 \\\\\n",
    "    \\end{bmatrix}\n",
    "$$"
   ]
  },
  {
   "cell_type": "code",
   "execution_count": null,
   "metadata": {},
   "outputs": [],
   "source": [
    "m = np.array([[1,2,3],[4,5,6]])     # Crea una matriz bidimensional\n",
    "print(\"m:\")\n",
    "print(m)       "
   ]
  },
  {
   "cell_type": "markdown",
   "metadata": {},
   "source": [
    "---\n",
    "\n",
    "<a id=\"section24\"></a> \n",
    "<h2><font color=\"#004D7F\" size=4> Dimensiones de un array </font></h2>\n",
    "<br>\n",
    "\n",
    "La propiedad `ndim` contiene el número de dimensiones del array, mientras que la propiedad denominada `shape` (una tupla) contiene el tamaño del array en cada dimensión.\n",
    "\n",
    "__Nota__: Por mantener la nomenclatura \"natural\" en castellano, nos refereremos a `ndim` como \"_número de dimensiones_\", y a `shape` como \"_dimensiones_\"."
   ]
  },
  {
   "cell_type": "code",
   "execution_count": null,
   "metadata": {},
   "outputs": [],
   "source": [
    "print(\"Número de dimensiones y dimensiones de v:\",v.ndim, v.shape)      # Array de seis elementos\n",
    "print(\"Número de dimensiones y dimensiones de m:\",m.ndim, m.shape)      # Matriz de 2x3"
   ]
  },
  {
   "cell_type": "markdown",
   "metadata": {},
   "source": [
    "<div class=\"alert alert-block alert-info\">\n",
    "<i class=\"fa fa-info-circle\" aria-hidden=\"true\"></i>\n",
    "En matrices bidimensionales, se considera que la primera dimensión se refiere a la fila y la segunda a la columna.</div>"
   ]
  },
  {
   "cell_type": "markdown",
   "metadata": {},
   "source": [
    "Cambiando los valores de la propiedad `shape` se redimensiona el array.\n",
    "\n",
    "También se puede hacer a través de la función `reshape(dimension)` del objeto `ndarray`. En este caso, no altera la propiedad `shape` del objeto, pero devuelve un nuevo objeto con la propiedad `shape` modificada. **¡Los datos no se copian, haciendo referencia al mismo objeto!**"
   ]
  },
  {
   "cell_type": "code",
   "execution_count": null,
   "metadata": {},
   "outputs": [],
   "source": [
    "print(v)                                # Imprime el vector\n",
    "print()\n",
    "\n",
    "v.shape = (3,2)                         # Redimensiona el vector de 6 elementos a una matriz de 3 filas y 2 columnas\n",
    "print(v)\n",
    "print()\n",
    "\n",
    "v.shape=(6,)                             # Vuelve a redimensionar la matriz como un vector de 6 elementos.\n",
    "print(v)"
   ]
  },
  {
   "cell_type": "code",
   "execution_count": null,
   "metadata": {},
   "outputs": [],
   "source": [
    "# Reshape nos devuelve un nuevo objeto, pero los valores hacen referencia a v!\n",
    "v2 = v.reshape((3,2))\n",
    "print(v)\n",
    "print(v2)\n",
    "print()\n",
    "\n",
    "# Por lo tanto, modificar v (o v2) modifica a v2 (o v):\n",
    "v[0] = 99\n",
    "print(v)\n",
    "print(v2)\n",
    "print()\n",
    "\n",
    "v[0] = 2  # Restauramos su valor anterior"
   ]
  },
  {
   "cell_type": "markdown",
   "metadata": {},
   "source": [
    "---\n",
    "\n",
    "<a id=\"section25\"></a>\n",
    "<h2><font color=\"#004D7F\" size=4> Funciones para la inicialización de arrays </font></h2> \n",
    "<br>\n",
    "\n",
    "_NumPy_ proporciona funciones para llevar a cabo distintas inicializaciones de una matriz sin necesidad de especificar los elementos. En todos los casos, el primer argumento es **una tupla**, indicando la **dimensión**."
   ]
  },
  {
   "cell_type": "code",
   "execution_count": null,
   "metadata": {},
   "outputs": [],
   "source": [
    "print(\"\\nMatriz vacía:\")\n",
    "mv = np.empty((2,2))                                    # Crea la matriz vacía con valores indeterminados.\n",
    "print(mv,'\\n')  \n",
    "\n",
    "print(\"Matriz de ceros:\")\n",
    "mz = np.zeros((2,3))                                    # Inicializa un array con ceros.\n",
    "print(mz,'\\n')  \n",
    "\n",
    "print(\"\\nMatriz de unos:\")\n",
    "mu = np.ones((2,3))                                     # Inicializa un array con unos.\n",
    "print(mu,'\\n')                \n",
    "\n",
    "print(\"\\nMatriz inicializada a un valor constante:\")\n",
    "mc = np.full((2,2), 7.2)                                # Inicializa un array con un valor constante.\n",
    "print(mc,'\\n')  \n",
    "\n",
    "print(\"\\nMatriz identidad:\")\n",
    "mi = np.eye(2)                                          # Crea la matriz identidad\n",
    "print(mi,'\\n')  \n",
    "    \n",
    "print(\"\\nMatriz con valores aleatorios:\")\n",
    "mr = np.random.random((2,2))                            # Crea un array con valores aleatorios\n",
    "print(mr,'\\n')"
   ]
  },
  {
   "cell_type": "markdown",
   "metadata": {},
   "source": [
    "Estas funciones también permiten que se especifique el tipo de datos."
   ]
  },
  {
   "cell_type": "code",
   "execution_count": null,
   "metadata": {},
   "outputs": [],
   "source": [
    "print(\"\\nMatriz inicializada a un valor constante (con enteros):\")\n",
    "mc = np.full((2,2), 7, dtype=np.int64)  \n",
    "print(mc)\n",
    "print('\\n Tipo de mc:',mc.dtype)"
   ]
  },
  {
   "cell_type": "markdown",
   "metadata": {},
   "source": [
    "<div class=\"alert alert-block alert-warning\">\n",
    "    \n",
    "<i class=\"fa fa-exclamation-circle\" aria-hidden=\"true\"></i>\n",
    "Un error común a la hora de construir una matriz bidimensional consiste en pasar como parámetros varios números enteros en lugar de una tupla.\n",
    "</div>"
   ]
  },
  {
   "cell_type": "markdown",
   "metadata": {},
   "source": [
    "---\n",
    "\n",
    "<a id=\"section26\"></a> \n",
    "<h2><font color=\"#004D7F\" size=4> Inicialización a partir de secuencias </font></h2>\n",
    "<br>\n",
    "\n",
    "La función `np.asarray()` se puede utilizar para convertir una secuencia en un array. Es parecida al método `np.array()`, pero permite menos parámetros, y hace una copia de la secuencia solamente si es necesario."
   ]
  },
  {
   "cell_type": "code",
   "execution_count": null,
   "metadata": {},
   "outputs": [],
   "source": [
    "l = [2,2,2]\n",
    "a = np.asarray(l)\n",
    "print(a)"
   ]
  },
  {
   "cell_type": "markdown",
   "metadata": {},
   "source": [
    "---\n",
    "\n",
    "<a id=\"section27\"></a> \n",
    "<h2><font color=\"#004D7F\" size=4> Inicialización a partir de rangos numéricos</font></h2>\n",
    "<br>\n",
    "\n",
    "La función `np.arange()` devuelve un vector de valores distribuidos uniformemente en el rango especificado."
   ]
  },
  {
   "cell_type": "code",
   "execution_count": null,
   "metadata": {},
   "outputs": [],
   "source": [
    "x = np.arange(10)                           # Crea un array con valores del 0 al 9\n",
    "print(x)\n",
    "\n",
    "x = np.arange(2, 10)                         # Crea un array con valores del 2 al 9\n",
    "print(x)\n",
    "\n",
    "x = np.arange(2, 10, 2.5)                       # Crea un array con valores del 2 al 9 separados por intervalos de 2.5\n",
    "print(x)\n",
    "\n",
    "x = np.arange(2, 10, dtype=np.float64)             # También puede especificar el dtype\n",
    "print(x)"
   ]
  },
  {
   "cell_type": "markdown",
   "metadata": {},
   "source": [
    "La función `np.linspace()` es muy parecida a la anterior, pero en lugar de especificar la distancia entre valores, permite especificar el número de valores dentro del intervalo (**por defecto, ambos extremos inclusive**)."
   ]
  },
  {
   "cell_type": "code",
   "execution_count": null,
   "metadata": {},
   "outputs": [],
   "source": [
    "x = np.linspace(10, 20, 5)                  # Crea un vector con 5 valores igualmente espaciados que van del 10 al 20\n",
    "print(x)\n",
    "\n",
    "x = np.linspace(10, 20, 5, endpoint=False)  # Se puede excluir el punto final.\n",
    "print(x)\n",
    "\n",
    "x = np.linspace(10, 20, 5, retstep=True)    # Fijando retstep a True puede devolver también el tamaño del intervalo \n",
    "print(x)                                    # El resultado es una tupla (array, intervalo)"
   ]
  },
  {
   "cell_type": "markdown",
   "metadata": {},
   "source": [
    "La función `np.logspace(start, stop, num, endpoint, base, dtype)` es muy parecida a la anterior, pero devuelve un array de valores distribuidos uniformemente en escala logarítmica en el intervalo\n",
    "$$ [base^{start}, base^{stop}]$$"
   ]
  },
  {
   "cell_type": "code",
   "execution_count": null,
   "metadata": {},
   "outputs": [],
   "source": [
    "x = np.logspace(1.0, 3.0, num = 10)        # Por defecto, base=10 devuelve números entre 10 y 1000\n",
    "print(x)\n",
    "print()\n",
    "\n",
    "x = np.logspace(1.0, 10.0, base=2, num = 10) \n",
    "print(x)"
   ]
  },
  {
   "cell_type": "markdown",
   "metadata": {},
   "source": [
    "---\n",
    "\n",
    "<h3><font color=\"#004D7F\" size=4> <i class=\"fa fa-pencil-square-o\" aria-hidden=\"true\" style=\"color:#113D68\"></i> Ejercicio</font></h3>\n"
   ]
  },
  {
   "cell_type": "markdown",
   "metadata": {},
   "source": [
    "Crear un vector de tamaño 20 que contenga valores del cero al cien distribuídos de manera equidistante."
   ]
  },
  {
   "cell_type": "code",
   "execution_count": null,
   "metadata": {},
   "outputs": [],
   "source": [
    "x = np.linspace(0,100,20)\n",
    "print(x)"
   ]
  },
  {
   "cell_type": "markdown",
   "metadata": {},
   "source": [
    "Generar esos mismos valores pero como enteros. Para eso, utilizar el parámetro `dtype`."
   ]
  },
  {
   "cell_type": "code",
   "execution_count": null,
   "metadata": {},
   "outputs": [],
   "source": [
    "x = np.linspace(0,100,20, dtype=np.int64)\n",
    "print(x)"
   ]
  },
  {
   "cell_type": "markdown",
   "metadata": {},
   "source": [
    "Convertir el vector en una matriz de tamaño 4 x 5."
   ]
  },
  {
   "cell_type": "code",
   "execution_count": null,
   "metadata": {},
   "outputs": [],
   "source": [
    "x.shape = (4,5)\n",
    "print(x)"
   ]
  },
  {
   "cell_type": "markdown",
   "metadata": {},
   "source": [
    "<div style=\"text-align: left\"><font size=4> <i class=\"fa fa-check-square-o\" aria-hidden=\"true\" style=\"color:#113D68\"></i>\n",
    " </font></div>"
   ]
  },
  {
   "cell_type": "markdown",
   "metadata": {},
   "source": [
    "<div style=\"text-align: right\"> <font size=5>\n",
    "    <a href=\"#indice\"><i class=\"fa fa-arrow-circle-up\" aria-hidden=\"true\" style=\"color:#004D7F\"></i></a>\n",
    "</font></div>"
   ]
  },
  {
   "cell_type": "markdown",
   "metadata": {},
   "source": [
    "---\n",
    "<a id=\"section3\"></a> \n",
    "<h2><font color=\"#004D7F\" size=5> 3. Acceso a elementos e indexación de arrays</font></h2>\n",
    "<br>\n",
    "\n",
    "_Numpy_ proporciona varios modos para indexar los arrays.\n",
    "\n",
    "---\n",
    "\n",
    "<a id=\"section31\"></a> \n",
    "<h2><font color=\"#004D7F\" size=4> Acceso a los elementos de un array</font></h2>\n",
    "<br>\n",
    "\n",
    "Al igual que en las secuencias de Python, y los vectores y matrices en todos los lenguajes de programación, los elementos pueden ser accedidos mediante índices especificados entre corchetes."
   ]
  },
  {
   "cell_type": "code",
   "execution_count": null,
   "metadata": {},
   "outputs": [],
   "source": [
    "v = np.arange(6)               # Crea el array [0,1,2,3,4,5]\n",
    "print(v, v[0])                               \n",
    "v[5]=10 \n",
    "print(v, v[-1])                # Imprime el último elemento (se podría haber utilizado también v[5])"
   ]
  },
  {
   "cell_type": "markdown",
   "metadata": {},
   "source": [
    "Para acceder a un elemento de un array bidimensional puede utilizarse una lista de índices, cada uno correspondiente a una dimensión."
   ]
  },
  {
   "cell_type": "code",
   "execution_count": null,
   "metadata": {},
   "outputs": [],
   "source": [
    "print(m)                          # Imprime la matriz\n",
    "print(m[0, 0], m[0, 1], m[1, 0])  # Imprime \"1 2 4\"\n",
    "print(m[0][0])                    # Es equivalente a m[0, 0], pero más incómodo"
   ]
  },
  {
   "cell_type": "markdown",
   "metadata": {},
   "source": [
    "---\n",
    "<a id=\"section32\"></a>\n",
    "<h2><font color=\"#004D7F\" size=4> Slicing</font></h2> \n",
    "<br>\n",
    "\n",
    "De manera similar a las secuencias standard de _Python_, se pueden indicar rangos de índices mediante el sígno \":\""
   ]
  },
  {
   "cell_type": "code",
   "execution_count": null,
   "metadata": {},
   "outputs": [],
   "source": [
    "a = np.arange(10)\n",
    "print(a)\n",
    "print(a[2])                              # Imprime el tercer valor (se indexa a partir del cero) \n",
    "print(a[2:])                             # Imprime desde el tercer valor en adelante\n",
    "print(a[2:-1])                           # Imprime desde el tercer valor al penúltimo (de dos formas)\n",
    "print(a[2:9])"
   ]
  },
  {
   "cell_type": "markdown",
   "metadata": {},
   "source": [
    "Incluso se pueden indicar secuencias, con un formato de campos similar a `range`:"
   ]
  },
  {
   "cell_type": "code",
   "execution_count": null,
   "metadata": {},
   "outputs": [],
   "source": [
    "print(a[2: :3])                          # Imprime desde el tercer valor hasta el último de tres en tres"
   ]
  },
  {
   "cell_type": "markdown",
   "metadata": {},
   "source": [
    "En arrays multidimensionales, se especifica el rango para cada dimensión del array independientemente. "
   ]
  },
  {
   "cell_type": "code",
   "execution_count": null,
   "metadata": {},
   "outputs": [],
   "source": [
    "a = np.arange(20)                              # Crea una matriz de tamaño 4*5\n",
    "m = a.reshape(4,5)\n",
    "print(m)\n",
    "print()\n",
    "print(m[1,2], m[2,4])                          # Imprime las posiciones (1,2) y (2,4)\n",
    "\n",
    "\n",
    "print(\"\\nImprime la segunda fila de dos modos distintos\")\n",
    "print(m[1])\n",
    "print(m[1,:])\n",
    "\n",
    "print(\"\\nImprime las dos primeras filas\")\n",
    "print(m[:2])\n",
    "\n",
    "print(\"\\nImprime desde la primera a la tercera columna\")\n",
    "print(m[:, 1:4])\n",
    "\n",
    "print(\"\\nImprime desde la segunda fila en adelante, y de la primera a la tercera columna\")\n",
    "print(m[1:, 1:4])"
   ]
  },
  {
   "cell_type": "markdown",
   "metadata": {},
   "source": [
    "---\n",
    "<a id=\"section33\"></a> \n",
    "<h2><font color=\"#004D7F\" size=4> Indexación mediante arrays de enteros </font></h2>\n",
    "<br>\n",
    "\n",
    "La indexación mediante `slices` permite acceder a los elementos del array siguiendo un patrón. En el caso de que este patrón no exista, es decir, queramos acceder a una serie de índices arbitrario, se puede conseguir usando un array o lista con los índices que nos interese seleccionar."
   ]
  },
  {
   "cell_type": "code",
   "execution_count": null,
   "metadata": {},
   "outputs": [],
   "source": [
    "v = np.arange(10)*2\n",
    "print(v)\n",
    "print(v[[0,3,5,6]])                             # Imprime las posiciones 0,3,5 y 6 del array v"
   ]
  },
  {
   "cell_type": "markdown",
   "metadata": {},
   "source": [
    "En arrays multidimensionales, se han de especificar los índices para cada dimensión del array. "
   ]
  },
  {
   "cell_type": "code",
   "execution_count": null,
   "metadata": {},
   "outputs": [],
   "source": [
    "a = np.arange(20)                                   # Crea una matriz de tamaño 4*5\n",
    "m = a.reshape(4,5)\n",
    "print(m,'\\n')\n",
    "print(m[[0, 0, 1, 2]])                             # Imprime un array con las filas 0, 0, 1 y 2\n",
    "print(m[[0, 0, 1, 2],[0, 2, 3, 4]])                # Imprime un array con m[0,0], m[0,2], m[1,3], m[2,4]"
   ]
  },
  {
   "cell_type": "markdown",
   "metadata": {},
   "source": [
    "La indexación permite también escribir en varias posiciones del array a la vez."
   ]
  },
  {
   "cell_type": "code",
   "execution_count": null,
   "metadata": {},
   "outputs": [],
   "source": [
    "print(m)\n",
    "print()\n",
    "m[1:3,1:4]=-1\n",
    "print(m)\n",
    "print()\n",
    "m[1:3,1:4]=np.array([[10,10,10],[20,20,20]])\n",
    "print(m)"
   ]
  },
  {
   "cell_type": "markdown",
   "metadata": {},
   "source": [
    "---\n",
    "<a id=\"section34\"></a> \n",
    "<h2><font color=\"#004D7F\" size=4> Indexación mediante arrays de valores booleanos </font></h2>\n",
    "<br>\n",
    "\n",
    "Permite acceder a elementos de un array arbitrariamente. Se suele usar para seleccionar elementos que satisfacen alguna condición.  El tamaño del array de booleanos debe coincidir con el del array al que se está indexando.\n",
    "\n",
    "En el caso de usarse sobre arrays multidimensionales, estos se **aplanan** (transforman a array unidimensional)."
   ]
  },
  {
   "cell_type": "code",
   "execution_count": null,
   "metadata": {},
   "outputs": [],
   "source": [
    "v = np.array([0,1,2,3,4,5])\n",
    "b = np.array([True, False, False, False, False, True])\n",
    "print(v)\n",
    "v2 = v[b];                                               # v2 es un array que contiene el primer y último valor de v.\n",
    "print(v2)                                                # Ya que son los dos que se pasan con valor a True.\n",
    "print()\n",
    "\n",
    "a = np.arange(20)                                        # Crea una matriz de tamaño 4*5\n",
    "m = a.reshape(4,5)\n",
    "print(m)\n",
    "print()\n",
    "\n",
    "print(m % 2==0)                                          # Imprime un array bidimensional de valores booleanos. \n",
    "print()                                                  # True si elvalor de m es par y False si es impar\n",
    "\n",
    "\n",
    "mb = m[m % 2 == 0]                                       # Crea un vector con los elemenentos pares de m.\n",
    "print(mb)"
   ]
  },
  {
   "cell_type": "markdown",
   "metadata": {},
   "source": [
    "---\n",
    "\n",
    "<h3><font color=\"#004D7F\" size=4> <i class=\"fa fa-pencil-square-o\" aria-hidden=\"true\" style=\"color:#113D68\"></i> Ejercicio</font></h3>\n",
    "\n",
    "Crear un array de tamaño 10x10 con números aleatorios del 0 al 1000. Para ello, utilizar la función `np.random.randint(máximo, size=tamaño)`, que genera $tamaño$ elementos entre $0$ (inclusive) y $máximo$ (exclusive). Asignar el valor '0' a todos los elementos del borde de la matriz anterior (primera y última fila y columna)"
   ]
  },
  {
   "cell_type": "code",
   "execution_count": null,
   "metadata": {},
   "outputs": [],
   "source": [
    "m = np.random.randint(1000, size=(10,10))\n",
    "m[[0,-1],:]=0\n",
    "m[:,[0,-1]]=0\n",
    "print(m)"
   ]
  },
  {
   "cell_type": "markdown",
   "metadata": {},
   "source": [
    "Asignar el valor 2 a todos los elementos ubicados entre las filas y columnas tres y seis inclusive (16 elementos en total)."
   ]
  },
  {
   "cell_type": "code",
   "execution_count": null,
   "metadata": {},
   "outputs": [],
   "source": [
    "m[3:7,3:7]=2\n",
    "print(m)"
   ]
  },
  {
   "cell_type": "markdown",
   "metadata": {},
   "source": [
    "Asignar el valor -1 a todos los elementos que son menores que 500."
   ]
  },
  {
   "cell_type": "code",
   "execution_count": null,
   "metadata": {},
   "outputs": [],
   "source": [
    "m[m<500]=-1\n",
    "print(m)"
   ]
  },
  {
   "cell_type": "markdown",
   "metadata": {},
   "source": [
    "<div style=\"text-align: left\"><font size=4> <i class=\"fa fa-check-square-o\" aria-hidden=\"true\" style=\"color:#113D68\"></i>\n",
    " </font></div>"
   ]
  },
  {
   "cell_type": "markdown",
   "metadata": {},
   "source": [
    "<div style=\"text-align: right\"> <font size=5>\n",
    "    <a href=\"#indice\"><i class=\"fa fa-arrow-circle-up\" aria-hidden=\"true\" style=\"color:#004D7F\"></i></a>\n",
    "</font></div>"
   ]
  },
  {
   "cell_type": "markdown",
   "metadata": {},
   "source": [
    "---\n",
    "<a id=\"section4\"></a>\n",
    "<h2><font color=\"#004D7F\" size=5> 4. Copias y vistas </font></h2> \n",
    "<br>\n",
    "\n",
    "\n",
    "En _Python_, las asignaciones de objetos no hacen una copia, sino que se asigna el mismo `id()`a las dos referencias. Debido a esto, los cambios que se hacen en un objeto, se reflejan en el otro (son el mismo). La función `id()` devuelve la identidad del objeto. Este es un número entero que es único para el objeto dado y permanece constante durante su vida."
   ]
  },
  {
   "cell_type": "code",
   "execution_count": null,
   "metadata": {},
   "outputs": [],
   "source": [
    "# Mas ejemplos de id()\n",
    "\n",
    "print('id of 5 =',id(5))\n",
    "\n",
    "a = 5\n",
    "print('id of a =',id(a))\n",
    "\n",
    "b = a\n",
    "print('id of b =',id(b))\n",
    "\n",
    "c = 5.0\n",
    "print('id of c =',id(c))"
   ]
  },
  {
   "cell_type": "markdown",
   "metadata": {},
   "source": [
    "Es importante tener en cuenta que todo en Python es un objeto, números pares y clases.\n",
    "\n",
    "Por lo tanto, el número entero 5 tiene una identificación única. El id del entero 5 permanece constante durante la vida. Similar es el caso de float 5.5 y otros objetos."
   ]
  },
  {
   "cell_type": "code",
   "execution_count": null,
   "metadata": {},
   "outputs": [],
   "source": [
    "a = np.arange(6)\n",
    "print(a)\n",
    "print()\n",
    "b = a         \n",
    "print(\"id(a):\",id(a))                         # Imprime los identificadores, similares.\n",
    "print(\"id(b):\",id(b))          \n",
    "\n",
    "print()\n",
    "print(b)    \n",
    "b[0]=100                                      # Se cambia la primera posición de b\n",
    "print(a)                                      # El cambio se refleja en a"
   ]
  },
  {
   "cell_type": "markdown",
   "metadata": {},
   "source": [
    "---\n",
    "\n",
    "<a id=\"section41\"></a> \n",
    "<h2><font color=\"#004D7F\" size=4> Vista o copia superficial </font></h2>\n",
    "<br>\n",
    "\n",
    "_NumPy_ proporciona un método, denominado `view()`, que produce una copia superficial de un array. En un objeto de tipo `ndarray` pueden distinguirse dos partes:  \n",
    "* un conjunto de datos, \n",
    "* y una estructura que apunta e indexa esos datos. \n",
    "\n",
    "Al crear una vista, se crea una nueva estructura, con sus propias dimensiones, pero el conjunto de datos al que se refiere es el original."
   ]
  },
  {
   "cell_type": "code",
   "execution_count": null,
   "metadata": {},
   "outputs": [],
   "source": [
    "a = np.arange(6)\n",
    "b = a.view()                                  # Se crea una vista \n",
    "print(\"id(a):\",id(a))                         # Imprime los identificadores, distintos ahora\n",
    "print(\"id(b):\",id(b))\n",
    "b.shape = (2,3)                               # El nuevo array considera los datos como una matriz (2,3)\n",
    "print()\n",
    "\n",
    "\n",
    "print(a)                                      # Imprime el vector y la matriz\n",
    "print(b)\n",
    "print()\n",
    "\n",
    "b[0,0] = 1000                                 # Cambia el primer elemento de b\n",
    "print(a)                                      # El cambio se refleja en a porque los datos son los mismos. "
   ]
  },
  {
   "cell_type": "markdown",
   "metadata": {},
   "source": [
    "---\n",
    "<a id=\"section42\"></a> \n",
    "\n",
    "<h2><font color=\"#004D7F\" size=4> Copia </font></h2>\n",
    "<br>\n",
    "\n",
    "\n",
    "\n",
    "Una copia completa del array (estructura y datos) se puede hacer mediante el método `copy()`."
   ]
  },
  {
   "cell_type": "code",
   "execution_count": null,
   "metadata": {},
   "outputs": [],
   "source": [
    "a = np.arange(6)\n",
    "b = a.copy()                       # Se crea una copia \n",
    "print(\"id(a):\",id(a))              # Imprime los identificadores, distintos ahora\n",
    "print(\"id(b):\",id(b))\n",
    "print()\n",
    "\n",
    "b.shape =(2,3)                     # El nuevo array considera los datos como una matriz (2,3)\n",
    "\n",
    "print(a)                           # Imprime el vector y la matriz\n",
    "print(b)\n",
    "print()\n",
    "\n",
    "b[0,0] = 1000                      # Cambia el primer elemento de b\n",
    "print(a)                           # El cambio ya no se refleja en a"
   ]
  },
  {
   "cell_type": "markdown",
   "metadata": {},
   "source": [
    "La función `astype` permite copiar un array especificando el tipo de datos del nuevo array."
   ]
  },
  {
   "cell_type": "code",
   "execution_count": null,
   "metadata": {},
   "outputs": [],
   "source": [
    "a = np.arange(6, dtype=np.int64)             # Crea un vector con seis números enteros\n",
    "print(a)\n",
    "print(a.dtype)\n",
    "\n",
    "b = a.astype(np.float64)                     # Copia el vector en un vector de números en punto flotante\n",
    "print(b)\n",
    "print(b.dtype)"
   ]
  },
  {
   "cell_type": "markdown",
   "metadata": {},
   "source": [
    "Es posible aplicar ésta (y otras funciones) en el propio vector (sin generar una copia)."
   ]
  },
  {
   "cell_type": "code",
   "execution_count": null,
   "metadata": {},
   "outputs": [],
   "source": [
    "a = np.arange(6, dtype=np.int64)             # Crea un vector con seis números enteros\n",
    "print(a)\n",
    "print(a.dtype)\n",
    "\n",
    "a = a.astype(np.float64, copy=False)         # Copia el vector en un vector de números en punto flotante\n",
    "print(a)\n",
    "print(a.dtype)"
   ]
  },
  {
   "cell_type": "markdown",
   "metadata": {},
   "source": [
    "---\n",
    "\n",
    "<h3><font color=\"#004D7F\" size=4> <i class=\"fa fa-pencil-square-o\" aria-hidden=\"true\" style=\"color:#113D68\"></i> Ejercicio</font></h3>\n",
    "\n",
    "Crear un vector de 100 elementos aleatorios enteros y almacenar los elementos que aparecen en las _posiciones_ divisibles entre 5, como flotantes, en una matriz con dos filas y 10 columnas. "
   ]
  },
  {
   "cell_type": "code",
   "execution_count": null,
   "metadata": {},
   "outputs": [],
   "source": [
    "v = np.random.randint(100,size=100)\n",
    "m = (v[np.arange(100)%5==0]).astype(np.float64)\n",
    "m.shape=(2,10)\n",
    "print(m)"
   ]
  },
  {
   "cell_type": "markdown",
   "metadata": {},
   "source": [
    "<div style=\"text-align: left\"><font size=4> <i class=\"fa fa-check-square-o\" aria-hidden=\"true\" style=\"color:#113D68\"></i>\n",
    " </font></div>"
   ]
  },
  {
   "cell_type": "markdown",
   "metadata": {},
   "source": [
    "<div style=\"text-align: right\"> <font size=5>\n",
    "    <a href=\"#indice\"><i class=\"fa fa-arrow-circle-up\" aria-hidden=\"true\" style=\"color:#004D7F\"></i></a>\n",
    "</font></div>"
   ]
  },
  {
   "cell_type": "markdown",
   "metadata": {},
   "source": [
    "---\n",
    "<a id=\"section5\"></a> \n",
    "\n",
    "<h2><font color=\"#004D7F\" size=5> 5. Matrices</font></h2>\n",
    "\n",
    "Numpy contiene una librería de matrices denominada `numpy.matlib`. Con ella se pueden crear y operar matrices (que son una subclase de `ndarray`).\n",
    "\n",
    "Una de las ventajas de las matrices frente a los arrays bidimensionales, es que las primeras pueden crearse de manera más ágil, similar al modo en que se hace en otros lenguajes como _Matlab_.\n"
   ]
  },
  {
   "cell_type": "code",
   "execution_count": null,
   "metadata": {},
   "outputs": [],
   "source": [
    "m = np.matrix('1,2;3,4;5,6')        #  \",\" separa columnas y \";\" separa las filas.\n",
    "print(m) "
   ]
  },
  {
   "cell_type": "markdown",
   "metadata": {},
   "source": [
    "Existen funciones similares a las utilizadas para inicializar arrays genéricos:\n",
    "\n",
    "- `numpy.matlib.empty()`   (Vacía)\n",
    "- `numpy.matlib.zeros()`   (Ceros)\n",
    "- `numpy.matlib.ones()`    (Unos)\n",
    "- `numpy.matlib.eye()`     (Matriz con unos en la diagonal)\n",
    "\n",
    "\n"
   ]
  },
  {
   "cell_type": "code",
   "execution_count": null,
   "metadata": {},
   "outputs": [],
   "source": [
    "import numpy.matlib\n",
    "\n",
    "d = np.matlib.eye(n = 3, M = 2, dtype = np.float64)\n",
    "print(d)"
   ]
  },
  {
   "cell_type": "markdown",
   "metadata": {},
   "source": [
    "<div style=\"text-align: right\"> <font size=5>\n",
    "    <a href=\"#indice\"><i class=\"fa fa-arrow-circle-up\" aria-hidden=\"true\" style=\"color:#004D7F\"></i></a>\n",
    "</font></div>"
   ]
  },
  {
   "cell_type": "markdown",
   "metadata": {},
   "source": [
    "---\n",
    "\n",
    "<div style=\"text-align: right\"> <font size=6><i class=\"fa fa-coffee\" aria-hidden=\"true\" style=\"color:#004D7F\"></i> </font></div>"
   ]
  }
 ],
 "metadata": {
  "kernelspec": {
   "display_name": "Python 3",
   "language": "python",
   "name": "python3"
  },
  "language_info": {
   "codemirror_mode": {
    "name": "ipython",
    "version": 3
   },
   "file_extension": ".py",
   "mimetype": "text/x-python",
   "name": "python",
   "nbconvert_exporter": "python",
   "pygments_lexer": "ipython3",
   "version": "3.7.3"
  }
 },
 "nbformat": 4,
 "nbformat_minor": 2
}
